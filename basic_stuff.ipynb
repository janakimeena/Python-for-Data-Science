{
  "nbformat": 4,
  "nbformat_minor": 0,
  "metadata": {
    "colab": {
      "name": "basic_stuff",
      "provenance": [],
      "collapsed_sections": [],
      "include_colab_link": true
    },
    "kernelspec": {
      "name": "python3",
      "display_name": "Python 3"
    }
  },
  "cells": [
    {
      "cell_type": "markdown",
      "metadata": {
        "id": "view-in-github",
        "colab_type": "text"
      },
      "source": [
        "<a href=\"https://colab.research.google.com/github/janakimeena/Python-for-Data-Science/blob/master/basic_stuff.ipynb\" target=\"_parent\"><img src=\"https://colab.research.google.com/assets/colab-badge.svg\" alt=\"Open In Colab\"/></a>"
      ]
    },
    {
      "cell_type": "code",
      "metadata": {
        "id": "ARumlIuEpax5",
        "colab_type": "code",
        "colab": {}
      },
      "source": [
        "l = []"
      ],
      "execution_count": 0,
      "outputs": []
    },
    {
      "cell_type": "code",
      "metadata": {
        "id": "Dz1XneRsrFZz",
        "colab_type": "code",
        "outputId": "0e57719e-e44c-4814-ce54-2ed66ffa47b5",
        "colab": {
          "base_uri": "https://localhost:8080/",
          "height": 35
        }
      },
      "source": [
        "n = int(input('Enter number of elements'))"
      ],
      "execution_count": 0,
      "outputs": [
        {
          "output_type": "stream",
          "text": [
            "Enter number of elements5\n"
          ],
          "name": "stdout"
        }
      ]
    },
    {
      "cell_type": "code",
      "metadata": {
        "id": "y5Cr6AKks4ZP",
        "colab_type": "code",
        "outputId": "742e935f-264e-4b8d-9063-8d27d9750dc3",
        "colab": {
          "base_uri": "https://localhost:8080/",
          "height": 35
        }
      },
      "source": [
        "type(n)"
      ],
      "execution_count": 0,
      "outputs": [
        {
          "output_type": "execute_result",
          "data": {
            "text/plain": [
              "int"
            ]
          },
          "metadata": {
            "tags": []
          },
          "execution_count": 4
        }
      ]
    },
    {
      "cell_type": "code",
      "metadata": {
        "id": "OhG_GiyqsEWj",
        "colab_type": "code",
        "outputId": "7025c2c6-7334-42d6-b0ad-35b67ad7b1f1",
        "colab": {
          "base_uri": "https://localhost:8080/",
          "height": 211
        }
      },
      "source": [
        "l=[]\n",
        "for i in range(0,n):\n",
        "  print('Enter element ',i+1)\n",
        "  ele = int(input())\n",
        "  l.append(ele)\n",
        "sum_ele = 0\n",
        "for x in l:\n",
        "  sum_ele = sum_ele + x\n",
        "average = sum_ele/n\n",
        "print('Mean is ',average)\n",
        "l.sort()\n",
        "len_list = len(l)\n",
        "if len_list%2!=0:\n",
        "  median = l[len_list//2]\n",
        "else:\n",
        "  median = (l[(len_list//2)-1]+l[len_list//2])/2\n",
        "print(median)"
      ],
      "execution_count": 0,
      "outputs": [
        {
          "output_type": "stream",
          "text": [
            "Enter element  1\n",
            "23\n",
            "Enter element  2\n",
            "34\n",
            "Enter element  3\n",
            "31\n",
            "Enter element  4\n",
            "45\n",
            "Enter element  5\n",
            "54\n",
            "37.4\n"
          ],
          "name": "stdout"
        }
      ]
    },
    {
      "cell_type": "code",
      "metadata": {
        "id": "X6sEYBdjvyFH",
        "colab_type": "code",
        "outputId": "6eb49126-0cc2-4445-aeb1-3b3df40d42f4",
        "colab": {
          "base_uri": "https://localhost:8080/",
          "height": 35
        }
      },
      "source": [
        "print(l)"
      ],
      "execution_count": 0,
      "outputs": [
        {
          "output_type": "stream",
          "text": [
            "[34, 45, 23, 12, 36]\n"
          ],
          "name": "stdout"
        }
      ]
    },
    {
      "cell_type": "markdown",
      "metadata": {
        "id": "kyD_he2VzV1M",
        "colab_type": "text"
      },
      "source": [
        ""
      ]
    },
    {
      "cell_type": "code",
      "metadata": {
        "id": "57I7NrjKyJRc",
        "colab_type": "code",
        "colab": {}
      },
      "source": [
        "l = [23, 45, 56]"
      ],
      "execution_count": 0,
      "outputs": []
    },
    {
      "cell_type": "code",
      "metadata": {
        "id": "Oe0XQYXv6q1d",
        "colab_type": "code",
        "colab": {}
      },
      "source": [
        "l[0]=50"
      ],
      "execution_count": 0,
      "outputs": []
    },
    {
      "cell_type": "code",
      "metadata": {
        "id": "ttbpMJ1N64xA",
        "colab_type": "code",
        "outputId": "0a755ea2-2087-4b16-d88f-8430938fc7f7",
        "colab": {
          "base_uri": "https://localhost:8080/",
          "height": 35
        }
      },
      "source": [
        "print(l)"
      ],
      "execution_count": 0,
      "outputs": [
        {
          "output_type": "stream",
          "text": [
            "[50, 45, 56]\n"
          ],
          "name": "stdout"
        }
      ]
    },
    {
      "cell_type": "code",
      "metadata": {
        "id": "B6P3BkCY6565",
        "colab_type": "code",
        "colab": {}
      },
      "source": [
        "t = (23, 45, 56)"
      ],
      "execution_count": 0,
      "outputs": []
    },
    {
      "cell_type": "code",
      "metadata": {
        "id": "M1Enqntl7OCA",
        "colab_type": "code",
        "outputId": "c58c0d70-042b-4318-d839-2a059640d6a9",
        "colab": {
          "base_uri": "https://localhost:8080/",
          "height": 187
        }
      },
      "source": [
        "t[0] = 12"
      ],
      "execution_count": 0,
      "outputs": [
        {
          "output_type": "error",
          "ename": "TypeError",
          "evalue": "ignored",
          "traceback": [
            "\u001b[0;31m---------------------------------------------------------------------------\u001b[0m",
            "\u001b[0;31mTypeError\u001b[0m                                 Traceback (most recent call last)",
            "\u001b[0;32m<ipython-input-20-9afd08022c99>\u001b[0m in \u001b[0;36m<module>\u001b[0;34m()\u001b[0m\n\u001b[0;32m----> 1\u001b[0;31m \u001b[0mt\u001b[0m\u001b[0;34m[\u001b[0m\u001b[0;36m0\u001b[0m\u001b[0;34m]\u001b[0m \u001b[0;34m=\u001b[0m \u001b[0;36m12\u001b[0m\u001b[0;34m\u001b[0m\u001b[0;34m\u001b[0m\u001b[0m\n\u001b[0m",
            "\u001b[0;31mTypeError\u001b[0m: 'tuple' object does not support item assignment"
          ]
        }
      ]
    },
    {
      "cell_type": "code",
      "metadata": {
        "id": "P12jx8Sy7VkX",
        "colab_type": "code",
        "colab": {}
      },
      "source": [
        ""
      ],
      "execution_count": 0,
      "outputs": []
    }
  ]
}