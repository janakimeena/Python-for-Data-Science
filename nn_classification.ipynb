{
  "nbformat": 4,
  "nbformat_minor": 0,
  "metadata": {
    "colab": {
      "name": "nn_classification.ipynb",
      "provenance": [],
      "collapsed_sections": [],
      "include_colab_link": true
    },
    "kernelspec": {
      "name": "python3",
      "display_name": "Python 3"
    }
  },
  "cells": [
    {
      "cell_type": "markdown",
      "metadata": {
        "id": "view-in-github",
        "colab_type": "text"
      },
      "source": [
        "<a href=\"https://colab.research.google.com/github/janakimeena/Python-for-Data-Science/blob/master/nn_classification.ipynb\" target=\"_parent\"><img src=\"https://colab.research.google.com/assets/colab-badge.svg\" alt=\"Open In Colab\"/></a>"
      ]
    },
    {
      "cell_type": "markdown",
      "metadata": {
        "id": "GY_9-QFjfILD",
        "colab_type": "text"
      },
      "source": [
        "# Building Models in Keras\n",
        "There are two ways to build Keras models: \n",
        "\n",
        "1.   Sequential\n",
        "2.   functional\n",
        "\n"
      ]
    },
    {
      "cell_type": "markdown",
      "metadata": {
        "id": "KIE-zhWvf5Zd",
        "colab_type": "text"
      },
      "source": [
        "## Sequential Model\n",
        "\n",
        "Sequential API allows you to create models layer-by-layer for most problems. It is limited in that it does not allow you to create models that share layers or have multiple inputs or outputs\n",
        "\n",
        "## Functional Model\n",
        "\n",
        "Functional API allows you to create models that have a lot more flexibility as you can easily define models where layers connect to more than just the previous and next layers. \n",
        "\n",
        "You can connect layers to (literally) any other layer. \n",
        "\n",
        "As a result, creating complex networks such as siamese networks and residual networks become possible."
      ]
    },
    {
      "cell_type": "code",
      "metadata": {
        "id": "SpTGpdHWtdzs",
        "colab_type": "code",
        "outputId": "59c66e63-e65a-481e-dab7-8cf751e5b20a",
        "colab": {
          "base_uri": "https://localhost:8080/",
          "height": 81
        }
      },
      "source": [
        "from keras.models import Sequential\n",
        "from keras.layers import Dense\n",
        "from keras.utils import to_categorical\n",
        "import numpy\n",
        "import pandas as pd\n",
        "from sklearn.model_selection import train_test_split\n",
        "\n",
        "# fix random seed for reproducibility\n",
        "numpy.random.seed(7)\n",
        "\n",
        "%matplotlib inline\n",
        "import matplotlib\n",
        "import matplotlib.pyplot as plt"
      ],
      "execution_count": 0,
      "outputs": [
        {
          "output_type": "stream",
          "text": [
            "Using TensorFlow backend.\n"
          ],
          "name": "stderr"
        },
        {
          "output_type": "display_data",
          "data": {
            "text/html": [
              "<p style=\"color: red;\">\n",
              "The default version of TensorFlow in Colab will soon switch to TensorFlow 2.x.<br>\n",
              "We recommend you <a href=\"https://www.tensorflow.org/guide/migrate\" target=\"_blank\">upgrade</a> now \n",
              "or ensure your notebook will continue to use TensorFlow 1.x via the <code>%tensorflow_version 1.x</code> magic:\n",
              "<a href=\"https://colab.research.google.com/notebooks/tensorflow_version.ipynb\" target=\"_blank\">more info</a>.</p>\n"
            ],
            "text/plain": [
              "<IPython.core.display.HTML object>"
            ]
          },
          "metadata": {
            "tags": []
          }
        }
      ]
    },
    {
      "cell_type": "markdown",
      "metadata": {
        "id": "tbuqbCqht1Yf",
        "colab_type": "text"
      },
      "source": [
        "## Description of Dataset\n",
        "For Each Attribute: (all numeric-valued)\n",
        "   1. Number of times pregnant\n",
        "   2. Plasma glucose concentration a 2 hours in an oral glucose tolerance test\n",
        "   3. Diastolic blood pressure (mm Hg)\n",
        "   4. Triceps skin fold thickness (mm)\n",
        "   5. 2-Hour serum insulin (mu U/ml)\n",
        "   6. Body mass index (weight in kg/(height in m)^2)\n",
        "   7. Diabetes pedigree function\n",
        "   8. Age (years)\n",
        "   9. Class variable (0 or 1)"
      ]
    },
    {
      "cell_type": "code",
      "metadata": {
        "id": "wX7CIXOhkYb8",
        "colab_type": "code",
        "outputId": "bb58581c-83b1-4c4a-ac12-e62b7af0671a",
        "colab": {
          "base_uri": "https://localhost:8080/",
          "height": 34
        }
      },
      "source": [
        "from google.colab import drive\n",
        "drive.mount('/content/gdrive',force_remount=True)\n",
        "root_path = 'gdrive/My Drive/NN Dataset'"
      ],
      "execution_count": 0,
      "outputs": [
        {
          "output_type": "stream",
          "text": [
            "Mounted at /content/gdrive\n"
          ],
          "name": "stdout"
        }
      ]
    },
    {
      "cell_type": "code",
      "metadata": {
        "id": "5sZ1YTyJthV_",
        "colab_type": "code",
        "colab": {}
      },
      "source": [
        "import pandas as pd\n",
        "dataset = pd.read_csv(root_path+'/pima-indians-diabetes-data.csv',index_col=0)"
      ],
      "execution_count": 0,
      "outputs": []
    },
    {
      "cell_type": "code",
      "metadata": {
        "id": "TjpKOtXitxU0",
        "colab_type": "code",
        "outputId": "b9219c61-ff43-4a84-ed09-c68b6293dffc",
        "colab": {
          "base_uri": "https://localhost:8080/",
          "height": 238
        }
      },
      "source": [
        "dataset.head()"
      ],
      "execution_count": 0,
      "outputs": [
        {
          "output_type": "execute_result",
          "data": {
            "text/html": [
              "<div>\n",
              "<style scoped>\n",
              "    .dataframe tbody tr th:only-of-type {\n",
              "        vertical-align: middle;\n",
              "    }\n",
              "\n",
              "    .dataframe tbody tr th {\n",
              "        vertical-align: top;\n",
              "    }\n",
              "\n",
              "    .dataframe thead th {\n",
              "        text-align: right;\n",
              "    }\n",
              "</style>\n",
              "<table border=\"1\" class=\"dataframe\">\n",
              "  <thead>\n",
              "    <tr style=\"text-align: right;\">\n",
              "      <th></th>\n",
              "      <th>plasma_glucose</th>\n",
              "      <th>blood_pressure</th>\n",
              "      <th>skin_thickness</th>\n",
              "      <th>insulin</th>\n",
              "      <th>bmi</th>\n",
              "      <th>pedigree</th>\n",
              "      <th>age</th>\n",
              "      <th>diabetes</th>\n",
              "    </tr>\n",
              "    <tr>\n",
              "      <th>num_pregnant</th>\n",
              "      <th></th>\n",
              "      <th></th>\n",
              "      <th></th>\n",
              "      <th></th>\n",
              "      <th></th>\n",
              "      <th></th>\n",
              "      <th></th>\n",
              "      <th></th>\n",
              "    </tr>\n",
              "  </thead>\n",
              "  <tbody>\n",
              "    <tr>\n",
              "      <th>6</th>\n",
              "      <td>148</td>\n",
              "      <td>72</td>\n",
              "      <td>35</td>\n",
              "      <td>0</td>\n",
              "      <td>33.6</td>\n",
              "      <td>0.627</td>\n",
              "      <td>50</td>\n",
              "      <td>1</td>\n",
              "    </tr>\n",
              "    <tr>\n",
              "      <th>1</th>\n",
              "      <td>85</td>\n",
              "      <td>66</td>\n",
              "      <td>29</td>\n",
              "      <td>0</td>\n",
              "      <td>26.6</td>\n",
              "      <td>0.351</td>\n",
              "      <td>31</td>\n",
              "      <td>0</td>\n",
              "    </tr>\n",
              "    <tr>\n",
              "      <th>8</th>\n",
              "      <td>183</td>\n",
              "      <td>64</td>\n",
              "      <td>0</td>\n",
              "      <td>0</td>\n",
              "      <td>23.3</td>\n",
              "      <td>0.672</td>\n",
              "      <td>32</td>\n",
              "      <td>1</td>\n",
              "    </tr>\n",
              "    <tr>\n",
              "      <th>1</th>\n",
              "      <td>89</td>\n",
              "      <td>66</td>\n",
              "      <td>23</td>\n",
              "      <td>94</td>\n",
              "      <td>28.1</td>\n",
              "      <td>0.167</td>\n",
              "      <td>21</td>\n",
              "      <td>0</td>\n",
              "    </tr>\n",
              "    <tr>\n",
              "      <th>0</th>\n",
              "      <td>137</td>\n",
              "      <td>40</td>\n",
              "      <td>35</td>\n",
              "      <td>168</td>\n",
              "      <td>43.1</td>\n",
              "      <td>2.288</td>\n",
              "      <td>33</td>\n",
              "      <td>1</td>\n",
              "    </tr>\n",
              "  </tbody>\n",
              "</table>\n",
              "</div>"
            ],
            "text/plain": [
              "              plasma_glucose  blood_pressure  ...  age  diabetes\n",
              "num_pregnant                                  ...               \n",
              "6                        148              72  ...   50         1\n",
              "1                         85              66  ...   31         0\n",
              "8                        183              64  ...   32         1\n",
              "1                         89              66  ...   21         0\n",
              "0                        137              40  ...   33         1\n",
              "\n",
              "[5 rows x 8 columns]"
            ]
          },
          "metadata": {
            "tags": []
          },
          "execution_count": 35
        }
      ]
    },
    {
      "cell_type": "code",
      "metadata": {
        "id": "IoWTQCh1u6Wa",
        "colab_type": "code",
        "outputId": "9d623db8-519c-47ae-df87-5f2f15c69b85",
        "colab": {
          "base_uri": "https://localhost:8080/",
          "height": 300
        }
      },
      "source": [
        "dataset.describe(include='all')"
      ],
      "execution_count": 0,
      "outputs": [
        {
          "output_type": "execute_result",
          "data": {
            "text/html": [
              "<div>\n",
              "<style scoped>\n",
              "    .dataframe tbody tr th:only-of-type {\n",
              "        vertical-align: middle;\n",
              "    }\n",
              "\n",
              "    .dataframe tbody tr th {\n",
              "        vertical-align: top;\n",
              "    }\n",
              "\n",
              "    .dataframe thead th {\n",
              "        text-align: right;\n",
              "    }\n",
              "</style>\n",
              "<table border=\"1\" class=\"dataframe\">\n",
              "  <thead>\n",
              "    <tr style=\"text-align: right;\">\n",
              "      <th></th>\n",
              "      <th>plasma_glucose</th>\n",
              "      <th>blood_pressure</th>\n",
              "      <th>skin_thickness</th>\n",
              "      <th>insulin</th>\n",
              "      <th>bmi</th>\n",
              "      <th>pedigree</th>\n",
              "      <th>age</th>\n",
              "      <th>diabetes</th>\n",
              "    </tr>\n",
              "  </thead>\n",
              "  <tbody>\n",
              "    <tr>\n",
              "      <th>count</th>\n",
              "      <td>768.000000</td>\n",
              "      <td>768.000000</td>\n",
              "      <td>768.000000</td>\n",
              "      <td>768.000000</td>\n",
              "      <td>768.000000</td>\n",
              "      <td>768.000000</td>\n",
              "      <td>768.000000</td>\n",
              "      <td>768.000000</td>\n",
              "    </tr>\n",
              "    <tr>\n",
              "      <th>mean</th>\n",
              "      <td>120.894531</td>\n",
              "      <td>69.105469</td>\n",
              "      <td>20.536458</td>\n",
              "      <td>79.799479</td>\n",
              "      <td>31.992578</td>\n",
              "      <td>0.471876</td>\n",
              "      <td>33.240885</td>\n",
              "      <td>0.348958</td>\n",
              "    </tr>\n",
              "    <tr>\n",
              "      <th>std</th>\n",
              "      <td>31.972618</td>\n",
              "      <td>19.355807</td>\n",
              "      <td>15.952218</td>\n",
              "      <td>115.244002</td>\n",
              "      <td>7.884160</td>\n",
              "      <td>0.331329</td>\n",
              "      <td>11.760232</td>\n",
              "      <td>0.476951</td>\n",
              "    </tr>\n",
              "    <tr>\n",
              "      <th>min</th>\n",
              "      <td>0.000000</td>\n",
              "      <td>0.000000</td>\n",
              "      <td>0.000000</td>\n",
              "      <td>0.000000</td>\n",
              "      <td>0.000000</td>\n",
              "      <td>0.078000</td>\n",
              "      <td>21.000000</td>\n",
              "      <td>0.000000</td>\n",
              "    </tr>\n",
              "    <tr>\n",
              "      <th>25%</th>\n",
              "      <td>99.000000</td>\n",
              "      <td>62.000000</td>\n",
              "      <td>0.000000</td>\n",
              "      <td>0.000000</td>\n",
              "      <td>27.300000</td>\n",
              "      <td>0.243750</td>\n",
              "      <td>24.000000</td>\n",
              "      <td>0.000000</td>\n",
              "    </tr>\n",
              "    <tr>\n",
              "      <th>50%</th>\n",
              "      <td>117.000000</td>\n",
              "      <td>72.000000</td>\n",
              "      <td>23.000000</td>\n",
              "      <td>30.500000</td>\n",
              "      <td>32.000000</td>\n",
              "      <td>0.372500</td>\n",
              "      <td>29.000000</td>\n",
              "      <td>0.000000</td>\n",
              "    </tr>\n",
              "    <tr>\n",
              "      <th>75%</th>\n",
              "      <td>140.250000</td>\n",
              "      <td>80.000000</td>\n",
              "      <td>32.000000</td>\n",
              "      <td>127.250000</td>\n",
              "      <td>36.600000</td>\n",
              "      <td>0.626250</td>\n",
              "      <td>41.000000</td>\n",
              "      <td>1.000000</td>\n",
              "    </tr>\n",
              "    <tr>\n",
              "      <th>max</th>\n",
              "      <td>199.000000</td>\n",
              "      <td>122.000000</td>\n",
              "      <td>99.000000</td>\n",
              "      <td>846.000000</td>\n",
              "      <td>67.100000</td>\n",
              "      <td>2.420000</td>\n",
              "      <td>81.000000</td>\n",
              "      <td>1.000000</td>\n",
              "    </tr>\n",
              "  </tbody>\n",
              "</table>\n",
              "</div>"
            ],
            "text/plain": [
              "       plasma_glucose  blood_pressure  ...         age    diabetes\n",
              "count      768.000000      768.000000  ...  768.000000  768.000000\n",
              "mean       120.894531       69.105469  ...   33.240885    0.348958\n",
              "std         31.972618       19.355807  ...   11.760232    0.476951\n",
              "min          0.000000        0.000000  ...   21.000000    0.000000\n",
              "25%         99.000000       62.000000  ...   24.000000    0.000000\n",
              "50%        117.000000       72.000000  ...   29.000000    0.000000\n",
              "75%        140.250000       80.000000  ...   41.000000    1.000000\n",
              "max        199.000000      122.000000  ...   81.000000    1.000000\n",
              "\n",
              "[8 rows x 8 columns]"
            ]
          },
          "metadata": {
            "tags": []
          },
          "execution_count": 36
        }
      ]
    },
    {
      "cell_type": "code",
      "metadata": {
        "id": "kUetYsI1u99S",
        "colab_type": "code",
        "outputId": "5d02f1f2-2ff2-43f8-8694-ffc772e04209",
        "colab": {
          "base_uri": "https://localhost:8080/",
          "height": 238
        }
      },
      "source": [
        "#create a dataframe with all training data except the target column\n",
        "X = dataset.drop(columns=['diabetes'])\n",
        "\n",
        "#check that the target variable has been removed\n",
        "X.head()"
      ],
      "execution_count": 0,
      "outputs": [
        {
          "output_type": "execute_result",
          "data": {
            "text/html": [
              "<div>\n",
              "<style scoped>\n",
              "    .dataframe tbody tr th:only-of-type {\n",
              "        vertical-align: middle;\n",
              "    }\n",
              "\n",
              "    .dataframe tbody tr th {\n",
              "        vertical-align: top;\n",
              "    }\n",
              "\n",
              "    .dataframe thead th {\n",
              "        text-align: right;\n",
              "    }\n",
              "</style>\n",
              "<table border=\"1\" class=\"dataframe\">\n",
              "  <thead>\n",
              "    <tr style=\"text-align: right;\">\n",
              "      <th></th>\n",
              "      <th>plasma_glucose</th>\n",
              "      <th>blood_pressure</th>\n",
              "      <th>skin_thickness</th>\n",
              "      <th>insulin</th>\n",
              "      <th>bmi</th>\n",
              "      <th>pedigree</th>\n",
              "      <th>age</th>\n",
              "    </tr>\n",
              "    <tr>\n",
              "      <th>num_pregnant</th>\n",
              "      <th></th>\n",
              "      <th></th>\n",
              "      <th></th>\n",
              "      <th></th>\n",
              "      <th></th>\n",
              "      <th></th>\n",
              "      <th></th>\n",
              "    </tr>\n",
              "  </thead>\n",
              "  <tbody>\n",
              "    <tr>\n",
              "      <th>6</th>\n",
              "      <td>148</td>\n",
              "      <td>72</td>\n",
              "      <td>35</td>\n",
              "      <td>0</td>\n",
              "      <td>33.6</td>\n",
              "      <td>0.627</td>\n",
              "      <td>50</td>\n",
              "    </tr>\n",
              "    <tr>\n",
              "      <th>1</th>\n",
              "      <td>85</td>\n",
              "      <td>66</td>\n",
              "      <td>29</td>\n",
              "      <td>0</td>\n",
              "      <td>26.6</td>\n",
              "      <td>0.351</td>\n",
              "      <td>31</td>\n",
              "    </tr>\n",
              "    <tr>\n",
              "      <th>8</th>\n",
              "      <td>183</td>\n",
              "      <td>64</td>\n",
              "      <td>0</td>\n",
              "      <td>0</td>\n",
              "      <td>23.3</td>\n",
              "      <td>0.672</td>\n",
              "      <td>32</td>\n",
              "    </tr>\n",
              "    <tr>\n",
              "      <th>1</th>\n",
              "      <td>89</td>\n",
              "      <td>66</td>\n",
              "      <td>23</td>\n",
              "      <td>94</td>\n",
              "      <td>28.1</td>\n",
              "      <td>0.167</td>\n",
              "      <td>21</td>\n",
              "    </tr>\n",
              "    <tr>\n",
              "      <th>0</th>\n",
              "      <td>137</td>\n",
              "      <td>40</td>\n",
              "      <td>35</td>\n",
              "      <td>168</td>\n",
              "      <td>43.1</td>\n",
              "      <td>2.288</td>\n",
              "      <td>33</td>\n",
              "    </tr>\n",
              "  </tbody>\n",
              "</table>\n",
              "</div>"
            ],
            "text/plain": [
              "              plasma_glucose  blood_pressure  ...  pedigree  age\n",
              "num_pregnant                                  ...               \n",
              "6                        148              72  ...     0.627   50\n",
              "1                         85              66  ...     0.351   31\n",
              "8                        183              64  ...     0.672   32\n",
              "1                         89              66  ...     0.167   21\n",
              "0                        137              40  ...     2.288   33\n",
              "\n",
              "[5 rows x 7 columns]"
            ]
          },
          "metadata": {
            "tags": []
          },
          "execution_count": 37
        }
      ]
    },
    {
      "cell_type": "code",
      "metadata": {
        "id": "KlUjmL0nvFKF",
        "colab_type": "code",
        "outputId": "ef029a81-917a-49be-cf7e-5752fc7592c4",
        "colab": {
          "base_uri": "https://localhost:8080/",
          "height": 139
        }
      },
      "source": [
        "#one-hot encode target column\n",
        "#Converts a class vector (integers) to binary class matrix.\n",
        "Y = to_categorical(dataset.diabetes)\n",
        "\n",
        "Y"
      ],
      "execution_count": 0,
      "outputs": [
        {
          "output_type": "execute_result",
          "data": {
            "text/plain": [
              "array([[0., 1.],\n",
              "       [1., 0.],\n",
              "       [0., 1.],\n",
              "       ...,\n",
              "       [1., 0.],\n",
              "       [0., 1.],\n",
              "       [1., 0.]], dtype=float32)"
            ]
          },
          "metadata": {
            "tags": []
          },
          "execution_count": 38
        }
      ]
    },
    {
      "cell_type": "code",
      "metadata": {
        "id": "0etCMa7FvIG0",
        "colab_type": "code",
        "colab": {}
      },
      "source": [
        "# Split up the dataset into inputs and targets\n",
        "\n",
        "(trainX, testX, trainY, testY) = train_test_split(X, Y, test_size=0.25, random_state=42)"
      ],
      "execution_count": 0,
      "outputs": []
    },
    {
      "cell_type": "code",
      "metadata": {
        "id": "XMC-qyelvKXi",
        "colab_type": "code",
        "outputId": "cf82e3b7-ca04-45b6-b712-9cb4a345e31e",
        "colab": {
          "base_uri": "https://localhost:8080/",
          "height": 52
        }
      },
      "source": [
        "print(\"Number of records in training set \",len(trainX), len(trainY))\n",
        "print(\"Number of records in tesing set \",len(testX), len(testY))"
      ],
      "execution_count": 0,
      "outputs": [
        {
          "output_type": "stream",
          "text": [
            "Number of records in training set  576 576\n",
            "Number of records in tesing set  192 192\n"
          ],
          "name": "stdout"
        }
      ]
    },
    {
      "cell_type": "code",
      "metadata": {
        "id": "NcWlCgrIvNjA",
        "colab_type": "code",
        "outputId": "e4218277-e0f0-4309-9108-26c6c5816f93",
        "colab": {
          "base_uri": "https://localhost:8080/",
          "height": 159
        }
      },
      "source": [
        "#create model\n",
        "model = Sequential()\n",
        "\n",
        "#get number of columns in training data\n",
        "n_cols = X.shape[1]\n",
        "\n",
        "print(n_cols)\n",
        "#‘add()’ function to add layers to our model\n",
        "# ‘Dense’ is the layer type. Dense is a standard layer type that works for most cases. \n",
        "# In a dense layer, all nodes in the previous layer connect to the nodes in the current layer.\n",
        "model.add(Dense(12, activation='relu', input_shape=(n_cols,)))\n",
        "model.add(Dense(8, activation='relu'))\n",
        "model.add(Dense(2, activation='softmax')) # softmax"
      ],
      "execution_count": 0,
      "outputs": [
        {
          "output_type": "stream",
          "text": [
            "WARNING:tensorflow:From /usr/local/lib/python3.6/dist-packages/keras/backend/tensorflow_backend.py:66: The name tf.get_default_graph is deprecated. Please use tf.compat.v1.get_default_graph instead.\n",
            "\n",
            "7\n",
            "WARNING:tensorflow:From /usr/local/lib/python3.6/dist-packages/keras/backend/tensorflow_backend.py:541: The name tf.placeholder is deprecated. Please use tf.compat.v1.placeholder instead.\n",
            "\n",
            "WARNING:tensorflow:From /usr/local/lib/python3.6/dist-packages/keras/backend/tensorflow_backend.py:4432: The name tf.random_uniform is deprecated. Please use tf.random.uniform instead.\n",
            "\n"
          ],
          "name": "stdout"
        }
      ]
    },
    {
      "cell_type": "code",
      "metadata": {
        "id": "jJtnNk9_vT52",
        "colab_type": "code",
        "outputId": "328dc969-e3ea-477d-fcfd-b6a90d1beaf2",
        "colab": {
          "base_uri": "https://localhost:8080/",
          "height": 260
        }
      },
      "source": [
        "model.summary()"
      ],
      "execution_count": 0,
      "outputs": [
        {
          "output_type": "stream",
          "text": [
            "Model: \"sequential_1\"\n",
            "_________________________________________________________________\n",
            "Layer (type)                 Output Shape              Param #   \n",
            "=================================================================\n",
            "dense_1 (Dense)              (None, 12)                96        \n",
            "_________________________________________________________________\n",
            "dense_2 (Dense)              (None, 8)                 104       \n",
            "_________________________________________________________________\n",
            "dense_3 (Dense)              (None, 2)                 18        \n",
            "=================================================================\n",
            "Total params: 218\n",
            "Trainable params: 218\n",
            "Non-trainable params: 0\n",
            "_________________________________________________________________\n"
          ],
          "name": "stdout"
        }
      ]
    },
    {
      "cell_type": "markdown",
      "metadata": {
        "id": "1RFafY3htJzR",
        "colab_type": "text"
      },
      "source": [
        "# Optimizer\n",
        "\n",
        "To minimize the cost function by finding the optimized value for weights\n",
        "\n",
        "\n",
        "To ensure that the algorithm generalizes well\n",
        "\n",
        "Modfies learning rate to optimize\n",
        "\n",
        "This will help make a better prediction for the data that was not seen before\n",
        "\n",
        "Gradient descent is an iterative machine learning optimization algorithm to reduce the cost function\n",
        "\n",
        "Types of Gradient Descent\n",
        "\n",
        "\n",
        "1.   Batch Gradient Descent or Vanilla Gradient Descent\n",
        "2.   Stochastic Gradient Descent\n",
        "3.   Mini batch Gradient Descent\n",
        "\n",
        "**Adam — Adaptive Moment Estimation**\n",
        "\n",
        "Another method that calculates the individual adaptive learning rate for each parameter from estimates of first and second moments of the gradients."
      ]
    },
    {
      "cell_type": "code",
      "metadata": {
        "id": "hOMMDfL7vZsD",
        "colab_type": "code",
        "outputId": "a9c4cd3b-d5f2-4d07-bb1e-cd336fe9eee5",
        "colab": {
          "base_uri": "https://localhost:8080/",
          "height": 159
        }
      },
      "source": [
        "#compile model using accuracy to measure model performance\n",
        "model.compile(optimizer='adam', loss='binary_crossentropy', metrics=['accuracy']) # binary_crossentropy"
      ],
      "execution_count": 0,
      "outputs": [
        {
          "output_type": "stream",
          "text": [
            "WARNING:tensorflow:From /usr/local/lib/python3.6/dist-packages/keras/optimizers.py:793: The name tf.train.Optimizer is deprecated. Please use tf.compat.v1.train.Optimizer instead.\n",
            "\n",
            "WARNING:tensorflow:From /usr/local/lib/python3.6/dist-packages/keras/backend/tensorflow_backend.py:3657: The name tf.log is deprecated. Please use tf.math.log instead.\n",
            "\n",
            "WARNING:tensorflow:From /usr/local/lib/python3.6/dist-packages/tensorflow_core/python/ops/nn_impl.py:183: where (from tensorflow.python.ops.array_ops) is deprecated and will be removed in a future version.\n",
            "Instructions for updating:\n",
            "Use tf.where in 2.0, which has the same broadcast rule as np.where\n"
          ],
          "name": "stdout"
        }
      ]
    },
    {
      "cell_type": "code",
      "metadata": {
        "id": "_LtmW2-0vdrP",
        "colab_type": "code",
        "outputId": "d96bb83d-7f14-4c7f-bb1a-b1addb99b677",
        "colab": {
          "base_uri": "https://localhost:8080/",
          "height": 1000
        }
      },
      "source": [
        "# Fit the model\n",
        "H = model.fit(trainX, trainY, epochs=150, batch_size=10, validation_data=(testX, testY))"
      ],
      "execution_count": 0,
      "outputs": [
        {
          "output_type": "stream",
          "text": [
            "WARNING:tensorflow:From /usr/local/lib/python3.6/dist-packages/keras/backend/tensorflow_backend.py:1033: The name tf.assign_add is deprecated. Please use tf.compat.v1.assign_add instead.\n",
            "\n",
            "WARNING:tensorflow:From /usr/local/lib/python3.6/dist-packages/keras/backend/tensorflow_backend.py:1020: The name tf.assign is deprecated. Please use tf.compat.v1.assign instead.\n",
            "\n",
            "WARNING:tensorflow:From /usr/local/lib/python3.6/dist-packages/keras/backend/tensorflow_backend.py:3005: The name tf.Session is deprecated. Please use tf.compat.v1.Session instead.\n",
            "\n",
            "Train on 576 samples, validate on 192 samples\n",
            "Epoch 1/150\n",
            "WARNING:tensorflow:From /usr/local/lib/python3.6/dist-packages/keras/backend/tensorflow_backend.py:190: The name tf.get_default_session is deprecated. Please use tf.compat.v1.get_default_session instead.\n",
            "\n",
            "WARNING:tensorflow:From /usr/local/lib/python3.6/dist-packages/keras/backend/tensorflow_backend.py:197: The name tf.ConfigProto is deprecated. Please use tf.compat.v1.ConfigProto instead.\n",
            "\n",
            "WARNING:tensorflow:From /usr/local/lib/python3.6/dist-packages/keras/backend/tensorflow_backend.py:207: The name tf.global_variables is deprecated. Please use tf.compat.v1.global_variables instead.\n",
            "\n",
            "WARNING:tensorflow:From /usr/local/lib/python3.6/dist-packages/keras/backend/tensorflow_backend.py:216: The name tf.is_variable_initialized is deprecated. Please use tf.compat.v1.is_variable_initialized instead.\n",
            "\n",
            "WARNING:tensorflow:From /usr/local/lib/python3.6/dist-packages/keras/backend/tensorflow_backend.py:223: The name tf.variables_initializer is deprecated. Please use tf.compat.v1.variables_initializer instead.\n",
            "\n",
            "576/576 [==============================] - 1s 2ms/step - loss: 1.0060 - acc: 0.6042 - val_loss: 0.9535 - val_acc: 0.6146\n",
            "Epoch 2/150\n",
            "576/576 [==============================] - 0s 141us/step - loss: 0.7727 - acc: 0.6233 - val_loss: 0.8032 - val_acc: 0.6354\n",
            "Epoch 3/150\n",
            "576/576 [==============================] - 0s 149us/step - loss: 0.6979 - acc: 0.6580 - val_loss: 0.7522 - val_acc: 0.6406\n",
            "Epoch 4/150\n",
            "576/576 [==============================] - 0s 143us/step - loss: 0.6323 - acc: 0.6563 - val_loss: 0.8207 - val_acc: 0.6719\n",
            "Epoch 5/150\n",
            "576/576 [==============================] - 0s 148us/step - loss: 0.6239 - acc: 0.6927 - val_loss: 0.7160 - val_acc: 0.6510\n",
            "Epoch 6/150\n",
            "576/576 [==============================] - 0s 157us/step - loss: 0.6067 - acc: 0.6997 - val_loss: 0.7014 - val_acc: 0.6458\n",
            "Epoch 7/150\n",
            "576/576 [==============================] - 0s 156us/step - loss: 0.6020 - acc: 0.6753 - val_loss: 0.7097 - val_acc: 0.6562\n",
            "Epoch 8/150\n",
            "576/576 [==============================] - 0s 159us/step - loss: 0.5817 - acc: 0.7101 - val_loss: 0.6836 - val_acc: 0.6250\n",
            "Epoch 9/150\n",
            "576/576 [==============================] - 0s 147us/step - loss: 0.5913 - acc: 0.7222 - val_loss: 0.6912 - val_acc: 0.6563\n",
            "Epoch 10/150\n",
            "576/576 [==============================] - 0s 143us/step - loss: 0.5773 - acc: 0.7014 - val_loss: 0.6785 - val_acc: 0.6458\n",
            "Epoch 11/150\n",
            "576/576 [==============================] - 0s 149us/step - loss: 0.5792 - acc: 0.7240 - val_loss: 0.6841 - val_acc: 0.6563\n",
            "Epoch 12/150\n",
            "576/576 [==============================] - 0s 153us/step - loss: 0.5671 - acc: 0.7153 - val_loss: 0.6632 - val_acc: 0.6615\n",
            "Epoch 13/150\n",
            "576/576 [==============================] - 0s 142us/step - loss: 0.5589 - acc: 0.7240 - val_loss: 0.6693 - val_acc: 0.6615\n",
            "Epoch 14/150\n",
            "576/576 [==============================] - 0s 150us/step - loss: 0.5587 - acc: 0.6997 - val_loss: 0.6659 - val_acc: 0.6719\n",
            "Epoch 15/150\n",
            "576/576 [==============================] - 0s 160us/step - loss: 0.5582 - acc: 0.7378 - val_loss: 0.6513 - val_acc: 0.6771\n",
            "Epoch 16/150\n",
            "576/576 [==============================] - 0s 149us/step - loss: 0.5617 - acc: 0.7378 - val_loss: 0.6661 - val_acc: 0.6615\n",
            "Epoch 17/150\n",
            "576/576 [==============================] - 0s 155us/step - loss: 0.5514 - acc: 0.7344 - val_loss: 0.6388 - val_acc: 0.6615\n",
            "Epoch 18/150\n",
            "576/576 [==============================] - 0s 162us/step - loss: 0.5456 - acc: 0.7240 - val_loss: 0.6537 - val_acc: 0.6719\n",
            "Epoch 19/150\n",
            "576/576 [==============================] - 0s 168us/step - loss: 0.5506 - acc: 0.7188 - val_loss: 0.6415 - val_acc: 0.6563\n",
            "Epoch 20/150\n",
            "576/576 [==============================] - 0s 155us/step - loss: 0.5370 - acc: 0.7292 - val_loss: 0.6460 - val_acc: 0.6615\n",
            "Epoch 21/150\n",
            "576/576 [==============================] - 0s 150us/step - loss: 0.5448 - acc: 0.7222 - val_loss: 0.6459 - val_acc: 0.6667\n",
            "Epoch 22/150\n",
            "576/576 [==============================] - 0s 151us/step - loss: 0.5356 - acc: 0.7205 - val_loss: 0.6384 - val_acc: 0.6927\n",
            "Epoch 23/150\n",
            "576/576 [==============================] - 0s 145us/step - loss: 0.5315 - acc: 0.7309 - val_loss: 0.6756 - val_acc: 0.6823\n",
            "Epoch 24/150\n",
            "576/576 [==============================] - 0s 145us/step - loss: 0.5337 - acc: 0.7205 - val_loss: 0.6576 - val_acc: 0.6771\n",
            "Epoch 25/150\n",
            "576/576 [==============================] - 0s 146us/step - loss: 0.5294 - acc: 0.7517 - val_loss: 0.6459 - val_acc: 0.6927\n",
            "Epoch 26/150\n",
            "576/576 [==============================] - 0s 153us/step - loss: 0.5316 - acc: 0.7483 - val_loss: 0.6288 - val_acc: 0.6823\n",
            "Epoch 27/150\n",
            "576/576 [==============================] - 0s 152us/step - loss: 0.5394 - acc: 0.7413 - val_loss: 0.6684 - val_acc: 0.6771\n",
            "Epoch 28/150\n",
            "576/576 [==============================] - 0s 154us/step - loss: 0.5299 - acc: 0.7431 - val_loss: 0.6299 - val_acc: 0.6927\n",
            "Epoch 29/150\n",
            "576/576 [==============================] - 0s 140us/step - loss: 0.5299 - acc: 0.7205 - val_loss: 0.6397 - val_acc: 0.6771\n",
            "Epoch 30/150\n",
            "576/576 [==============================] - 0s 172us/step - loss: 0.5293 - acc: 0.7465 - val_loss: 0.6476 - val_acc: 0.6771\n",
            "Epoch 31/150\n",
            "576/576 [==============================] - 0s 156us/step - loss: 0.5208 - acc: 0.7622 - val_loss: 0.6389 - val_acc: 0.6875\n",
            "Epoch 32/150\n",
            "576/576 [==============================] - 0s 152us/step - loss: 0.5259 - acc: 0.7535 - val_loss: 0.6235 - val_acc: 0.6927\n",
            "Epoch 33/150\n",
            "576/576 [==============================] - 0s 150us/step - loss: 0.5162 - acc: 0.7448 - val_loss: 0.6282 - val_acc: 0.7031\n",
            "Epoch 34/150\n",
            "576/576 [==============================] - 0s 142us/step - loss: 0.5172 - acc: 0.7326 - val_loss: 0.6288 - val_acc: 0.6615\n",
            "Epoch 35/150\n",
            "576/576 [==============================] - 0s 145us/step - loss: 0.5191 - acc: 0.7500 - val_loss: 0.6165 - val_acc: 0.7031\n",
            "Epoch 36/150\n",
            "576/576 [==============================] - 0s 159us/step - loss: 0.5196 - acc: 0.7344 - val_loss: 0.6211 - val_acc: 0.6875\n",
            "Epoch 37/150\n",
            "576/576 [==============================] - 0s 149us/step - loss: 0.5232 - acc: 0.7396 - val_loss: 0.6233 - val_acc: 0.6875\n",
            "Epoch 38/150\n",
            "576/576 [==============================] - 0s 146us/step - loss: 0.5170 - acc: 0.7413 - val_loss: 0.6350 - val_acc: 0.7031\n",
            "Epoch 39/150\n",
            "576/576 [==============================] - 0s 139us/step - loss: 0.5200 - acc: 0.7569 - val_loss: 0.6525 - val_acc: 0.6875\n",
            "Epoch 40/150\n",
            "576/576 [==============================] - 0s 156us/step - loss: 0.5116 - acc: 0.7639 - val_loss: 0.6171 - val_acc: 0.6563\n",
            "Epoch 41/150\n",
            "576/576 [==============================] - 0s 139us/step - loss: 0.5233 - acc: 0.7552 - val_loss: 0.6183 - val_acc: 0.6771\n",
            "Epoch 42/150\n",
            "576/576 [==============================] - 0s 152us/step - loss: 0.5126 - acc: 0.7552 - val_loss: 0.6055 - val_acc: 0.6979\n",
            "Epoch 43/150\n",
            "576/576 [==============================] - 0s 148us/step - loss: 0.5052 - acc: 0.7535 - val_loss: 0.6090 - val_acc: 0.6927\n",
            "Epoch 44/150\n",
            "576/576 [==============================] - 0s 146us/step - loss: 0.5136 - acc: 0.7517 - val_loss: 0.6152 - val_acc: 0.7031\n",
            "Epoch 45/150\n",
            "576/576 [==============================] - 0s 144us/step - loss: 0.5140 - acc: 0.7535 - val_loss: 0.6177 - val_acc: 0.6927\n",
            "Epoch 46/150\n",
            "576/576 [==============================] - 0s 149us/step - loss: 0.5009 - acc: 0.7639 - val_loss: 0.6120 - val_acc: 0.6458\n",
            "Epoch 47/150\n",
            "576/576 [==============================] - 0s 146us/step - loss: 0.5291 - acc: 0.7309 - val_loss: 0.6061 - val_acc: 0.6823\n",
            "Epoch 48/150\n",
            "576/576 [==============================] - 0s 165us/step - loss: 0.5204 - acc: 0.7465 - val_loss: 0.6360 - val_acc: 0.6979\n",
            "Epoch 49/150\n",
            "576/576 [==============================] - 0s 159us/step - loss: 0.5017 - acc: 0.7639 - val_loss: 0.6158 - val_acc: 0.6875\n",
            "Epoch 50/150\n",
            "576/576 [==============================] - 0s 148us/step - loss: 0.4998 - acc: 0.7535 - val_loss: 0.6267 - val_acc: 0.6875\n",
            "Epoch 51/150\n",
            "576/576 [==============================] - 0s 153us/step - loss: 0.5059 - acc: 0.7691 - val_loss: 0.6072 - val_acc: 0.7188\n",
            "Epoch 52/150\n",
            "576/576 [==============================] - 0s 156us/step - loss: 0.4968 - acc: 0.7639 - val_loss: 0.6110 - val_acc: 0.7135\n",
            "Epoch 53/150\n",
            "576/576 [==============================] - 0s 156us/step - loss: 0.4957 - acc: 0.7639 - val_loss: 0.6303 - val_acc: 0.6719\n",
            "Epoch 54/150\n",
            "576/576 [==============================] - 0s 148us/step - loss: 0.4998 - acc: 0.7708 - val_loss: 0.6160 - val_acc: 0.6823\n",
            "Epoch 55/150\n",
            "576/576 [==============================] - 0s 172us/step - loss: 0.4971 - acc: 0.7552 - val_loss: 0.6107 - val_acc: 0.7135\n",
            "Epoch 56/150\n",
            "576/576 [==============================] - 0s 149us/step - loss: 0.4991 - acc: 0.7639 - val_loss: 0.6100 - val_acc: 0.7083\n",
            "Epoch 57/150\n",
            "576/576 [==============================] - 0s 152us/step - loss: 0.4989 - acc: 0.7587 - val_loss: 0.6077 - val_acc: 0.6719\n",
            "Epoch 58/150\n",
            "576/576 [==============================] - 0s 148us/step - loss: 0.5040 - acc: 0.7674 - val_loss: 0.6261 - val_acc: 0.7031\n",
            "Epoch 59/150\n",
            "576/576 [==============================] - 0s 154us/step - loss: 0.4945 - acc: 0.7552 - val_loss: 0.6301 - val_acc: 0.6927\n",
            "Epoch 60/150\n",
            "576/576 [==============================] - 0s 215us/step - loss: 0.4955 - acc: 0.7726 - val_loss: 0.5936 - val_acc: 0.7188\n",
            "Epoch 61/150\n",
            "576/576 [==============================] - 0s 158us/step - loss: 0.4946 - acc: 0.7691 - val_loss: 0.5981 - val_acc: 0.7292\n",
            "Epoch 62/150\n",
            "576/576 [==============================] - 0s 145us/step - loss: 0.4883 - acc: 0.7639 - val_loss: 0.6008 - val_acc: 0.7187\n",
            "Epoch 63/150\n",
            "576/576 [==============================] - 0s 153us/step - loss: 0.4909 - acc: 0.7569 - val_loss: 0.6264 - val_acc: 0.6927\n",
            "Epoch 64/150\n",
            "576/576 [==============================] - 0s 149us/step - loss: 0.4932 - acc: 0.7691 - val_loss: 0.6053 - val_acc: 0.6927\n",
            "Epoch 65/150\n",
            "576/576 [==============================] - 0s 155us/step - loss: 0.4932 - acc: 0.7726 - val_loss: 0.6140 - val_acc: 0.6823\n",
            "Epoch 66/150\n",
            "576/576 [==============================] - 0s 163us/step - loss: 0.4884 - acc: 0.7708 - val_loss: 0.6365 - val_acc: 0.7031\n",
            "Epoch 67/150\n",
            "576/576 [==============================] - 0s 158us/step - loss: 0.5005 - acc: 0.7587 - val_loss: 0.6084 - val_acc: 0.7187\n",
            "Epoch 68/150\n",
            "576/576 [==============================] - 0s 142us/step - loss: 0.4884 - acc: 0.7656 - val_loss: 0.6074 - val_acc: 0.6979\n",
            "Epoch 69/150\n",
            "576/576 [==============================] - 0s 141us/step - loss: 0.4915 - acc: 0.7587 - val_loss: 0.6063 - val_acc: 0.7240\n",
            "Epoch 70/150\n",
            "576/576 [==============================] - 0s 160us/step - loss: 0.4817 - acc: 0.7587 - val_loss: 0.6060 - val_acc: 0.6979\n",
            "Epoch 71/150\n",
            "576/576 [==============================] - 0s 156us/step - loss: 0.4966 - acc: 0.7465 - val_loss: 0.6014 - val_acc: 0.6667\n",
            "Epoch 72/150\n",
            "576/576 [==============================] - 0s 156us/step - loss: 0.4854 - acc: 0.7830 - val_loss: 0.5930 - val_acc: 0.6979\n",
            "Epoch 73/150\n",
            "576/576 [==============================] - 0s 149us/step - loss: 0.4805 - acc: 0.7691 - val_loss: 0.5919 - val_acc: 0.7240\n",
            "Epoch 74/150\n",
            "576/576 [==============================] - 0s 165us/step - loss: 0.4858 - acc: 0.7847 - val_loss: 0.6000 - val_acc: 0.6823\n",
            "Epoch 75/150\n",
            "576/576 [==============================] - 0s 156us/step - loss: 0.4848 - acc: 0.7708 - val_loss: 0.6066 - val_acc: 0.6979\n",
            "Epoch 76/150\n",
            "576/576 [==============================] - 0s 157us/step - loss: 0.4815 - acc: 0.7656 - val_loss: 0.6075 - val_acc: 0.7135\n",
            "Epoch 77/150\n",
            "576/576 [==============================] - 0s 154us/step - loss: 0.4802 - acc: 0.7726 - val_loss: 0.5936 - val_acc: 0.7135\n",
            "Epoch 78/150\n",
            "576/576 [==============================] - 0s 159us/step - loss: 0.4855 - acc: 0.7830 - val_loss: 0.6192 - val_acc: 0.6615\n",
            "Epoch 79/150\n",
            "576/576 [==============================] - 0s 146us/step - loss: 0.4854 - acc: 0.7483 - val_loss: 0.6138 - val_acc: 0.7240\n",
            "Epoch 80/150\n",
            "576/576 [==============================] - 0s 150us/step - loss: 0.4925 - acc: 0.7656 - val_loss: 0.6166 - val_acc: 0.7292\n",
            "Epoch 81/150\n",
            "576/576 [==============================] - 0s 151us/step - loss: 0.4920 - acc: 0.7778 - val_loss: 0.6073 - val_acc: 0.7187\n",
            "Epoch 82/150\n",
            "576/576 [==============================] - 0s 157us/step - loss: 0.4808 - acc: 0.7708 - val_loss: 0.6227 - val_acc: 0.7240\n",
            "Epoch 83/150\n",
            "576/576 [==============================] - 0s 148us/step - loss: 0.4805 - acc: 0.7743 - val_loss: 0.6094 - val_acc: 0.7292\n",
            "Epoch 84/150\n",
            "576/576 [==============================] - 0s 146us/step - loss: 0.4768 - acc: 0.7778 - val_loss: 0.6016 - val_acc: 0.7187\n",
            "Epoch 85/150\n",
            "576/576 [==============================] - 0s 153us/step - loss: 0.4807 - acc: 0.7795 - val_loss: 0.6056 - val_acc: 0.7187\n",
            "Epoch 86/150\n",
            "576/576 [==============================] - 0s 165us/step - loss: 0.4807 - acc: 0.7708 - val_loss: 0.5957 - val_acc: 0.7344\n",
            "Epoch 87/150\n",
            "576/576 [==============================] - 0s 161us/step - loss: 0.4875 - acc: 0.7622 - val_loss: 0.6050 - val_acc: 0.6771\n",
            "Epoch 88/150\n",
            "576/576 [==============================] - 0s 154us/step - loss: 0.4767 - acc: 0.7674 - val_loss: 0.6228 - val_acc: 0.6458\n",
            "Epoch 89/150\n",
            "576/576 [==============================] - 0s 146us/step - loss: 0.4740 - acc: 0.7708 - val_loss: 0.6299 - val_acc: 0.7083\n",
            "Epoch 90/150\n",
            "576/576 [==============================] - 0s 153us/step - loss: 0.4723 - acc: 0.7517 - val_loss: 0.5981 - val_acc: 0.7083\n",
            "Epoch 91/150\n",
            "576/576 [==============================] - 0s 143us/step - loss: 0.4735 - acc: 0.7743 - val_loss: 0.6105 - val_acc: 0.7031\n",
            "Epoch 92/150\n",
            "576/576 [==============================] - 0s 155us/step - loss: 0.4717 - acc: 0.7674 - val_loss: 0.5978 - val_acc: 0.6823\n",
            "Epoch 93/150\n",
            "576/576 [==============================] - 0s 142us/step - loss: 0.4740 - acc: 0.7708 - val_loss: 0.6217 - val_acc: 0.7292\n",
            "Epoch 94/150\n",
            "576/576 [==============================] - 0s 158us/step - loss: 0.4732 - acc: 0.7743 - val_loss: 0.5935 - val_acc: 0.7344\n",
            "Epoch 95/150\n",
            "576/576 [==============================] - 0s 143us/step - loss: 0.4700 - acc: 0.7691 - val_loss: 0.6023 - val_acc: 0.6823\n",
            "Epoch 96/150\n",
            "576/576 [==============================] - 0s 141us/step - loss: 0.4680 - acc: 0.7760 - val_loss: 0.6046 - val_acc: 0.6875\n",
            "Epoch 97/150\n",
            "576/576 [==============================] - 0s 141us/step - loss: 0.4657 - acc: 0.7708 - val_loss: 0.5999 - val_acc: 0.6875\n",
            "Epoch 98/150\n",
            "576/576 [==============================] - 0s 151us/step - loss: 0.4837 - acc: 0.7587 - val_loss: 0.5921 - val_acc: 0.6927\n",
            "Epoch 99/150\n",
            "576/576 [==============================] - 0s 155us/step - loss: 0.4677 - acc: 0.7743 - val_loss: 0.6333 - val_acc: 0.7344\n",
            "Epoch 100/150\n",
            "576/576 [==============================] - 0s 148us/step - loss: 0.4736 - acc: 0.7708 - val_loss: 0.6029 - val_acc: 0.7083\n",
            "Epoch 101/150\n",
            "576/576 [==============================] - 0s 142us/step - loss: 0.4687 - acc: 0.7830 - val_loss: 0.6313 - val_acc: 0.7396\n",
            "Epoch 102/150\n",
            "576/576 [==============================] - 0s 158us/step - loss: 0.4671 - acc: 0.7708 - val_loss: 0.6056 - val_acc: 0.7135\n",
            "Epoch 103/150\n",
            "576/576 [==============================] - 0s 148us/step - loss: 0.4676 - acc: 0.7656 - val_loss: 0.6001 - val_acc: 0.6875\n",
            "Epoch 104/150\n",
            "576/576 [==============================] - 0s 147us/step - loss: 0.4676 - acc: 0.7778 - val_loss: 0.5964 - val_acc: 0.7031\n",
            "Epoch 105/150\n",
            "576/576 [==============================] - 0s 146us/step - loss: 0.4739 - acc: 0.7726 - val_loss: 0.6095 - val_acc: 0.7135\n",
            "Epoch 106/150\n",
            "576/576 [==============================] - 0s 158us/step - loss: 0.4681 - acc: 0.7604 - val_loss: 0.5944 - val_acc: 0.7135\n",
            "Epoch 107/150\n",
            "576/576 [==============================] - 0s 161us/step - loss: 0.4654 - acc: 0.7778 - val_loss: 0.6034 - val_acc: 0.7500\n",
            "Epoch 108/150\n",
            "576/576 [==============================] - 0s 168us/step - loss: 0.4578 - acc: 0.7795 - val_loss: 0.6214 - val_acc: 0.7031\n",
            "Epoch 109/150\n",
            "576/576 [==============================] - 0s 148us/step - loss: 0.4664 - acc: 0.7899 - val_loss: 0.6025 - val_acc: 0.6875\n",
            "Epoch 110/150\n",
            "576/576 [==============================] - 0s 186us/step - loss: 0.4610 - acc: 0.7743 - val_loss: 0.6064 - val_acc: 0.7083\n",
            "Epoch 111/150\n",
            "576/576 [==============================] - 0s 169us/step - loss: 0.4686 - acc: 0.7674 - val_loss: 0.6138 - val_acc: 0.7396\n",
            "Epoch 112/150\n",
            "576/576 [==============================] - 0s 147us/step - loss: 0.4682 - acc: 0.7743 - val_loss: 0.6062 - val_acc: 0.7031\n",
            "Epoch 113/150\n",
            "576/576 [==============================] - 0s 161us/step - loss: 0.4581 - acc: 0.7812 - val_loss: 0.5989 - val_acc: 0.6927\n",
            "Epoch 114/150\n",
            "576/576 [==============================] - 0s 150us/step - loss: 0.4709 - acc: 0.7778 - val_loss: 0.6011 - val_acc: 0.7083\n",
            "Epoch 115/150\n",
            "576/576 [==============================] - 0s 141us/step - loss: 0.4679 - acc: 0.7760 - val_loss: 0.6074 - val_acc: 0.7031\n",
            "Epoch 116/150\n",
            "576/576 [==============================] - 0s 150us/step - loss: 0.4742 - acc: 0.7639 - val_loss: 0.6059 - val_acc: 0.6667\n",
            "Epoch 117/150\n",
            "576/576 [==============================] - 0s 163us/step - loss: 0.4610 - acc: 0.7795 - val_loss: 0.5925 - val_acc: 0.7187\n",
            "Epoch 118/150\n",
            "576/576 [==============================] - 0s 146us/step - loss: 0.4671 - acc: 0.7760 - val_loss: 0.6134 - val_acc: 0.7188\n",
            "Epoch 119/150\n",
            "576/576 [==============================] - 0s 160us/step - loss: 0.4525 - acc: 0.7812 - val_loss: 0.6280 - val_acc: 0.7500\n",
            "Epoch 120/150\n",
            "576/576 [==============================] - 0s 152us/step - loss: 0.4623 - acc: 0.7830 - val_loss: 0.6538 - val_acc: 0.6927\n",
            "Epoch 121/150\n",
            "576/576 [==============================] - 0s 151us/step - loss: 0.4657 - acc: 0.7760 - val_loss: 0.6101 - val_acc: 0.7292\n",
            "Epoch 122/150\n",
            "576/576 [==============================] - 0s 166us/step - loss: 0.4583 - acc: 0.7743 - val_loss: 0.6198 - val_acc: 0.6771\n",
            "Epoch 123/150\n",
            "576/576 [==============================] - 0s 155us/step - loss: 0.4628 - acc: 0.7743 - val_loss: 0.5971 - val_acc: 0.6979\n",
            "Epoch 124/150\n",
            "576/576 [==============================] - 0s 145us/step - loss: 0.4624 - acc: 0.7760 - val_loss: 0.6008 - val_acc: 0.7031\n",
            "Epoch 125/150\n",
            "576/576 [==============================] - 0s 149us/step - loss: 0.4714 - acc: 0.7656 - val_loss: 0.6494 - val_acc: 0.7083\n",
            "Epoch 126/150\n",
            "576/576 [==============================] - 0s 154us/step - loss: 0.4614 - acc: 0.7778 - val_loss: 0.6064 - val_acc: 0.6927\n",
            "Epoch 127/150\n",
            "576/576 [==============================] - 0s 140us/step - loss: 0.4569 - acc: 0.7830 - val_loss: 0.6096 - val_acc: 0.7344\n",
            "Epoch 128/150\n",
            "576/576 [==============================] - 0s 148us/step - loss: 0.4588 - acc: 0.7847 - val_loss: 0.6009 - val_acc: 0.7031\n",
            "Epoch 129/150\n",
            "576/576 [==============================] - 0s 152us/step - loss: 0.4535 - acc: 0.7830 - val_loss: 0.6185 - val_acc: 0.7187\n",
            "Epoch 130/150\n",
            "576/576 [==============================] - 0s 153us/step - loss: 0.4607 - acc: 0.7882 - val_loss: 0.6156 - val_acc: 0.7500\n",
            "Epoch 131/150\n",
            "576/576 [==============================] - 0s 162us/step - loss: 0.4538 - acc: 0.7813 - val_loss: 0.6174 - val_acc: 0.6823\n",
            "Epoch 132/150\n",
            "576/576 [==============================] - 0s 144us/step - loss: 0.4528 - acc: 0.7847 - val_loss: 0.6060 - val_acc: 0.6927\n",
            "Epoch 133/150\n",
            "576/576 [==============================] - 0s 180us/step - loss: 0.4562 - acc: 0.7847 - val_loss: 0.5965 - val_acc: 0.7135\n",
            "Epoch 134/150\n",
            "576/576 [==============================] - 0s 152us/step - loss: 0.4563 - acc: 0.7726 - val_loss: 0.6176 - val_acc: 0.7240\n",
            "Epoch 135/150\n",
            "576/576 [==============================] - 0s 148us/step - loss: 0.4544 - acc: 0.7812 - val_loss: 0.6000 - val_acc: 0.7031\n",
            "Epoch 136/150\n",
            "576/576 [==============================] - 0s 149us/step - loss: 0.4644 - acc: 0.7865 - val_loss: 0.6118 - val_acc: 0.6771\n",
            "Epoch 137/150\n",
            "576/576 [==============================] - 0s 152us/step - loss: 0.4558 - acc: 0.7865 - val_loss: 0.6180 - val_acc: 0.6979\n",
            "Epoch 138/150\n",
            "576/576 [==============================] - 0s 152us/step - loss: 0.4512 - acc: 0.7726 - val_loss: 0.6368 - val_acc: 0.7292\n",
            "Epoch 139/150\n",
            "576/576 [==============================] - 0s 152us/step - loss: 0.4528 - acc: 0.7847 - val_loss: 0.6106 - val_acc: 0.6823\n",
            "Epoch 140/150\n",
            "576/576 [==============================] - 0s 149us/step - loss: 0.4525 - acc: 0.7847 - val_loss: 0.6057 - val_acc: 0.6979\n",
            "Epoch 141/150\n",
            "576/576 [==============================] - 0s 161us/step - loss: 0.4513 - acc: 0.7882 - val_loss: 0.6134 - val_acc: 0.7135\n",
            "Epoch 142/150\n",
            "576/576 [==============================] - 0s 149us/step - loss: 0.4531 - acc: 0.7726 - val_loss: 0.6127 - val_acc: 0.7135\n",
            "Epoch 143/150\n",
            "576/576 [==============================] - 0s 155us/step - loss: 0.4552 - acc: 0.7865 - val_loss: 0.6186 - val_acc: 0.7448\n",
            "Epoch 144/150\n",
            "576/576 [==============================] - 0s 152us/step - loss: 0.4474 - acc: 0.7934 - val_loss: 0.6220 - val_acc: 0.7448\n",
            "Epoch 145/150\n",
            "576/576 [==============================] - 0s 150us/step - loss: 0.4542 - acc: 0.7847 - val_loss: 0.6170 - val_acc: 0.6927\n",
            "Epoch 146/150\n",
            "576/576 [==============================] - 0s 152us/step - loss: 0.4668 - acc: 0.7639 - val_loss: 0.6027 - val_acc: 0.6979\n",
            "Epoch 147/150\n",
            "576/576 [==============================] - 0s 147us/step - loss: 0.4836 - acc: 0.7604 - val_loss: 0.6058 - val_acc: 0.7396\n",
            "Epoch 148/150\n",
            "576/576 [==============================] - 0s 160us/step - loss: 0.4530 - acc: 0.7865 - val_loss: 0.6108 - val_acc: 0.6927\n",
            "Epoch 149/150\n",
            "576/576 [==============================] - 0s 145us/step - loss: 0.4462 - acc: 0.7830 - val_loss: 0.6323 - val_acc: 0.7500\n",
            "Epoch 150/150\n",
            "576/576 [==============================] - 0s 140us/step - loss: 0.4496 - acc: 0.7847 - val_loss: 0.5976 - val_acc: 0.7292\n"
          ],
          "name": "stdout"
        }
      ]
    },
    {
      "cell_type": "code",
      "metadata": {
        "id": "mcwWijVHvhCd",
        "colab_type": "code",
        "outputId": "bf93877c-6081-4669-f829-eeaf165b9d2e",
        "colab": {
          "base_uri": "https://localhost:8080/",
          "height": 121
        }
      },
      "source": [
        "# evaluate the model : train\n",
        "scores = model.evaluate(trainX, trainY)\n",
        "print(\"\\n%s: %.2f%%\" % (model.metrics_names[1], scores[1]*100))\n",
        "\n",
        "\n",
        "# evaluate the model : test\n",
        "scores = model.evaluate(testX, testY)\n",
        "print(\"\\n%s: %.2f%%\" % (model.metrics_names[1], scores[1]*100))"
      ],
      "execution_count": 0,
      "outputs": [
        {
          "output_type": "stream",
          "text": [
            "576/576 [==============================] - 0s 29us/step\n",
            "\n",
            "acc: 79.69%\n",
            "192/192 [==============================] - 0s 52us/step\n",
            "\n",
            "acc: 72.92%\n"
          ],
          "name": "stdout"
        }
      ]
    },
    {
      "cell_type": "code",
      "metadata": {
        "id": "E6xM0XZXvokF",
        "colab_type": "code",
        "outputId": "387532fa-ecd2-4e4a-fe07-5684196cd9c1",
        "colab": {
          "base_uri": "https://localhost:8080/",
          "height": 295
        }
      },
      "source": [
        "# Plot training & validation accuracy values\n",
        "plt.plot(H.history['acc'])\n",
        "plt.plot(H.history['val_acc'])\n",
        "plt.title('Model accuracy')\n",
        "plt.ylabel('Accuracy')\n",
        "plt.xlabel('Epoch')\n",
        "plt.legend(['Train', 'Test'], loc='upper left')\n",
        "plt.show()"
      ],
      "execution_count": 0,
      "outputs": [
        {
          "output_type": "display_data",
          "data": {
            "image/png": "[encoded data removed]",
            "text/plain": [
              "<Figure size 432x288 with 1 Axes>"
            ]
          },
          "metadata": {
            "tags": []
          }
        }
      ]
    },
    {
      "cell_type": "code",
      "metadata": {
        "id": "0Ug3-d1QvtD4",
        "colab_type": "code",
        "outputId": "d7c21db6-78a0-48e7-fe4c-9e7f62fd4d5d",
        "colab": {
          "base_uri": "https://localhost:8080/",
          "height": 295
        }
      },
      "source": [
        "# Plot training & validation loss values\n",
        "plt.plot(H.history['loss'])\n",
        "plt.plot(H.history['val_loss'])\n",
        "plt.title('Model loss')\n",
        "plt.ylabel('Loss')\n",
        "plt.xlabel('Epoch')\n",
        "plt.legend(['Train', 'Test'], loc='upper left')\n",
        "plt.show()"
      ],
      "execution_count": 0,
      "outputs": [
        {
          "output_type": "display_data",
          "data": {
            "image/png": "[encoded data removed]",
            "text/plain": [
              "<Figure size 432x288 with 1 Axes>"
            ]
          },
          "metadata": {
            "tags": []
          }
        }
      ]
    },
    {
      "cell_type": "code",
      "metadata": {
        "id": "pXk9xfqhvw-O",
        "colab_type": "code",
        "outputId": "bc0f02da-7b0c-409c-ecb3-ac8297fbd98a",
        "colab": {
          "base_uri": "https://localhost:8080/",
          "height": 34
        }
      },
      "source": [
        "predictions = model.predict(X)\n",
        "# round predictions\n",
        "rounded = [round(x[0]) for x in predictions]\n",
        "print(rounded[1])"
      ],
      "execution_count": 0,
      "outputs": [
        {
          "output_type": "stream",
          "text": [
            "1.0\n"
          ],
          "name": "stdout"
        }
      ]
    },
    {
      "cell_type": "code",
      "metadata": {
        "id": "1IEJ7Q3JshF2",
        "colab_type": "code",
        "colab": {}
      },
      "source": [
        ""
      ],
      "execution_count": 0,
      "outputs": []
    }
  ]
}