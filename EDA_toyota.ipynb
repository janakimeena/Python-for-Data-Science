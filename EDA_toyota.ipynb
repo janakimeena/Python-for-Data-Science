{
 "cells": [
  {
   "cell_type": "markdown",
   "id": "395bd905",
   "metadata": {
    "slideshow": {
     "slide_type": "slide"
    }
   },
   "source": [
    "### 1. Print the frequency table of fuelType"
   ]
  },
  {
   "cell_type": "code",
   "execution_count": 47,
   "id": "2ae7e530",
   "metadata": {
    "slideshow": {
     "slide_type": "slide"
    }
   },
   "outputs": [],
   "source": [
    "import os\n",
    "os.chdir('/home/janaki/Pandas')\n",
    "import pandas as pd\n",
    "cars = pd.read_csv('Toyota.csv',index_col=0,na_values=['??'])"
   ]
  },
  {
   "cell_type": "markdown",
   "id": "fff7e323",
   "metadata": {
    "slideshow": {
     "slide_type": "slide"
    }
   },
   "source": [
    "### 2. Print the frequency table of Automatic"
   ]
  },
  {
   "cell_type": "code",
   "execution_count": 2,
   "id": "c9ce98dc",
   "metadata": {
    "slideshow": {
     "slide_type": "slide"
    }
   },
   "outputs": [
    {
     "data": {
      "text/html": [
       "<div>\n",
       "<style scoped>\n",
       "    .dataframe tbody tr th:only-of-type {\n",
       "        vertical-align: middle;\n",
       "    }\n",
       "\n",
       "    .dataframe tbody tr th {\n",
       "        vertical-align: top;\n",
       "    }\n",
       "\n",
       "    .dataframe thead th {\n",
       "        text-align: right;\n",
       "    }\n",
       "</style>\n",
       "<table border=\"1\" class=\"dataframe\">\n",
       "  <thead>\n",
       "    <tr style=\"text-align: right;\">\n",
       "      <th>col_0</th>\n",
       "      <th>count</th>\n",
       "    </tr>\n",
       "    <tr>\n",
       "      <th>FuelType</th>\n",
       "      <th></th>\n",
       "    </tr>\n",
       "  </thead>\n",
       "  <tbody>\n",
       "    <tr>\n",
       "      <th>CNG</th>\n",
       "      <td>15</td>\n",
       "    </tr>\n",
       "    <tr>\n",
       "      <th>Diesel</th>\n",
       "      <td>144</td>\n",
       "    </tr>\n",
       "    <tr>\n",
       "      <th>Petrol</th>\n",
       "      <td>1177</td>\n",
       "    </tr>\n",
       "  </tbody>\n",
       "</table>\n",
       "</div>"
      ],
      "text/plain": [
       "col_0     count\n",
       "FuelType       \n",
       "CNG          15\n",
       "Diesel      144\n",
       "Petrol     1177"
      ]
     },
     "execution_count": 2,
     "metadata": {},
     "output_type": "execute_result"
    }
   ],
   "source": [
    "pd.crosstab(index = cars['FuelType'],columns='count',dropna=True)"
   ]
  },
  {
   "cell_type": "markdown",
   "id": "bc6fb554",
   "metadata": {
    "slideshow": {
     "slide_type": "slide"
    }
   },
   "source": [
    "### 3. What is the frequency distribution of gearbox types with respect to different fuel types of the cars?"
   ]
  },
  {
   "cell_type": "code",
   "execution_count": 3,
   "id": "5952d10e",
   "metadata": {
    "slideshow": {
     "slide_type": "slide"
    }
   },
   "outputs": [
    {
     "data": {
      "text/html": [
       "<div>\n",
       "<style scoped>\n",
       "    .dataframe tbody tr th:only-of-type {\n",
       "        vertical-align: middle;\n",
       "    }\n",
       "\n",
       "    .dataframe tbody tr th {\n",
       "        vertical-align: top;\n",
       "    }\n",
       "\n",
       "    .dataframe thead th {\n",
       "        text-align: right;\n",
       "    }\n",
       "</style>\n",
       "<table border=\"1\" class=\"dataframe\">\n",
       "  <thead>\n",
       "    <tr style=\"text-align: right;\">\n",
       "      <th>FuelType</th>\n",
       "      <th>CNG</th>\n",
       "      <th>Diesel</th>\n",
       "      <th>Petrol</th>\n",
       "    </tr>\n",
       "    <tr>\n",
       "      <th>Automatic</th>\n",
       "      <th></th>\n",
       "      <th></th>\n",
       "      <th></th>\n",
       "    </tr>\n",
       "  </thead>\n",
       "  <tbody>\n",
       "    <tr>\n",
       "      <th>0</th>\n",
       "      <td>15</td>\n",
       "      <td>144</td>\n",
       "      <td>1104</td>\n",
       "    </tr>\n",
       "    <tr>\n",
       "      <th>1</th>\n",
       "      <td>0</td>\n",
       "      <td>0</td>\n",
       "      <td>73</td>\n",
       "    </tr>\n",
       "  </tbody>\n",
       "</table>\n",
       "</div>"
      ],
      "text/plain": [
       "FuelType   CNG  Diesel  Petrol\n",
       "Automatic                     \n",
       "0           15     144    1104\n",
       "1            0       0      73"
      ]
     },
     "execution_count": 3,
     "metadata": {},
     "output_type": "execute_result"
    }
   ],
   "source": [
    "pd.crosstab(index = cars['Automatic'],columns= cars['FuelType'],dropna=True)"
   ]
  },
  {
   "cell_type": "markdown",
   "id": "0580d53e",
   "metadata": {
    "slideshow": {
     "slide_type": "slide"
    }
   },
   "source": [
    "### 4. What is the probability of a car having fuel as CNG and manual gearbox?"
   ]
  },
  {
   "cell_type": "code",
   "execution_count": 4,
   "id": "505f20b4",
   "metadata": {
    "slideshow": {
     "slide_type": "slide"
    }
   },
   "outputs": [
    {
     "data": {
      "text/html": [
       "<div>\n",
       "<style scoped>\n",
       "    .dataframe tbody tr th:only-of-type {\n",
       "        vertical-align: middle;\n",
       "    }\n",
       "\n",
       "    .dataframe tbody tr th {\n",
       "        vertical-align: top;\n",
       "    }\n",
       "\n",
       "    .dataframe thead th {\n",
       "        text-align: right;\n",
       "    }\n",
       "</style>\n",
       "<table border=\"1\" class=\"dataframe\">\n",
       "  <thead>\n",
       "    <tr style=\"text-align: right;\">\n",
       "      <th>FuelType</th>\n",
       "      <th>CNG</th>\n",
       "      <th>Diesel</th>\n",
       "      <th>Petrol</th>\n",
       "    </tr>\n",
       "    <tr>\n",
       "      <th>Automatic</th>\n",
       "      <th></th>\n",
       "      <th></th>\n",
       "      <th></th>\n",
       "    </tr>\n",
       "  </thead>\n",
       "  <tbody>\n",
       "    <tr>\n",
       "      <th>0</th>\n",
       "      <td>0.011228</td>\n",
       "      <td>0.107784</td>\n",
       "      <td>0.826347</td>\n",
       "    </tr>\n",
       "    <tr>\n",
       "      <th>1</th>\n",
       "      <td>0.000000</td>\n",
       "      <td>0.000000</td>\n",
       "      <td>0.054641</td>\n",
       "    </tr>\n",
       "  </tbody>\n",
       "</table>\n",
       "</div>"
      ],
      "text/plain": [
       "FuelType        CNG    Diesel    Petrol\n",
       "Automatic                              \n",
       "0          0.011228  0.107784  0.826347\n",
       "1          0.000000  0.000000  0.054641"
      ]
     },
     "execution_count": 4,
     "metadata": {},
     "output_type": "execute_result"
    }
   ],
   "source": [
    "pd.crosstab(index = cars['Automatic'],columns= cars['FuelType'],normalize=True,dropna=True)"
   ]
  },
  {
   "cell_type": "markdown",
   "id": "f88b3055",
   "metadata": {
    "slideshow": {
     "slide_type": "slide"
    }
   },
   "source": [
    "### 5. What is the Marginal probability distribution of gearbox types with respect to different fuel types of the cars?"
   ]
  },
  {
   "cell_type": "code",
   "execution_count": 46,
   "id": "a9d758a5",
   "metadata": {
    "slideshow": {
     "slide_type": "slide"
    }
   },
   "outputs": [
    {
     "data": {
      "text/html": [
       "<div>\n",
       "<style scoped>\n",
       "    .dataframe tbody tr th:only-of-type {\n",
       "        vertical-align: middle;\n",
       "    }\n",
       "\n",
       "    .dataframe tbody tr th {\n",
       "        vertical-align: top;\n",
       "    }\n",
       "\n",
       "    .dataframe thead th {\n",
       "        text-align: right;\n",
       "    }\n",
       "</style>\n",
       "<table border=\"1\" class=\"dataframe\">\n",
       "  <thead>\n",
       "    <tr style=\"text-align: right;\">\n",
       "      <th>FuelType</th>\n",
       "      <th>CNG</th>\n",
       "      <th>Diesel</th>\n",
       "      <th>Petrol</th>\n",
       "      <th>All</th>\n",
       "    </tr>\n",
       "    <tr>\n",
       "      <th>Automatic</th>\n",
       "      <th></th>\n",
       "      <th></th>\n",
       "      <th></th>\n",
       "      <th></th>\n",
       "    </tr>\n",
       "  </thead>\n",
       "  <tbody>\n",
       "    <tr>\n",
       "      <th>0</th>\n",
       "      <td>0.011228</td>\n",
       "      <td>0.107784</td>\n",
       "      <td>0.826347</td>\n",
       "      <td>0.945359</td>\n",
       "    </tr>\n",
       "    <tr>\n",
       "      <th>1</th>\n",
       "      <td>0.000000</td>\n",
       "      <td>0.000000</td>\n",
       "      <td>0.054641</td>\n",
       "      <td>0.054641</td>\n",
       "    </tr>\n",
       "    <tr>\n",
       "      <th>All</th>\n",
       "      <td>0.011228</td>\n",
       "      <td>0.107784</td>\n",
       "      <td>0.880988</td>\n",
       "      <td>1.000000</td>\n",
       "    </tr>\n",
       "  </tbody>\n",
       "</table>\n",
       "</div>"
      ],
      "text/plain": [
       "FuelType        CNG    Diesel    Petrol       All\n",
       "Automatic                                        \n",
       "0          0.011228  0.107784  0.826347  0.945359\n",
       "1          0.000000  0.000000  0.054641  0.054641\n",
       "All        0.011228  0.107784  0.880988  1.000000"
      ]
     },
     "execution_count": 46,
     "metadata": {},
     "output_type": "execute_result"
    }
   ],
   "source": [
    "pd.crosstab(index = cars['Automatic'],columns= cars['FuelType'],margins=True,normalize=True,dropna=True)"
   ]
  },
  {
   "cell_type": "markdown",
   "id": "8310ce65",
   "metadata": {
    "slideshow": {
     "slide_type": "slide"
    }
   },
   "source": [
    "### 6. Given gearbox type of a car as automatic what is the probability of car having FuelType as petrol?\n"
   ]
  },
  {
   "cell_type": "code",
   "execution_count": 6,
   "id": "b7b3a875",
   "metadata": {
    "slideshow": {
     "slide_type": "slide"
    }
   },
   "outputs": [
    {
     "data": {
      "text/html": [
       "<div>\n",
       "<style scoped>\n",
       "    .dataframe tbody tr th:only-of-type {\n",
       "        vertical-align: middle;\n",
       "    }\n",
       "\n",
       "    .dataframe tbody tr th {\n",
       "        vertical-align: top;\n",
       "    }\n",
       "\n",
       "    .dataframe thead th {\n",
       "        text-align: right;\n",
       "    }\n",
       "</style>\n",
       "<table border=\"1\" class=\"dataframe\">\n",
       "  <thead>\n",
       "    <tr style=\"text-align: right;\">\n",
       "      <th>FuelType</th>\n",
       "      <th>CNG</th>\n",
       "      <th>Diesel</th>\n",
       "      <th>Petrol</th>\n",
       "    </tr>\n",
       "    <tr>\n",
       "      <th>Automatic</th>\n",
       "      <th></th>\n",
       "      <th></th>\n",
       "      <th></th>\n",
       "    </tr>\n",
       "  </thead>\n",
       "  <tbody>\n",
       "    <tr>\n",
       "      <th>0</th>\n",
       "      <td>0.011876</td>\n",
       "      <td>0.114014</td>\n",
       "      <td>0.874109</td>\n",
       "    </tr>\n",
       "    <tr>\n",
       "      <th>1</th>\n",
       "      <td>0.000000</td>\n",
       "      <td>0.000000</td>\n",
       "      <td>1.000000</td>\n",
       "    </tr>\n",
       "    <tr>\n",
       "      <th>All</th>\n",
       "      <td>0.011228</td>\n",
       "      <td>0.107784</td>\n",
       "      <td>0.880988</td>\n",
       "    </tr>\n",
       "  </tbody>\n",
       "</table>\n",
       "</div>"
      ],
      "text/plain": [
       "FuelType        CNG    Diesel    Petrol\n",
       "Automatic                              \n",
       "0          0.011876  0.114014  0.874109\n",
       "1          0.000000  0.000000  1.000000\n",
       "All        0.011228  0.107784  0.880988"
      ]
     },
     "execution_count": 6,
     "metadata": {},
     "output_type": "execute_result"
    }
   ],
   "source": [
    "# conditional probability\n",
    "pd.crosstab(index = cars['Automatic'],columns= cars['FuelType'],margins=True,dropna=True,normalize='index')"
   ]
  },
  {
   "cell_type": "markdown",
   "id": "dd33f187",
   "metadata": {
    "slideshow": {
     "slide_type": "slide"
    }
   },
   "source": [
    "### 7. Find the pair of attributes having positive correlation"
   ]
  },
  {
   "cell_type": "code",
   "execution_count": 7,
   "id": "090767b6",
   "metadata": {
    "slideshow": {
     "slide_type": "slide"
    }
   },
   "outputs": [
    {
     "name": "stdout",
     "output_type": "stream",
     "text": [
      "<class 'pandas.core.frame.DataFrame'>\n",
      "Int64Index: 1436 entries, 0 to 1435\n",
      "Data columns (total 10 columns):\n",
      " #   Column     Non-Null Count  Dtype  \n",
      "---  ------     --------------  -----  \n",
      " 0   Price      1436 non-null   int64  \n",
      " 1   Age        1336 non-null   float64\n",
      " 2   KM         1436 non-null   object \n",
      " 3   FuelType   1336 non-null   object \n",
      " 4   HP         1436 non-null   object \n",
      " 5   MetColor   1286 non-null   float64\n",
      " 6   Automatic  1436 non-null   int64  \n",
      " 7   CC         1436 non-null   int64  \n",
      " 8   Doors      1436 non-null   object \n",
      " 9   Weight     1436 non-null   int64  \n",
      "dtypes: float64(2), int64(4), object(4)\n",
      "memory usage: 123.4+ KB\n"
     ]
    }
   ],
   "source": [
    "cars.info()\n"
   ]
  },
  {
   "cell_type": "code",
   "execution_count": 8,
   "id": "3b808c43",
   "metadata": {
    "slideshow": {
     "slide_type": "slide"
    }
   },
   "outputs": [
    {
     "data": {
      "text/plain": [
       "??        15\n",
       "1          8\n",
       "59000      7\n",
       "43000      7\n",
       "36000      7\n",
       "          ..\n",
       "99323      1\n",
       "63451      1\n",
       "104150     1\n",
       "101159     1\n",
       "41273      1\n",
       "Name: KM, Length: 1256, dtype: int64"
      ]
     },
     "execution_count": 8,
     "metadata": {},
     "output_type": "execute_result"
    }
   ],
   "source": [
    "cars['KM'].value_counts()"
   ]
  },
  {
   "cell_type": "code",
   "execution_count": 50,
   "id": "75cc1cbc",
   "metadata": {
    "slideshow": {
     "slide_type": "slide"
    }
   },
   "outputs": [],
   "source": [
    "mean_val = cars['KM'].mean()\n",
    "cars['KM'].fillna(mean_val,inplace=True)"
   ]
  },
  {
   "cell_type": "code",
   "execution_count": 51,
   "id": "0a6917a0",
   "metadata": {
    "slideshow": {
     "slide_type": "slide"
    }
   },
   "outputs": [],
   "source": [
    "cars['KM'] = cars['KM'].astype(float)"
   ]
  },
  {
   "cell_type": "code",
   "execution_count": 11,
   "id": "5d63fd42",
   "metadata": {
    "slideshow": {
     "slide_type": "slide"
    }
   },
   "outputs": [
    {
     "name": "stdout",
     "output_type": "stream",
     "text": [
      "<class 'pandas.core.frame.DataFrame'>\n",
      "Int64Index: 1436 entries, 0 to 1435\n",
      "Data columns (total 10 columns):\n",
      " #   Column     Non-Null Count  Dtype  \n",
      "---  ------     --------------  -----  \n",
      " 0   Price      1436 non-null   int64  \n",
      " 1   Age        1336 non-null   float64\n",
      " 2   KM         1436 non-null   float64\n",
      " 3   FuelType   1336 non-null   object \n",
      " 4   HP         1436 non-null   object \n",
      " 5   MetColor   1286 non-null   float64\n",
      " 6   Automatic  1436 non-null   int64  \n",
      " 7   CC         1436 non-null   int64  \n",
      " 8   Doors      1436 non-null   object \n",
      " 9   Weight     1436 non-null   int64  \n",
      "dtypes: float64(3), int64(4), object(3)\n",
      "memory usage: 123.4+ KB\n"
     ]
    }
   ],
   "source": [
    "cars.info()"
   ]
  },
  {
   "cell_type": "code",
   "execution_count": 12,
   "id": "639da760",
   "metadata": {
    "slideshow": {
     "slide_type": "slide"
    }
   },
   "outputs": [],
   "source": [
    "numeric = cars.select_dtypes(exclude=[object])"
   ]
  },
  {
   "cell_type": "code",
   "execution_count": 13,
   "id": "34bfcc29",
   "metadata": {
    "slideshow": {
     "slide_type": "slide"
    }
   },
   "outputs": [
    {
     "data": {
      "text/html": [
       "<div>\n",
       "<style scoped>\n",
       "    .dataframe tbody tr th:only-of-type {\n",
       "        vertical-align: middle;\n",
       "    }\n",
       "\n",
       "    .dataframe tbody tr th {\n",
       "        vertical-align: top;\n",
       "    }\n",
       "\n",
       "    .dataframe thead th {\n",
       "        text-align: right;\n",
       "    }\n",
       "</style>\n",
       "<table border=\"1\" class=\"dataframe\">\n",
       "  <thead>\n",
       "    <tr style=\"text-align: right;\">\n",
       "      <th></th>\n",
       "      <th>Price</th>\n",
       "      <th>Age</th>\n",
       "      <th>KM</th>\n",
       "      <th>MetColor</th>\n",
       "      <th>Automatic</th>\n",
       "      <th>CC</th>\n",
       "      <th>Weight</th>\n",
       "    </tr>\n",
       "  </thead>\n",
       "  <tbody>\n",
       "    <tr>\n",
       "      <th>Price</th>\n",
       "      <td>1.000000</td>\n",
       "      <td>-0.878407</td>\n",
       "      <td>-0.568249</td>\n",
       "      <td>0.112041</td>\n",
       "      <td>0.033081</td>\n",
       "      <td>0.165067</td>\n",
       "      <td>0.581198</td>\n",
       "    </tr>\n",
       "    <tr>\n",
       "      <th>Age</th>\n",
       "      <td>-0.878407</td>\n",
       "      <td>1.000000</td>\n",
       "      <td>0.503937</td>\n",
       "      <td>-0.099659</td>\n",
       "      <td>0.032573</td>\n",
       "      <td>-0.120706</td>\n",
       "      <td>-0.464299</td>\n",
       "    </tr>\n",
       "    <tr>\n",
       "      <th>KM</th>\n",
       "      <td>-0.568249</td>\n",
       "      <td>0.503937</td>\n",
       "      <td>1.000000</td>\n",
       "      <td>-0.098638</td>\n",
       "      <td>-0.080260</td>\n",
       "      <td>0.291873</td>\n",
       "      <td>-0.035009</td>\n",
       "    </tr>\n",
       "    <tr>\n",
       "      <th>MetColor</th>\n",
       "      <td>0.112041</td>\n",
       "      <td>-0.099659</td>\n",
       "      <td>-0.098638</td>\n",
       "      <td>1.000000</td>\n",
       "      <td>-0.013973</td>\n",
       "      <td>0.029189</td>\n",
       "      <td>0.057142</td>\n",
       "    </tr>\n",
       "    <tr>\n",
       "      <th>Automatic</th>\n",
       "      <td>0.033081</td>\n",
       "      <td>0.032573</td>\n",
       "      <td>-0.080260</td>\n",
       "      <td>-0.013973</td>\n",
       "      <td>1.000000</td>\n",
       "      <td>-0.069321</td>\n",
       "      <td>0.057249</td>\n",
       "    </tr>\n",
       "    <tr>\n",
       "      <th>CC</th>\n",
       "      <td>0.165067</td>\n",
       "      <td>-0.120706</td>\n",
       "      <td>0.291873</td>\n",
       "      <td>0.029189</td>\n",
       "      <td>-0.069321</td>\n",
       "      <td>1.000000</td>\n",
       "      <td>0.651450</td>\n",
       "    </tr>\n",
       "    <tr>\n",
       "      <th>Weight</th>\n",
       "      <td>0.581198</td>\n",
       "      <td>-0.464299</td>\n",
       "      <td>-0.035009</td>\n",
       "      <td>0.057142</td>\n",
       "      <td>0.057249</td>\n",
       "      <td>0.651450</td>\n",
       "      <td>1.000000</td>\n",
       "    </tr>\n",
       "  </tbody>\n",
       "</table>\n",
       "</div>"
      ],
      "text/plain": [
       "              Price       Age        KM  MetColor  Automatic        CC  \\\n",
       "Price      1.000000 -0.878407 -0.568249  0.112041   0.033081  0.165067   \n",
       "Age       -0.878407  1.000000  0.503937 -0.099659   0.032573 -0.120706   \n",
       "KM        -0.568249  0.503937  1.000000 -0.098638  -0.080260  0.291873   \n",
       "MetColor   0.112041 -0.099659 -0.098638  1.000000  -0.013973  0.029189   \n",
       "Automatic  0.033081  0.032573 -0.080260 -0.013973   1.000000 -0.069321   \n",
       "CC         0.165067 -0.120706  0.291873  0.029189  -0.069321  1.000000   \n",
       "Weight     0.581198 -0.464299 -0.035009  0.057142   0.057249  0.651450   \n",
       "\n",
       "             Weight  \n",
       "Price      0.581198  \n",
       "Age       -0.464299  \n",
       "KM        -0.035009  \n",
       "MetColor   0.057142  \n",
       "Automatic  0.057249  \n",
       "CC         0.651450  \n",
       "Weight     1.000000  "
      ]
     },
     "execution_count": 13,
     "metadata": {},
     "output_type": "execute_result"
    }
   ],
   "source": [
    "numeric.corr()"
   ]
  },
  {
   "cell_type": "markdown",
   "id": "f3a95fed",
   "metadata": {
    "slideshow": {
     "slide_type": "slide"
    }
   },
   "source": [
    "### 8. Sort the cars based on Price and find the average of numeric attributes based on number of doors"
   ]
  },
  {
   "cell_type": "code",
   "execution_count": 30,
   "id": "216ce993",
   "metadata": {
    "slideshow": {
     "slide_type": "slide"
    }
   },
   "outputs": [
    {
     "data": {
      "text/html": [
       "<div>\n",
       "<style scoped>\n",
       "    .dataframe tbody tr th:only-of-type {\n",
       "        vertical-align: middle;\n",
       "    }\n",
       "\n",
       "    .dataframe tbody tr th {\n",
       "        vertical-align: top;\n",
       "    }\n",
       "\n",
       "    .dataframe thead th {\n",
       "        text-align: right;\n",
       "    }\n",
       "</style>\n",
       "<table border=\"1\" class=\"dataframe\">\n",
       "  <thead>\n",
       "    <tr style=\"text-align: right;\">\n",
       "      <th></th>\n",
       "      <th>Price</th>\n",
       "      <th>Age</th>\n",
       "      <th>KM</th>\n",
       "      <th>FuelType</th>\n",
       "      <th>HP</th>\n",
       "      <th>MetColor</th>\n",
       "      <th>Automatic</th>\n",
       "      <th>CC</th>\n",
       "      <th>Doors</th>\n",
       "      <th>Weight</th>\n",
       "    </tr>\n",
       "  </thead>\n",
       "  <tbody>\n",
       "    <tr>\n",
       "      <th>109</th>\n",
       "      <td>32500</td>\n",
       "      <td>NaN</td>\n",
       "      <td>1.0</td>\n",
       "      <td>NaN</td>\n",
       "      <td>116</td>\n",
       "      <td>0.0</td>\n",
       "      <td>0</td>\n",
       "      <td>2000</td>\n",
       "      <td>5</td>\n",
       "      <td>1480</td>\n",
       "    </tr>\n",
       "    <tr>\n",
       "      <th>111</th>\n",
       "      <td>31275</td>\n",
       "      <td>4.0</td>\n",
       "      <td>1500.0</td>\n",
       "      <td>Diesel</td>\n",
       "      <td>116</td>\n",
       "      <td>1.0</td>\n",
       "      <td>0</td>\n",
       "      <td>2000</td>\n",
       "      <td>5</td>\n",
       "      <td>1480</td>\n",
       "    </tr>\n",
       "    <tr>\n",
       "      <th>110</th>\n",
       "      <td>31000</td>\n",
       "      <td>4.0</td>\n",
       "      <td>4000.0</td>\n",
       "      <td>Diesel</td>\n",
       "      <td>116</td>\n",
       "      <td>1.0</td>\n",
       "      <td>0</td>\n",
       "      <td>2000</td>\n",
       "      <td>5</td>\n",
       "      <td>1480</td>\n",
       "    </tr>\n",
       "    <tr>\n",
       "      <th>115</th>\n",
       "      <td>24990</td>\n",
       "      <td>8.0</td>\n",
       "      <td>6000.0</td>\n",
       "      <td>Diesel</td>\n",
       "      <td>90</td>\n",
       "      <td>1.0</td>\n",
       "      <td>0</td>\n",
       "      <td>2000</td>\n",
       "      <td>5</td>\n",
       "      <td>1280</td>\n",
       "    </tr>\n",
       "    <tr>\n",
       "      <th>113</th>\n",
       "      <td>24950</td>\n",
       "      <td>8.0</td>\n",
       "      <td>13253.0</td>\n",
       "      <td>Diesel</td>\n",
       "      <td>116</td>\n",
       "      <td>1.0</td>\n",
       "      <td>0</td>\n",
       "      <td>2000</td>\n",
       "      <td>5</td>\n",
       "      <td>1320</td>\n",
       "    </tr>\n",
       "  </tbody>\n",
       "</table>\n",
       "</div>"
      ],
      "text/plain": [
       "     Price  Age       KM FuelType   HP  MetColor  Automatic    CC Doors  \\\n",
       "109  32500  NaN      1.0      NaN  116       0.0          0  2000     5   \n",
       "111  31275  4.0   1500.0   Diesel  116       1.0          0  2000     5   \n",
       "110  31000  4.0   4000.0   Diesel  116       1.0          0  2000     5   \n",
       "115  24990  8.0   6000.0   Diesel   90       1.0          0  2000     5   \n",
       "113  24950  8.0  13253.0   Diesel  116       1.0          0  2000     5   \n",
       "\n",
       "     Weight  \n",
       "109    1480  \n",
       "111    1480  \n",
       "110    1480  \n",
       "115    1280  \n",
       "113    1320  "
      ]
     },
     "execution_count": 30,
     "metadata": {},
     "output_type": "execute_result"
    }
   ],
   "source": [
    "cars.sort_values(by=\"Price\", ascending=False).head()"
   ]
  },
  {
   "cell_type": "code",
   "execution_count": 31,
   "id": "aa45602e",
   "metadata": {
    "slideshow": {
     "slide_type": "slide"
    }
   },
   "outputs": [
    {
     "data": {
      "text/html": [
       "<div>\n",
       "<style scoped>\n",
       "    .dataframe tbody tr th:only-of-type {\n",
       "        vertical-align: middle;\n",
       "    }\n",
       "\n",
       "    .dataframe tbody tr th {\n",
       "        vertical-align: top;\n",
       "    }\n",
       "\n",
       "    .dataframe thead th {\n",
       "        text-align: right;\n",
       "    }\n",
       "</style>\n",
       "<table border=\"1\" class=\"dataframe\">\n",
       "  <thead>\n",
       "    <tr style=\"text-align: right;\">\n",
       "      <th></th>\n",
       "      <th>Price</th>\n",
       "      <th>Age</th>\n",
       "      <th>KM</th>\n",
       "      <th>FuelType</th>\n",
       "      <th>HP</th>\n",
       "      <th>MetColor</th>\n",
       "      <th>Automatic</th>\n",
       "      <th>CC</th>\n",
       "      <th>Doors</th>\n",
       "      <th>Weight</th>\n",
       "    </tr>\n",
       "  </thead>\n",
       "  <tbody>\n",
       "    <tr>\n",
       "      <th>111</th>\n",
       "      <td>31275</td>\n",
       "      <td>4.0</td>\n",
       "      <td>1500.0</td>\n",
       "      <td>Diesel</td>\n",
       "      <td>116</td>\n",
       "      <td>1.0</td>\n",
       "      <td>0</td>\n",
       "      <td>2000</td>\n",
       "      <td>5</td>\n",
       "      <td>1480</td>\n",
       "    </tr>\n",
       "    <tr>\n",
       "      <th>110</th>\n",
       "      <td>31000</td>\n",
       "      <td>4.0</td>\n",
       "      <td>4000.0</td>\n",
       "      <td>Diesel</td>\n",
       "      <td>116</td>\n",
       "      <td>1.0</td>\n",
       "      <td>0</td>\n",
       "      <td>2000</td>\n",
       "      <td>5</td>\n",
       "      <td>1480</td>\n",
       "    </tr>\n",
       "    <tr>\n",
       "      <th>115</th>\n",
       "      <td>24990</td>\n",
       "      <td>8.0</td>\n",
       "      <td>6000.0</td>\n",
       "      <td>Diesel</td>\n",
       "      <td>90</td>\n",
       "      <td>1.0</td>\n",
       "      <td>0</td>\n",
       "      <td>2000</td>\n",
       "      <td>5</td>\n",
       "      <td>1280</td>\n",
       "    </tr>\n",
       "    <tr>\n",
       "      <th>112</th>\n",
       "      <td>24950</td>\n",
       "      <td>8.0</td>\n",
       "      <td>0.0</td>\n",
       "      <td>Diesel</td>\n",
       "      <td>116</td>\n",
       "      <td>1.0</td>\n",
       "      <td>0</td>\n",
       "      <td>2000</td>\n",
       "      <td>5</td>\n",
       "      <td>1320</td>\n",
       "    </tr>\n",
       "    <tr>\n",
       "      <th>113</th>\n",
       "      <td>24950</td>\n",
       "      <td>8.0</td>\n",
       "      <td>13253.0</td>\n",
       "      <td>Diesel</td>\n",
       "      <td>116</td>\n",
       "      <td>1.0</td>\n",
       "      <td>0</td>\n",
       "      <td>2000</td>\n",
       "      <td>5</td>\n",
       "      <td>1320</td>\n",
       "    </tr>\n",
       "  </tbody>\n",
       "</table>\n",
       "</div>"
      ],
      "text/plain": [
       "     Price  Age       KM FuelType   HP  MetColor  Automatic    CC Doors  \\\n",
       "111  31275  4.0   1500.0   Diesel  116       1.0          0  2000     5   \n",
       "110  31000  4.0   4000.0   Diesel  116       1.0          0  2000     5   \n",
       "115  24990  8.0   6000.0   Diesel   90       1.0          0  2000     5   \n",
       "112  24950  8.0      0.0   Diesel  116       1.0          0  2000     5   \n",
       "113  24950  8.0  13253.0   Diesel  116       1.0          0  2000     5   \n",
       "\n",
       "     Weight  \n",
       "111    1480  \n",
       "110    1480  \n",
       "115    1280  \n",
       "112    1320  \n",
       "113    1320  "
      ]
     },
     "execution_count": 31,
     "metadata": {},
     "output_type": "execute_result"
    }
   ],
   "source": [
    "### 9. Sort by color and then Price\n",
    "cars.sort_values(by=['MetColor',\"Price\"], ascending=False).head()"
   ]
  },
  {
   "cell_type": "markdown",
   "id": "770203a1",
   "metadata": {
    "slideshow": {
     "slide_type": "slide"
    }
   },
   "source": [
    "### Group the cars by Doors"
   ]
  },
  {
   "cell_type": "code",
   "execution_count": 32,
   "id": "8fac4895",
   "metadata": {
    "slideshow": {
     "slide_type": "slide"
    }
   },
   "outputs": [],
   "source": [
    "g1 = cars.groupby('Doors')"
   ]
  },
  {
   "cell_type": "code",
   "execution_count": 33,
   "id": "c01883ec",
   "metadata": {
    "slideshow": {
     "slide_type": "slide"
    }
   },
   "outputs": [
    {
     "name": "stdout",
     "output_type": "stream",
     "text": [
      "2       Price   Age        KM FuelType  HP  MetColor  Automatic    CC Doors  \\\n",
      "761    8250  65.0   80000.0   Petrol  86       1.0          0  1300     2   \n",
      "1078   7950  71.0  139145.0   Diesel  73       0.0          0  2000     2   \n",
      "\n",
      "      Weight  \n",
      "761     1015  \n",
      "1078    1115  \n",
      "3       Price   Age       KM FuelType  HP  MetColor  Automatic    CC Doors  \\\n",
      "1     13750  23.0  72937.0   Diesel  90       1.0          0  2000     3   \n",
      "2     13950  24.0  41711.0   Diesel  90       NaN          0  2000     3   \n",
      "3     14950  26.0  48000.0   Diesel  90       0.0          0  2000     3   \n",
      "4     13750  30.0  38500.0   Diesel  90       0.0          0  2000     3   \n",
      "5     12950  32.0  61000.0   Diesel  90       0.0          0  2000     3   \n",
      "...     ...   ...      ...      ...  ..       ...        ...   ...   ...   \n",
      "1430   8450  80.0  23000.0   Petrol  86       0.0          0  1300     3   \n",
      "1431   7500   NaN  20544.0   Petrol  86       1.0          0  1300     3   \n",
      "1432  10845  72.0      0.0   Petrol  86       0.0          0  1300     3   \n",
      "1433   8500   NaN  17016.0   Petrol  86       0.0          0  1300     3   \n",
      "1434   7250  70.0      0.0      NaN  86       1.0          0  1300     3   \n",
      "\n",
      "      Weight  \n",
      "1       1165  \n",
      "2       1165  \n",
      "3       1165  \n",
      "4       1170  \n",
      "5       1170  \n",
      "...      ...  \n",
      "1430    1015  \n",
      "1431    1025  \n",
      "1432    1015  \n",
      "1433    1015  \n",
      "1434    1015  \n",
      "\n",
      "[621 rows x 10 columns]\n",
      "4       Price   Age       KM FuelType   HP  MetColor  Automatic    CC Doors  \\\n",
      "133   15950  13.0  29371.0   Petrol  110       1.0          0  1600     4   \n",
      "143   18500  16.0  20629.0   Petrol  110       1.0          0  1600     4   \n",
      "149   20950  14.0  17896.0   Petrol  110       1.0          1  1600     4   \n",
      "155   16868  15.0  13157.0      NaN   97       1.0          0  1400     4   \n",
      "156   19500  16.0  13000.0      NaN  110       1.0          0  1600     4   \n",
      "...     ...   ...      ...      ...  ...       ...        ...   ...   ...   \n",
      "1393   7250  69.0  49640.0      NaN  110       1.0          0  1600     4   \n",
      "1394   7450  80.0  49580.0      NaN  110       1.0          0  1600     4   \n",
      "1410   8500  78.0  43622.0   Petrol   86       1.0          0  1300     4   \n",
      "1420   8150  76.0  36537.0      NaN  110       0.0          1  1600     4   \n",
      "1425   7950  80.0      0.0   Petrol   86       1.0          0  1300     4   \n",
      "\n",
      "      Weight  \n",
      "133     1105  \n",
      "143     1090  \n",
      "149     1150  \n",
      "155     1085  \n",
      "156     1105  \n",
      "...      ...  \n",
      "1393    1035  \n",
      "1394    1035  \n",
      "1410    1000  \n",
      "1420    1075  \n",
      "1425    1000  \n",
      "\n",
      "[137 rows x 10 columns]\n",
      "5       Price   Age        KM FuelType   HP  MetColor  Automatic    CC Doors  \\\n",
      "43    16950  27.0  110404.0   Diesel   90       NaN          0  2000     5   \n",
      "44    16950  22.0  100250.0      NaN   90       0.0          0  2000     5   \n",
      "45    19000  23.0   84000.0   Diesel   90       NaN          0  2000     5   \n",
      "46    17950  27.0   79375.0   Diesel   90       1.0          0  2000     5   \n",
      "47    15800  22.0   75048.0   Petrol   97       1.0          0  1400     5   \n",
      "...     ...   ...       ...      ...  ...       ...        ...   ...   ...   \n",
      "1411   7950  76.0   43532.0   Petrol  110       0.0          0  1600     5   \n",
      "1413   8750  74.0   42317.0   Petrol  107       1.0          1  1600     5   \n",
      "1416   8950   NaN   40093.0   Petrol  110       0.0          0  1600     5   \n",
      "1429   8950  78.0   24000.0   Petrol   86       1.0          1  1300     5   \n",
      "1435   6950  76.0       1.0   Petrol  110       0.0          0  1600     5   \n",
      "\n",
      "      Weight  \n",
      "43      1255  \n",
      "44      1255  \n",
      "45      1270  \n",
      "46      1255  \n",
      "47      1110  \n",
      "...      ...  \n",
      "1411    1070  \n",
      "1413    1100  \n",
      "1416    1114  \n",
      "1429    1065  \n",
      "1435    1114  \n",
      "\n",
      "[673 rows x 10 columns]\n",
      "five      Price   Age       KM FuelType   HP  MetColor  Automatic    CC Doors  \\\n",
      "324  12950  39.0  34599.0   Petrol  110       1.0          0  1600  five   \n",
      "\n",
      "     Weight  \n",
      "324    1075  \n",
      "four      Price   Age      KM FuelType   HP  MetColor  Automatic    CC Doors  \\\n",
      "167  20950  14.0  5278.0   Petrol  110       1.0          1  1600  four   \n",
      "\n",
      "     Weight  \n",
      "167    1150  \n",
      "three    Price   Age       KM FuelType  HP  MetColor  Automatic    CC  Doors  Weight\n",
      "0  13500  23.0  46986.0   Diesel  90       1.0          0  2000  three    1165\n"
     ]
    }
   ],
   "source": [
    "for CC,Automatic in g1:\n",
    "    print(CC,Automatic)"
   ]
  },
  {
   "cell_type": "code",
   "execution_count": 34,
   "id": "99a12bbb",
   "metadata": {
    "slideshow": {
     "slide_type": "slide"
    }
   },
   "outputs": [
    {
     "data": {
      "text/plain": [
       "Doors\n",
       "2          2\n",
       "3        621\n",
       "4        137\n",
       "5        673\n",
       "five       1\n",
       "four       1\n",
       "three      1\n",
       "dtype: int64"
      ]
     },
     "execution_count": 34,
     "metadata": {},
     "output_type": "execute_result"
    }
   ],
   "source": [
    "g1.size()"
   ]
  },
  {
   "cell_type": "code",
   "execution_count": 55,
   "id": "556f8f73",
   "metadata": {
    "slideshow": {
     "slide_type": "slide"
    }
   },
   "outputs": [
    {
     "data": {
      "text/html": [
       "<div>\n",
       "<style scoped>\n",
       "    .dataframe tbody tr th:only-of-type {\n",
       "        vertical-align: middle;\n",
       "    }\n",
       "\n",
       "    .dataframe tbody tr th {\n",
       "        vertical-align: top;\n",
       "    }\n",
       "\n",
       "    .dataframe thead th {\n",
       "        text-align: right;\n",
       "    }\n",
       "</style>\n",
       "<table border=\"1\" class=\"dataframe\">\n",
       "  <thead>\n",
       "    <tr style=\"text-align: right;\">\n",
       "      <th></th>\n",
       "      <th>Price</th>\n",
       "      <th>Age</th>\n",
       "      <th>KM</th>\n",
       "      <th>MetColor</th>\n",
       "      <th>Automatic</th>\n",
       "      <th>CC</th>\n",
       "      <th>Weight</th>\n",
       "    </tr>\n",
       "    <tr>\n",
       "      <th>Doors</th>\n",
       "      <th></th>\n",
       "      <th></th>\n",
       "      <th></th>\n",
       "      <th></th>\n",
       "      <th></th>\n",
       "      <th></th>\n",
       "      <th></th>\n",
       "    </tr>\n",
       "  </thead>\n",
       "  <tbody>\n",
       "    <tr>\n",
       "      <th>2</th>\n",
       "      <td>8100.000000</td>\n",
       "      <td>68.000000</td>\n",
       "      <td>109572.500000</td>\n",
       "      <td>0.500000</td>\n",
       "      <td>0.000000</td>\n",
       "      <td>1650.000000</td>\n",
       "      <td>1065.000000</td>\n",
       "    </tr>\n",
       "    <tr>\n",
       "      <th>3</th>\n",
       "      <td>10101.879227</td>\n",
       "      <td>58.428819</td>\n",
       "      <td>68718.455717</td>\n",
       "      <td>0.626151</td>\n",
       "      <td>0.057971</td>\n",
       "      <td>1537.373591</td>\n",
       "      <td>1057.581320</td>\n",
       "    </tr>\n",
       "    <tr>\n",
       "      <th>4</th>\n",
       "      <td>9725.430657</td>\n",
       "      <td>60.409836</td>\n",
       "      <td>71818.729927</td>\n",
       "      <td>0.704918</td>\n",
       "      <td>0.094891</td>\n",
       "      <td>1586.861314</td>\n",
       "      <td>1046.788321</td>\n",
       "    </tr>\n",
       "    <tr>\n",
       "      <th>5</th>\n",
       "      <td>11501.059435</td>\n",
       "      <td>52.355450</td>\n",
       "      <td>66461.208024</td>\n",
       "      <td>0.711039</td>\n",
       "      <td>0.044577</td>\n",
       "      <td>1588.939079</td>\n",
       "      <td>1091.179792</td>\n",
       "    </tr>\n",
       "    <tr>\n",
       "      <th>five</th>\n",
       "      <td>12950.000000</td>\n",
       "      <td>39.000000</td>\n",
       "      <td>34599.000000</td>\n",
       "      <td>1.000000</td>\n",
       "      <td>0.000000</td>\n",
       "      <td>1600.000000</td>\n",
       "      <td>1075.000000</td>\n",
       "    </tr>\n",
       "    <tr>\n",
       "      <th>four</th>\n",
       "      <td>20950.000000</td>\n",
       "      <td>14.000000</td>\n",
       "      <td>5278.000000</td>\n",
       "      <td>1.000000</td>\n",
       "      <td>1.000000</td>\n",
       "      <td>1600.000000</td>\n",
       "      <td>1150.000000</td>\n",
       "    </tr>\n",
       "    <tr>\n",
       "      <th>three</th>\n",
       "      <td>13500.000000</td>\n",
       "      <td>23.000000</td>\n",
       "      <td>46986.000000</td>\n",
       "      <td>1.000000</td>\n",
       "      <td>0.000000</td>\n",
       "      <td>2000.000000</td>\n",
       "      <td>1165.000000</td>\n",
       "    </tr>\n",
       "  </tbody>\n",
       "</table>\n",
       "</div>"
      ],
      "text/plain": [
       "              Price        Age             KM  MetColor  Automatic  \\\n",
       "Doors                                                                \n",
       "2       8100.000000  68.000000  109572.500000  0.500000   0.000000   \n",
       "3      10101.879227  58.428819   68718.455717  0.626151   0.057971   \n",
       "4       9725.430657  60.409836   71818.729927  0.704918   0.094891   \n",
       "5      11501.059435  52.355450   66461.208024  0.711039   0.044577   \n",
       "five   12950.000000  39.000000   34599.000000  1.000000   0.000000   \n",
       "four   20950.000000  14.000000    5278.000000  1.000000   1.000000   \n",
       "three  13500.000000  23.000000   46986.000000  1.000000   0.000000   \n",
       "\n",
       "                CC       Weight  \n",
       "Doors                            \n",
       "2      1650.000000  1065.000000  \n",
       "3      1537.373591  1057.581320  \n",
       "4      1586.861314  1046.788321  \n",
       "5      1588.939079  1091.179792  \n",
       "five   1600.000000  1075.000000  \n",
       "four   1600.000000  1150.000000  \n",
       "three  2000.000000  1165.000000  "
      ]
     },
     "execution_count": 55,
     "metadata": {},
     "output_type": "execute_result"
    }
   ],
   "source": [
    "g1.aggregate('mean')"
   ]
  },
  {
   "cell_type": "markdown",
   "id": "55d68343",
   "metadata": {
    "slideshow": {
     "slide_type": "slide"
    }
   },
   "source": [
    "### Visualize the distribution of Age of cars"
   ]
  },
  {
   "cell_type": "code",
   "execution_count": 56,
   "id": "8123eed7",
   "metadata": {
    "slideshow": {
     "slide_type": "slide"
    }
   },
   "outputs": [
    {
     "name": "stderr",
     "output_type": "stream",
     "text": [
      "/home/janaki/anaconda3/lib/python3.8/site-packages/seaborn/distributions.py:2557: FutureWarning: `distplot` is a deprecated function and will be removed in a future version. Please adapt your code to use either `displot` (a figure-level function with similar flexibility) or `histplot` (an axes-level function for histograms).\n",
      "  warnings.warn(msg, FutureWarning)\n"
     ]
    },
    {
     "data": {
      "text/plain": [
       "<AxesSubplot:xlabel='Price', ylabel='Density'>"
      ]
     },
     "execution_count": 56,
     "metadata": {},
     "output_type": "execute_result"
    },
    {
     "data": {
      "image/png": "[encoded data removed]",
      "text/plain": [
       "<Figure size 864x576 with 1 Axes>"
      ]
     },
     "metadata": {},
     "output_type": "display_data"
    }
   ],
   "source": [
    "plt.style.use('ggplot')\n",
    "plt.figure(figsize=(12,8))\n",
    "sns.distplot(cars.Price,bins=15)"
   ]
  },
  {
   "cell_type": "markdown",
   "id": "9e0324e6",
   "metadata": {
    "slideshow": {
     "slide_type": "slide"
    }
   },
   "source": [
    "### 9. Visualize the correlation between different numeric attributes"
   ]
  },
  {
   "cell_type": "code",
   "execution_count": 61,
   "id": "226de828",
   "metadata": {
    "slideshow": {
     "slide_type": "slide"
    }
   },
   "outputs": [
    {
     "data": {
      "text/plain": [
       "<AxesSubplot:>"
      ]
     },
     "execution_count": 61,
     "metadata": {},
     "output_type": "execute_result"
    },
    {
     "data": {
      "image/png": "[encoded data removed]",
      "text/plain": [
       "<Figure size 864x576 with 2 Axes>"
      ]
     },
     "metadata": {},
     "output_type": "display_data"
    }
   ],
   "source": [
    "import numpy as no\n",
    "import matplotlib.pyplot as plt\n",
    "import seaborn as sns\n",
    "plt.figure(figsize=(12,8))\n",
    "sns.heatmap(cars.corr('pearson'),annot=True)"
   ]
  },
  {
   "cell_type": "markdown",
   "id": "6ff2f8b1",
   "metadata": {
    "slideshow": {
     "slide_type": "slide"
    }
   },
   "source": [
    "### 10. Visualize the distribution of Price"
   ]
  },
  {
   "cell_type": "code",
   "execution_count": 21,
   "id": "db641691",
   "metadata": {
    "slideshow": {
     "slide_type": "slide"
    }
   },
   "outputs": [
    {
     "name": "stderr",
     "output_type": "stream",
     "text": [
      "/home/janaki/anaconda3/lib/python3.8/site-packages/seaborn/distributions.py:2557: FutureWarning: `distplot` is a deprecated function and will be removed in a future version. Please adapt your code to use either `displot` (a figure-level function with similar flexibility) or `histplot` (an axes-level function for histograms).\n",
      "  warnings.warn(msg, FutureWarning)\n"
     ]
    },
    {
     "data": {
      "text/plain": [
       "<AxesSubplot:xlabel='Price', ylabel='Density'>"
      ]
     },
     "execution_count": 21,
     "metadata": {},
     "output_type": "execute_result"
    },
    {
     "data": {
      "image/png": "[encoded data removed]",
      "text/plain": [
       "<Figure size 864x576 with 1 Axes>"
      ]
     },
     "metadata": {},
     "output_type": "display_data"
    }
   ],
   "source": [
    "plt.style.use('ggplot')\n",
    "plt.figure(figsize=(12,8))\n",
    "sns.distplot(cars.Price,bins=15)"
   ]
  },
  {
   "cell_type": "markdown",
   "id": "90168394",
   "metadata": {
    "slideshow": {
     "slide_type": "slide"
    }
   },
   "source": [
    "### Visualize the number of cars based on FuelType and  Gearbox"
   ]
  },
  {
   "cell_type": "code",
   "execution_count": 40,
   "id": "802280d2",
   "metadata": {
    "slideshow": {
     "slide_type": "slide"
    }
   },
   "outputs": [
    {
     "data": {
      "text/plain": [
       "<AxesSubplot:xlabel='FuelType', ylabel='count'>"
      ]
     },
     "execution_count": 40,
     "metadata": {},
     "output_type": "execute_result"
    },
    {
     "data": {
      "image/png": "[encoded data removed]",
      "text/plain": [
       "<Figure size 432x288 with 1 Axes>"
      ]
     },
     "metadata": {},
     "output_type": "display_data"
    }
   ],
   "source": [
    "sns.countplot(x='FuelType',data = cars,hue='Automatic')"
   ]
  },
  {
   "cell_type": "markdown",
   "id": "d86d4789",
   "metadata": {
    "slideshow": {
     "slide_type": "slide"
    }
   },
   "source": [
    "### Visualize the statistical measure of attribute Price"
   ]
  },
  {
   "cell_type": "code",
   "execution_count": 62,
   "id": "5065358e",
   "metadata": {
    "slideshow": {
     "slide_type": "slide"
    }
   },
   "outputs": [
    {
     "data": {
      "text/plain": [
       "<AxesSubplot:xlabel='Price'>"
      ]
     },
     "execution_count": 62,
     "metadata": {},
     "output_type": "execute_result"
    },
    {
     "data": {
      "image/png": "[encoded data removed]",
      "text/plain": [
       "<Figure size 432x288 with 1 Axes>"
      ]
     },
     "metadata": {},
     "output_type": "display_data"
    }
   ],
   "source": [
    "sns.boxplot(x=cars['Price'])"
   ]
  },
  {
   "cell_type": "markdown",
   "id": "733298ed",
   "metadata": {
    "slideshow": {
     "slide_type": "slide"
    }
   },
   "source": [
    "### Visualize the statistical measure of attribute Price with respect to FuelType"
   ]
  },
  {
   "cell_type": "code",
   "execution_count": 63,
   "id": "e8fc2eae",
   "metadata": {
    "slideshow": {
     "slide_type": "slide"
    }
   },
   "outputs": [
    {
     "data": {
      "text/plain": [
       "<AxesSubplot:xlabel='Price', ylabel='FuelType'>"
      ]
     },
     "execution_count": 63,
     "metadata": {},
     "output_type": "execute_result"
    },
    {
     "data": {
      "image/png": "[encoded data removed]",
      "text/plain": [
       "<Figure size 432x288 with 1 Axes>"
      ]
     },
     "metadata": {},
     "output_type": "display_data"
    }
   ],
   "source": [
    "sns.boxplot(y = cars['FuelType'],x=cars['Price'],orient='h')"
   ]
  },
  {
   "cell_type": "markdown",
   "id": "caefbbe6",
   "metadata": {
    "slideshow": {
     "slide_type": "slide"
    }
   },
   "source": [
    "### Visualize the statistical measure of attribute Price with respect to FuelType group based on type of gearbox"
   ]
  },
  {
   "cell_type": "code",
   "execution_count": 64,
   "id": "c4d76d92",
   "metadata": {
    "slideshow": {
     "slide_type": "slide"
    }
   },
   "outputs": [
    {
     "data": {
      "text/plain": [
       "<AxesSubplot:xlabel='Price', ylabel='FuelType'>"
      ]
     },
     "execution_count": 64,
     "metadata": {},
     "output_type": "execute_result"
    },
    {
     "data": {
      "image/png": "[encoded data removed]",
      "text/plain": [
       "<Figure size 432x288 with 1 Axes>"
      ]
     },
     "metadata": {},
     "output_type": "display_data"
    }
   ],
   "source": [
    "sns.boxplot(y = 'FuelType',x='Price',data = cars,orient ='h',hue='Automatic')"
   ]
  }
 ],
 "metadata": {
  "celltoolbar": "Slideshow",
  "kernelspec": {
   "display_name": "Python 3",
   "language": "python",
   "name": "python3"
  },
  "language_info": {
   "codemirror_mode": {
    "name": "ipython",
    "version": 3
   },
   "file_extension": ".py",
   "mimetype": "text/x-python",
   "name": "python",
   "nbconvert_exporter": "python",
   "pygments_lexer": "ipython3",
   "version": "3.8.8"
  }
 },
 "nbformat": 4,
 "nbformat_minor": 5
}
