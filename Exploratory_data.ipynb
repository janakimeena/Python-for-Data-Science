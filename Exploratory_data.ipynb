{
  "nbformat": 4,
  "nbformat_minor": 0,
  "metadata": {
    "colab": {
      "name": "Exploratory_data.ipynb",
      "provenance": [],
      "collapsed_sections": [],
      "include_colab_link": true
    },
    "kernelspec": {
      "name": "python3",
      "display_name": "Python 3"
    }
  },
  "cells": [
    {
      "cell_type": "markdown",
      "metadata": {
        "id": "view-in-github",
        "colab_type": "text"
      },
      "source": [
        "<a href=\"https://colab.research.google.com/github/janakimeena/Python-for-Data-Science/blob/master/Exploratory_data.ipynb\" target=\"_parent\"><img src=\"https://colab.research.google.com/assets/colab-badge.svg\" alt=\"Open In Colab\"/></a>"
      ]
    },
    {
      "cell_type": "code",
      "metadata": {
        "id": "fPPyecNomecv",
        "colab_type": "code",
        "outputId": "89481abc-59a8-461f-ea07-b56b4d98ebad",
        "colab": {
          "base_uri": "https://localhost:8080/",
          "height": 124
        }
      },
      "source": [
        "from google.colab import drive\n",
        "drive.mount('/content/gdrive',force_remount=True)\n",
        "root_path = 'gdrive/My Drive/DataSets'"
      ],
      "execution_count": 0,
      "outputs": [
        {
          "output_type": "stream",
          "text": [
            "Go to this URL in a browser: https://accounts.google.com/o/oauth2/auth?client_id=947318989803-6bn6qk8qdgf4n4g3pfee6491hc0brc4i.apps.googleusercontent.com&redirect_uri=urn%3Aietf%3Awg%3Aoauth%3A2.0%3Aoob&scope=email%20https%3A%2F%2Fwww.googleapis.com%2Fauth%2Fdocs.test%20https%3A%2F%2Fwww.googleapis.com%2Fauth%2Fdrive%20https%3A%2F%2Fwww.googleapis.com%2Fauth%2Fdrive.photos.readonly%20https%3A%2F%2Fwww.googleapis.com%2Fauth%2Fpeopleapi.readonly&response_type=code\n",
            "\n",
            "Enter your authorization code:\n",
            "··········\n",
            "Mounted at /content/gdrive\n"
          ],
          "name": "stdout"
        }
      ]
    },
    {
      "cell_type": "code",
      "metadata": {
        "id": "RwYWbMMzmruF",
        "colab_type": "code",
        "colab": {}
      },
      "source": [
        "import pandas as pd\n",
        "data = pd.read_csv(root_path+'/Toyota.csv',index_col=0,na_values=['??','????'])\n"
      ],
      "execution_count": 0,
      "outputs": []
    },
    {
      "cell_type": "markdown",
      "metadata": {
        "id": "j5JXRDNYpg_4",
        "colab_type": "text"
      },
      "source": [
        "# Copy a dataframe\n",
        "There are two types of copying dataframes:\n",
        "\n",
        "1.   Deep - Allocate separate memory and make a copy\n",
        "2.   Shallow - Make a reference to existing copy of data\n",
        "Copy function of pandas makes a deep copy by default "
      ]
    },
    {
      "cell_type": "code",
      "metadata": {
        "id": "7Z3NiNrrvLpe",
        "colab_type": "code",
        "colab": {}
      },
      "source": [
        "data1 = data.copy()"
      ],
      "execution_count": 0,
      "outputs": []
    },
    {
      "cell_type": "markdown",
      "metadata": {
        "id": "Vd717pRmoM7m",
        "colab_type": "text"
      },
      "source": [
        "# Crosstab\n",
        "Compute a simple cross tabulation of two (or more) factors. By default computes a frequency table of the factors\n",
        "\n",
        "Two types crosstabs are seen: \n",
        "\n",
        "1.  2 way cross table or contingency table in python pandas\n",
        "2.  3 way cross table or contingency table in python pandas\n",
        "\n",
        "\n",
        "    \n",
        "\n"
      ]
    },
    {
      "cell_type": "code",
      "metadata": {
        "id": "nAFWgA5isEri",
        "colab_type": "code",
        "outputId": "0d60cb97-229b-4562-9bab-2b141e714044",
        "colab": {
          "base_uri": "https://localhost:8080/",
          "height": 426
        }
      },
      "source": [
        "import pandas as pd\n",
        "import numpy as np\n",
        " \n",
        "#Create a DataFrame\n",
        "d = {\n",
        "    'Name':['Alisa','Bobby','Cathrine','Alisa','Bobby','Cathrine',\n",
        "            'Alisa','Bobby','Cathrine','Alisa','Bobby','Cathrine'],\n",
        "    'Exam':['Semester 1','Semester 1','Semester 1','Semester 1','Semester 1','Semester 1',\n",
        "            'Semester 2','Semester 2','Semester 2','Semester 2','Semester 2','Semester 2'],\n",
        "     \n",
        "    'Subject':['Mathematics','Mathematics','Mathematics','Science','Science','Science',\n",
        "               'Mathematics','Mathematics','Mathematics','Science','Science','Science'],\n",
        "   'Result':['Pass','Pass','Fail','Pass','Fail','Pass','Pass','Fail','Fail','Pass','Pass','Fail']}\n",
        " \n",
        "df = pd.DataFrame(d,columns=['Name','Exam','Subject','Result'])\n",
        "print(df)"
      ],
      "execution_count": 0,
      "outputs": [
        {
          "output_type": "execute_result",
          "data": {
            "text/html": [
              "<div>\n",
              "<style scoped>\n",
              "    .dataframe tbody tr th:only-of-type {\n",
              "        vertical-align: middle;\n",
              "    }\n",
              "\n",
              "    .dataframe tbody tr th {\n",
              "        vertical-align: top;\n",
              "    }\n",
              "\n",
              "    .dataframe thead th {\n",
              "        text-align: right;\n",
              "    }\n",
              "</style>\n",
              "<table border=\"1\" class=\"dataframe\">\n",
              "  <thead>\n",
              "    <tr style=\"text-align: right;\">\n",
              "      <th></th>\n",
              "      <th>Name</th>\n",
              "      <th>Exam</th>\n",
              "      <th>Subject</th>\n",
              "      <th>Result</th>\n",
              "    </tr>\n",
              "  </thead>\n",
              "  <tbody>\n",
              "    <tr>\n",
              "      <th>0</th>\n",
              "      <td>Alisa</td>\n",
              "      <td>Semester 1</td>\n",
              "      <td>Mathematics</td>\n",
              "      <td>Pass</td>\n",
              "    </tr>\n",
              "    <tr>\n",
              "      <th>1</th>\n",
              "      <td>Bobby</td>\n",
              "      <td>Semester 1</td>\n",
              "      <td>Mathematics</td>\n",
              "      <td>Pass</td>\n",
              "    </tr>\n",
              "    <tr>\n",
              "      <th>2</th>\n",
              "      <td>Cathrine</td>\n",
              "      <td>Semester 1</td>\n",
              "      <td>Mathematics</td>\n",
              "      <td>Fail</td>\n",
              "    </tr>\n",
              "    <tr>\n",
              "      <th>3</th>\n",
              "      <td>Alisa</td>\n",
              "      <td>Semester 1</td>\n",
              "      <td>Science</td>\n",
              "      <td>Pass</td>\n",
              "    </tr>\n",
              "    <tr>\n",
              "      <th>4</th>\n",
              "      <td>Bobby</td>\n",
              "      <td>Semester 1</td>\n",
              "      <td>Science</td>\n",
              "      <td>Fail</td>\n",
              "    </tr>\n",
              "    <tr>\n",
              "      <th>5</th>\n",
              "      <td>Cathrine</td>\n",
              "      <td>Semester 1</td>\n",
              "      <td>Science</td>\n",
              "      <td>Pass</td>\n",
              "    </tr>\n",
              "    <tr>\n",
              "      <th>6</th>\n",
              "      <td>Alisa</td>\n",
              "      <td>Semester 2</td>\n",
              "      <td>Mathematics</td>\n",
              "      <td>Pass</td>\n",
              "    </tr>\n",
              "    <tr>\n",
              "      <th>7</th>\n",
              "      <td>Bobby</td>\n",
              "      <td>Semester 2</td>\n",
              "      <td>Mathematics</td>\n",
              "      <td>Fail</td>\n",
              "    </tr>\n",
              "    <tr>\n",
              "      <th>8</th>\n",
              "      <td>Cathrine</td>\n",
              "      <td>Semester 2</td>\n",
              "      <td>Mathematics</td>\n",
              "      <td>Fail</td>\n",
              "    </tr>\n",
              "    <tr>\n",
              "      <th>9</th>\n",
              "      <td>Alisa</td>\n",
              "      <td>Semester 2</td>\n",
              "      <td>Science</td>\n",
              "      <td>Pass</td>\n",
              "    </tr>\n",
              "    <tr>\n",
              "      <th>10</th>\n",
              "      <td>Bobby</td>\n",
              "      <td>Semester 2</td>\n",
              "      <td>Science</td>\n",
              "      <td>Pass</td>\n",
              "    </tr>\n",
              "    <tr>\n",
              "      <th>11</th>\n",
              "      <td>Cathrine</td>\n",
              "      <td>Semester 2</td>\n",
              "      <td>Science</td>\n",
              "      <td>Fail</td>\n",
              "    </tr>\n",
              "  </tbody>\n",
              "</table>\n",
              "</div>"
            ],
            "text/plain": [
              "        Name        Exam      Subject Result\n",
              "0      Alisa  Semester 1  Mathematics   Pass\n",
              "1      Bobby  Semester 1  Mathematics   Pass\n",
              "2   Cathrine  Semester 1  Mathematics   Fail\n",
              "3      Alisa  Semester 1      Science   Pass\n",
              "4      Bobby  Semester 1      Science   Fail\n",
              "5   Cathrine  Semester 1      Science   Pass\n",
              "6      Alisa  Semester 2  Mathematics   Pass\n",
              "7      Bobby  Semester 2  Mathematics   Fail\n",
              "8   Cathrine  Semester 2  Mathematics   Fail\n",
              "9      Alisa  Semester 2      Science   Pass\n",
              "10     Bobby  Semester 2      Science   Pass\n",
              "11  Cathrine  Semester 2      Science   Fail"
            ]
          },
          "metadata": {
            "tags": []
          },
          "execution_count": 5
        }
      ]
    },
    {
      "cell_type": "code",
      "metadata": {
        "id": "DvG7qvbVn982",
        "colab_type": "code",
        "outputId": "2f7ce8c0-2428-4aeb-8d2d-61ee563f9f30",
        "colab": {
          "base_uri": "https://localhost:8080/",
          "height": 175
        }
      },
      "source": [
        "# 2 way cross table\n",
        " \n",
        "pd.crosstab(df.Subject, df.Result,margins=True)\n",
        "\n",
        "#margin=True displays the row wise and column wise sum of the cross table "
      ],
      "execution_count": 0,
      "outputs": [
        {
          "output_type": "execute_result",
          "data": {
            "text/html": [
              "<div>\n",
              "<style scoped>\n",
              "    .dataframe tbody tr th:only-of-type {\n",
              "        vertical-align: middle;\n",
              "    }\n",
              "\n",
              "    .dataframe tbody tr th {\n",
              "        vertical-align: top;\n",
              "    }\n",
              "\n",
              "    .dataframe thead th {\n",
              "        text-align: right;\n",
              "    }\n",
              "</style>\n",
              "<table border=\"1\" class=\"dataframe\">\n",
              "  <thead>\n",
              "    <tr style=\"text-align: right;\">\n",
              "      <th>Result</th>\n",
              "      <th>Fail</th>\n",
              "      <th>Pass</th>\n",
              "      <th>All</th>\n",
              "    </tr>\n",
              "    <tr>\n",
              "      <th>Subject</th>\n",
              "      <th></th>\n",
              "      <th></th>\n",
              "      <th></th>\n",
              "    </tr>\n",
              "  </thead>\n",
              "  <tbody>\n",
              "    <tr>\n",
              "      <th>Mathematics</th>\n",
              "      <td>3</td>\n",
              "      <td>3</td>\n",
              "      <td>6</td>\n",
              "    </tr>\n",
              "    <tr>\n",
              "      <th>Science</th>\n",
              "      <td>2</td>\n",
              "      <td>4</td>\n",
              "      <td>6</td>\n",
              "    </tr>\n",
              "    <tr>\n",
              "      <th>All</th>\n",
              "      <td>5</td>\n",
              "      <td>7</td>\n",
              "      <td>12</td>\n",
              "    </tr>\n",
              "  </tbody>\n",
              "</table>\n",
              "</div>"
            ],
            "text/plain": [
              "Result       Fail  Pass  All\n",
              "Subject                     \n",
              "Mathematics     3     3    6\n",
              "Science         2     4    6\n",
              "All             5     7   12"
            ]
          },
          "metadata": {
            "tags": []
          },
          "execution_count": 9
        }
      ]
    },
    {
      "cell_type": "code",
      "metadata": {
        "id": "xrhj51PjtIHK",
        "colab_type": "code",
        "outputId": "32aae02d-d5d4-4b98-f7f8-705fbda229b6",
        "colab": {
          "base_uri": "https://localhost:8080/",
          "height": 238
        }
      },
      "source": [
        "# 3 way cross table \n",
        "pd.crosstab([df.Subject, df.Exam],df.Result, margins=True)"
      ],
      "execution_count": 0,
      "outputs": [
        {
          "output_type": "execute_result",
          "data": {
            "text/html": [
              "<div>\n",
              "<style scoped>\n",
              "    .dataframe tbody tr th:only-of-type {\n",
              "        vertical-align: middle;\n",
              "    }\n",
              "\n",
              "    .dataframe tbody tr th {\n",
              "        vertical-align: top;\n",
              "    }\n",
              "\n",
              "    .dataframe thead th {\n",
              "        text-align: right;\n",
              "    }\n",
              "</style>\n",
              "<table border=\"1\" class=\"dataframe\">\n",
              "  <thead>\n",
              "    <tr style=\"text-align: right;\">\n",
              "      <th></th>\n",
              "      <th>Result</th>\n",
              "      <th>Fail</th>\n",
              "      <th>Pass</th>\n",
              "      <th>All</th>\n",
              "    </tr>\n",
              "    <tr>\n",
              "      <th>Subject</th>\n",
              "      <th>Exam</th>\n",
              "      <th></th>\n",
              "      <th></th>\n",
              "      <th></th>\n",
              "    </tr>\n",
              "  </thead>\n",
              "  <tbody>\n",
              "    <tr>\n",
              "      <th rowspan=\"2\" valign=\"top\">Mathematics</th>\n",
              "      <th>Semester 1</th>\n",
              "      <td>1</td>\n",
              "      <td>2</td>\n",
              "      <td>3</td>\n",
              "    </tr>\n",
              "    <tr>\n",
              "      <th>Semester 2</th>\n",
              "      <td>2</td>\n",
              "      <td>1</td>\n",
              "      <td>3</td>\n",
              "    </tr>\n",
              "    <tr>\n",
              "      <th rowspan=\"2\" valign=\"top\">Science</th>\n",
              "      <th>Semester 1</th>\n",
              "      <td>1</td>\n",
              "      <td>2</td>\n",
              "      <td>3</td>\n",
              "    </tr>\n",
              "    <tr>\n",
              "      <th>Semester 2</th>\n",
              "      <td>1</td>\n",
              "      <td>2</td>\n",
              "      <td>3</td>\n",
              "    </tr>\n",
              "    <tr>\n",
              "      <th>All</th>\n",
              "      <th></th>\n",
              "      <td>5</td>\n",
              "      <td>7</td>\n",
              "      <td>12</td>\n",
              "    </tr>\n",
              "  </tbody>\n",
              "</table>\n",
              "</div>"
            ],
            "text/plain": [
              "Result                  Fail  Pass  All\n",
              "Subject     Exam                       \n",
              "Mathematics Semester 1     1     2    3\n",
              "            Semester 2     2     1    3\n",
              "Science     Semester 1     1     2    3\n",
              "            Semester 2     1     2    3\n",
              "All                        5     7   12"
            ]
          },
          "metadata": {
            "tags": []
          },
          "execution_count": 11
        }
      ]
    },
    {
      "cell_type": "markdown",
      "metadata": {
        "id": "ydDvCNgOvbsH",
        "colab_type": "text"
      },
      "source": [
        "# Frequecy distribution of Gearboxes with respect to fuel types of the cars\n",
        "Automatic 0 - Indicates manual gear box\n",
        "\n",
        "1- Indicates Automatic gearbox"
      ]
    },
    {
      "cell_type": "code",
      "metadata": {
        "id": "KHDQL5kst-XU",
        "colab_type": "code",
        "outputId": "4744f286-1ac8-4abc-8cd7-c64f0bf404c3",
        "colab": {
          "base_uri": "https://localhost:8080/",
          "height": 175
        }
      },
      "source": [
        "pd.crosstab(index = data1['Automatic'],columns=data1['FuelType'],dropna=True,margins=True)"
      ],
      "execution_count": 0,
      "outputs": [
        {
          "output_type": "execute_result",
          "data": {
            "text/html": [
              "<div>\n",
              "<style scoped>\n",
              "    .dataframe tbody tr th:only-of-type {\n",
              "        vertical-align: middle;\n",
              "    }\n",
              "\n",
              "    .dataframe tbody tr th {\n",
              "        vertical-align: top;\n",
              "    }\n",
              "\n",
              "    .dataframe thead th {\n",
              "        text-align: right;\n",
              "    }\n",
              "</style>\n",
              "<table border=\"1\" class=\"dataframe\">\n",
              "  <thead>\n",
              "    <tr style=\"text-align: right;\">\n",
              "      <th>FuelType</th>\n",
              "      <th>CNG</th>\n",
              "      <th>Diesel</th>\n",
              "      <th>Petrol</th>\n",
              "      <th>All</th>\n",
              "    </tr>\n",
              "    <tr>\n",
              "      <th>Automatic</th>\n",
              "      <th></th>\n",
              "      <th></th>\n",
              "      <th></th>\n",
              "      <th></th>\n",
              "    </tr>\n",
              "  </thead>\n",
              "  <tbody>\n",
              "    <tr>\n",
              "      <th>0</th>\n",
              "      <td>15</td>\n",
              "      <td>144</td>\n",
              "      <td>1104</td>\n",
              "      <td>1263</td>\n",
              "    </tr>\n",
              "    <tr>\n",
              "      <th>1</th>\n",
              "      <td>0</td>\n",
              "      <td>0</td>\n",
              "      <td>73</td>\n",
              "      <td>73</td>\n",
              "    </tr>\n",
              "    <tr>\n",
              "      <th>All</th>\n",
              "      <td>15</td>\n",
              "      <td>144</td>\n",
              "      <td>1177</td>\n",
              "      <td>1336</td>\n",
              "    </tr>\n",
              "  </tbody>\n",
              "</table>\n",
              "</div>"
            ],
            "text/plain": [
              "FuelType   CNG  Diesel  Petrol   All\n",
              "Automatic                           \n",
              "0           15     144    1104  1263\n",
              "1            0       0      73    73\n",
              "All         15     144    1177  1336"
            ]
          },
          "metadata": {
            "tags": []
          },
          "execution_count": 14
        }
      ]
    },
    {
      "cell_type": "markdown",
      "metadata": {
        "id": "E-Tk5m5eyKFk",
        "colab_type": "text"
      },
      "source": [
        "# Two way table - joint probability\n",
        "Joint probability is the likelihood of two independent events happening at the same time"
      ]
    },
    {
      "cell_type": "code",
      "metadata": {
        "id": "ida1LLPUwXvN",
        "colab_type": "code",
        "outputId": "38306660-fbcf-4a34-b896-ae6d1bda054e",
        "colab": {
          "base_uri": "https://localhost:8080/",
          "height": 143
        }
      },
      "source": [
        "pd.crosstab(index=data['Automatic'],columns=data1['FuelType'],normalize=True,dropna=True)"
      ],
      "execution_count": 0,
      "outputs": [
        {
          "output_type": "execute_result",
          "data": {
            "text/html": [
              "<div>\n",
              "<style scoped>\n",
              "    .dataframe tbody tr th:only-of-type {\n",
              "        vertical-align: middle;\n",
              "    }\n",
              "\n",
              "    .dataframe tbody tr th {\n",
              "        vertical-align: top;\n",
              "    }\n",
              "\n",
              "    .dataframe thead th {\n",
              "        text-align: right;\n",
              "    }\n",
              "</style>\n",
              "<table border=\"1\" class=\"dataframe\">\n",
              "  <thead>\n",
              "    <tr style=\"text-align: right;\">\n",
              "      <th>FuelType</th>\n",
              "      <th>CNG</th>\n",
              "      <th>Diesel</th>\n",
              "      <th>Petrol</th>\n",
              "    </tr>\n",
              "    <tr>\n",
              "      <th>Automatic</th>\n",
              "      <th></th>\n",
              "      <th></th>\n",
              "      <th></th>\n",
              "    </tr>\n",
              "  </thead>\n",
              "  <tbody>\n",
              "    <tr>\n",
              "      <th>0</th>\n",
              "      <td>0.011228</td>\n",
              "      <td>0.107784</td>\n",
              "      <td>0.826347</td>\n",
              "    </tr>\n",
              "    <tr>\n",
              "      <th>1</th>\n",
              "      <td>0.000000</td>\n",
              "      <td>0.000000</td>\n",
              "      <td>0.054641</td>\n",
              "    </tr>\n",
              "  </tbody>\n",
              "</table>\n",
              "</div>"
            ],
            "text/plain": [
              "FuelType        CNG    Diesel    Petrol\n",
              "Automatic                              \n",
              "0          0.011228  0.107784  0.826347\n",
              "1          0.000000  0.000000  0.054641"
            ]
          },
          "metadata": {
            "tags": []
          },
          "execution_count": 16
        }
      ]
    },
    {
      "cell_type": "markdown",
      "metadata": {
        "id": "gs7vbo5Dz78w",
        "colab_type": "text"
      },
      "source": [
        "#Two-way table - marginal probability\n",
        "Marginal probability is the probability of the occurrence of the single event"
      ]
    },
    {
      "cell_type": "code",
      "metadata": {
        "id": "AwWfkx_IynGE",
        "colab_type": "code",
        "outputId": "b89c2f58-d441-4bac-b54c-709c83edfe65",
        "colab": {
          "base_uri": "https://localhost:8080/",
          "height": 175
        }
      },
      "source": [
        "pd.crosstab(index=data1['Automatic'],columns=data1['FuelType'],dropna=True,normalize=True,margins=True)"
      ],
      "execution_count": 0,
      "outputs": [
        {
          "output_type": "execute_result",
          "data": {
            "text/html": [
              "<div>\n",
              "<style scoped>\n",
              "    .dataframe tbody tr th:only-of-type {\n",
              "        vertical-align: middle;\n",
              "    }\n",
              "\n",
              "    .dataframe tbody tr th {\n",
              "        vertical-align: top;\n",
              "    }\n",
              "\n",
              "    .dataframe thead th {\n",
              "        text-align: right;\n",
              "    }\n",
              "</style>\n",
              "<table border=\"1\" class=\"dataframe\">\n",
              "  <thead>\n",
              "    <tr style=\"text-align: right;\">\n",
              "      <th>FuelType</th>\n",
              "      <th>CNG</th>\n",
              "      <th>Diesel</th>\n",
              "      <th>Petrol</th>\n",
              "      <th>All</th>\n",
              "    </tr>\n",
              "    <tr>\n",
              "      <th>Automatic</th>\n",
              "      <th></th>\n",
              "      <th></th>\n",
              "      <th></th>\n",
              "      <th></th>\n",
              "    </tr>\n",
              "  </thead>\n",
              "  <tbody>\n",
              "    <tr>\n",
              "      <th>0</th>\n",
              "      <td>0.011228</td>\n",
              "      <td>0.107784</td>\n",
              "      <td>0.826347</td>\n",
              "      <td>0.945359</td>\n",
              "    </tr>\n",
              "    <tr>\n",
              "      <th>1</th>\n",
              "      <td>0.000000</td>\n",
              "      <td>0.000000</td>\n",
              "      <td>0.054641</td>\n",
              "      <td>0.054641</td>\n",
              "    </tr>\n",
              "    <tr>\n",
              "      <th>All</th>\n",
              "      <td>0.011228</td>\n",
              "      <td>0.107784</td>\n",
              "      <td>0.880988</td>\n",
              "      <td>1.000000</td>\n",
              "    </tr>\n",
              "  </tbody>\n",
              "</table>\n",
              "</div>"
            ],
            "text/plain": [
              "FuelType        CNG    Diesel    Petrol       All\n",
              "Automatic                                        \n",
              "0          0.011228  0.107784  0.826347  0.945359\n",
              "1          0.000000  0.000000  0.054641  0.054641\n",
              "All        0.011228  0.107784  0.880988  1.000000"
            ]
          },
          "metadata": {
            "tags": []
          },
          "execution_count": 19
        }
      ]
    },
    {
      "cell_type": "markdown",
      "metadata": {
        "id": "298ZR-RX0uL2",
        "colab_type": "text"
      },
      "source": [
        "#Two-way table - conditional probability\n",
        "\n",
        "Conditional probability is the probability of an event ( A ), given that another event ( B ) has already occurred\n",
        "\n",
        "Here given the type of gear box, find probability of different fuel type"
      ]
    },
    {
      "cell_type": "code",
      "metadata": {
        "id": "eecB3Jg20aAp",
        "colab_type": "code",
        "outputId": "5f61707b-bf06-426f-c270-365a03c65b0d",
        "colab": {
          "base_uri": "https://localhost:8080/",
          "height": 175
        }
      },
      "source": [
        "pd.crosstab(index=data1[\"Automatic\"],columns=data1['FuelType'],margins=True,dropna=True,normalize='index')"
      ],
      "execution_count": 0,
      "outputs": [
        {
          "output_type": "execute_result",
          "data": {
            "text/html": [
              "<div>\n",
              "<style scoped>\n",
              "    .dataframe tbody tr th:only-of-type {\n",
              "        vertical-align: middle;\n",
              "    }\n",
              "\n",
              "    .dataframe tbody tr th {\n",
              "        vertical-align: top;\n",
              "    }\n",
              "\n",
              "    .dataframe thead th {\n",
              "        text-align: right;\n",
              "    }\n",
              "</style>\n",
              "<table border=\"1\" class=\"dataframe\">\n",
              "  <thead>\n",
              "    <tr style=\"text-align: right;\">\n",
              "      <th>FuelType</th>\n",
              "      <th>CNG</th>\n",
              "      <th>Diesel</th>\n",
              "      <th>Petrol</th>\n",
              "    </tr>\n",
              "    <tr>\n",
              "      <th>Automatic</th>\n",
              "      <th></th>\n",
              "      <th></th>\n",
              "      <th></th>\n",
              "    </tr>\n",
              "  </thead>\n",
              "  <tbody>\n",
              "    <tr>\n",
              "      <th>0</th>\n",
              "      <td>0.011876</td>\n",
              "      <td>0.114014</td>\n",
              "      <td>0.874109</td>\n",
              "    </tr>\n",
              "    <tr>\n",
              "      <th>1</th>\n",
              "      <td>0.000000</td>\n",
              "      <td>0.000000</td>\n",
              "      <td>1.000000</td>\n",
              "    </tr>\n",
              "    <tr>\n",
              "      <th>All</th>\n",
              "      <td>0.011228</td>\n",
              "      <td>0.107784</td>\n",
              "      <td>0.880988</td>\n",
              "    </tr>\n",
              "  </tbody>\n",
              "</table>\n",
              "</div>"
            ],
            "text/plain": [
              "FuelType        CNG    Diesel    Petrol\n",
              "Automatic                              \n",
              "0          0.011876  0.114014  0.874109\n",
              "1          0.000000  0.000000  1.000000\n",
              "All        0.011228  0.107784  0.880988"
            ]
          },
          "metadata": {
            "tags": []
          },
          "execution_count": 20
        }
      ]
    },
    {
      "cell_type": "markdown",
      "metadata": {
        "id": "PIUHscLn1cLd",
        "colab_type": "text"
      },
      "source": [
        "\n",
        "row sum is 1 since normalize is given as index\n"
      ]
    },
    {
      "cell_type": "code",
      "metadata": {
        "id": "15-y0fFd1UOo",
        "colab_type": "code",
        "outputId": "b6f3811c-0a82-4757-fc1b-b5b57527bbb1",
        "colab": {
          "base_uri": "https://localhost:8080/",
          "height": 143
        }
      },
      "source": [
        "pd.crosstab(index=data1[\"Automatic\"],columns=data1['FuelType'],margins=True,dropna=True,normalize='columns')"
      ],
      "execution_count": 0,
      "outputs": [
        {
          "output_type": "execute_result",
          "data": {
            "text/html": [
              "<div>\n",
              "<style scoped>\n",
              "    .dataframe tbody tr th:only-of-type {\n",
              "        vertical-align: middle;\n",
              "    }\n",
              "\n",
              "    .dataframe tbody tr th {\n",
              "        vertical-align: top;\n",
              "    }\n",
              "\n",
              "    .dataframe thead th {\n",
              "        text-align: right;\n",
              "    }\n",
              "</style>\n",
              "<table border=\"1\" class=\"dataframe\">\n",
              "  <thead>\n",
              "    <tr style=\"text-align: right;\">\n",
              "      <th>FuelType</th>\n",
              "      <th>CNG</th>\n",
              "      <th>Diesel</th>\n",
              "      <th>Petrol</th>\n",
              "      <th>All</th>\n",
              "    </tr>\n",
              "    <tr>\n",
              "      <th>Automatic</th>\n",
              "      <th></th>\n",
              "      <th></th>\n",
              "      <th></th>\n",
              "      <th></th>\n",
              "    </tr>\n",
              "  </thead>\n",
              "  <tbody>\n",
              "    <tr>\n",
              "      <th>0</th>\n",
              "      <td>1.0</td>\n",
              "      <td>1.0</td>\n",
              "      <td>0.937978</td>\n",
              "      <td>0.945359</td>\n",
              "    </tr>\n",
              "    <tr>\n",
              "      <th>1</th>\n",
              "      <td>0.0</td>\n",
              "      <td>0.0</td>\n",
              "      <td>0.062022</td>\n",
              "      <td>0.054641</td>\n",
              "    </tr>\n",
              "  </tbody>\n",
              "</table>\n",
              "</div>"
            ],
            "text/plain": [
              "FuelType   CNG  Diesel    Petrol       All\n",
              "Automatic                                 \n",
              "0          1.0     1.0  0.937978  0.945359\n",
              "1          0.0     0.0  0.062022  0.054641"
            ]
          },
          "metadata": {
            "tags": []
          },
          "execution_count": 22
        }
      ]
    },
    {
      "cell_type": "markdown",
      "metadata": {
        "id": "i12CHzNo2qGg",
        "colab_type": "text"
      },
      "source": [
        "column sum is 1 since normalize is given as columns"
      ]
    },
    {
      "cell_type": "markdown",
      "metadata": {
        "id": "txVoIRta6hLT",
        "colab_type": "text"
      },
      "source": [
        "# Correlation\n",
        "\n",
        "To compute pairwise correlation of columns excluding NAN/null values\n",
        "\n",
        "Excluding the categorical or object variables to find the Pearson’s correlation"
      ]
    },
    {
      "cell_type": "code",
      "metadata": {
        "id": "-1wiTLw12VXV",
        "colab_type": "code",
        "colab": {}
      },
      "source": [
        "num_data = data1.select_dtypes(exclude=[object])"
      ],
      "execution_count": 0,
      "outputs": []
    },
    {
      "cell_type": "code",
      "metadata": {
        "id": "dUTW5oSC7jZJ",
        "colab_type": "code",
        "outputId": "f1f82b0f-d67d-4854-d64b-25c22792a08a",
        "colab": {
          "base_uri": "https://localhost:8080/",
          "height": 34
        }
      },
      "source": [
        "# Find the number of variables\n",
        "num_data.shape"
      ],
      "execution_count": 0,
      "outputs": [
        {
          "output_type": "execute_result",
          "data": {
            "text/plain": [
              "(1436, 8)"
            ]
          },
          "metadata": {
            "tags": []
          },
          "execution_count": 26
        }
      ]
    },
    {
      "cell_type": "code",
      "metadata": {
        "id": "wRzpoybB7qH-",
        "colab_type": "code",
        "colab": {}
      },
      "source": [
        "corr_matrix = num_data.corr()"
      ],
      "execution_count": 0,
      "outputs": []
    },
    {
      "cell_type": "code",
      "metadata": {
        "id": "8-27gsUZ8P8f",
        "colab_type": "code",
        "outputId": "d6a4488c-c896-4680-d274-7c3756bdde72",
        "colab": {
          "base_uri": "https://localhost:8080/",
          "height": 208
        }
      },
      "source": [
        "print(corr_matrix)"
      ],
      "execution_count": 0,
      "outputs": [
        {
          "output_type": "stream",
          "text": [
            "              Price       Age        KM  ...  Automatic        CC    Weight\n",
            "Price      1.000000 -0.878407 -0.574720  ...   0.033081  0.165067  0.581198\n",
            "Age       -0.878407  1.000000  0.512735  ...   0.032573 -0.120706 -0.464299\n",
            "KM        -0.574720  0.512735  1.000000  ...  -0.081248  0.299993 -0.026271\n",
            "HP         0.309902 -0.157904 -0.335285  ...   0.013755  0.053758  0.086737\n",
            "MetColor   0.112041 -0.099659 -0.093825  ...  -0.013973  0.029189  0.057142\n",
            "Automatic  0.033081  0.032573 -0.081248  ...   1.000000 -0.069321  0.057249\n",
            "CC         0.165067 -0.120706  0.299993  ...  -0.069321  1.000000  0.651450\n",
            "Weight     0.581198 -0.464299 -0.026271  ...   0.057249  0.651450  1.000000\n",
            "\n",
            "[8 rows x 8 columns]\n"
          ],
          "name": "stdout"
        }
      ]
    },
    {
      "cell_type": "code",
      "metadata": {
        "id": "xbW97ojf8SUx",
        "colab_type": "code",
        "colab": {}
      },
      "source": [
        ""
      ],
      "execution_count": 0,
      "outputs": []
    }
  ]
}