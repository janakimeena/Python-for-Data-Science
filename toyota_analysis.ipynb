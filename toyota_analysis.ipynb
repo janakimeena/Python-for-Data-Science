{
 "cells": [
  {
   "cell_type": "markdown",
   "id": "5f1a61f8",
   "metadata": {
    "slideshow": {
     "slide_type": "slide"
    }
   },
   "source": [
    "### 1. Read a CSV file named as Toyota and create a dataframe"
   ]
  },
  {
   "cell_type": "code",
   "execution_count": 2,
   "id": "d584ad78",
   "metadata": {
    "slideshow": {
     "slide_type": "slide"
    }
   },
   "outputs": [],
   "source": [
    "import pandas as pd\n",
    "cars = pd.read_csv('Toyota.csv')"
   ]
  },
  {
   "cell_type": "markdown",
   "id": "4285a6ae",
   "metadata": {
    "slideshow": {
     "slide_type": "slide"
    }
   },
   "source": [
    "### 1.1 Read CSV by making left most column as index"
   ]
  },
  {
   "cell_type": "code",
   "execution_count": 3,
   "id": "667e70e0",
   "metadata": {
    "slideshow": {
     "slide_type": "slide"
    }
   },
   "outputs": [],
   "source": [
    "cars = pd.read_csv('Toyota.csv',index_col=0)"
   ]
  },
  {
   "cell_type": "markdown",
   "id": "5b7237d6",
   "metadata": {
    "slideshow": {
     "slide_type": "slide"
    }
   },
   "source": [
    "### 2. Print the details about the dataframe such as number of columns, datatype of columns and number of null-values"
   ]
  },
  {
   "cell_type": "code",
   "execution_count": 4,
   "id": "0c6e3602",
   "metadata": {
    "slideshow": {
     "slide_type": "slide"
    }
   },
   "outputs": [
    {
     "name": "stdout",
     "output_type": "stream",
     "text": [
      "<class 'pandas.core.frame.DataFrame'>\n",
      "Int64Index: 1436 entries, 0 to 1435\n",
      "Data columns (total 10 columns):\n",
      " #   Column     Non-Null Count  Dtype  \n",
      "---  ------     --------------  -----  \n",
      " 0   Price      1436 non-null   int64  \n",
      " 1   Age        1336 non-null   float64\n",
      " 2   KM         1436 non-null   object \n",
      " 3   FuelType   1336 non-null   object \n",
      " 4   HP         1436 non-null   object \n",
      " 5   MetColor   1286 non-null   float64\n",
      " 6   Automatic  1436 non-null   int64  \n",
      " 7   CC         1436 non-null   int64  \n",
      " 8   Doors      1436 non-null   object \n",
      " 9   Weight     1436 non-null   int64  \n",
      "dtypes: float64(2), int64(4), object(4)\n",
      "memory usage: 123.4+ KB\n",
      "None\n"
     ]
    }
   ],
   "source": [
    "print(cars.info())"
   ]
  },
  {
   "cell_type": "markdown",
   "id": "3dec17c8",
   "metadata": {
    "slideshow": {
     "slide_type": "slide"
    }
   },
   "source": [
    "### 3. Print statistical details of numerical fields"
   ]
  },
  {
   "cell_type": "code",
   "execution_count": 5,
   "id": "c1ded7cc",
   "metadata": {
    "slideshow": {
     "slide_type": "slide"
    }
   },
   "outputs": [
    {
     "data": {
      "text/html": [
       "<div>\n",
       "<style scoped>\n",
       "    .dataframe tbody tr th:only-of-type {\n",
       "        vertical-align: middle;\n",
       "    }\n",
       "\n",
       "    .dataframe tbody tr th {\n",
       "        vertical-align: top;\n",
       "    }\n",
       "\n",
       "    .dataframe thead th {\n",
       "        text-align: right;\n",
       "    }\n",
       "</style>\n",
       "<table border=\"1\" class=\"dataframe\">\n",
       "  <thead>\n",
       "    <tr style=\"text-align: right;\">\n",
       "      <th></th>\n",
       "      <th>Price</th>\n",
       "      <th>Age</th>\n",
       "      <th>MetColor</th>\n",
       "      <th>Automatic</th>\n",
       "      <th>CC</th>\n",
       "      <th>Weight</th>\n",
       "    </tr>\n",
       "  </thead>\n",
       "  <tbody>\n",
       "    <tr>\n",
       "      <th>count</th>\n",
       "      <td>1436.000000</td>\n",
       "      <td>1336.000000</td>\n",
       "      <td>1286.000000</td>\n",
       "      <td>1436.000000</td>\n",
       "      <td>1436.000000</td>\n",
       "      <td>1436.00000</td>\n",
       "    </tr>\n",
       "    <tr>\n",
       "      <th>mean</th>\n",
       "      <td>10730.824513</td>\n",
       "      <td>55.672156</td>\n",
       "      <td>0.674961</td>\n",
       "      <td>0.055710</td>\n",
       "      <td>1566.827994</td>\n",
       "      <td>1072.45961</td>\n",
       "    </tr>\n",
       "    <tr>\n",
       "      <th>std</th>\n",
       "      <td>3626.964585</td>\n",
       "      <td>18.589804</td>\n",
       "      <td>0.468572</td>\n",
       "      <td>0.229441</td>\n",
       "      <td>187.182436</td>\n",
       "      <td>52.64112</td>\n",
       "    </tr>\n",
       "    <tr>\n",
       "      <th>min</th>\n",
       "      <td>4350.000000</td>\n",
       "      <td>1.000000</td>\n",
       "      <td>0.000000</td>\n",
       "      <td>0.000000</td>\n",
       "      <td>1300.000000</td>\n",
       "      <td>1000.00000</td>\n",
       "    </tr>\n",
       "    <tr>\n",
       "      <th>25%</th>\n",
       "      <td>8450.000000</td>\n",
       "      <td>43.000000</td>\n",
       "      <td>0.000000</td>\n",
       "      <td>0.000000</td>\n",
       "      <td>1400.000000</td>\n",
       "      <td>1040.00000</td>\n",
       "    </tr>\n",
       "    <tr>\n",
       "      <th>50%</th>\n",
       "      <td>9900.000000</td>\n",
       "      <td>60.000000</td>\n",
       "      <td>1.000000</td>\n",
       "      <td>0.000000</td>\n",
       "      <td>1600.000000</td>\n",
       "      <td>1070.00000</td>\n",
       "    </tr>\n",
       "    <tr>\n",
       "      <th>75%</th>\n",
       "      <td>11950.000000</td>\n",
       "      <td>70.000000</td>\n",
       "      <td>1.000000</td>\n",
       "      <td>0.000000</td>\n",
       "      <td>1600.000000</td>\n",
       "      <td>1085.00000</td>\n",
       "    </tr>\n",
       "    <tr>\n",
       "      <th>max</th>\n",
       "      <td>32500.000000</td>\n",
       "      <td>80.000000</td>\n",
       "      <td>1.000000</td>\n",
       "      <td>1.000000</td>\n",
       "      <td>2000.000000</td>\n",
       "      <td>1615.00000</td>\n",
       "    </tr>\n",
       "  </tbody>\n",
       "</table>\n",
       "</div>"
      ],
      "text/plain": [
       "              Price          Age     MetColor    Automatic           CC  \\\n",
       "count   1436.000000  1336.000000  1286.000000  1436.000000  1436.000000   \n",
       "mean   10730.824513    55.672156     0.674961     0.055710  1566.827994   \n",
       "std     3626.964585    18.589804     0.468572     0.229441   187.182436   \n",
       "min     4350.000000     1.000000     0.000000     0.000000  1300.000000   \n",
       "25%     8450.000000    43.000000     0.000000     0.000000  1400.000000   \n",
       "50%     9900.000000    60.000000     1.000000     0.000000  1600.000000   \n",
       "75%    11950.000000    70.000000     1.000000     0.000000  1600.000000   \n",
       "max    32500.000000    80.000000     1.000000     1.000000  2000.000000   \n",
       "\n",
       "           Weight  \n",
       "count  1436.00000  \n",
       "mean   1072.45961  \n",
       "std      52.64112  \n",
       "min    1000.00000  \n",
       "25%    1040.00000  \n",
       "50%    1070.00000  \n",
       "75%    1085.00000  \n",
       "max    1615.00000  "
      ]
     },
     "execution_count": 5,
     "metadata": {},
     "output_type": "execute_result"
    }
   ],
   "source": [
    "cars.describe()"
   ]
  },
  {
   "cell_type": "markdown",
   "id": "a4e3f1b2",
   "metadata": {
    "slideshow": {
     "slide_type": "slide"
    }
   },
   "source": [
    "### 4. Print statistical details of non-numeric data"
   ]
  },
  {
   "cell_type": "code",
   "execution_count": 6,
   "id": "777391b6",
   "metadata": {
    "slideshow": {
     "slide_type": "slide"
    }
   },
   "outputs": [
    {
     "data": {
      "text/html": [
       "<div>\n",
       "<style scoped>\n",
       "    .dataframe tbody tr th:only-of-type {\n",
       "        vertical-align: middle;\n",
       "    }\n",
       "\n",
       "    .dataframe tbody tr th {\n",
       "        vertical-align: top;\n",
       "    }\n",
       "\n",
       "    .dataframe thead th {\n",
       "        text-align: right;\n",
       "    }\n",
       "</style>\n",
       "<table border=\"1\" class=\"dataframe\">\n",
       "  <thead>\n",
       "    <tr style=\"text-align: right;\">\n",
       "      <th></th>\n",
       "      <th>KM</th>\n",
       "      <th>FuelType</th>\n",
       "      <th>HP</th>\n",
       "      <th>Doors</th>\n",
       "    </tr>\n",
       "  </thead>\n",
       "  <tbody>\n",
       "    <tr>\n",
       "      <th>count</th>\n",
       "      <td>1436</td>\n",
       "      <td>1336</td>\n",
       "      <td>1436</td>\n",
       "      <td>1436</td>\n",
       "    </tr>\n",
       "    <tr>\n",
       "      <th>unique</th>\n",
       "      <td>1256</td>\n",
       "      <td>3</td>\n",
       "      <td>13</td>\n",
       "      <td>7</td>\n",
       "    </tr>\n",
       "    <tr>\n",
       "      <th>top</th>\n",
       "      <td>??</td>\n",
       "      <td>Petrol</td>\n",
       "      <td>110</td>\n",
       "      <td>5</td>\n",
       "    </tr>\n",
       "    <tr>\n",
       "      <th>freq</th>\n",
       "      <td>15</td>\n",
       "      <td>1177</td>\n",
       "      <td>833</td>\n",
       "      <td>673</td>\n",
       "    </tr>\n",
       "  </tbody>\n",
       "</table>\n",
       "</div>"
      ],
      "text/plain": [
       "          KM FuelType    HP Doors\n",
       "count   1436     1336  1436  1436\n",
       "unique  1256        3    13     7\n",
       "top       ??   Petrol   110     5\n",
       "freq      15     1177   833   673"
      ]
     },
     "execution_count": 6,
     "metadata": {},
     "output_type": "execute_result"
    }
   ],
   "source": [
    "cars.describe(exclude=[float,int])"
   ]
  },
  {
   "cell_type": "markdown",
   "id": "718ad81f",
   "metadata": {
    "slideshow": {
     "slide_type": "slide"
    }
   },
   "source": [
    "### 5. Print number of null values in each column"
   ]
  },
  {
   "cell_type": "code",
   "execution_count": 7,
   "id": "0fcaedb6",
   "metadata": {
    "slideshow": {
     "slide_type": "slide"
    }
   },
   "outputs": [
    {
     "data": {
      "text/plain": [
       "Price          0\n",
       "Age          100\n",
       "KM             0\n",
       "FuelType     100\n",
       "HP             0\n",
       "MetColor     150\n",
       "Automatic      0\n",
       "CC             0\n",
       "Doors          0\n",
       "Weight         0\n",
       "dtype: int64"
      ]
     },
     "execution_count": 7,
     "metadata": {},
     "output_type": "execute_result"
    }
   ],
   "source": [
    "cars.isnull().sum()"
   ]
  },
  {
   "cell_type": "markdown",
   "id": "1c6a4f4e",
   "metadata": {
    "slideshow": {
     "slide_type": "slide"
    }
   },
   "source": [
    "### 6. Find the number of records in the file"
   ]
  },
  {
   "cell_type": "code",
   "execution_count": 8,
   "id": "b7035841",
   "metadata": {
    "slideshow": {
     "slide_type": "slide"
    }
   },
   "outputs": [
    {
     "data": {
      "text/plain": [
       "(1436, 10)"
      ]
     },
     "execution_count": 8,
     "metadata": {},
     "output_type": "execute_result"
    }
   ],
   "source": [
    "cars.shape"
   ]
  },
  {
   "cell_type": "markdown",
   "id": "749bcab3",
   "metadata": {
    "slideshow": {
     "slide_type": "slide"
    }
   },
   "source": [
    "### 7 Print first seven records of the dataframe and last 9 records"
   ]
  },
  {
   "cell_type": "code",
   "execution_count": 9,
   "id": "bc2e3532",
   "metadata": {
    "slideshow": {
     "slide_type": "slide"
    }
   },
   "outputs": [
    {
     "data": {
      "text/html": [
       "<div>\n",
       "<style scoped>\n",
       "    .dataframe tbody tr th:only-of-type {\n",
       "        vertical-align: middle;\n",
       "    }\n",
       "\n",
       "    .dataframe tbody tr th {\n",
       "        vertical-align: top;\n",
       "    }\n",
       "\n",
       "    .dataframe thead th {\n",
       "        text-align: right;\n",
       "    }\n",
       "</style>\n",
       "<table border=\"1\" class=\"dataframe\">\n",
       "  <thead>\n",
       "    <tr style=\"text-align: right;\">\n",
       "      <th></th>\n",
       "      <th>Price</th>\n",
       "      <th>Age</th>\n",
       "      <th>KM</th>\n",
       "      <th>FuelType</th>\n",
       "      <th>HP</th>\n",
       "      <th>MetColor</th>\n",
       "      <th>Automatic</th>\n",
       "      <th>CC</th>\n",
       "      <th>Doors</th>\n",
       "      <th>Weight</th>\n",
       "    </tr>\n",
       "  </thead>\n",
       "  <tbody>\n",
       "    <tr>\n",
       "      <th>0</th>\n",
       "      <td>13500</td>\n",
       "      <td>23.0</td>\n",
       "      <td>46986</td>\n",
       "      <td>Diesel</td>\n",
       "      <td>90</td>\n",
       "      <td>1.0</td>\n",
       "      <td>0</td>\n",
       "      <td>2000</td>\n",
       "      <td>three</td>\n",
       "      <td>1165</td>\n",
       "    </tr>\n",
       "    <tr>\n",
       "      <th>1</th>\n",
       "      <td>13750</td>\n",
       "      <td>23.0</td>\n",
       "      <td>72937</td>\n",
       "      <td>Diesel</td>\n",
       "      <td>90</td>\n",
       "      <td>1.0</td>\n",
       "      <td>0</td>\n",
       "      <td>2000</td>\n",
       "      <td>3</td>\n",
       "      <td>1165</td>\n",
       "    </tr>\n",
       "    <tr>\n",
       "      <th>2</th>\n",
       "      <td>13950</td>\n",
       "      <td>24.0</td>\n",
       "      <td>41711</td>\n",
       "      <td>Diesel</td>\n",
       "      <td>90</td>\n",
       "      <td>NaN</td>\n",
       "      <td>0</td>\n",
       "      <td>2000</td>\n",
       "      <td>3</td>\n",
       "      <td>1165</td>\n",
       "    </tr>\n",
       "    <tr>\n",
       "      <th>3</th>\n",
       "      <td>14950</td>\n",
       "      <td>26.0</td>\n",
       "      <td>48000</td>\n",
       "      <td>Diesel</td>\n",
       "      <td>90</td>\n",
       "      <td>0.0</td>\n",
       "      <td>0</td>\n",
       "      <td>2000</td>\n",
       "      <td>3</td>\n",
       "      <td>1165</td>\n",
       "    </tr>\n",
       "    <tr>\n",
       "      <th>4</th>\n",
       "      <td>13750</td>\n",
       "      <td>30.0</td>\n",
       "      <td>38500</td>\n",
       "      <td>Diesel</td>\n",
       "      <td>90</td>\n",
       "      <td>0.0</td>\n",
       "      <td>0</td>\n",
       "      <td>2000</td>\n",
       "      <td>3</td>\n",
       "      <td>1170</td>\n",
       "    </tr>\n",
       "    <tr>\n",
       "      <th>5</th>\n",
       "      <td>12950</td>\n",
       "      <td>32.0</td>\n",
       "      <td>61000</td>\n",
       "      <td>Diesel</td>\n",
       "      <td>90</td>\n",
       "      <td>0.0</td>\n",
       "      <td>0</td>\n",
       "      <td>2000</td>\n",
       "      <td>3</td>\n",
       "      <td>1170</td>\n",
       "    </tr>\n",
       "    <tr>\n",
       "      <th>6</th>\n",
       "      <td>16900</td>\n",
       "      <td>27.0</td>\n",
       "      <td>??</td>\n",
       "      <td>Diesel</td>\n",
       "      <td>????</td>\n",
       "      <td>NaN</td>\n",
       "      <td>0</td>\n",
       "      <td>2000</td>\n",
       "      <td>3</td>\n",
       "      <td>1245</td>\n",
       "    </tr>\n",
       "  </tbody>\n",
       "</table>\n",
       "</div>"
      ],
      "text/plain": [
       "   Price   Age     KM FuelType    HP  MetColor  Automatic    CC  Doors  Weight\n",
       "0  13500  23.0  46986   Diesel    90       1.0          0  2000  three    1165\n",
       "1  13750  23.0  72937   Diesel    90       1.0          0  2000      3    1165\n",
       "2  13950  24.0  41711   Diesel    90       NaN          0  2000      3    1165\n",
       "3  14950  26.0  48000   Diesel    90       0.0          0  2000      3    1165\n",
       "4  13750  30.0  38500   Diesel    90       0.0          0  2000      3    1170\n",
       "5  12950  32.0  61000   Diesel    90       0.0          0  2000      3    1170\n",
       "6  16900  27.0     ??   Diesel  ????       NaN          0  2000      3    1245"
      ]
     },
     "execution_count": 9,
     "metadata": {},
     "output_type": "execute_result"
    }
   ],
   "source": [
    "cars.head(7)"
   ]
  },
  {
   "cell_type": "code",
   "execution_count": 10,
   "id": "b0f370bc",
   "metadata": {
    "slideshow": {
     "slide_type": "slide"
    }
   },
   "outputs": [
    {
     "data": {
      "text/html": [
       "<div>\n",
       "<style scoped>\n",
       "    .dataframe tbody tr th:only-of-type {\n",
       "        vertical-align: middle;\n",
       "    }\n",
       "\n",
       "    .dataframe tbody tr th {\n",
       "        vertical-align: top;\n",
       "    }\n",
       "\n",
       "    .dataframe thead th {\n",
       "        text-align: right;\n",
       "    }\n",
       "</style>\n",
       "<table border=\"1\" class=\"dataframe\">\n",
       "  <thead>\n",
       "    <tr style=\"text-align: right;\">\n",
       "      <th></th>\n",
       "      <th>Price</th>\n",
       "      <th>Age</th>\n",
       "      <th>KM</th>\n",
       "      <th>FuelType</th>\n",
       "      <th>HP</th>\n",
       "      <th>MetColor</th>\n",
       "      <th>Automatic</th>\n",
       "      <th>CC</th>\n",
       "      <th>Doors</th>\n",
       "      <th>Weight</th>\n",
       "    </tr>\n",
       "  </thead>\n",
       "  <tbody>\n",
       "    <tr>\n",
       "      <th>1427</th>\n",
       "      <td>8950</td>\n",
       "      <td>NaN</td>\n",
       "      <td>29000</td>\n",
       "      <td>Petrol</td>\n",
       "      <td>86</td>\n",
       "      <td>1.0</td>\n",
       "      <td>1</td>\n",
       "      <td>1300</td>\n",
       "      <td>3</td>\n",
       "      <td>1045</td>\n",
       "    </tr>\n",
       "    <tr>\n",
       "      <th>1428</th>\n",
       "      <td>8450</td>\n",
       "      <td>72.0</td>\n",
       "      <td>??</td>\n",
       "      <td>Petrol</td>\n",
       "      <td>86</td>\n",
       "      <td>NaN</td>\n",
       "      <td>0</td>\n",
       "      <td>1300</td>\n",
       "      <td>3</td>\n",
       "      <td>1015</td>\n",
       "    </tr>\n",
       "    <tr>\n",
       "      <th>1429</th>\n",
       "      <td>8950</td>\n",
       "      <td>78.0</td>\n",
       "      <td>24000</td>\n",
       "      <td>Petrol</td>\n",
       "      <td>86</td>\n",
       "      <td>1.0</td>\n",
       "      <td>1</td>\n",
       "      <td>1300</td>\n",
       "      <td>5</td>\n",
       "      <td>1065</td>\n",
       "    </tr>\n",
       "    <tr>\n",
       "      <th>1430</th>\n",
       "      <td>8450</td>\n",
       "      <td>80.0</td>\n",
       "      <td>23000</td>\n",
       "      <td>Petrol</td>\n",
       "      <td>86</td>\n",
       "      <td>0.0</td>\n",
       "      <td>0</td>\n",
       "      <td>1300</td>\n",
       "      <td>3</td>\n",
       "      <td>1015</td>\n",
       "    </tr>\n",
       "    <tr>\n",
       "      <th>1431</th>\n",
       "      <td>7500</td>\n",
       "      <td>NaN</td>\n",
       "      <td>20544</td>\n",
       "      <td>Petrol</td>\n",
       "      <td>86</td>\n",
       "      <td>1.0</td>\n",
       "      <td>0</td>\n",
       "      <td>1300</td>\n",
       "      <td>3</td>\n",
       "      <td>1025</td>\n",
       "    </tr>\n",
       "    <tr>\n",
       "      <th>1432</th>\n",
       "      <td>10845</td>\n",
       "      <td>72.0</td>\n",
       "      <td>??</td>\n",
       "      <td>Petrol</td>\n",
       "      <td>86</td>\n",
       "      <td>0.0</td>\n",
       "      <td>0</td>\n",
       "      <td>1300</td>\n",
       "      <td>3</td>\n",
       "      <td>1015</td>\n",
       "    </tr>\n",
       "    <tr>\n",
       "      <th>1433</th>\n",
       "      <td>8500</td>\n",
       "      <td>NaN</td>\n",
       "      <td>17016</td>\n",
       "      <td>Petrol</td>\n",
       "      <td>86</td>\n",
       "      <td>0.0</td>\n",
       "      <td>0</td>\n",
       "      <td>1300</td>\n",
       "      <td>3</td>\n",
       "      <td>1015</td>\n",
       "    </tr>\n",
       "    <tr>\n",
       "      <th>1434</th>\n",
       "      <td>7250</td>\n",
       "      <td>70.0</td>\n",
       "      <td>??</td>\n",
       "      <td>NaN</td>\n",
       "      <td>86</td>\n",
       "      <td>1.0</td>\n",
       "      <td>0</td>\n",
       "      <td>1300</td>\n",
       "      <td>3</td>\n",
       "      <td>1015</td>\n",
       "    </tr>\n",
       "    <tr>\n",
       "      <th>1435</th>\n",
       "      <td>6950</td>\n",
       "      <td>76.0</td>\n",
       "      <td>1</td>\n",
       "      <td>Petrol</td>\n",
       "      <td>110</td>\n",
       "      <td>0.0</td>\n",
       "      <td>0</td>\n",
       "      <td>1600</td>\n",
       "      <td>5</td>\n",
       "      <td>1114</td>\n",
       "    </tr>\n",
       "  </tbody>\n",
       "</table>\n",
       "</div>"
      ],
      "text/plain": [
       "      Price   Age     KM FuelType   HP  MetColor  Automatic    CC Doors  \\\n",
       "1427   8950   NaN  29000   Petrol   86       1.0          1  1300     3   \n",
       "1428   8450  72.0     ??   Petrol   86       NaN          0  1300     3   \n",
       "1429   8950  78.0  24000   Petrol   86       1.0          1  1300     5   \n",
       "1430   8450  80.0  23000   Petrol   86       0.0          0  1300     3   \n",
       "1431   7500   NaN  20544   Petrol   86       1.0          0  1300     3   \n",
       "1432  10845  72.0     ??   Petrol   86       0.0          0  1300     3   \n",
       "1433   8500   NaN  17016   Petrol   86       0.0          0  1300     3   \n",
       "1434   7250  70.0     ??      NaN   86       1.0          0  1300     3   \n",
       "1435   6950  76.0      1   Petrol  110       0.0          0  1600     5   \n",
       "\n",
       "      Weight  \n",
       "1427    1045  \n",
       "1428    1015  \n",
       "1429    1065  \n",
       "1430    1015  \n",
       "1431    1025  \n",
       "1432    1015  \n",
       "1433    1015  \n",
       "1434    1015  \n",
       "1435    1114  "
      ]
     },
     "execution_count": 10,
     "metadata": {},
     "output_type": "execute_result"
    }
   ],
   "source": [
    "cars.tail(9)"
   ]
  },
  {
   "cell_type": "markdown",
   "id": "87b574c9",
   "metadata": {
    "slideshow": {
     "slide_type": "slide"
    }
   },
   "source": [
    "### 8. Create a dataframe car_deisel with only vehicles that has fueltype as diesel"
   ]
  },
  {
   "cell_type": "code",
   "execution_count": 11,
   "id": "a699af53",
   "metadata": {
    "slideshow": {
     "slide_type": "slide"
    }
   },
   "outputs": [],
   "source": [
    "cars = pd.read_csv('Toyota.csv',index_col='FuelType')"
   ]
  },
  {
   "cell_type": "code",
   "execution_count": 12,
   "id": "8f97c06a",
   "metadata": {
    "slideshow": {
     "slide_type": "slide"
    }
   },
   "outputs": [],
   "source": [
    "cars_deisel = cars.loc['Diesel']"
   ]
  },
  {
   "cell_type": "code",
   "execution_count": 13,
   "id": "74f4f2e8",
   "metadata": {
    "slideshow": {
     "slide_type": "slide"
    }
   },
   "outputs": [
    {
     "data": {
      "text/plain": [
       "Unnamed: 0    144\n",
       "Price         144\n",
       "Age           137\n",
       "KM            144\n",
       "HP            144\n",
       "MetColor      127\n",
       "Automatic     144\n",
       "CC            144\n",
       "Doors         144\n",
       "Weight        144\n",
       "dtype: int64"
      ]
     },
     "execution_count": 13,
     "metadata": {},
     "output_type": "execute_result"
    }
   ],
   "source": [
    "cars_deisel.count()"
   ]
  },
  {
   "cell_type": "markdown",
   "id": "06f7be8d",
   "metadata": {
    "slideshow": {
     "slide_type": "slide"
    }
   },
   "source": [
    "### 9. Print all details of record with index value as 100"
   ]
  },
  {
   "cell_type": "code",
   "execution_count": 14,
   "id": "2c44f511",
   "metadata": {
    "slideshow": {
     "slide_type": "slide"
    }
   },
   "outputs": [
    {
     "data": {
      "text/plain": [
       "Price         18990\n",
       "Age            20.0\n",
       "KM            23175\n",
       "FuelType     Petrol\n",
       "HP              110\n",
       "MetColor        1.0\n",
       "Automatic         0\n",
       "CC             1600\n",
       "Doors             3\n",
       "Weight         1120\n",
       "Name: 100, dtype: object"
      ]
     },
     "execution_count": 14,
     "metadata": {},
     "output_type": "execute_result"
    }
   ],
   "source": [
    "cars = pd.read_csv('Toyota.csv',index_col=0)\n",
    "cars.loc[100]"
   ]
  },
  {
   "cell_type": "markdown",
   "id": "b314022e",
   "metadata": {
    "slideshow": {
     "slide_type": "slide"
    }
   },
   "source": [
    "### 10. Print all values of a column with internal index as 2"
   ]
  },
  {
   "cell_type": "code",
   "execution_count": 15,
   "id": "50cbb291",
   "metadata": {
    "slideshow": {
     "slide_type": "slide"
    }
   },
   "outputs": [
    {
     "data": {
      "text/plain": [
       "0       46986\n",
       "1       72937\n",
       "2       41711\n",
       "3       48000\n",
       "4       38500\n",
       "        ...  \n",
       "1431    20544\n",
       "1432       ??\n",
       "1433    17016\n",
       "1434       ??\n",
       "1435        1\n",
       "Name: KM, Length: 1436, dtype: object"
      ]
     },
     "execution_count": 15,
     "metadata": {},
     "output_type": "execute_result"
    }
   ],
   "source": [
    "cars.iloc[:,2]"
   ]
  },
  {
   "cell_type": "markdown",
   "id": "bb5efd74",
   "metadata": {
    "slideshow": {
     "slide_type": "slide"
    }
   },
   "source": [
    "### 11. Get all columns of records with index value 10 to 20"
   ]
  },
  {
   "cell_type": "code",
   "execution_count": 16,
   "id": "1df665b2",
   "metadata": {
    "slideshow": {
     "slide_type": "slide"
    }
   },
   "outputs": [
    {
     "name": "stdout",
     "output_type": "stream",
     "text": [
      "<class 'pandas.core.frame.DataFrame'>\n",
      "    Price   Age     KM FuelType    HP  MetColor  Automatic    CC Doors  Weight\n",
      "10  20950  25.0  31461   Petrol   192       0.0          0  1800     3    1185\n",
      "11  19950  22.0  43610   Petrol   192       0.0          0  1800     3    1185\n",
      "12  19600  25.0  32189   Petrol   192       0.0          0  1800     3    1185\n",
      "13  21500  31.0  23000   Petrol   192       1.0          0  1800     3    1185\n",
      "14  22500  32.0  34131   Petrol   192       1.0          0  1800     3    1185\n",
      "15  22000  28.0  18739   Petrol  ????       0.0          0  1800     3    1185\n",
      "16  22750  30.0  34000   Petrol   192       1.0          0  1800     3    1185\n",
      "17  17950  24.0  21716   Petrol   110       1.0          0  1600     3    1105\n",
      "18  16750  24.0  25563   Petrol   110       0.0          0  1600     3    1065\n",
      "19  16950  30.0  64359   Petrol   110       1.0          0  1600     3    1105\n",
      "20  15950  30.0  67660   Petrol   110       1.0          0  1600     3    1105\n"
     ]
    }
   ],
   "source": [
    "rows = cars.loc[10:20]\n",
    "print(type(rows))\n",
    "print(rows)"
   ]
  },
  {
   "cell_type": "markdown",
   "id": "e9ed9953",
   "metadata": {
    "slideshow": {
     "slide_type": "slide"
    }
   },
   "source": [
    "### 12. Get columns KM and FuelType of records with index value 10 to 20"
   ]
  },
  {
   "cell_type": "code",
   "execution_count": 17,
   "id": "8c348c86",
   "metadata": {
    "slideshow": {
     "slide_type": "slide"
    }
   },
   "outputs": [
    {
     "name": "stdout",
     "output_type": "stream",
     "text": [
      "<class 'pandas.core.frame.DataFrame'>\n",
      "       KM\n",
      "10  31461\n",
      "11  43610\n",
      "12  32189\n",
      "13  23000\n",
      "14  34131\n",
      "15  18739\n",
      "16  34000\n",
      "17  21716\n",
      "18  25563\n",
      "19  64359\n",
      "20  67660\n"
     ]
    }
   ],
   "source": [
    "rows = cars.loc[10:20,['KM']]\n",
    "print(type(rows))\n",
    "print(rows)"
   ]
  },
  {
   "cell_type": "markdown",
   "id": "9e7e60b8",
   "metadata": {
    "slideshow": {
     "slide_type": "slide"
    }
   },
   "source": [
    "### 13. Get columns KM to  Automatic of records with index value 10 to 20"
   ]
  },
  {
   "cell_type": "code",
   "execution_count": 18,
   "id": "cfcd6015",
   "metadata": {
    "slideshow": {
     "slide_type": "slide"
    }
   },
   "outputs": [
    {
     "name": "stdout",
     "output_type": "stream",
     "text": [
      "<class 'pandas.core.frame.DataFrame'>\n",
      "       KM FuelType    HP  MetColor  Automatic\n",
      "10  31461   Petrol   192       0.0          0\n",
      "11  43610   Petrol   192       0.0          0\n",
      "12  32189   Petrol   192       0.0          0\n",
      "13  23000   Petrol   192       1.0          0\n",
      "14  34131   Petrol   192       1.0          0\n",
      "15  18739   Petrol  ????       0.0          0\n",
      "16  34000   Petrol   192       1.0          0\n",
      "17  21716   Petrol   110       1.0          0\n",
      "18  25563   Petrol   110       0.0          0\n",
      "19  64359   Petrol   110       1.0          0\n",
      "20  67660   Petrol   110       1.0          0\n"
     ]
    }
   ],
   "source": [
    "rows = cars.loc[10:20,'KM':'Automatic']\n",
    "print(type(rows))\n",
    "print(rows)"
   ]
  },
  {
   "cell_type": "markdown",
   "id": "d6c9c545",
   "metadata": {
    "slideshow": {
     "slide_type": "slide"
    }
   },
   "source": [
    "### 14. Find the count of unique values of column KM in the dataset"
   ]
  },
  {
   "cell_type": "code",
   "execution_count": 19,
   "id": "d5d95b42",
   "metadata": {
    "slideshow": {
     "slide_type": "slide"
    }
   },
   "outputs": [
    {
     "data": {
      "text/plain": [
       "??       15\n",
       "1         8\n",
       "43000     7\n",
       "36000     7\n",
       "59000     7\n",
       "         ..\n",
       "64690     1\n",
       "46029     1\n",
       "67010     1\n",
       "56074     1\n",
       "91399     1\n",
       "Name: KM, Length: 1256, dtype: int64"
      ]
     },
     "execution_count": 19,
     "metadata": {},
     "output_type": "execute_result"
    }
   ],
   "source": [
    "cars['KM'].value_counts()"
   ]
  },
  {
   "cell_type": "markdown",
   "id": "b2f64356",
   "metadata": {
    "slideshow": {
     "slide_type": "slide"
    }
   },
   "source": [
    "### 15. Replace '??' in KM by mean of 'KM' column"
   ]
  },
  {
   "cell_type": "code",
   "execution_count": 20,
   "id": "2d50e77b",
   "metadata": {
    "slideshow": {
     "slide_type": "slide"
    }
   },
   "outputs": [
    {
     "data": {
      "text/plain": [
       "68647.23997185081    15\n",
       "1                     8\n",
       "36000                 7\n",
       "59000                 7\n",
       "43000                 7\n",
       "                     ..\n",
       "64690                 1\n",
       "46029                 1\n",
       "67010                 1\n",
       "56074                 1\n",
       "91399                 1\n",
       "Name: KM, Length: 1256, dtype: int64"
      ]
     },
     "execution_count": 20,
     "metadata": {},
     "output_type": "execute_result"
    }
   ],
   "source": [
    "cars_dup = pd.read_csv('Toyota.csv',index_col=0,na_values=['??'])\n",
    "mean_val = cars_dup['KM'].mean()\n",
    "cars['KM'].replace('??',mean_val,inplace=True)\n",
    "cars['KM'].value_counts()"
   ]
  },
  {
   "cell_type": "markdown",
   "id": "ef2b21dc",
   "metadata": {
    "slideshow": {
     "slide_type": "slide"
    }
   },
   "source": [
    "### 16. Find the count of unique values of Door"
   ]
  },
  {
   "cell_type": "code",
   "execution_count": 21,
   "id": "dd6d6746",
   "metadata": {
    "slideshow": {
     "slide_type": "slide"
    }
   },
   "outputs": [
    {
     "data": {
      "text/plain": [
       "5        673\n",
       "3        621\n",
       "4        137\n",
       "2          2\n",
       "five       1\n",
       "three      1\n",
       "four       1\n",
       "Name: Doors, dtype: int64"
      ]
     },
     "execution_count": 21,
     "metadata": {},
     "output_type": "execute_result"
    }
   ],
   "source": [
    "cars['Doors'].value_counts()"
   ]
  },
  {
   "cell_type": "markdown",
   "id": "61da92f4",
   "metadata": {
    "slideshow": {
     "slide_type": "slide"
    }
   },
   "source": [
    "### 17. Replace three, four and five by 3,4,5 respectively"
   ]
  },
  {
   "cell_type": "code",
   "execution_count": 22,
   "id": "a3f6990f",
   "metadata": {
    "slideshow": {
     "slide_type": "slide"
    }
   },
   "outputs": [
    {
     "name": "stdout",
     "output_type": "stream",
     "text": [
      "<class 'pandas.core.frame.DataFrame'>\n",
      "Int64Index: 1436 entries, 0 to 1435\n",
      "Data columns (total 10 columns):\n",
      " #   Column     Non-Null Count  Dtype  \n",
      "---  ------     --------------  -----  \n",
      " 0   Price      1436 non-null   int64  \n",
      " 1   Age        1336 non-null   float64\n",
      " 2   KM         1436 non-null   object \n",
      " 3   FuelType   1336 non-null   object \n",
      " 4   HP         1436 non-null   object \n",
      " 5   MetColor   1286 non-null   float64\n",
      " 6   Automatic  1436 non-null   int64  \n",
      " 7   CC         1436 non-null   int64  \n",
      " 8   Doors      1436 non-null   object \n",
      " 9   Weight     1436 non-null   int64  \n",
      "dtypes: float64(2), int64(4), object(4)\n",
      "memory usage: 155.7+ KB\n"
     ]
    }
   ],
   "source": [
    "cars.Doors.replace('three',3,inplace=True)\n",
    "cars.Doors.replace('four',4,inplace=True)\n",
    "cars.Doors.replace('five',5,inplace=True)\n",
    "#cars.Doors.value_counts()\n",
    "cars.info()"
   ]
  },
  {
   "cell_type": "markdown",
   "id": "8d806157",
   "metadata": {
    "slideshow": {
     "slide_type": "slide"
    }
   },
   "source": [
    "### 18. Convert Doors column to integer"
   ]
  },
  {
   "cell_type": "code",
   "execution_count": 23,
   "id": "e3c720ab",
   "metadata": {
    "slideshow": {
     "slide_type": "slide"
    }
   },
   "outputs": [
    {
     "name": "stdout",
     "output_type": "stream",
     "text": [
      "<class 'pandas.core.frame.DataFrame'>\n",
      "Int64Index: 1436 entries, 0 to 1435\n",
      "Data columns (total 10 columns):\n",
      " #   Column     Non-Null Count  Dtype  \n",
      "---  ------     --------------  -----  \n",
      " 0   Price      1436 non-null   int64  \n",
      " 1   Age        1336 non-null   float64\n",
      " 2   KM         1436 non-null   object \n",
      " 3   FuelType   1336 non-null   object \n",
      " 4   HP         1436 non-null   object \n",
      " 5   MetColor   1286 non-null   float64\n",
      " 6   Automatic  1436 non-null   int64  \n",
      " 7   CC         1436 non-null   int64  \n",
      " 8   Doors      1436 non-null   int64  \n",
      " 9   Weight     1436 non-null   int64  \n",
      "dtypes: float64(2), int64(5), object(3)\n",
      "memory usage: 155.7+ KB\n"
     ]
    }
   ],
   "source": [
    "cars['Doors'] = cars['Doors'].astype(int)\n",
    "cars.info()"
   ]
  },
  {
   "cell_type": "markdown",
   "id": "adabd133",
   "metadata": {
    "slideshow": {
     "slide_type": "slide"
    }
   },
   "source": [
    "### 19  Create a dataframe with all cars price less than or equal to 10,000"
   ]
  },
  {
   "cell_type": "code",
   "execution_count": 24,
   "id": "d6674f95",
   "metadata": {
    "slideshow": {
     "slide_type": "slide"
    }
   },
   "outputs": [
    {
     "name": "stdout",
     "output_type": "stream",
     "text": [
      "      Price   Age            KM FuelType   HP  MetColor  Automatic    CC  \\\n",
      "186    6950  43.0        243000   Diesel   69       0.0          0  1900   \n",
      "187    9500  38.0        180638   Diesel   90       0.0          0  2000   \n",
      "189    7750  43.0        178858      CNG  110       0.0          0  1600   \n",
      "191    4350  44.0        158320   Diesel   69       0.0          0  1800   \n",
      "192    4750  44.0        131273   Diesel   69       1.0          0  1800   \n",
      "...     ...   ...           ...      ...  ...       ...        ...   ...   \n",
      "1430   8450  80.0         23000   Petrol   86       0.0          0  1300   \n",
      "1431   7500   NaN         20544   Petrol   86       1.0          0  1300   \n",
      "1433   8500   NaN         17016   Petrol   86       0.0          0  1300   \n",
      "1434   7250  70.0  68647.239972      NaN   86       1.0          0  1300   \n",
      "1435   6950  76.0             1   Petrol  110       0.0          0  1600   \n",
      "\n",
      "      Doors  Weight  \n",
      "186       3    1110  \n",
      "187       4    1160  \n",
      "189       3    1084  \n",
      "191       5    1110  \n",
      "192       5    1110  \n",
      "...     ...     ...  \n",
      "1430      3    1015  \n",
      "1431      3    1025  \n",
      "1433      3    1015  \n",
      "1434      3    1015  \n",
      "1435      5    1114  \n",
      "\n",
      "[825 rows x 10 columns]\n"
     ]
    }
   ],
   "source": [
    "low_price = cars[cars.Price<=10000]\n",
    "print(low_price)"
   ]
  },
  {
   "cell_type": "markdown",
   "id": "7abf5a5d",
   "metadata": {
    "slideshow": {
     "slide_type": "slide"
    }
   },
   "source": [
    "### 20. Find the number of cars with price >10,000"
   ]
  },
  {
   "cell_type": "code",
   "execution_count": 25,
   "id": "5d965047",
   "metadata": {
    "slideshow": {
     "slide_type": "slide"
    }
   },
   "outputs": [
    {
     "data": {
      "text/plain": [
       "825"
      ]
     },
     "execution_count": 25,
     "metadata": {},
     "output_type": "execute_result"
    }
   ],
   "source": [
    "sum(cars['Price']<=10000)"
   ]
  },
  {
   "cell_type": "markdown",
   "id": "1faa6d68",
   "metadata": {
    "slideshow": {
     "slide_type": "slide"
    }
   },
   "source": [
    "### 21. Find the number of cars with price >10,000 and less than 20,000"
   ]
  },
  {
   "cell_type": "code",
   "execution_count": 26,
   "id": "f232cb43",
   "metadata": {
    "slideshow": {
     "slide_type": "slide"
    }
   },
   "outputs": [
    {
     "data": {
      "text/plain": [
       "574"
      ]
     },
     "execution_count": 26,
     "metadata": {},
     "output_type": "execute_result"
    }
   ],
   "source": [
    "sum((cars['Price']>10000) & (cars['Price']<20000))"
   ]
  },
  {
   "cell_type": "markdown",
   "id": "d7697db9",
   "metadata": {
    "slideshow": {
     "slide_type": "slide"
    }
   },
   "source": [
    "### 22. Form a dataframe with car prices from 10,000 to 20,000"
   ]
  },
  {
   "cell_type": "code",
   "execution_count": 27,
   "id": "5bfbd165",
   "metadata": {
    "slideshow": {
     "slide_type": "slide"
    }
   },
   "outputs": [],
   "source": [
    "medium = cars[(cars.Price>10000) &\n",
    "               (cars.Price<20000)]"
   ]
  },
  {
   "cell_type": "code",
   "execution_count": 28,
   "id": "6386d3bd",
   "metadata": {
    "slideshow": {
     "slide_type": "slide"
    }
   },
   "outputs": [
    {
     "data": {
      "text/html": [
       "<div>\n",
       "<style scoped>\n",
       "    .dataframe tbody tr th:only-of-type {\n",
       "        vertical-align: middle;\n",
       "    }\n",
       "\n",
       "    .dataframe tbody tr th {\n",
       "        vertical-align: top;\n",
       "    }\n",
       "\n",
       "    .dataframe thead th {\n",
       "        text-align: right;\n",
       "    }\n",
       "</style>\n",
       "<table border=\"1\" class=\"dataframe\">\n",
       "  <thead>\n",
       "    <tr style=\"text-align: right;\">\n",
       "      <th></th>\n",
       "      <th>Price</th>\n",
       "      <th>Age</th>\n",
       "      <th>KM</th>\n",
       "      <th>FuelType</th>\n",
       "      <th>HP</th>\n",
       "      <th>MetColor</th>\n",
       "      <th>Automatic</th>\n",
       "      <th>CC</th>\n",
       "      <th>Doors</th>\n",
       "      <th>Weight</th>\n",
       "    </tr>\n",
       "  </thead>\n",
       "  <tbody>\n",
       "    <tr>\n",
       "      <th>0</th>\n",
       "      <td>13500</td>\n",
       "      <td>23.0</td>\n",
       "      <td>46986</td>\n",
       "      <td>Diesel</td>\n",
       "      <td>90</td>\n",
       "      <td>1.0</td>\n",
       "      <td>0</td>\n",
       "      <td>2000</td>\n",
       "      <td>3</td>\n",
       "      <td>1165</td>\n",
       "    </tr>\n",
       "    <tr>\n",
       "      <th>1</th>\n",
       "      <td>13750</td>\n",
       "      <td>23.0</td>\n",
       "      <td>72937</td>\n",
       "      <td>Diesel</td>\n",
       "      <td>90</td>\n",
       "      <td>1.0</td>\n",
       "      <td>0</td>\n",
       "      <td>2000</td>\n",
       "      <td>3</td>\n",
       "      <td>1165</td>\n",
       "    </tr>\n",
       "    <tr>\n",
       "      <th>2</th>\n",
       "      <td>13950</td>\n",
       "      <td>24.0</td>\n",
       "      <td>41711</td>\n",
       "      <td>Diesel</td>\n",
       "      <td>90</td>\n",
       "      <td>NaN</td>\n",
       "      <td>0</td>\n",
       "      <td>2000</td>\n",
       "      <td>3</td>\n",
       "      <td>1165</td>\n",
       "    </tr>\n",
       "    <tr>\n",
       "      <th>3</th>\n",
       "      <td>14950</td>\n",
       "      <td>26.0</td>\n",
       "      <td>48000</td>\n",
       "      <td>Diesel</td>\n",
       "      <td>90</td>\n",
       "      <td>0.0</td>\n",
       "      <td>0</td>\n",
       "      <td>2000</td>\n",
       "      <td>3</td>\n",
       "      <td>1165</td>\n",
       "    </tr>\n",
       "    <tr>\n",
       "      <th>4</th>\n",
       "      <td>13750</td>\n",
       "      <td>30.0</td>\n",
       "      <td>38500</td>\n",
       "      <td>Diesel</td>\n",
       "      <td>90</td>\n",
       "      <td>0.0</td>\n",
       "      <td>0</td>\n",
       "      <td>2000</td>\n",
       "      <td>3</td>\n",
       "      <td>1170</td>\n",
       "    </tr>\n",
       "    <tr>\n",
       "      <th>...</th>\n",
       "      <td>...</td>\n",
       "      <td>...</td>\n",
       "      <td>...</td>\n",
       "      <td>...</td>\n",
       "      <td>...</td>\n",
       "      <td>...</td>\n",
       "      <td>...</td>\n",
       "      <td>...</td>\n",
       "      <td>...</td>\n",
       "      <td>...</td>\n",
       "    </tr>\n",
       "    <tr>\n",
       "      <th>1042</th>\n",
       "      <td>10950</td>\n",
       "      <td>67.0</td>\n",
       "      <td>15535</td>\n",
       "      <td>Petrol</td>\n",
       "      <td>86</td>\n",
       "      <td>NaN</td>\n",
       "      <td>1</td>\n",
       "      <td>1300</td>\n",
       "      <td>4</td>\n",
       "      <td>1030</td>\n",
       "    </tr>\n",
       "    <tr>\n",
       "      <th>1058</th>\n",
       "      <td>10500</td>\n",
       "      <td>77.0</td>\n",
       "      <td>172980</td>\n",
       "      <td>Diesel</td>\n",
       "      <td>72</td>\n",
       "      <td>NaN</td>\n",
       "      <td>0</td>\n",
       "      <td>2000</td>\n",
       "      <td>5</td>\n",
       "      <td>1135</td>\n",
       "    </tr>\n",
       "    <tr>\n",
       "      <th>1383</th>\n",
       "      <td>10950</td>\n",
       "      <td>76.0</td>\n",
       "      <td>53133</td>\n",
       "      <td>Petrol</td>\n",
       "      <td>110</td>\n",
       "      <td>1.0</td>\n",
       "      <td>0</td>\n",
       "      <td>1600</td>\n",
       "      <td>5</td>\n",
       "      <td>1070</td>\n",
       "    </tr>\n",
       "    <tr>\n",
       "      <th>1402</th>\n",
       "      <td>10500</td>\n",
       "      <td>NaN</td>\n",
       "      <td>47400</td>\n",
       "      <td>Petrol</td>\n",
       "      <td>86</td>\n",
       "      <td>1.0</td>\n",
       "      <td>0</td>\n",
       "      <td>1300</td>\n",
       "      <td>5</td>\n",
       "      <td>1040</td>\n",
       "    </tr>\n",
       "    <tr>\n",
       "      <th>1432</th>\n",
       "      <td>10845</td>\n",
       "      <td>72.0</td>\n",
       "      <td>68647.239972</td>\n",
       "      <td>Petrol</td>\n",
       "      <td>86</td>\n",
       "      <td>0.0</td>\n",
       "      <td>0</td>\n",
       "      <td>1300</td>\n",
       "      <td>3</td>\n",
       "      <td>1015</td>\n",
       "    </tr>\n",
       "  </tbody>\n",
       "</table>\n",
       "<p>574 rows × 10 columns</p>\n",
       "</div>"
      ],
      "text/plain": [
       "      Price   Age            KM FuelType   HP  MetColor  Automatic    CC  \\\n",
       "0     13500  23.0         46986   Diesel   90       1.0          0  2000   \n",
       "1     13750  23.0         72937   Diesel   90       1.0          0  2000   \n",
       "2     13950  24.0         41711   Diesel   90       NaN          0  2000   \n",
       "3     14950  26.0         48000   Diesel   90       0.0          0  2000   \n",
       "4     13750  30.0         38500   Diesel   90       0.0          0  2000   \n",
       "...     ...   ...           ...      ...  ...       ...        ...   ...   \n",
       "1042  10950  67.0         15535   Petrol   86       NaN          1  1300   \n",
       "1058  10500  77.0        172980   Diesel   72       NaN          0  2000   \n",
       "1383  10950  76.0         53133   Petrol  110       1.0          0  1600   \n",
       "1402  10500   NaN         47400   Petrol   86       1.0          0  1300   \n",
       "1432  10845  72.0  68647.239972   Petrol   86       0.0          0  1300   \n",
       "\n",
       "      Doors  Weight  \n",
       "0         3    1165  \n",
       "1         3    1165  \n",
       "2         3    1165  \n",
       "3         3    1165  \n",
       "4         3    1170  \n",
       "...     ...     ...  \n",
       "1042      4    1030  \n",
       "1058      5    1135  \n",
       "1383      5    1070  \n",
       "1402      5    1040  \n",
       "1432      3    1015  \n",
       "\n",
       "[574 rows x 10 columns]"
      ]
     },
     "execution_count": 28,
     "metadata": {},
     "output_type": "execute_result"
    }
   ],
   "source": [
    "medium"
   ]
  },
  {
   "cell_type": "markdown",
   "id": "bea7d13a",
   "metadata": {
    "slideshow": {
     "slide_type": "slide"
    }
   },
   "source": [
    "### 23. Print the data with index 5 and column name as CC"
   ]
  },
  {
   "cell_type": "code",
   "execution_count": 29,
   "id": "cf859182",
   "metadata": {
    "slideshow": {
     "slide_type": "slide"
    }
   },
   "outputs": [
    {
     "name": "stdout",
     "output_type": "stream",
     "text": [
      "1900\n"
     ]
    }
   ],
   "source": [
    "print(cars.at[9,\"CC\"])"
   ]
  },
  {
   "cell_type": "markdown",
   "id": "6ddb7525",
   "metadata": {
    "slideshow": {
     "slide_type": "slide"
    }
   },
   "source": [
    "### 24. Print data with internally indices of Pandas, row index 3 and column index as 3"
   ]
  },
  {
   "cell_type": "code",
   "execution_count": 30,
   "id": "174d07d3",
   "metadata": {
    "slideshow": {
     "slide_type": "slide"
    }
   },
   "outputs": [
    {
     "name": "stdout",
     "output_type": "stream",
     "text": [
      "Petrol\n"
     ]
    }
   ],
   "source": [
    "print(cars.iat[8,3])"
   ]
  },
  {
   "cell_type": "markdown",
   "id": "cb456d40",
   "metadata": {
    "slideshow": {
     "slide_type": "slide"
    }
   },
   "source": [
    "### 25. Decrease the Price of all cars by 10%"
   ]
  },
  {
   "cell_type": "code",
   "execution_count": 31,
   "id": "f7313bdd",
   "metadata": {
    "slideshow": {
     "slide_type": "slide"
    }
   },
   "outputs": [
    {
     "name": "stdout",
     "output_type": "stream",
     "text": [
      "0       13500\n",
      "1       13750\n",
      "2       13950\n",
      "3       14950\n",
      "4       13750\n",
      "        ...  \n",
      "1431     7500\n",
      "1432    10845\n",
      "1433     8500\n",
      "1434     7250\n",
      "1435     6950\n",
      "Name: Price, Length: 1436, dtype: int64\n",
      "0       12150.0\n",
      "1       12375.0\n",
      "2       12555.0\n",
      "3       13455.0\n",
      "4       12375.0\n",
      "         ...   \n",
      "1431     6750.0\n",
      "1432     9760.5\n",
      "1433     7650.0\n",
      "1434     6525.0\n",
      "1435     6255.0\n",
      "Name: Price, Length: 1436, dtype: float64\n"
     ]
    }
   ],
   "source": [
    "def reduce(val):\n",
    "    return val*0.9\n",
    "\n",
    "cars = pd.read_csv('Toyota.csv',index_col=0)\n",
    "print(cars['Price'])\n",
    "cars['Price'] = reduce(cars['Price'])\n",
    "print(cars['Price'])"
   ]
  },
  {
   "cell_type": "markdown",
   "id": "56bd1d35",
   "metadata": {
    "slideshow": {
     "slide_type": "slide"
    }
   },
   "source": [
    "### 26. insert a new column price category after Price"
   ]
  },
  {
   "cell_type": "code",
   "execution_count": 32,
   "id": "a77f784a",
   "metadata": {
    "slideshow": {
     "slide_type": "slide"
    }
   },
   "outputs": [],
   "source": [
    "cars.insert(2,'Price Category','')"
   ]
  },
  {
   "cell_type": "code",
   "execution_count": 122,
   "id": "9188af98",
   "metadata": {
    "slideshow": {
     "slide_type": "slide"
    }
   },
   "outputs": [
    {
     "name": "stdout",
     "output_type": "stream",
     "text": [
      "<class 'pandas.core.frame.DataFrame'>\n",
      "Int64Index: 1436 entries, 0 to 1435\n",
      "Data columns (total 11 columns):\n",
      " #   Column          Non-Null Count  Dtype  \n",
      "---  ------          --------------  -----  \n",
      " 0   Price           1436 non-null   int64  \n",
      " 1   Age             1336 non-null   float64\n",
      " 2   Price Category  1436 non-null   object \n",
      " 3   KM              1436 non-null   object \n",
      " 4   FuelType        1336 non-null   object \n",
      " 5   HP              1436 non-null   object \n",
      " 6   MetColor        1286 non-null   float64\n",
      " 7   Automatic       1436 non-null   int64  \n",
      " 8   CC              1436 non-null   int64  \n",
      " 9   Doors           1436 non-null   object \n",
      " 10  Weight          1436 non-null   int64  \n",
      "dtypes: float64(2), int64(4), object(5)\n",
      "memory usage: 134.6+ KB\n"
     ]
    }
   ],
   "source": [
    "cars.info()"
   ]
  },
  {
   "cell_type": "markdown",
   "id": "5237fbce",
   "metadata": {
    "slideshow": {
     "slide_type": "slide"
    }
   },
   "source": [
    "### 27. Assign price category of car as low, medium or high "
   ]
  },
  {
   "cell_type": "code",
   "execution_count": 33,
   "id": "5f6be046",
   "metadata": {
    "slideshow": {
     "slide_type": "slide"
    }
   },
   "outputs": [],
   "source": [
    "for i in range(0, len(cars['Price'])):    \n",
    "    \n",
    "    if cars['Price'][i]<10000:\n",
    "        \n",
    "        cars.loc[i, 'Price Category']='low'\n",
    "    elif (cars['Price'][i]<20000):\n",
    "        \n",
    "        cars.loc[i, 'Price Category']='medium'\n",
    "    else:        \n",
    "        cars.loc[i, 'Price Category']='high'"
   ]
  },
  {
   "cell_type": "code",
   "execution_count": 126,
   "id": "6e8053ed",
   "metadata": {
    "slideshow": {
     "slide_type": "slide"
    }
   },
   "outputs": [
    {
     "name": "stdout",
     "output_type": "stream",
     "text": [
      "      Price   Age Price Category     KM FuelType   HP  MetColor  Automatic  \\\n",
      "0     13500  23.0         medium  46986   Diesel   90       1.0          0   \n",
      "1     13750  23.0         medium  72937   Diesel   90       1.0          0   \n",
      "2     13950  24.0         medium  41711   Diesel   90       NaN          0   \n",
      "3     14950  26.0         medium  48000   Diesel   90       0.0          0   \n",
      "4     13750  30.0         medium  38500   Diesel   90       0.0          0   \n",
      "...     ...   ...            ...    ...      ...  ...       ...        ...   \n",
      "1431   7500   NaN            low  20544   Petrol   86       1.0          0   \n",
      "1432  10845  72.0         medium     ??   Petrol   86       0.0          0   \n",
      "1433   8500   NaN            low  17016   Petrol   86       0.0          0   \n",
      "1434   7250  70.0            low     ??      NaN   86       1.0          0   \n",
      "1435   6950  76.0            low      1   Petrol  110       0.0          0   \n",
      "\n",
      "        CC  Doors  Weight  \n",
      "0     2000  three    1165  \n",
      "1     2000      3    1165  \n",
      "2     2000      3    1165  \n",
      "3     2000      3    1165  \n",
      "4     2000      3    1170  \n",
      "...    ...    ...     ...  \n",
      "1431  1300      3    1025  \n",
      "1432  1300      3    1015  \n",
      "1433  1300      3    1015  \n",
      "1434  1300      3    1015  \n",
      "1435  1600      5    1114  \n",
      "\n",
      "[1436 rows x 11 columns]\n"
     ]
    }
   ],
   "source": [
    "print(cars)"
   ]
  },
  {
   "cell_type": "markdown",
   "id": "55e9b01b",
   "metadata": {
    "slideshow": {
     "slide_type": "slide"
    }
   },
   "source": [
    "### 28. Drop all rows with null values"
   ]
  },
  {
   "cell_type": "code",
   "execution_count": 34,
   "id": "4aaaa38f",
   "metadata": {
    "slideshow": {
     "slide_type": "slide"
    }
   },
   "outputs": [
    {
     "data": {
      "text/plain": [
       "Price               0\n",
       "Age               100\n",
       "Price Category      0\n",
       "KM                  0\n",
       "FuelType          100\n",
       "HP                  0\n",
       "MetColor          150\n",
       "Automatic           0\n",
       "CC                  0\n",
       "Doors               0\n",
       "Weight              0\n",
       "dtype: int64"
      ]
     },
     "execution_count": 34,
     "metadata": {},
     "output_type": "execute_result"
    }
   ],
   "source": [
    "cars.isnull().sum()"
   ]
  },
  {
   "cell_type": "code",
   "execution_count": 130,
   "id": "dcbf2bf2",
   "metadata": {
    "slideshow": {
     "slide_type": "slide"
    }
   },
   "outputs": [],
   "source": [
    "cars.dropna(inplace = True)"
   ]
  },
  {
   "cell_type": "code",
   "execution_count": null,
   "id": "abafb9e8",
   "metadata": {},
   "outputs": [],
   "source": []
  },
  {
   "cell_type": "markdown",
   "id": "ab33eeb4",
   "metadata": {
    "slideshow": {
     "slide_type": "slide"
    }
   },
   "source": [
    "### 29. Fill missing values of KM with mean, median mode"
   ]
  },
  {
   "cell_type": "code",
   "execution_count": 35,
   "id": "4e0d1856",
   "metadata": {
    "slideshow": {
     "slide_type": "slide"
    }
   },
   "outputs": [
    {
     "name": "stdout",
     "output_type": "stream",
     "text": [
      "      Price   Age       KM FuelType   HP  MetColor  Automatic    CC  Doors  \\\n",
      "0     13500  23.0  46986.0   Diesel   90       1.0          0  2000  three   \n",
      "1     13750  23.0  72937.0   Diesel   90       1.0          0  2000      3   \n",
      "2     13950  24.0  41711.0   Diesel   90       NaN          0  2000      3   \n",
      "3     14950  26.0  48000.0   Diesel   90       0.0          0  2000      3   \n",
      "4     13750  30.0  38500.0   Diesel   90       0.0          0  2000      3   \n",
      "...     ...   ...      ...      ...  ...       ...        ...   ...    ...   \n",
      "1431   7500   NaN  20544.0   Petrol   86       1.0          0  1300      3   \n",
      "1432  10845  72.0      NaN   Petrol   86       0.0          0  1300      3   \n",
      "1433   8500   NaN  17016.0   Petrol   86       0.0          0  1300      3   \n",
      "1434   7250  70.0      NaN      NaN   86       1.0          0  1300      3   \n",
      "1435   6950  76.0      1.0   Petrol  110       0.0          0  1600      5   \n",
      "\n",
      "      Weight  \n",
      "0       1165  \n",
      "1       1165  \n",
      "2       1165  \n",
      "3       1165  \n",
      "4       1170  \n",
      "...      ...  \n",
      "1431    1025  \n",
      "1432    1015  \n",
      "1433    1015  \n",
      "1434    1015  \n",
      "1435    1114  \n",
      "\n",
      "[1436 rows x 10 columns]\n"
     ]
    }
   ],
   "source": [
    "import pandas as pd\n",
    "cars = pd.read_csv('Toyota.csv',index_col=0,na_values=['??'])\n",
    "print(cars)"
   ]
  },
  {
   "cell_type": "code",
   "execution_count": 36,
   "id": "ba0c61e2",
   "metadata": {},
   "outputs": [
    {
     "data": {
      "text/plain": [
       "Petrol    1177\n",
       "Diesel     144\n",
       "CNG         15\n",
       "Name: FuelType, dtype: int64"
      ]
     },
     "execution_count": 36,
     "metadata": {},
     "output_type": "execute_result"
    }
   ],
   "source": [
    "cars['FuelType'].value_counts()"
   ]
  },
  {
   "cell_type": "code",
   "execution_count": 37,
   "id": "09f65c95",
   "metadata": {},
   "outputs": [
    {
     "name": "stdout",
     "output_type": "stream",
     "text": [
      "<class 'pandas.core.frame.DataFrame'>\n",
      "Int64Index: 1436 entries, 0 to 1435\n",
      "Data columns (total 10 columns):\n",
      " #   Column     Non-Null Count  Dtype  \n",
      "---  ------     --------------  -----  \n",
      " 0   Price      1436 non-null   int64  \n",
      " 1   Age        1336 non-null   float64\n",
      " 2   KM         1421 non-null   float64\n",
      " 3   FuelType   1336 non-null   object \n",
      " 4   HP         1436 non-null   object \n",
      " 5   MetColor   1286 non-null   float64\n",
      " 6   Automatic  1436 non-null   int64  \n",
      " 7   CC         1436 non-null   int64  \n",
      " 8   Doors      1436 non-null   object \n",
      " 9   Weight     1436 non-null   int64  \n",
      "dtypes: float64(3), int64(4), object(3)\n",
      "memory usage: 123.4+ KB\n"
     ]
    }
   ],
   "source": [
    "cars.info()"
   ]
  },
  {
   "cell_type": "code",
   "execution_count": 38,
   "id": "95473cce",
   "metadata": {},
   "outputs": [
    {
     "data": {
      "text/plain": [
       "11488"
      ]
     },
     "execution_count": 38,
     "metadata": {},
     "output_type": "execute_result"
    }
   ],
   "source": [
    "cars.FuelType.nbytes"
   ]
  },
  {
   "cell_type": "code",
   "execution_count": 39,
   "id": "9f710561",
   "metadata": {},
   "outputs": [],
   "source": [
    "cars['FuelType'] = cars.FuelType.astype('category')"
   ]
  },
  {
   "cell_type": "code",
   "execution_count": 40,
   "id": "15c23c6a",
   "metadata": {
    "slideshow": {
     "slide_type": "slide"
    }
   },
   "outputs": [],
   "source": [
    "mean_val = cars['KM'].mean()"
   ]
  },
  {
   "cell_type": "code",
   "execution_count": 41,
   "id": "f5673de5",
   "metadata": {
    "slideshow": {
     "slide_type": "slide"
    }
   },
   "outputs": [],
   "source": [
    "cars['KM'] = cars['KM'].fillna(mean_val)"
   ]
  },
  {
   "cell_type": "code",
   "execution_count": 42,
   "id": "ae65e75d",
   "metadata": {
    "slideshow": {
     "slide_type": "slide"
    }
   },
   "outputs": [
    {
     "data": {
      "text/plain": [
       "Price               16900\n",
       "Age                  27.0\n",
       "KM           68647.239972\n",
       "FuelType           Diesel\n",
       "HP                   ????\n",
       "MetColor              NaN\n",
       "Automatic               0\n",
       "CC                   2000\n",
       "Doors                   3\n",
       "Weight               1245\n",
       "Name: 6, dtype: object"
      ]
     },
     "execution_count": 42,
     "metadata": {},
     "output_type": "execute_result"
    }
   ],
   "source": [
    "cars.iloc[6]"
   ]
  },
  {
   "cell_type": "code",
   "execution_count": 43,
   "id": "4a69bf8b",
   "metadata": {
    "slideshow": {
     "slide_type": "slide"
    }
   },
   "outputs": [
    {
     "data": {
      "text/plain": [
       "Price          16900\n",
       "Age             27.0\n",
       "KM           63634.0\n",
       "FuelType      Diesel\n",
       "HP              ????\n",
       "MetColor         NaN\n",
       "Automatic          0\n",
       "CC              2000\n",
       "Doors              3\n",
       "Weight          1245\n",
       "Name: 6, dtype: object"
      ]
     },
     "execution_count": 43,
     "metadata": {},
     "output_type": "execute_result"
    }
   ],
   "source": [
    "cars = pd.read_csv('Toyota.csv',index_col=0,na_values=['??'])\n",
    "median_val = cars['KM'].median()\n",
    "cars['KM'] = cars['KM'].fillna(median_val)\n",
    "cars.iloc[6]"
   ]
  },
  {
   "cell_type": "code",
   "execution_count": 44,
   "id": "af27beeb",
   "metadata": {
    "slideshow": {
     "slide_type": "slide"
    }
   },
   "outputs": [
    {
     "name": "stdout",
     "output_type": "stream",
     "text": [
      "1.0\n"
     ]
    },
    {
     "data": {
      "text/plain": [
       "Price         16900\n",
       "Age            27.0\n",
       "KM              1.0\n",
       "FuelType     Diesel\n",
       "HP             ????\n",
       "MetColor        NaN\n",
       "Automatic         0\n",
       "CC             2000\n",
       "Doors             3\n",
       "Weight         1245\n",
       "Name: 6, dtype: object"
      ]
     },
     "execution_count": 44,
     "metadata": {},
     "output_type": "execute_result"
    }
   ],
   "source": [
    "cars = pd.read_csv('Toyota.csv',index_col=0,na_values=['??'])\n",
    "mode_val = cars['KM'].mode()[0]\n",
    "print(mode_val)\n",
    "cars['KM'] = cars['KM'].fillna(mode_val)\n",
    "cars.iloc[6]"
   ]
  }
 ],
 "metadata": {
  "celltoolbar": "Slideshow",
  "kernelspec": {
   "display_name": "Python 3",
   "language": "python",
   "name": "python3"
  },
  "language_info": {
   "codemirror_mode": {
    "name": "ipython",
    "version": 3
   },
   "file_extension": ".py",
   "mimetype": "text/x-python",
   "name": "python",
   "nbconvert_exporter": "python",
   "pygments_lexer": "ipython3",
   "version": "3.8.8"
  }
 },
 "nbformat": 4,
 "nbformat_minor": 5
}
