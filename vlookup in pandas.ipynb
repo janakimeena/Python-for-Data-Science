{
 "cells": [
  {
   "cell_type": "markdown",
   "id": "5935bf47",
   "metadata": {},
   "source": [
    "### Vlookup is an operation used to merge 2 different data tables based on some condition \n",
    "\n",
    "### To do Vlookup there must be at least 1 common attribute(column) between the two tables. "
   ]
  },
  {
   "cell_type": "markdown",
   "id": "6f9ae59f",
   "metadata": {},
   "source": [
    "### merge() function to perform Vlookup in pandas\n",
    "\n",
    "### Four types of merge is available inner, left, right and outer"
   ]
  },
  {
   "cell_type": "code",
   "execution_count": 2,
   "id": "d9c9afa5",
   "metadata": {},
   "outputs": [],
   "source": [
    "import pandas as pd\n",
    "import os"
   ]
  },
  {
   "cell_type": "code",
   "execution_count": 3,
   "id": "cfb6b47a",
   "metadata": {},
   "outputs": [],
   "source": [
    "os.chdir('/home/janaki/hyundai')"
   ]
  },
  {
   "cell_type": "code",
   "execution_count": 4,
   "id": "8292cd1b",
   "metadata": {},
   "outputs": [],
   "source": [
    "df1 = pd.read_csv('personal.csv')\n",
    "df2 = pd.read_csv('courses.csv')"
   ]
  },
  {
   "cell_type": "code",
   "execution_count": 5,
   "id": "80fb271f",
   "metadata": {},
   "outputs": [
    {
     "name": "stdout",
     "output_type": "stream",
     "text": [
      "      Name  Age  Gender\n",
      "0    Kumar   20    Male\n",
      "1     Raja   19    Male\n",
      "2  Lakshmi   18  Female\n",
      "3    Radha   20  Female\n",
      "4  Prasath   19    Male\n"
     ]
    }
   ],
   "source": [
    "print(df1)"
   ]
  },
  {
   "cell_type": "code",
   "execution_count": 6,
   "id": "0957aab8",
   "metadata": {},
   "outputs": [
    {
     "name": "stdout",
     "output_type": "stream",
     "text": [
      "      Name        Courses\n",
      "0    Kumar            DSA\n",
      "1     Raja           OOPS\n",
      "2  Lakshmi  C Programming\n",
      "3    Radha            SQL\n",
      "4  Vignesh            DSA\n"
     ]
    }
   ],
   "source": [
    "print(df2)"
   ]
  },
  {
   "cell_type": "markdown",
   "id": "e3534c17",
   "metadata": {},
   "source": [
    "### Inner merge - Will contain only values that are common in the merge fields of the dataframes"
   ]
  },
  {
   "cell_type": "code",
   "execution_count": 7,
   "id": "076090e0",
   "metadata": {},
   "outputs": [],
   "source": [
    "inner = pd.merge(df1,df2,on='Name',how='inner')"
   ]
  },
  {
   "cell_type": "code",
   "execution_count": 8,
   "id": "4c74e784",
   "metadata": {},
   "outputs": [
    {
     "data": {
      "text/html": [
       "<div>\n",
       "<style scoped>\n",
       "    .dataframe tbody tr th:only-of-type {\n",
       "        vertical-align: middle;\n",
       "    }\n",
       "\n",
       "    .dataframe tbody tr th {\n",
       "        vertical-align: top;\n",
       "    }\n",
       "\n",
       "    .dataframe thead th {\n",
       "        text-align: right;\n",
       "    }\n",
       "</style>\n",
       "<table border=\"1\" class=\"dataframe\">\n",
       "  <thead>\n",
       "    <tr style=\"text-align: right;\">\n",
       "      <th></th>\n",
       "      <th>Name</th>\n",
       "      <th>Age</th>\n",
       "      <th>Gender</th>\n",
       "      <th>Courses</th>\n",
       "    </tr>\n",
       "  </thead>\n",
       "  <tbody>\n",
       "    <tr>\n",
       "      <th>0</th>\n",
       "      <td>Kumar</td>\n",
       "      <td>20</td>\n",
       "      <td>Male</td>\n",
       "      <td>DSA</td>\n",
       "    </tr>\n",
       "    <tr>\n",
       "      <th>1</th>\n",
       "      <td>Raja</td>\n",
       "      <td>19</td>\n",
       "      <td>Male</td>\n",
       "      <td>OOPS</td>\n",
       "    </tr>\n",
       "    <tr>\n",
       "      <th>2</th>\n",
       "      <td>Lakshmi</td>\n",
       "      <td>18</td>\n",
       "      <td>Female</td>\n",
       "      <td>C Programming</td>\n",
       "    </tr>\n",
       "    <tr>\n",
       "      <th>3</th>\n",
       "      <td>Radha</td>\n",
       "      <td>20</td>\n",
       "      <td>Female</td>\n",
       "      <td>SQL</td>\n",
       "    </tr>\n",
       "  </tbody>\n",
       "</table>\n",
       "</div>"
      ],
      "text/plain": [
       "      Name  Age  Gender        Courses\n",
       "0    Kumar   20    Male            DSA\n",
       "1     Raja   19    Male           OOPS\n",
       "2  Lakshmi   18  Female  C Programming\n",
       "3    Radha   20  Female            SQL"
      ]
     },
     "execution_count": 8,
     "metadata": {},
     "output_type": "execute_result"
    }
   ],
   "source": [
    "inner"
   ]
  },
  {
   "cell_type": "code",
   "execution_count": 10,
   "id": "bf0b444b",
   "metadata": {},
   "outputs": [],
   "source": [
    "left = pd.merge(df1,df2,on='Name',how='left')"
   ]
  },
  {
   "cell_type": "code",
   "execution_count": 11,
   "id": "e0504f5d",
   "metadata": {},
   "outputs": [
    {
     "data": {
      "text/html": [
       "<div>\n",
       "<style scoped>\n",
       "    .dataframe tbody tr th:only-of-type {\n",
       "        vertical-align: middle;\n",
       "    }\n",
       "\n",
       "    .dataframe tbody tr th {\n",
       "        vertical-align: top;\n",
       "    }\n",
       "\n",
       "    .dataframe thead th {\n",
       "        text-align: right;\n",
       "    }\n",
       "</style>\n",
       "<table border=\"1\" class=\"dataframe\">\n",
       "  <thead>\n",
       "    <tr style=\"text-align: right;\">\n",
       "      <th></th>\n",
       "      <th>Name</th>\n",
       "      <th>Age</th>\n",
       "      <th>Gender</th>\n",
       "      <th>Courses</th>\n",
       "    </tr>\n",
       "  </thead>\n",
       "  <tbody>\n",
       "    <tr>\n",
       "      <th>0</th>\n",
       "      <td>Kumar</td>\n",
       "      <td>20</td>\n",
       "      <td>Male</td>\n",
       "      <td>DSA</td>\n",
       "    </tr>\n",
       "    <tr>\n",
       "      <th>1</th>\n",
       "      <td>Raja</td>\n",
       "      <td>19</td>\n",
       "      <td>Male</td>\n",
       "      <td>OOPS</td>\n",
       "    </tr>\n",
       "    <tr>\n",
       "      <th>2</th>\n",
       "      <td>Lakshmi</td>\n",
       "      <td>18</td>\n",
       "      <td>Female</td>\n",
       "      <td>C Programming</td>\n",
       "    </tr>\n",
       "    <tr>\n",
       "      <th>3</th>\n",
       "      <td>Radha</td>\n",
       "      <td>20</td>\n",
       "      <td>Female</td>\n",
       "      <td>SQL</td>\n",
       "    </tr>\n",
       "    <tr>\n",
       "      <th>4</th>\n",
       "      <td>Prasath</td>\n",
       "      <td>19</td>\n",
       "      <td>Male</td>\n",
       "      <td>NaN</td>\n",
       "    </tr>\n",
       "  </tbody>\n",
       "</table>\n",
       "</div>"
      ],
      "text/plain": [
       "      Name  Age  Gender        Courses\n",
       "0    Kumar   20    Male            DSA\n",
       "1     Raja   19    Male           OOPS\n",
       "2  Lakshmi   18  Female  C Programming\n",
       "3    Radha   20  Female            SQL\n",
       "4  Prasath   19    Male            NaN"
      ]
     },
     "execution_count": 11,
     "metadata": {},
     "output_type": "execute_result"
    }
   ],
   "source": [
    "left"
   ]
  },
  {
   "cell_type": "code",
   "execution_count": 12,
   "id": "77a03b28",
   "metadata": {},
   "outputs": [],
   "source": [
    "right = pd.merge(df1,df2,on='Name',how='right')"
   ]
  },
  {
   "cell_type": "code",
   "execution_count": 13,
   "id": "f33a5127",
   "metadata": {},
   "outputs": [
    {
     "data": {
      "text/html": [
       "<div>\n",
       "<style scoped>\n",
       "    .dataframe tbody tr th:only-of-type {\n",
       "        vertical-align: middle;\n",
       "    }\n",
       "\n",
       "    .dataframe tbody tr th {\n",
       "        vertical-align: top;\n",
       "    }\n",
       "\n",
       "    .dataframe thead th {\n",
       "        text-align: right;\n",
       "    }\n",
       "</style>\n",
       "<table border=\"1\" class=\"dataframe\">\n",
       "  <thead>\n",
       "    <tr style=\"text-align: right;\">\n",
       "      <th></th>\n",
       "      <th>Name</th>\n",
       "      <th>Age</th>\n",
       "      <th>Gender</th>\n",
       "      <th>Courses</th>\n",
       "    </tr>\n",
       "  </thead>\n",
       "  <tbody>\n",
       "    <tr>\n",
       "      <th>0</th>\n",
       "      <td>Kumar</td>\n",
       "      <td>20.0</td>\n",
       "      <td>Male</td>\n",
       "      <td>DSA</td>\n",
       "    </tr>\n",
       "    <tr>\n",
       "      <th>1</th>\n",
       "      <td>Raja</td>\n",
       "      <td>19.0</td>\n",
       "      <td>Male</td>\n",
       "      <td>OOPS</td>\n",
       "    </tr>\n",
       "    <tr>\n",
       "      <th>2</th>\n",
       "      <td>Lakshmi</td>\n",
       "      <td>18.0</td>\n",
       "      <td>Female</td>\n",
       "      <td>C Programming</td>\n",
       "    </tr>\n",
       "    <tr>\n",
       "      <th>3</th>\n",
       "      <td>Radha</td>\n",
       "      <td>20.0</td>\n",
       "      <td>Female</td>\n",
       "      <td>SQL</td>\n",
       "    </tr>\n",
       "    <tr>\n",
       "      <th>4</th>\n",
       "      <td>Vignesh</td>\n",
       "      <td>NaN</td>\n",
       "      <td>NaN</td>\n",
       "      <td>DSA</td>\n",
       "    </tr>\n",
       "  </tbody>\n",
       "</table>\n",
       "</div>"
      ],
      "text/plain": [
       "      Name   Age  Gender        Courses\n",
       "0    Kumar  20.0    Male            DSA\n",
       "1     Raja  19.0    Male           OOPS\n",
       "2  Lakshmi  18.0  Female  C Programming\n",
       "3    Radha  20.0  Female            SQL\n",
       "4  Vignesh   NaN     NaN            DSA"
      ]
     },
     "execution_count": 13,
     "metadata": {},
     "output_type": "execute_result"
    }
   ],
   "source": [
    "right"
   ]
  },
  {
   "cell_type": "code",
   "execution_count": 14,
   "id": "32e422c1",
   "metadata": {},
   "outputs": [],
   "source": [
    "outer = pd.merge(df1,df2,on='Name',how='outer')"
   ]
  },
  {
   "cell_type": "code",
   "execution_count": 15,
   "id": "a93039d8",
   "metadata": {},
   "outputs": [
    {
     "data": {
      "text/html": [
       "<div>\n",
       "<style scoped>\n",
       "    .dataframe tbody tr th:only-of-type {\n",
       "        vertical-align: middle;\n",
       "    }\n",
       "\n",
       "    .dataframe tbody tr th {\n",
       "        vertical-align: top;\n",
       "    }\n",
       "\n",
       "    .dataframe thead th {\n",
       "        text-align: right;\n",
       "    }\n",
       "</style>\n",
       "<table border=\"1\" class=\"dataframe\">\n",
       "  <thead>\n",
       "    <tr style=\"text-align: right;\">\n",
       "      <th></th>\n",
       "      <th>Name</th>\n",
       "      <th>Age</th>\n",
       "      <th>Gender</th>\n",
       "      <th>Courses</th>\n",
       "    </tr>\n",
       "  </thead>\n",
       "  <tbody>\n",
       "    <tr>\n",
       "      <th>0</th>\n",
       "      <td>Kumar</td>\n",
       "      <td>20.0</td>\n",
       "      <td>Male</td>\n",
       "      <td>DSA</td>\n",
       "    </tr>\n",
       "    <tr>\n",
       "      <th>1</th>\n",
       "      <td>Raja</td>\n",
       "      <td>19.0</td>\n",
       "      <td>Male</td>\n",
       "      <td>OOPS</td>\n",
       "    </tr>\n",
       "    <tr>\n",
       "      <th>2</th>\n",
       "      <td>Lakshmi</td>\n",
       "      <td>18.0</td>\n",
       "      <td>Female</td>\n",
       "      <td>C Programming</td>\n",
       "    </tr>\n",
       "    <tr>\n",
       "      <th>3</th>\n",
       "      <td>Radha</td>\n",
       "      <td>20.0</td>\n",
       "      <td>Female</td>\n",
       "      <td>SQL</td>\n",
       "    </tr>\n",
       "    <tr>\n",
       "      <th>4</th>\n",
       "      <td>Prasath</td>\n",
       "      <td>19.0</td>\n",
       "      <td>Male</td>\n",
       "      <td>NaN</td>\n",
       "    </tr>\n",
       "    <tr>\n",
       "      <th>5</th>\n",
       "      <td>Vignesh</td>\n",
       "      <td>NaN</td>\n",
       "      <td>NaN</td>\n",
       "      <td>DSA</td>\n",
       "    </tr>\n",
       "  </tbody>\n",
       "</table>\n",
       "</div>"
      ],
      "text/plain": [
       "      Name   Age  Gender        Courses\n",
       "0    Kumar  20.0    Male            DSA\n",
       "1     Raja  19.0    Male           OOPS\n",
       "2  Lakshmi  18.0  Female  C Programming\n",
       "3    Radha  20.0  Female            SQL\n",
       "4  Prasath  19.0    Male            NaN\n",
       "5  Vignesh   NaN     NaN            DSA"
      ]
     },
     "execution_count": 15,
     "metadata": {},
     "output_type": "execute_result"
    }
   ],
   "source": [
    "outer"
   ]
  },
  {
   "cell_type": "code",
   "execution_count": null,
   "id": "ba325963",
   "metadata": {},
   "outputs": [],
   "source": []
  }
 ],
 "metadata": {
  "kernelspec": {
   "display_name": "Python 3",
   "language": "python",
   "name": "python3"
  },
  "language_info": {
   "codemirror_mode": {
    "name": "ipython",
    "version": 3
   },
   "file_extension": ".py",
   "mimetype": "text/x-python",
   "name": "python",
   "nbconvert_exporter": "python",
   "pygments_lexer": "ipython3",
   "version": "3.8.8"
  }
 },
 "nbformat": 4,
 "nbformat_minor": 5
}
