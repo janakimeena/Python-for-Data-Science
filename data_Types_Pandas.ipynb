{
  "nbformat": 4,
  "nbformat_minor": 0,
  "metadata": {
    "colab": {
      "name": "data_Types_Pandas.ipynb",
      "provenance": [],
      "collapsed_sections": [],
      "include_colab_link": true
    },
    "kernelspec": {
      "name": "python3",
      "display_name": "Python 3"
    }
  },
  "cells": [
    {
      "cell_type": "markdown",
      "metadata": {
        "id": "view-in-github",
        "colab_type": "text"
      },
      "source": [
        "<a href=\"https://colab.research.google.com/github/janakimeena/Python-for-Data-Science/blob/master/data_Types_Pandas.ipynb\" target=\"_parent\"><img src=\"https://colab.research.google.com/assets/colab-badge.svg\" alt=\"Open In Colab\"/></a>"
      ]
    },
    {
      "cell_type": "code",
      "metadata": {
        "id": "-zSxPz7lnOeU",
        "colab_type": "code",
        "outputId": "417cf070-0d97-43d7-ea43-8d6aa4f15f6e",
        "colab": {
          "base_uri": "https://localhost:8080/",
          "height": 124
        }
      },
      "source": [
        "from google.colab import drive\n",
        "drive.mount('/content/gdrive',force_remount=True)\n",
        "root_path = 'gdrive/My Drive/DataSets'"
      ],
      "execution_count": 2,
      "outputs": [
        {
          "output_type": "stream",
          "text": [
            "Go to this URL in a browser: https://accounts.google.com/o/oauth2/auth?client_id=947318989803-6bn6qk8qdgf4n4g3pfee6491hc0brc4i.apps.googleusercontent.com&redirect_uri=urn%3Aietf%3Awg%3Aoauth%3A2.0%3Aoob&scope=email%20https%3A%2F%2Fwww.googleapis.com%2Fauth%2Fdocs.test%20https%3A%2F%2Fwww.googleapis.com%2Fauth%2Fdrive%20https%3A%2F%2Fwww.googleapis.com%2Fauth%2Fdrive.photos.readonly%20https%3A%2F%2Fwww.googleapis.com%2Fauth%2Fpeopleapi.readonly&response_type=code\n",
            "\n",
            "Enter your authorization code:\n",
            "··········\n",
            "Mounted at /content/gdrive\n"
          ],
          "name": "stdout"
        }
      ]
    },
    {
      "cell_type": "code",
      "metadata": {
        "id": "vBKLczrKnb0P",
        "colab_type": "code",
        "colab": {}
      },
      "source": [
        "import pandas as pd\n",
        "data = pd.read_csv(root_path+'/Toyota.csv',index_col=0)"
      ],
      "execution_count": 0,
      "outputs": []
    },
    {
      "cell_type": "code",
      "metadata": {
        "id": "ZC9mQ4yHzdjB",
        "colab_type": "code",
        "colab": {
          "base_uri": "https://localhost:8080/",
          "height": 260
        },
        "outputId": "5c4bc0ca-8cae-46b4-b567-3df8dbd12bde"
      },
      "source": [
        "print(data)"
      ],
      "execution_count": 12,
      "outputs": [
        {
          "output_type": "stream",
          "text": [
            "      Price   Age     KM FuelType  ... Automatic    CC  Doors  Weight\n",
            "0     13500  23.0  46986   Diesel  ...         0  2000  three    1165\n",
            "1     13750  23.0  72937   Diesel  ...         0  2000      3    1165\n",
            "2     13950  24.0  41711   Diesel  ...         0  2000      3    1165\n",
            "3     14950  26.0  48000   Diesel  ...         0  2000      3    1165\n",
            "4     13750  30.0  38500   Diesel  ...         0  2000      3    1170\n",
            "...     ...   ...    ...      ...  ...       ...   ...    ...     ...\n",
            "1431   7500   NaN  20544   Petrol  ...         0  1300      3    1025\n",
            "1432  10845  72.0     ??   Petrol  ...         0  1300      3    1015\n",
            "1433   8500   NaN  17016   Petrol  ...         0  1300      3    1015\n",
            "1434   7250  70.0     ??      NaN  ...         0  1300      3    1015\n",
            "1435   6950  76.0      1   Petrol  ...         0  1600      5    1114\n",
            "\n",
            "[1436 rows x 10 columns]\n"
          ],
          "name": "stdout"
        }
      ]
    },
    {
      "cell_type": "markdown",
      "metadata": {
        "id": "j_CeT9Mc28Cy",
        "colab_type": "text"
      },
      "source": [
        "#Data Types\n",
        "Datatype of information stored in dataframe has an impact on the analysis and outputs of calculations\n",
        "\n",
        "Two main types of data\n",
        "\n",
        "\n",
        "*   Numeric\n",
        "*   Character\n",
        "\n",
        "Numeric type includes integers and floats\n",
        "\n",
        "Strings are called as objects in Pandas which can contain mixture of numbers and characters\n",
        "\n"
      ]
    },
    {
      "cell_type": "markdown",
      "metadata": {
        "id": "oGHLwmBX6t4y",
        "colab_type": "text"
      },
      "source": [
        "## Numerical Datatypes\n",
        "\n",
        "int64 and float64 are numerical datatypes of Pandas whereas Python uses int and float\n",
        "\n",
        "'64' refers to the number of bits allocated\n",
        "\n",
        "Allocating space ahead of time allows computers to optimize storage and process data efficiently"
      ]
    },
    {
      "cell_type": "markdown",
      "metadata": {
        "id": "rl2mp8Vu7m5B",
        "colab_type": "text"
      },
      "source": [
        "## Character Datatypes\n",
        "\n",
        "Category and Object are the two types of character datatypes. By default Pandas assign object datatype when there is mixture of characters and numericals in the field\n",
        "\n",
        "Categorical variable takes limited number of possible values hence better performance"
      ]
    },
    {
      "cell_type": "markdown",
      "metadata": {
        "id": "0Iww76GN4AZH",
        "colab_type": "text"
      },
      "source": [
        "# Checking Datatypes"
      ]
    },
    {
      "cell_type": "code",
      "metadata": {
        "id": "0jZfygDezfuB",
        "colab_type": "code",
        "colab": {
          "base_uri": "https://localhost:8080/",
          "height": 208
        },
        "outputId": "0371c9a6-aa32-43f6-cdbc-c8ab51a44a57"
      },
      "source": [
        "data.dtypes"
      ],
      "execution_count": 13,
      "outputs": [
        {
          "output_type": "execute_result",
          "data": {
            "text/plain": [
              "Price          int64\n",
              "Age          float64\n",
              "KM            object\n",
              "FuelType      object\n",
              "HP            object\n",
              "MetColor     float64\n",
              "Automatic      int64\n",
              "CC             int64\n",
              "Doors         object\n",
              "Weight         int64\n",
              "dtype: object"
            ]
          },
          "metadata": {
            "tags": []
          },
          "execution_count": 13
        }
      ]
    },
    {
      "cell_type": "code",
      "metadata": {
        "id": "K0fAJP_84XbD",
        "colab_type": "code",
        "colab": {
          "base_uri": "https://localhost:8080/",
          "height": 141
        },
        "outputId": "e5253d6c-ab23-4f53-84de-34e6342ca0aa"
      },
      "source": [
        "#Count of unique data types\n",
        "data.get_dtype_counts()"
      ],
      "execution_count": 14,
      "outputs": [
        {
          "output_type": "stream",
          "text": [
            "/usr/local/lib/python3.6/dist-packages/ipykernel_launcher.py:1: FutureWarning: `get_dtype_counts` has been deprecated and will be removed in a future version. For DataFrames use `.dtypes.value_counts()\n",
            "  \"\"\"Entry point for launching an IPython kernel.\n"
          ],
          "name": "stderr"
        },
        {
          "output_type": "execute_result",
          "data": {
            "text/plain": [
              "float64    2\n",
              "int64      4\n",
              "object     4\n",
              "dtype: int64"
            ]
          },
          "metadata": {
            "tags": []
          },
          "execution_count": 14
        }
      ]
    },
    {
      "cell_type": "markdown",
      "metadata": {
        "id": "ZcA93O_I8oQD",
        "colab_type": "text"
      },
      "source": [
        "#Selecting data based on data types\n",
        "pandas.DataFrame.select_dtypes() returns a subset of the columns from dataframe based on the column dtypes"
      ]
    },
    {
      "cell_type": "code",
      "metadata": {
        "id": "o9EIo3in8Waj",
        "colab_type": "code",
        "colab": {}
      },
      "source": [
        "data_fil = data.select_dtypes(exclude=[object])"
      ],
      "execution_count": 0,
      "outputs": []
    },
    {
      "cell_type": "code",
      "metadata": {
        "id": "So0ScfxA83bC",
        "colab_type": "code",
        "colab": {
          "base_uri": "https://localhost:8080/",
          "height": 260
        },
        "outputId": "fe45b6ca-7cd9-410c-a613-479dfdd8ae4e"
      },
      "source": [
        "print(data_fil)"
      ],
      "execution_count": 16,
      "outputs": [
        {
          "output_type": "stream",
          "text": [
            "      Price   Age  MetColor  Automatic    CC  Weight\n",
            "0     13500  23.0       1.0          0  2000    1165\n",
            "1     13750  23.0       1.0          0  2000    1165\n",
            "2     13950  24.0       NaN          0  2000    1165\n",
            "3     14950  26.0       0.0          0  2000    1165\n",
            "4     13750  30.0       0.0          0  2000    1170\n",
            "...     ...   ...       ...        ...   ...     ...\n",
            "1431   7500   NaN       1.0          0  1300    1025\n",
            "1432  10845  72.0       0.0          0  1300    1015\n",
            "1433   8500   NaN       0.0          0  1300    1015\n",
            "1434   7250  70.0       1.0          0  1300    1015\n",
            "1435   6950  76.0       0.0          0  1600    1114\n",
            "\n",
            "[1436 rows x 6 columns]\n"
          ],
          "name": "stdout"
        }
      ]
    },
    {
      "cell_type": "markdown",
      "metadata": {
        "id": "qAjnroG89L2k",
        "colab_type": "text"
      },
      "source": [
        "#Summary of Dataframe\n",
        "Details about the data present in the dataframe maybe obtained using info function"
      ]
    },
    {
      "cell_type": "code",
      "metadata": {
        "id": "BwLNIwyH84y9",
        "colab_type": "code",
        "outputId": "48de94b6-6063-425c-c623-dcb34792fc70",
        "colab": {
          "base_uri": "https://localhost:8080/",
          "height": 278
        }
      },
      "source": [
        "data.info()"
      ],
      "execution_count": 17,
      "outputs": [
        {
          "output_type": "stream",
          "text": [
            "<class 'pandas.core.frame.DataFrame'>\n",
            "Int64Index: 1436 entries, 0 to 1435\n",
            "Data columns (total 10 columns):\n",
            "Price        1436 non-null int64\n",
            "Age          1336 non-null float64\n",
            "KM           1436 non-null object\n",
            "FuelType     1336 non-null object\n",
            "HP           1436 non-null object\n",
            "MetColor     1286 non-null float64\n",
            "Automatic    1436 non-null int64\n",
            "CC           1436 non-null int64\n",
            "Doors        1436 non-null object\n",
            "Weight       1436 non-null int64\n",
            "dtypes: float64(2), int64(4), object(4)\n",
            "memory usage: 123.4+ KB\n"
          ],
          "name": "stdout"
        }
      ]
    },
    {
      "cell_type": "markdown",
      "metadata": {
        "id": "gXLFKZcT-gcM",
        "colab_type": "text"
      },
      "source": [
        "#Analysis of Data in a Field\n",
        "\n",
        "To understand the datatype chosen by Pandas, let us look at the unique  elements of columns"
      ]
    },
    {
      "cell_type": "code",
      "metadata": {
        "id": "KgfF36ZC9dup",
        "colab_type": "code",
        "outputId": "d234a82e-b6b0-46db-e8a3-ae24b98ae885",
        "colab": {
          "base_uri": "https://localhost:8080/",
          "height": 486
        }
      },
      "source": [
        "#unique() of NumPyis used to find the unique elements of a column\n",
        "import numpy as np\n",
        "np.unique(data['Price'])"
      ],
      "execution_count": 19,
      "outputs": [
        {
          "output_type": "execute_result",
          "data": {
            "text/plain": [
              "array([ 4350,  4400,  4450,  4750,  5150,  5250,  5600,  5740,  5750,\n",
              "        5751,  5800,  5845,  5900,  5950,  6000,  6150,  6250,  6400,\n",
              "        6425,  6450,  6490,  6495,  6500,  6550,  6640,  6650,  6750,\n",
              "        6800,  6900,  6950,  6990,  6999,  7000,  7145,  7150,  7200,\n",
              "        7250,  7300,  7350,  7400,  7450,  7460,  7490,  7495,  7499,\n",
              "        7500,  7600,  7750,  7795,  7800,  7850,  7900,  7950,  7990,\n",
              "        7995,  7999,  8000,  8050,  8100,  8150,  8200,  8250,  8400,\n",
              "        8450,  8490,  8495,  8500,  8600,  8695,  8700,  8745,  8750,\n",
              "        8800,  8850,  8895,  8900,  8950,  8990,  8995,  9000,  9130,\n",
              "        9200,  9245,  9250,  9390,  9400,  9450,  9475,  9500,  9550,\n",
              "        9650,  9695,  9700,  9750,  9795,  9799,  9800,  9850,  9895,\n",
              "        9900,  9930,  9940,  9950,  9980,  9990,  9995, 10000, 10250,\n",
              "       10295, 10350, 10400, 10450, 10495, 10500, 10600, 10750, 10800,\n",
              "       10845, 10850, 10895, 10900, 10950, 10990, 10995, 11000, 11250,\n",
              "       11290, 11450, 11480, 11495, 11500, 11650, 11690, 11695, 11700,\n",
              "       11710, 11750, 11790, 11895, 11900, 11925, 11930, 11950, 11990,\n",
              "       12000, 12200, 12250, 12295, 12400, 12450, 12495, 12500, 12695,\n",
              "       12750, 12850, 12900, 12950, 12995, 13000, 13250, 13450, 13500,\n",
              "       13750, 13875, 13950, 13995, 14350, 14750, 14900, 14950, 14990,\n",
              "       15250, 15450, 15500, 15750, 15800, 15850, 15950, 15999, 16250,\n",
              "       16350, 16450, 16500, 16650, 16750, 16868, 16895, 16900, 16950,\n",
              "       17200, 17250, 17450, 17495, 17650, 17795, 17900, 17950, 18245,\n",
              "       18450, 18500, 18600, 18700, 18750, 18800, 18900, 18950, 18990,\n",
              "       19000, 19250, 19450, 19500, 19600, 19750, 19900, 19950, 20500,\n",
              "       20750, 20950, 21125, 21500, 21750, 21950, 22000, 22250, 22500,\n",
              "       22750, 22950, 23000, 23750, 23950, 24500, 24950, 24990, 31000,\n",
              "       31275, 32500])"
            ]
          },
          "metadata": {
            "tags": []
          },
          "execution_count": 19
        }
      ]
    },
    {
      "cell_type": "code",
      "metadata": {
        "id": "kTZy-8UJ-13a",
        "colab_type": "code",
        "outputId": "9510c086-4f62-4be6-aae2-29b1c5e1848d",
        "colab": {
          "base_uri": "https://localhost:8080/",
          "height": 260
        }
      },
      "source": [
        "np.unique(data['Age'])"
      ],
      "execution_count": 20,
      "outputs": [
        {
          "output_type": "execute_result",
          "data": {
            "text/plain": [
              "array([ 1.,  2.,  4.,  6.,  7.,  8.,  9., 10., 11., 12., 13., 14., 15.,\n",
              "       16., 17., 18., 19., 20., 22., 23., 24., 25., 26., 27., 28., 29.,\n",
              "       30., 31., 32., 33., 34., 35., 36., 37., 38., 39., 40., 41., 42.,\n",
              "       43., 44., 45., 46., 47., 48., 49., 50., 51., 52., 53., 54., 55.,\n",
              "       56., 57., 58., 59., 60., 61., 62., 63., 64., 65., 66., 67., 68.,\n",
              "       69., 70., 71., 72., 73., 74., 75., 76., 77., 78., 79., 80., nan,\n",
              "       nan, nan, nan, nan, nan, nan, nan, nan, nan, nan, nan, nan, nan,\n",
              "       nan, nan, nan, nan, nan, nan, nan, nan, nan, nan, nan, nan, nan,\n",
              "       nan, nan, nan, nan, nan, nan, nan, nan, nan, nan, nan, nan, nan,\n",
              "       nan, nan, nan, nan, nan, nan, nan, nan, nan, nan, nan, nan, nan,\n",
              "       nan, nan, nan, nan, nan, nan, nan, nan, nan, nan, nan, nan, nan,\n",
              "       nan, nan, nan, nan, nan, nan, nan, nan, nan, nan, nan, nan, nan,\n",
              "       nan, nan, nan, nan, nan, nan, nan, nan, nan, nan, nan, nan, nan,\n",
              "       nan, nan, nan, nan, nan, nan, nan, nan])"
            ]
          },
          "metadata": {
            "tags": []
          },
          "execution_count": 20
        }
      ]
    },
    {
      "cell_type": "code",
      "metadata": {
        "id": "ciRX9mVA_NVH",
        "colab_type": "code",
        "outputId": "1d4f497d-f65d-4654-b46a-0609bf7d9878",
        "colab": {
          "base_uri": "https://localhost:8080/",
          "height": 34
        }
      },
      "source": [
        "np.unique(data['KM'])"
      ],
      "execution_count": 21,
      "outputs": [
        {
          "output_type": "execute_result",
          "data": {
            "text/plain": [
              "array(['1', '10000', '100123', ..., '99865', '99971', '??'], dtype=object)"
            ]
          },
          "metadata": {
            "tags": []
          },
          "execution_count": 21
        }
      ]
    },
    {
      "cell_type": "code",
      "metadata": {
        "id": "NecqARu0_gw-",
        "colab_type": "code",
        "colab": {
          "base_uri": "https://localhost:8080/",
          "height": 34
        },
        "outputId": "1893189f-81d1-41a8-ff1b-c1d208e8b81c"
      },
      "source": [
        "print(np.unique(data['HP']))"
      ],
      "execution_count": 23,
      "outputs": [
        {
          "output_type": "stream",
          "text": [
            "['107' '110' '116' '192' '69' '71' '72' '73' '86' '90' '97' '98' '????']\n"
          ],
          "name": "stdout"
        }
      ]
    },
    {
      "cell_type": "code",
      "metadata": {
        "id": "B7HXdPXbC1Q2",
        "colab_type": "code",
        "colab": {
          "base_uri": "https://localhost:8080/",
          "height": 173
        },
        "outputId": "3994e8ce-0267-47f4-9954-43763a46469d"
      },
      "source": [
        "print(np.unique(data['MetColor']))"
      ],
      "execution_count": 25,
      "outputs": [
        {
          "output_type": "stream",
          "text": [
            "[ 0.  1. nan nan nan nan nan nan nan nan nan nan nan nan nan nan nan nan\n",
            " nan nan nan nan nan nan nan nan nan nan nan nan nan nan nan nan nan nan\n",
            " nan nan nan nan nan nan nan nan nan nan nan nan nan nan nan nan nan nan\n",
            " nan nan nan nan nan nan nan nan nan nan nan nan nan nan nan nan nan nan\n",
            " nan nan nan nan nan nan nan nan nan nan nan nan nan nan nan nan nan nan\n",
            " nan nan nan nan nan nan nan nan nan nan nan nan nan nan nan nan nan nan\n",
            " nan nan nan nan nan nan nan nan nan nan nan nan nan nan nan nan nan nan\n",
            " nan nan nan nan nan nan nan nan nan nan nan nan nan nan nan nan nan nan\n",
            " nan nan nan nan nan nan nan nan]\n"
          ],
          "name": "stdout"
        }
      ]
    },
    {
      "cell_type": "code",
      "metadata": {
        "id": "MtxG85lQDYUt",
        "colab_type": "code",
        "colab": {
          "base_uri": "https://localhost:8080/",
          "height": 34
        },
        "outputId": "ea728f61-c8a5-496d-9d52-b85f1e0ff556"
      },
      "source": [
        "print(np.unique(data['Automatic']))"
      ],
      "execution_count": 26,
      "outputs": [
        {
          "output_type": "stream",
          "text": [
            "[0 1]\n"
          ],
          "name": "stdout"
        }
      ]
    },
    {
      "cell_type": "code",
      "metadata": {
        "id": "8s_hbEzXDedd",
        "colab_type": "code",
        "colab": {
          "base_uri": "https://localhost:8080/",
          "height": 34
        },
        "outputId": "4b494001-8201-417a-c569-362bf97c86c0"
      },
      "source": [
        "print(np.unique(data['Doors']))"
      ],
      "execution_count": 27,
      "outputs": [
        {
          "output_type": "stream",
          "text": [
            "['2' '3' '4' '5' 'five' 'four' 'three']\n"
          ],
          "name": "stdout"
        }
      ]
    },
    {
      "cell_type": "markdown",
      "metadata": {
        "id": "4QXqoGwGDlnL",
        "colab_type": "text"
      },
      "source": [
        "## Since values five, four and three are read as strings, datatype is treated as object instead of integer"
      ]
    },
    {
      "cell_type": "markdown",
      "metadata": {
        "id": "5VESwyI21uV0",
        "colab_type": "text"
      },
      "source": [
        "#Handling Missing Values\n",
        "\n",
        "1.   Missing values exist in the form of 'nan', '??', '????'\n",
        "2.   Python by default replace blank with 'nan'\n",
        "\n"
      ]
    },
    {
      "cell_type": "code",
      "metadata": {
        "id": "1rAnNMX5_muk",
        "colab_type": "code",
        "colab": {}
      },
      "source": [
        "data = pd.read_csv(root_path+'/Toyota.csv',index_col=0,na_values=[\"??\",\"???\"])"
      ],
      "execution_count": 0,
      "outputs": []
    },
    {
      "cell_type": "code",
      "metadata": {
        "id": "vS_JYmdl1sOi",
        "colab_type": "code",
        "outputId": "c95ff70d-5fd1-4e52-e148-78581c728435",
        "colab": {
          "base_uri": "https://localhost:8080/",
          "height": 260
        }
      },
      "source": [
        "print(data)"
      ],
      "execution_count": 29,
      "outputs": [
        {
          "output_type": "stream",
          "text": [
            "      Price   Age       KM FuelType  ... Automatic    CC  Doors  Weight\n",
            "0     13500  23.0  46986.0   Diesel  ...         0  2000  three    1165\n",
            "1     13750  23.0  72937.0   Diesel  ...         0  2000      3    1165\n",
            "2     13950  24.0  41711.0   Diesel  ...         0  2000      3    1165\n",
            "3     14950  26.0  48000.0   Diesel  ...         0  2000      3    1165\n",
            "4     13750  30.0  38500.0   Diesel  ...         0  2000      3    1170\n",
            "...     ...   ...      ...      ...  ...       ...   ...    ...     ...\n",
            "1431   7500   NaN  20544.0   Petrol  ...         0  1300      3    1025\n",
            "1432  10845  72.0      NaN   Petrol  ...         0  1300      3    1015\n",
            "1433   8500   NaN  17016.0   Petrol  ...         0  1300      3    1015\n",
            "1434   7250  70.0      NaN      NaN  ...         0  1300      3    1015\n",
            "1435   6950  76.0      1.0   Petrol  ...         0  1600      5    1114\n",
            "\n",
            "[1436 rows x 10 columns]\n"
          ],
          "name": "stdout"
        }
      ]
    },
    {
      "cell_type": "code",
      "metadata": {
        "id": "aAhapLWt2rVe",
        "colab_type": "code",
        "outputId": "9edd4735-785d-455a-fc12-80ba360d1cdc",
        "colab": {
          "base_uri": "https://localhost:8080/",
          "height": 278
        }
      },
      "source": [
        "data.info()"
      ],
      "execution_count": 30,
      "outputs": [
        {
          "output_type": "stream",
          "text": [
            "<class 'pandas.core.frame.DataFrame'>\n",
            "Int64Index: 1436 entries, 0 to 1435\n",
            "Data columns (total 10 columns):\n",
            "Price        1436 non-null int64\n",
            "Age          1336 non-null float64\n",
            "KM           1421 non-null float64\n",
            "FuelType     1336 non-null object\n",
            "HP           1436 non-null object\n",
            "MetColor     1286 non-null float64\n",
            "Automatic    1436 non-null int64\n",
            "CC           1436 non-null int64\n",
            "Doors        1436 non-null object\n",
            "Weight       1436 non-null int64\n",
            "dtypes: float64(3), int64(4), object(3)\n",
            "memory usage: 123.4+ KB\n"
          ],
          "name": "stdout"
        }
      ]
    },
    {
      "cell_type": "markdown",
      "metadata": {
        "id": "eGIjoRxR3RaH",
        "colab_type": "text"
      },
      "source": [
        "# Changing datatype\n",
        "astype() method is used to explicitly convert data types from one to another"
      ]
    },
    {
      "cell_type": "code",
      "metadata": {
        "id": "OLS_nhgH21S2",
        "colab_type": "code",
        "colab": {}
      },
      "source": [
        "# Changing 'MetColor' and 'Automatic' to object data type\n",
        "data['MetColor'] = data['MetColor'].astype('object')"
      ],
      "execution_count": 0,
      "outputs": []
    },
    {
      "cell_type": "code",
      "metadata": {
        "id": "K8jiVEjOE8mb",
        "colab_type": "code",
        "colab": {}
      },
      "source": [
        "# Changing 'MetColor' and 'Automatic' to object data type\n",
        "data['Automatic'] = data['Automatic'].astype('object')"
      ],
      "execution_count": 0,
      "outputs": []
    },
    {
      "cell_type": "code",
      "metadata": {
        "id": "K4_tEihE3I4Y",
        "colab_type": "code",
        "outputId": "8273be42-9e8a-492a-e7bb-2834b4bd8d6b",
        "colab": {
          "base_uri": "https://localhost:8080/",
          "height": 278
        }
      },
      "source": [
        "data.info()"
      ],
      "execution_count": 35,
      "outputs": [
        {
          "output_type": "stream",
          "text": [
            "<class 'pandas.core.frame.DataFrame'>\n",
            "Int64Index: 1436 entries, 0 to 1435\n",
            "Data columns (total 10 columns):\n",
            "Price        1436 non-null int64\n",
            "Age          1336 non-null float64\n",
            "KM           1421 non-null float64\n",
            "FuelType     1336 non-null object\n",
            "HP           1436 non-null object\n",
            "MetColor     1286 non-null object\n",
            "Automatic    1436 non-null object\n",
            "CC           1436 non-null int64\n",
            "Doors        1436 non-null object\n",
            "Weight       1436 non-null int64\n",
            "dtypes: float64(2), int64(3), object(5)\n",
            "memory usage: 123.4+ KB\n"
          ],
          "name": "stdout"
        }
      ]
    },
    {
      "cell_type": "markdown",
      "metadata": {
        "id": "n0v6f0ke7fdb",
        "colab_type": "text"
      },
      "source": [
        "# Category Vs Object Datatype\n",
        "Memory consumed can be checked with nbytes"
      ]
    },
    {
      "cell_type": "code",
      "metadata": {
        "id": "tT9xI5503Mgd",
        "colab_type": "code",
        "outputId": "18a8d3e5-45b9-4065-ccdc-d4c3ce940f96",
        "colab": {
          "base_uri": "https://localhost:8080/",
          "height": 34
        }
      },
      "source": [
        "data['FuelType'].nbytes"
      ],
      "execution_count": 36,
      "outputs": [
        {
          "output_type": "execute_result",
          "data": {
            "text/plain": [
              "11488"
            ]
          },
          "metadata": {
            "tags": []
          },
          "execution_count": 36
        }
      ]
    },
    {
      "cell_type": "code",
      "metadata": {
        "id": "bPUjg0AQFkZg",
        "colab_type": "code",
        "colab": {
          "base_uri": "https://localhost:8080/",
          "height": 34
        },
        "outputId": "56265da0-b1e1-48e0-813f-ffd6a2f5b62d"
      },
      "source": [
        "data['FuelType'].astype('category').nbytes # will not make changes"
      ],
      "execution_count": 42,
      "outputs": [
        {
          "output_type": "execute_result",
          "data": {
            "text/plain": [
              "1460"
            ]
          },
          "metadata": {
            "tags": []
          },
          "execution_count": 42
        }
      ]
    },
    {
      "cell_type": "code",
      "metadata": {
        "id": "zY2bin8oGVhA",
        "colab_type": "code",
        "colab": {
          "base_uri": "https://localhost:8080/",
          "height": 278
        },
        "outputId": "66b4a738-d2de-45a4-bb56-786b08c431e0"
      },
      "source": [
        "data.info()"
      ],
      "execution_count": 43,
      "outputs": [
        {
          "output_type": "stream",
          "text": [
            "<class 'pandas.core.frame.DataFrame'>\n",
            "Int64Index: 1436 entries, 0 to 1435\n",
            "Data columns (total 10 columns):\n",
            "Price        1436 non-null int64\n",
            "Age          1336 non-null float64\n",
            "KM           1421 non-null float64\n",
            "FuelType     1336 non-null category\n",
            "HP           1436 non-null object\n",
            "MetColor     1286 non-null object\n",
            "Automatic    1436 non-null object\n",
            "CC           1436 non-null int64\n",
            "Doors        1436 non-null object\n",
            "Weight       1436 non-null int64\n",
            "dtypes: category(1), float64(2), int64(3), object(4)\n",
            "memory usage: 113.7+ KB\n"
          ],
          "name": "stdout"
        }
      ]
    },
    {
      "cell_type": "code",
      "metadata": {
        "id": "C8ojtH4gGBBN",
        "colab_type": "code",
        "colab": {}
      },
      "source": [
        "data['FuelType'] = data['FuelType'].astype('category') # datatype of FuelType is changed"
      ],
      "execution_count": 0,
      "outputs": []
    },
    {
      "cell_type": "code",
      "metadata": {
        "id": "hAX6x_YaF4g1",
        "colab_type": "code",
        "colab": {
          "base_uri": "https://localhost:8080/",
          "height": 278
        },
        "outputId": "1fb4bc8d-8847-4db6-b722-9c92ce9fef97"
      },
      "source": [
        "data.info()"
      ],
      "execution_count": 49,
      "outputs": [
        {
          "output_type": "stream",
          "text": [
            "<class 'pandas.core.frame.DataFrame'>\n",
            "Int64Index: 1436 entries, 0 to 1435\n",
            "Data columns (total 10 columns):\n",
            "Price        1436 non-null int64\n",
            "Age          1336 non-null float64\n",
            "KM           1421 non-null float64\n",
            "FuelType     1336 non-null object\n",
            "HP           1436 non-null object\n",
            "MetColor     1286 non-null object\n",
            "Automatic    1436 non-null object\n",
            "CC           1436 non-null int64\n",
            "Doors        1436 non-null object\n",
            "Weight       1436 non-null int64\n",
            "dtypes: float64(2), int64(3), object(5)\n",
            "memory usage: 123.4+ KB\n"
          ],
          "name": "stdout"
        }
      ]
    },
    {
      "cell_type": "markdown",
      "metadata": {
        "id": "9YDbkwX8_dOA",
        "colab_type": "text"
      },
      "source": [
        "#Replacing values in dataframe with desired values"
      ]
    },
    {
      "cell_type": "code",
      "metadata": {
        "id": "Lum4htLh7VX0",
        "colab_type": "code",
        "colab": {}
      },
      "source": [
        "data['Doors'].replace('three',3,inplace=True)\n",
        "data['Doors'].replace('four',4,inplace=True)\n",
        "data['Doors'].replace('five',5,inplace=True)\n"
      ],
      "execution_count": 0,
      "outputs": []
    },
    {
      "cell_type": "code",
      "metadata": {
        "id": "kBV6MPH8IYbF",
        "colab_type": "code",
        "colab": {}
      },
      "source": [
        "data['Doors']=data['Doors'].astype('int64')"
      ],
      "execution_count": 0,
      "outputs": []
    },
    {
      "cell_type": "code",
      "metadata": {
        "id": "ykFc_K6R_1xF",
        "colab_type": "code",
        "outputId": "b1d614d7-5018-4860-d85d-8a6270b9c794",
        "colab": {
          "base_uri": "https://localhost:8080/",
          "height": 260
        }
      },
      "source": [
        "print(data)"
      ],
      "execution_count": 56,
      "outputs": [
        {
          "output_type": "stream",
          "text": [
            "<bound method DataFrame.info of       Price   Age       KM FuelType  ... Automatic    CC Doors  Weight\n",
            "0     13500  23.0  46986.0   Diesel  ...         0  2000     3    1165\n",
            "1     13750  23.0  72937.0   Diesel  ...         0  2000     3    1165\n",
            "2     13950  24.0  41711.0   Diesel  ...         0  2000     3    1165\n",
            "3     14950  26.0  48000.0   Diesel  ...         0  2000     3    1165\n",
            "4     13750  30.0  38500.0   Diesel  ...         0  2000     3    1170\n",
            "...     ...   ...      ...      ...  ...       ...   ...   ...     ...\n",
            "1431   7500   NaN  20544.0   Petrol  ...         0  1300     3    1025\n",
            "1432  10845  72.0      NaN   Petrol  ...         0  1300     3    1015\n",
            "1433   8500   NaN  17016.0   Petrol  ...         0  1300     3    1015\n",
            "1434   7250  70.0      NaN      NaN  ...         0  1300     3    1015\n",
            "1435   6950  76.0      1.0   Petrol  ...         0  1600     5    1114\n",
            "\n",
            "[1436 rows x 10 columns]>\n"
          ],
          "name": "stdout"
        }
      ]
    },
    {
      "cell_type": "markdown",
      "metadata": {
        "id": "fZUa6e6j_-EQ",
        "colab_type": "text"
      },
      "source": [
        "# Identify Missing Values in a column"
      ]
    },
    {
      "cell_type": "code",
      "metadata": {
        "id": "4QQ8qjulAGAx",
        "colab_type": "code",
        "outputId": "acd05516-7cee-43c2-ce83-06943dcf7771",
        "colab": {
          "base_uri": "https://localhost:8080/",
          "height": 208
        }
      },
      "source": [
        "data.isnull().sum()"
      ],
      "execution_count": 57,
      "outputs": [
        {
          "output_type": "execute_result",
          "data": {
            "text/plain": [
              "Price          0\n",
              "Age          100\n",
              "KM            15\n",
              "FuelType     100\n",
              "HP             0\n",
              "MetColor     150\n",
              "Automatic      0\n",
              "CC             0\n",
              "Doors          0\n",
              "Weight         0\n",
              "dtype: int64"
            ]
          },
          "metadata": {
            "tags": []
          },
          "execution_count": 57
        }
      ]
    },
    {
      "cell_type": "code",
      "metadata": {
        "id": "DFycO6xw_39Y",
        "colab_type": "code",
        "colab": {}
      },
      "source": [
        ""
      ],
      "execution_count": 0,
      "outputs": []
    }
  ]
}