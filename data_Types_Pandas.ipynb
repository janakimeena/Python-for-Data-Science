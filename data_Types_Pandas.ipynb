{
  "nbformat": 4,
  "nbformat_minor": 0,
  "metadata": {
    "colab": {
      "name": "data_Types_Pandas.ipynb",
      "provenance": [],
      "collapsed_sections": []
    },
    "kernelspec": {
      "name": "python3",
      "display_name": "Python 3"
    }
  },
  "cells": [
    {
      "cell_type": "code",
      "metadata": {
        "id": "-zSxPz7lnOeU",
        "colab_type": "code",
        "outputId": "4059b805-7c19-49be-c641-6c96f33dd18a",
        "colab": {
          "base_uri": "https://localhost:8080/",
          "height": 124
        }
      },
      "source": [
        "from google.colab import drive\n",
        "drive.mount('/content/gdrive',force_remount=True)\n",
        "root_path = 'gdrive/My Drive/DataSets'"
      ],
      "execution_count": 1,
      "outputs": [
        {
          "output_type": "stream",
          "text": [
            "Go to this URL in a browser: https://accounts.google.com/o/oauth2/auth?client_id=947318989803-6bn6qk8qdgf4n4g3pfee6491hc0brc4i.apps.googleusercontent.com&redirect_uri=urn%3Aietf%3Awg%3Aoauth%3A2.0%3Aoob&scope=email%20https%3A%2F%2Fwww.googleapis.com%2Fauth%2Fdocs.test%20https%3A%2F%2Fwww.googleapis.com%2Fauth%2Fdrive%20https%3A%2F%2Fwww.googleapis.com%2Fauth%2Fdrive.photos.readonly%20https%3A%2F%2Fwww.googleapis.com%2Fauth%2Fpeopleapi.readonly&response_type=code\n",
            "\n",
            "Enter your authorization code:\n",
            "··········\n",
            "Mounted at /content/gdrive\n"
          ],
          "name": "stdout"
        }
      ]
    },
    {
      "cell_type": "code",
      "metadata": {
        "id": "vBKLczrKnb0P",
        "colab_type": "code",
        "colab": {}
      },
      "source": [
        "import pandas as pd\n",
        "data = pd.read_csv(root_path+'/Iris_data_sample.csv')"
      ],
      "execution_count": 0,
      "outputs": []
    },
    {
      "cell_type": "code",
      "metadata": {
        "id": "ZC9mQ4yHzdjB",
        "colab_type": "code",
        "colab": {}
      },
      "source": [
        "print(data)"
      ],
      "execution_count": 0,
      "outputs": []
    },
    {
      "cell_type": "markdown",
      "metadata": {
        "id": "j_CeT9Mc28Cy",
        "colab_type": "text"
      },
      "source": [
        "#Data Types\n",
        "Datatype of information stored in dataframe has an impact on the analysis and outputs of calculations\n",
        "\n",
        "Two main types of data\n",
        "\n",
        "\n",
        "*   Numeric\n",
        "*   Character\n",
        "\n",
        "Numeric type includes integers and floats\n",
        "\n",
        "Strings are called as objects in Pandas which can contain mixture of numbers and characters\n",
        "\n"
      ]
    },
    {
      "cell_type": "markdown",
      "metadata": {
        "id": "oGHLwmBX6t4y",
        "colab_type": "text"
      },
      "source": [
        "## Numerical Datatypes\n",
        "\n",
        "int64 and float64 are numerical datatypes of Pandas whereas Python uses int and float\n",
        "\n",
        "'64' refers to the number of bits allocated\n",
        "\n",
        "Allocating space ahead of time allows computers to optimize storage and process data efficiently"
      ]
    },
    {
      "cell_type": "markdown",
      "metadata": {
        "id": "rl2mp8Vu7m5B",
        "colab_type": "text"
      },
      "source": [
        "## Character Datatypes\n",
        "\n",
        "Category and Object are the two types of character datatypes. By default Pandas assign object datatype when there is mixture of characters and numericals in the field\n",
        "\n",
        "Categorical variable takes limited number of possible values hence better performance"
      ]
    },
    {
      "cell_type": "markdown",
      "metadata": {
        "id": "0Iww76GN4AZH",
        "colab_type": "text"
      },
      "source": [
        "# Checking Datatypes"
      ]
    },
    {
      "cell_type": "code",
      "metadata": {
        "id": "0jZfygDezfuB",
        "colab_type": "code",
        "colab": {}
      },
      "source": [
        "data.dtypes"
      ],
      "execution_count": 0,
      "outputs": []
    },
    {
      "cell_type": "code",
      "metadata": {
        "id": "K0fAJP_84XbD",
        "colab_type": "code",
        "colab": {}
      },
      "source": [
        "#Count of unique data types\n",
        "data.get_dtype_counts()"
      ],
      "execution_count": 0,
      "outputs": []
    },
    {
      "cell_type": "markdown",
      "metadata": {
        "id": "ZcA93O_I8oQD",
        "colab_type": "text"
      },
      "source": [
        "#Selecting data based on data types\n",
        "pandas.DataFrame.select_dtypes() returns a subset of the columns from dataframe based on the column dtypes"
      ]
    },
    {
      "cell_type": "code",
      "metadata": {
        "id": "o9EIo3in8Waj",
        "colab_type": "code",
        "colab": {}
      },
      "source": [
        "data_fil = data.select_dtypes(exclude=[object])"
      ],
      "execution_count": 0,
      "outputs": []
    },
    {
      "cell_type": "code",
      "metadata": {
        "id": "So0ScfxA83bC",
        "colab_type": "code",
        "colab": {}
      },
      "source": [
        "print(data_fil)"
      ],
      "execution_count": 0,
      "outputs": []
    },
    {
      "cell_type": "markdown",
      "metadata": {
        "id": "qAjnroG89L2k",
        "colab_type": "text"
      },
      "source": [
        "#Summary of Dataframe\n",
        "Details about the data present in the dataframe maybe obtained using info function"
      ]
    },
    {
      "cell_type": "code",
      "metadata": {
        "id": "BwLNIwyH84y9",
        "colab_type": "code",
        "outputId": "90ce8f86-27cd-49c2-b570-aad385072683",
        "colab": {
          "base_uri": "https://localhost:8080/",
          "height": 208
        }
      },
      "source": [
        "data.info()"
      ],
      "execution_count": 0,
      "outputs": [
        {
          "output_type": "stream",
          "text": [
            "<class 'pandas.core.frame.DataFrame'>\n",
            "RangeIndex: 150 entries, 0 to 149\n",
            "Data columns (total 6 columns):\n",
            "Unnamed: 0       150 non-null int64\n",
            "SepalLengthCm    150 non-null object\n",
            "SepalWidthCm     149 non-null float64\n",
            "PetalLengthCm    149 non-null object\n",
            "PetalWidthCm     150 non-null float64\n",
            "Species          149 non-null object\n",
            "dtypes: float64(2), int64(1), object(3)\n",
            "memory usage: 7.2+ KB\n"
          ],
          "name": "stdout"
        }
      ]
    },
    {
      "cell_type": "markdown",
      "metadata": {
        "id": "gXLFKZcT-gcM",
        "colab_type": "text"
      },
      "source": [
        "#Analysis of Data in a Field\n",
        "\n",
        "To understand the datatype chosen by Pandas, let us look at the unique  elements of columns"
      ]
    },
    {
      "cell_type": "code",
      "metadata": {
        "id": "KgfF36ZC9dup",
        "colab_type": "code",
        "outputId": "02480ba5-39c1-445e-b03c-3ee571077baa",
        "colab": {
          "base_uri": "https://localhost:8080/",
          "height": 86
        }
      },
      "source": [
        "#unique() of NumPyis used to find the unique elements of a column\n",
        "import numpy as np\n",
        "np.unique(data['SepalLengthCm'])"
      ],
      "execution_count": 0,
      "outputs": [
        {
          "output_type": "execute_result",
          "data": {
            "text/plain": [
              "array(['4.3', '4.4', '4.5', '4.6', '4.7', '4.8', '4.9', '5', '5.1', '5.2',\n",
              "       '5.3', '5.4', '5.5', '5.6', '5.7', '5.8', '5.9', '6', '6.1', '6.2',\n",
              "       '6.3', '6.4', '6.5', '6.6', '6.7', '6.8', '6.9', '7', '7.1', '7.2',\n",
              "       '7.3', '7.4', '7.6', '7.7', '7.9', '??'], dtype=object)"
            ]
          },
          "metadata": {
            "tags": []
          },
          "execution_count": 17
        }
      ]
    },
    {
      "cell_type": "code",
      "metadata": {
        "id": "kTZy-8UJ-13a",
        "colab_type": "code",
        "outputId": "af34393b-09b6-4bff-a542-2ef434428cf3",
        "colab": {
          "base_uri": "https://localhost:8080/",
          "height": 52
        }
      },
      "source": [
        "np.unique(data['PetalWidthCm'])"
      ],
      "execution_count": 0,
      "outputs": [
        {
          "output_type": "execute_result",
          "data": {
            "text/plain": [
              "array([0.1, 0.2, 0.3, 0.4, 0.5, 0.6, 1. , 1.1, 1.2, 1.3, 1.4, 1.5, 1.6,\n",
              "       1.7, 1.8, 1.9, 2. , 2.1, 2.2, 2.3, 2.4, 2.5])"
            ]
          },
          "metadata": {
            "tags": []
          },
          "execution_count": 19
        }
      ]
    },
    {
      "cell_type": "code",
      "metadata": {
        "id": "ciRX9mVA_NVH",
        "colab_type": "code",
        "outputId": "02c5983b-c19a-4132-fa18-ad6005f98ea1",
        "colab": {
          "base_uri": "https://localhost:8080/",
          "height": 52
        }
      },
      "source": [
        "np.unique(data['SepalWidthCm'])"
      ],
      "execution_count": 0,
      "outputs": [
        {
          "output_type": "execute_result",
          "data": {
            "text/plain": [
              "array([2. , 2.2, 2.3, 2.4, 2.5, 2.6, 2.7, 2.8, 2.9, 3. , 3.1, 3.2, 3.3,\n",
              "       3.4, 3.5, 3.6, 3.7, 3.8, 3.9, 4. , 4.1, 4.2, 4.4, nan])"
            ]
          },
          "metadata": {
            "tags": []
          },
          "execution_count": 20
        }
      ]
    },
    {
      "cell_type": "code",
      "metadata": {
        "id": "NecqARu0_gw-",
        "colab_type": "code",
        "colab": {}
      },
      "source": [
        "print(np.unique(data['Species']))"
      ],
      "execution_count": 0,
      "outputs": []
    },
    {
      "cell_type": "markdown",
      "metadata": {
        "id": "5VESwyI21uV0",
        "colab_type": "text"
      },
      "source": [
        "#Handling Missing Values\n",
        "\n",
        "1.   Missing values exist in the form of 'nan', '??', '????'\n",
        "2.   Python by default replace blank with 'nan'\n",
        "\n"
      ]
    },
    {
      "cell_type": "code",
      "metadata": {
        "id": "1rAnNMX5_muk",
        "colab_type": "code",
        "colab": {}
      },
      "source": [
        "data = pd.read_csv(root_path+'/Iris_data_sample.csv',index_col=0,na_values=[\"??\",\"###\"])"
      ],
      "execution_count": 0,
      "outputs": []
    },
    {
      "cell_type": "code",
      "metadata": {
        "id": "vS_JYmdl1sOi",
        "colab_type": "code",
        "colab": {}
      },
      "source": [
        "print(data)"
      ],
      "execution_count": 0,
      "outputs": []
    },
    {
      "cell_type": "code",
      "metadata": {
        "id": "aAhapLWt2rVe",
        "colab_type": "code",
        "colab": {
          "base_uri": "https://localhost:8080/",
          "height": 191
        },
        "outputId": "ffc8cd66-9527-4ee2-c760-1f14a01ebdf2"
      },
      "source": [
        "data.info()"
      ],
      "execution_count": 9,
      "outputs": [
        {
          "output_type": "stream",
          "text": [
            "<class 'pandas.core.frame.DataFrame'>\n",
            "Int64Index: 150 entries, 1 to 150\n",
            "Data columns (total 5 columns):\n",
            "SepalLengthCm    149 non-null float64\n",
            "SepalWidthCm     149 non-null float64\n",
            "PetalLengthCm    148 non-null float64\n",
            "PetalWidthCm     150 non-null float64\n",
            "Species          149 non-null object\n",
            "dtypes: float64(4), object(1)\n",
            "memory usage: 7.0+ KB\n"
          ],
          "name": "stdout"
        }
      ]
    },
    {
      "cell_type": "markdown",
      "metadata": {
        "id": "eGIjoRxR3RaH",
        "colab_type": "text"
      },
      "source": [
        "# Changing datatype\n",
        "astype() method is used to explicitly convert data types from one to another"
      ]
    },
    {
      "cell_type": "code",
      "metadata": {
        "id": "OLS_nhgH21S2",
        "colab_type": "code",
        "colab": {}
      },
      "source": [
        "data['Species'] = data['Species'].astype('category')"
      ],
      "execution_count": 0,
      "outputs": []
    },
    {
      "cell_type": "code",
      "metadata": {
        "id": "K4_tEihE3I4Y",
        "colab_type": "code",
        "colab": {
          "base_uri": "https://localhost:8080/",
          "height": 191
        },
        "outputId": "81b60fe7-5b24-4ff7-bddd-05789c362e8a"
      },
      "source": [
        "data.info()"
      ],
      "execution_count": 11,
      "outputs": [
        {
          "output_type": "stream",
          "text": [
            "<class 'pandas.core.frame.DataFrame'>\n",
            "Int64Index: 150 entries, 1 to 150\n",
            "Data columns (total 5 columns):\n",
            "SepalLengthCm    149 non-null float64\n",
            "SepalWidthCm     149 non-null float64\n",
            "PetalLengthCm    148 non-null float64\n",
            "PetalWidthCm     150 non-null float64\n",
            "Species          149 non-null category\n",
            "dtypes: category(1), float64(4)\n",
            "memory usage: 6.1 KB\n"
          ],
          "name": "stdout"
        }
      ]
    },
    {
      "cell_type": "code",
      "metadata": {
        "id": "tT9xI5503Mgd",
        "colab_type": "code",
        "colab": {}
      },
      "source": [
        ""
      ],
      "execution_count": 0,
      "outputs": []
    }
  ]
}