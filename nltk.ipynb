{
  "nbformat": 4,
  "nbformat_minor": 0,
  "metadata": {
    "colab": {
      "name": "nltk.ipynb",
      "provenance": [],
      "collapsed_sections": [],
      "toc_visible": true,
      "include_colab_link": true
    },
    "kernelspec": {
      "name": "python3",
      "display_name": "Python 3"
    }
  },
  "cells": [
    {
      "cell_type": "markdown",
      "metadata": {
        "id": "view-in-github",
        "colab_type": "text"
      },
      "source": [
        "<a href=\"https://colab.research.google.com/github/janakimeena/Python-for-Data-Science/blob/master/nltk.ipynb\" target=\"_parent\"><img src=\"https://colab.research.google.com/assets/colab-badge.svg\" alt=\"Open In Colab\"/></a>"
      ]
    },
    {
      "cell_type": "code",
      "metadata": {
        "id": "Wx8MB_tRlZpr",
        "colab_type": "code",
        "colab": {
          "base_uri": "https://localhost:8080/",
          "height": 833
        },
        "outputId": "fec07894-9ab2-4bd8-d84f-f9619215721f"
      },
      "source": [
        "import nltk\n",
        "nltk.download(\"popular\")\n"
      ],
      "execution_count": 9,
      "outputs": [
        {
          "output_type": "stream",
          "text": [
            "[nltk_data] Downloading collection 'popular'\n",
            "[nltk_data]    | \n",
            "[nltk_data]    | Downloading package cmudict to /root/nltk_data...\n",
            "[nltk_data]    |   Unzipping corpora/cmudict.zip.\n",
            "[nltk_data]    | Downloading package gazetteers to /root/nltk_data...\n",
            "[nltk_data]    |   Unzipping corpora/gazetteers.zip.\n",
            "[nltk_data]    | Downloading package genesis to /root/nltk_data...\n",
            "[nltk_data]    |   Unzipping corpora/genesis.zip.\n",
            "[nltk_data]    | Downloading package gutenberg to /root/nltk_data...\n",
            "[nltk_data]    |   Unzipping corpora/gutenberg.zip.\n",
            "[nltk_data]    | Downloading package inaugural to /root/nltk_data...\n",
            "[nltk_data]    |   Unzipping corpora/inaugural.zip.\n",
            "[nltk_data]    | Downloading package movie_reviews to\n",
            "[nltk_data]    |     /root/nltk_data...\n",
            "[nltk_data]    |   Unzipping corpora/movie_reviews.zip.\n",
            "[nltk_data]    | Downloading package names to /root/nltk_data...\n",
            "[nltk_data]    |   Unzipping corpora/names.zip.\n",
            "[nltk_data]    | Downloading package shakespeare to /root/nltk_data...\n",
            "[nltk_data]    |   Unzipping corpora/shakespeare.zip.\n",
            "[nltk_data]    | Downloading package stopwords to /root/nltk_data...\n",
            "[nltk_data]    |   Unzipping corpora/stopwords.zip.\n",
            "[nltk_data]    | Downloading package treebank to /root/nltk_data...\n",
            "[nltk_data]    |   Unzipping corpora/treebank.zip.\n",
            "[nltk_data]    | Downloading package twitter_samples to\n",
            "[nltk_data]    |     /root/nltk_data...\n",
            "[nltk_data]    |   Unzipping corpora/twitter_samples.zip.\n",
            "[nltk_data]    | Downloading package omw to /root/nltk_data...\n",
            "[nltk_data]    |   Unzipping corpora/omw.zip.\n",
            "[nltk_data]    | Downloading package wordnet to /root/nltk_data...\n",
            "[nltk_data]    |   Unzipping corpora/wordnet.zip.\n",
            "[nltk_data]    | Downloading package wordnet_ic to /root/nltk_data...\n",
            "[nltk_data]    |   Unzipping corpora/wordnet_ic.zip.\n",
            "[nltk_data]    | Downloading package words to /root/nltk_data...\n",
            "[nltk_data]    |   Unzipping corpora/words.zip.\n",
            "[nltk_data]    | Downloading package maxent_ne_chunker to\n",
            "[nltk_data]    |     /root/nltk_data...\n",
            "[nltk_data]    |   Unzipping chunkers/maxent_ne_chunker.zip.\n",
            "[nltk_data]    | Downloading package punkt to /root/nltk_data...\n",
            "[nltk_data]    |   Unzipping tokenizers/punkt.zip.\n",
            "[nltk_data]    | Downloading package snowball_data to\n",
            "[nltk_data]    |     /root/nltk_data...\n",
            "[nltk_data]    | Downloading package averaged_perceptron_tagger to\n",
            "[nltk_data]    |     /root/nltk_data...\n",
            "[nltk_data]    |   Unzipping taggers/averaged_perceptron_tagger.zip.\n",
            "[nltk_data]    | \n",
            "[nltk_data]  Done downloading collection popular\n"
          ],
          "name": "stdout"
        },
        {
          "output_type": "execute_result",
          "data": {
            "text/plain": [
              "True"
            ]
          },
          "metadata": {
            "tags": []
          },
          "execution_count": 9
        }
      ]
    },
    {
      "cell_type": "code",
      "metadata": {
        "id": "GBlbrdKMG6gE",
        "colab_type": "code",
        "colab": {}
      },
      "source": [
        "from google.colab import drive\n",
        "drive.mount('/content/gdrive',force_remount=True)\n",
        "root_path = 'gdrive/My Drive/DataSets'"
      ],
      "execution_count": 0,
      "outputs": []
    },
    {
      "cell_type": "markdown",
      "metadata": {
        "id": "VAzWP0WT-8YB",
        "colab_type": "text"
      },
      "source": [
        "# Tokenization\n",
        "Splitting a long passage into a sequence of words is word tokenization. We can do sentence tokenization also in nltk"
      ]
    },
    {
      "cell_type": "code",
      "metadata": {
        "id": "2Q5o-aE_-zKe",
        "colab_type": "code",
        "outputId": "126f960b-8655-4d1f-f9a6-0a32d1b5d122",
        "colab": {
          "base_uri": "https://localhost:8080/",
          "height": 34
        }
      },
      "source": [
        "nltk.word_tokenize(\"Tokenize me\")"
      ],
      "execution_count": 11,
      "outputs": [
        {
          "output_type": "execute_result",
          "data": {
            "text/plain": [
              "['Tokenize', 'me']"
            ]
          },
          "metadata": {
            "tags": []
          },
          "execution_count": 11
        }
      ]
    },
    {
      "cell_type": "code",
      "metadata": {
        "id": "8wv-7MMQ_SDL",
        "colab_type": "code",
        "outputId": "efbe19c5-01bc-490a-8fe5-ee0fae74ef79",
        "colab": {
          "base_uri": "https://localhost:8080/",
          "height": 34
        }
      },
      "source": [
        "import re\n",
        "re.findall('\\w+',\"Tokenize, me\")"
      ],
      "execution_count": 12,
      "outputs": [
        {
          "output_type": "execute_result",
          "data": {
            "text/plain": [
              "['Tokenize', 'me']"
            ]
          },
          "metadata": {
            "tags": []
          },
          "execution_count": 12
        }
      ]
    },
    {
      "cell_type": "code",
      "metadata": {
        "id": "eZgGTS5K_tG6",
        "colab_type": "code",
        "outputId": "bb26c013-8016-4e2f-895a-df2f805cab32",
        "colab": {
          "base_uri": "https://localhost:8080/",
          "height": 34
        }
      },
      "source": [
        "from nltk.tokenize import sent_tokenize\n",
        "text = \"God is Great! I won a lottery.\"\n",
        "print(sent_tokenize(text))"
      ],
      "execution_count": 13,
      "outputs": [
        {
          "output_type": "stream",
          "text": [
            "['God is Great!', 'I won a lottery.']\n"
          ],
          "name": "stdout"
        }
      ]
    },
    {
      "cell_type": "markdown",
      "metadata": {
        "id": "9nPu0bAMAMm3",
        "colab_type": "text"
      },
      "source": [
        "# Removing Stop Words"
      ]
    },
    {
      "cell_type": "code",
      "metadata": {
        "id": "JdS5y9jtlgDP",
        "colab_type": "code",
        "outputId": "a33f1db2-eb90-4693-9012-56c481f75e49",
        "colab": {
          "base_uri": "https://localhost:8080/",
          "height": 52
        }
      },
      "source": [
        "import nltk\n",
        "import collections, re\n",
        "from nltk.corpus import stopwords\n",
        "from nltk.tokenize import word_tokenize\n",
        "\n",
        "example_sent = \"This is a sample sentence, \" \\\n",
        "               \"showing off the stop words filtration.\"           \n",
        "stop_words = set(stopwords.words('english'))\n",
        "word_tokens = re.findall('\\w+',example_sent)\n",
        "filtered_sentence = [w for w in word_tokens if not w in stop_words]\n",
        "filtered_sentence = []\n",
        "for w in word_tokens:\n",
        "    if w not in stop_words:\n",
        "        filtered_sentence.append(w)\n",
        "print(word_tokens)\n",
        "print(filtered_sentence)"
      ],
      "execution_count": 14,
      "outputs": [
        {
          "output_type": "stream",
          "text": [
            "['This', 'is', 'a', 'sample', 'sentence', 'showing', 'off', 'the', 'stop', 'words', 'filtration']\n",
            "['This', 'sample', 'sentence', 'showing', 'stop', 'words', 'filtration']\n"
          ],
          "name": "stdout"
        }
      ]
    },
    {
      "cell_type": "markdown",
      "metadata": {
        "id": "g5plrl11i3Hr",
        "colab_type": "text"
      },
      "source": [
        "# Stemming\n",
        "Stemming is the process of producing morphological variants of a root/base word. Stemming programs are commonly referred to as stemming algorithms or stemmers. A stemming algorithm reduces the words “chocolates”, “chocolatey”, “choco” to the root word, “chocolate” and “retrieval”, “retrieved”, “retrieves” reduce to the stem “retrieve”.\n",
        "\n",
        "Errors in Stemming:\n",
        "There are mainly two errors in stemming – Overstemming and Understemming. Overstemming occurs when two words are stemmed to same root that are of different stems. Under-stemming occurs when two words are stemmed to same root that are not of different stems."
      ]
    },
    {
      "cell_type": "code",
      "metadata": {
        "id": "4ZBlKbAbjJka",
        "colab_type": "code",
        "colab": {
          "base_uri": "https://localhost:8080/",
          "height": 104
        },
        "outputId": "eb10475d-fd28-4cb6-da87-38dddea4f9dd"
      },
      "source": [
        "# import these modules \n",
        "from nltk.stem import PorterStemmer \n",
        "from nltk.tokenize import word_tokenize \n",
        "\n",
        "ps = PorterStemmer() \n",
        "\n",
        "# choose some words to be stemmed \n",
        "words = [\"program\", \"programs\", \"programer\", \"programing\", \"programers\"] \n",
        "\n",
        "for w in words: \n",
        "\tprint(w, \" : \", ps.stem(w)) \n"
      ],
      "execution_count": 15,
      "outputs": [
        {
          "output_type": "stream",
          "text": [
            "program  :  program\n",
            "programs  :  program\n",
            "programer  :  program\n",
            "programing  :  program\n",
            "programers  :  program\n"
          ],
          "name": "stdout"
        }
      ]
    },
    {
      "cell_type": "code",
      "metadata": {
        "id": "mHKtyvUkjOSP",
        "colab_type": "code",
        "colab": {
          "base_uri": "https://localhost:8080/",
          "height": 104
        },
        "outputId": "fe21ab44-d912-4209-8612-00759ec83e48"
      },
      "source": [
        "# importing modules \n",
        "from nltk.stem import PorterStemmer \n",
        "from nltk.tokenize import word_tokenize \n",
        "\n",
        "ps = PorterStemmer() \n",
        "\n",
        "sentence = \"Programers program with programing languages\"\n",
        "words = word_tokenize(sentence) \n",
        "\n",
        "for w in words: \n",
        "\tprint(w, \" : \", ps.stem(w)) \n"
      ],
      "execution_count": 16,
      "outputs": [
        {
          "output_type": "stream",
          "text": [
            "Programers  :  program\n",
            "program  :  program\n",
            "with  :  with\n",
            "programing  :  program\n",
            "languages  :  languag\n"
          ],
          "name": "stdout"
        }
      ]
    },
    {
      "cell_type": "markdown",
      "metadata": {
        "id": "eoKh2-4ajgXR",
        "colab_type": "text"
      },
      "source": [
        "# Lemmatization\n",
        "Lemmatization is preferred over Stemming because lemmatization does morphological analysis of the words.\n",
        "\n",
        "One major difference with stemming is that lemmatize takes a part of speech parameter, “pos” If not supplied, the default is “noun.”"
      ]
    },
    {
      "cell_type": "code",
      "metadata": {
        "id": "094yXtXHjpZz",
        "colab_type": "code",
        "colab": {
          "base_uri": "https://localhost:8080/",
          "height": 69
        },
        "outputId": "6f768e2c-c861-4e59-b3c0-d37bb5f00e51"
      },
      "source": [
        "# import these modules \n",
        "from nltk.stem import WordNetLemmatizer \n",
        "\n",
        "lemmatizer = WordNetLemmatizer() \n",
        "\n",
        "print(\"rocks :\", lemmatizer.lemmatize(\"rocks\")) \n",
        "print(\"corpora :\", lemmatizer.lemmatize(\"corpora\")) \n",
        "\n",
        "# a denotes adjective in \"pos\" \n",
        "print(\"better :\", lemmatizer.lemmatize(\"better\", pos =\"a\")) \n"
      ],
      "execution_count": 18,
      "outputs": [
        {
          "output_type": "stream",
          "text": [
            "rocks : rock\n",
            "corpora : corpus\n",
            "better : good\n"
          ],
          "name": "stdout"
        }
      ]
    },
    {
      "cell_type": "markdown",
      "metadata": {
        "id": "fXP2UdyKCgC6",
        "colab_type": "text"
      },
      "source": [
        "# PoS Tagging\n"
      ]
    },
    {
      "cell_type": "code",
      "metadata": {
        "id": "joixzsZqFNVh",
        "colab_type": "code",
        "outputId": "d5714073-0c4d-4a56-eb1a-0df2c121177e",
        "colab": {
          "base_uri": "https://localhost:8080/",
          "height": 34
        }
      },
      "source": [
        "from IPython.display import Image\n",
        "image_path = 'gdrive/My Drive/DataSets/'\n",
        "Image('2.jpg')"
      ],
      "execution_count": 7,
      "outputs": [
        {
          "output_type": "execute_result",
          "data": {
            "image/png": "2.jpg",
            "text/plain": [
              "<IPython.core.display.Image object>"
            ]
          },
          "metadata": {
            "tags": []
          },
          "execution_count": 7
        }
      ]
    },
    {
      "cell_type": "code",
      "metadata": {
        "id": "O6_v_8RqA2Se",
        "colab_type": "code",
        "outputId": "3fb96bb1-9bf7-45a7-b1a0-8d3206a516de",
        "colab": {
          "base_uri": "https://localhost:8080/",
          "height": 34
        }
      },
      "source": [
        "import nltk \n",
        "from nltk.corpus import stopwords \n",
        "from nltk.tokenize import word_tokenize, sent_tokenize \n",
        "stop_words = set(stopwords.words('english')) \n",
        "\n",
        "# Dummy text \n",
        "txt = \"Everything is all about money.\"\n",
        "\n",
        "# sent_tokenize is one of instances of \n",
        "# PunktSentenceTokenizer from the nltk.tokenize.punkt module \n",
        "\n",
        "tokenized = sent_tokenize(txt) \n",
        "for i in tokenized: \n",
        "\t\n",
        "\t# Word tokenizers is used to find the words \n",
        "\t# and punctuation in a string \n",
        "\twordsList = nltk.word_tokenize(i) \n",
        "\n",
        "\t# removing stop words from wordList \n",
        "\twordsList = [w for w in wordsList if not w in stop_words] \n",
        "\n",
        "\t# Using a Tagger. Which is part-of-speech \n",
        "\t# tagger or POS-tagger. \n",
        "\ttagged = nltk.pos_tag(wordsList) \n",
        "\n",
        "\tprint(tagged) \n"
      ],
      "execution_count": 0,
      "outputs": [
        {
          "output_type": "stream",
          "text": [
            "[('Everything', 'VBG'), ('money', 'NN'), ('.', '.')]\n"
          ],
          "name": "stdout"
        }
      ]
    },
    {
      "cell_type": "markdown",
      "metadata": {
        "id": "60Rnu4lGIAwg",
        "colab_type": "text"
      },
      "source": [
        "# Getting n grams from Text"
      ]
    },
    {
      "cell_type": "code",
      "metadata": {
        "id": "9qZ_krtUoh-T",
        "colab_type": "code",
        "outputId": "d5bdfa7f-253f-492c-a21c-7bf8283d1c29",
        "colab": {
          "base_uri": "https://localhost:8080/",
          "height": 106
        }
      },
      "source": [
        "from nltk.util import ngrams\n",
        "from collections import Counter\n",
        "text = \"I need to write a program in NLTK that breaks a corpus (a large collection of \\\n",
        "txt files) into unigrams, bigrams, trigrams, fourgrams and fivegrams.\\\n",
        "I need to write a program in NLTK that breaks a corpus\"\n",
        "# token = nltk.word_tokenize(text)\n",
        "token = re.findall('\\w+',text)\n",
        "bigrams = ngrams(token,2)\n",
        "trigrams = ngrams(token,3)\n",
        "fourgrams = ngrams(token,4)\n",
        "fivegrams = ngrams(token,5)\n",
        "print('Count of bigrams are')\n",
        "print (Counter(bigrams))\n",
        "print(Counter(trigrams))\n",
        "print(list(fourgrams))"
      ],
      "execution_count": 0,
      "outputs": [
        {
          "output_type": "stream",
          "text": [
            "Count of bigrams are\n",
            "Counter({('I', 'need'): 2, ('need', 'to'): 2, ('to', 'write'): 2, ('write', 'a'): 2, ('a', 'program'): 2, ('program', 'in'): 2, ('in', 'NLTK'): 2, ('NLTK', 'that'): 2, ('that', 'breaks'): 2, ('breaks', 'a'): 2, ('a', 'corpus'): 2, ('corpus', 'a'): 1, ('a', 'large'): 1, ('large', 'collection'): 1, ('collection', 'of'): 1, ('of', 'txt'): 1, ('txt', 'files'): 1, ('files', 'into'): 1, ('into', 'unigrams'): 1, ('unigrams', 'bigrams'): 1, ('bigrams', 'trigrams'): 1, ('trigrams', 'fourgrams'): 1, ('fourgrams', 'and'): 1, ('and', 'fivegrams'): 1, ('fivegrams', 'I'): 1})\n",
            "Counter({('I', 'need', 'to'): 2, ('need', 'to', 'write'): 2, ('to', 'write', 'a'): 2, ('write', 'a', 'program'): 2, ('a', 'program', 'in'): 2, ('program', 'in', 'NLTK'): 2, ('in', 'NLTK', 'that'): 2, ('NLTK', 'that', 'breaks'): 2, ('that', 'breaks', 'a'): 2, ('breaks', 'a', 'corpus'): 2, ('a', 'corpus', 'a'): 1, ('corpus', 'a', 'large'): 1, ('a', 'large', 'collection'): 1, ('large', 'collection', 'of'): 1, ('collection', 'of', 'txt'): 1, ('of', 'txt', 'files'): 1, ('txt', 'files', 'into'): 1, ('files', 'into', 'unigrams'): 1, ('into', 'unigrams', 'bigrams'): 1, ('unigrams', 'bigrams', 'trigrams'): 1, ('bigrams', 'trigrams', 'fourgrams'): 1, ('trigrams', 'fourgrams', 'and'): 1, ('fourgrams', 'and', 'fivegrams'): 1, ('and', 'fivegrams', 'I'): 1, ('fivegrams', 'I', 'need'): 1})\n",
            "[('I', 'need', 'to', 'write'), ('need', 'to', 'write', 'a'), ('to', 'write', 'a', 'program'), ('write', 'a', 'program', 'in'), ('a', 'program', 'in', 'NLTK'), ('program', 'in', 'NLTK', 'that'), ('in', 'NLTK', 'that', 'breaks'), ('NLTK', 'that', 'breaks', 'a'), ('that', 'breaks', 'a', 'corpus'), ('breaks', 'a', 'corpus', 'a'), ('a', 'corpus', 'a', 'large'), ('corpus', 'a', 'large', 'collection'), ('a', 'large', 'collection', 'of'), ('large', 'collection', 'of', 'txt'), ('collection', 'of', 'txt', 'files'), ('of', 'txt', 'files', 'into'), ('txt', 'files', 'into', 'unigrams'), ('files', 'into', 'unigrams', 'bigrams'), ('into', 'unigrams', 'bigrams', 'trigrams'), ('unigrams', 'bigrams', 'trigrams', 'fourgrams'), ('bigrams', 'trigrams', 'fourgrams', 'and'), ('trigrams', 'fourgrams', 'and', 'fivegrams'), ('fourgrams', 'and', 'fivegrams', 'I'), ('and', 'fivegrams', 'I', 'need'), ('fivegrams', 'I', 'need', 'to'), ('I', 'need', 'to', 'write'), ('need', 'to', 'write', 'a'), ('to', 'write', 'a', 'program'), ('write', 'a', 'program', 'in'), ('a', 'program', 'in', 'NLTK'), ('program', 'in', 'NLTK', 'that'), ('in', 'NLTK', 'that', 'breaks'), ('NLTK', 'that', 'breaks', 'a'), ('that', 'breaks', 'a', 'corpus')]\n"
          ],
          "name": "stdout"
        }
      ]
    },
    {
      "cell_type": "code",
      "metadata": {
        "id": "QS3JefGnmL_R",
        "colab_type": "code",
        "outputId": "461f8d9a-c5f6-4b88-b92d-d7db6583c413",
        "colab": {
          "base_uri": "https://localhost:8080/",
          "height": 52
        }
      },
      "source": [
        "# word_tokens = word_tokenize(example_sent)\n"
      ],
      "execution_count": 0,
      "outputs": [
        {
          "output_type": "stream",
          "text": [
            "['This', 'is', 'a', 'sample', 'sentence', 'showing', 'off', 'the', 'stop', 'words', 'filtration']\n",
            "['This', 'sample', 'sentence', 'showing', 'stop', 'words', 'filtration']\n"
          ],
          "name": "stdout"
        }
      ]
    },
    {
      "cell_type": "code",
      "metadata": {
        "id": "Y5IHUdXkmGaH",
        "colab_type": "code",
        "colab": {}
      },
      "source": [
        ""
      ],
      "execution_count": 0,
      "outputs": []
    }
  ]
}