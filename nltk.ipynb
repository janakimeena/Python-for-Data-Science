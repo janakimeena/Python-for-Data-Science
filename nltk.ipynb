{
  "nbformat": 4,
  "nbformat_minor": 0,
  "metadata": {
    "colab": {
      "name": "nltk.ipynb",
      "provenance": [],
      "collapsed_sections": [],
      "include_colab_link": true
    },
    "kernelspec": {
      "name": "python3",
      "display_name": "Python 3"
    }
  },
  "cells": [
    {
      "cell_type": "markdown",
      "metadata": {
        "id": "view-in-github",
        "colab_type": "text"
      },
      "source": [
        "<a href=\"https://colab.research.google.com/github/janakimeena/Python-for-Data-Science/blob/master/nltk.ipynb\" target=\"_parent\"><img src=\"https://colab.research.google.com/assets/colab-badge.svg\" alt=\"Open In Colab\"/></a>"
      ]
    },
    {
      "cell_type": "code",
      "metadata": {
        "id": "Wx8MB_tRlZpr",
        "colab_type": "code",
        "colab": {}
      },
      "source": [
        "import nltk\n",
        "nltk.download(\"popular\")\n"
      ],
      "execution_count": 0,
      "outputs": []
    },
    {
      "cell_type": "code",
      "metadata": {
        "id": "GBlbrdKMG6gE",
        "colab_type": "code",
        "outputId": "6cf53dee-5b05-416e-b7eb-1beab61f326d",
        "colab": {
          "base_uri": "https://localhost:8080/",
          "height": 122
        }
      },
      "source": [
        "from google.colab import drive\n",
        "drive.mount('/content/gdrive',force_remount=True)\n",
        "root_path = 'gdrive/My Drive/DataSets'"
      ],
      "execution_count": 0,
      "outputs": [
        {
          "output_type": "stream",
          "text": [
            "Go to this URL in a browser: https://accounts.google.com/o/oauth2/auth?client_id=947318989803-6bn6qk8qdgf4n4g3pfee6491hc0brc4i.apps.googleusercontent.com&redirect_uri=urn%3Aietf%3Awg%3Aoauth%3A2.0%3Aoob&scope=email%20https%3A%2F%2Fwww.googleapis.com%2Fauth%2Fdocs.test%20https%3A%2F%2Fwww.googleapis.com%2Fauth%2Fdrive%20https%3A%2F%2Fwww.googleapis.com%2Fauth%2Fdrive.photos.readonly%20https%3A%2F%2Fwww.googleapis.com%2Fauth%2Fpeopleapi.readonly&response_type=code\n",
            "\n",
            "Enter your authorization code:\n",
            "··········\n",
            "Mounted at /content/gdrive\n"
          ],
          "name": "stdout"
        }
      ]
    },
    {
      "cell_type": "markdown",
      "metadata": {
        "id": "VAzWP0WT-8YB",
        "colab_type": "text"
      },
      "source": [
        "# Tokenization\n",
        "Splitting a long passage into a sequence of words is word tokenization. We can do sentence tokenization also in nltk"
      ]
    },
    {
      "cell_type": "code",
      "metadata": {
        "id": "2Q5o-aE_-zKe",
        "colab_type": "code",
        "outputId": "0cc5d0d5-55d1-4e8b-cd2f-9db7e9785042",
        "colab": {
          "base_uri": "https://localhost:8080/",
          "height": 34
        }
      },
      "source": [
        "nltk.word_tokenize(\"Tokenize me\")"
      ],
      "execution_count": 0,
      "outputs": [
        {
          "output_type": "execute_result",
          "data": {
            "text/plain": [
              "['Tokenize', ',', 'me']"
            ]
          },
          "metadata": {
            "tags": []
          },
          "execution_count": 6
        }
      ]
    },
    {
      "cell_type": "code",
      "metadata": {
        "id": "8wv-7MMQ_SDL",
        "colab_type": "code",
        "outputId": "d01dc7f8-520a-4033-f020-0d0529036964",
        "colab": {
          "base_uri": "https://localhost:8080/",
          "height": 34
        }
      },
      "source": [
        "import re\n",
        "re.findall('\\w+',\"Tokenize, me\")"
      ],
      "execution_count": 0,
      "outputs": [
        {
          "output_type": "execute_result",
          "data": {
            "text/plain": [
              "['Tokenize', 'me']"
            ]
          },
          "metadata": {
            "tags": []
          },
          "execution_count": 7
        }
      ]
    },
    {
      "cell_type": "code",
      "metadata": {
        "id": "eZgGTS5K_tG6",
        "colab_type": "code",
        "outputId": "640c283c-69e5-4a60-b292-cb6b59f8a18f",
        "colab": {
          "base_uri": "https://localhost:8080/",
          "height": 34
        }
      },
      "source": [
        "from nltk.tokenize import sent_tokenize\n",
        "text = \"God is Great! I won a lottery.\"\n",
        "print(sent_tokenize(text))"
      ],
      "execution_count": 0,
      "outputs": [
        {
          "output_type": "stream",
          "text": [
            "['God is Great!', 'I won a lottery.']\n"
          ],
          "name": "stdout"
        }
      ]
    },
    {
      "cell_type": "markdown",
      "metadata": {
        "id": "9nPu0bAMAMm3",
        "colab_type": "text"
      },
      "source": [
        "# Removing Stop Words"
      ]
    },
    {
      "cell_type": "code",
      "metadata": {
        "id": "JdS5y9jtlgDP",
        "colab_type": "code",
        "outputId": "ecb0b21a-0e4f-4365-b464-81e3530da803",
        "colab": {
          "base_uri": "https://localhost:8080/",
          "height": 51
        }
      },
      "source": [
        "import nltk\n",
        "import collections, re\n",
        "from nltk.corpus import stopwords\n",
        "from nltk.tokenize import word_tokenize\n",
        "\n",
        "example_sent = \"This is a sample sentence, \" \\\n",
        "               \"showing off the stop words filtration.\"           \n",
        "stop_words = set(stopwords.words('english'))\n",
        "word_tokens = re.findall('\\w+',example_sent)\n",
        "filtered_sentence = [w for w in word_tokens if not w in stop_words]\n",
        "filtered_sentence = []\n",
        "for w in word_tokens:\n",
        "    if w not in stop_words:\n",
        "        filtered_sentence.append(w)\n",
        "print(word_tokens)\n",
        "print(filtered_sentence)"
      ],
      "execution_count": 0,
      "outputs": [
        {
          "output_type": "stream",
          "text": [
            "['This', 'is', 'a', 'sample', 'sentence', 'showing', 'off', 'the', 'stop', 'words', 'filtration']\n",
            "['This', 'sample', 'sentence', 'showing', 'stop', 'words', 'filtration']\n"
          ],
          "name": "stdout"
        }
      ]
    },
    {
      "cell_type": "code",
      "metadata": {
        "id": "0_gLZ2-_Cfcy",
        "colab_type": "code",
        "colab": {}
      },
      "source": [
        ""
      ],
      "execution_count": 0,
      "outputs": []
    },
    {
      "cell_type": "markdown",
      "metadata": {
        "id": "fXP2UdyKCgC6",
        "colab_type": "text"
      },
      "source": [
        "# PoS Tagging\n"
      ]
    },
    {
      "cell_type": "code",
      "metadata": {
        "id": "joixzsZqFNVh",
        "colab_type": "code",
        "outputId": "7a7f1c54-50dd-4b5c-e73c-c46382ec4aa1",
        "colab": {
          "base_uri": "https://localhost:8080/",
          "height": 34
        }
      },
      "source": [
        "from IPython.display import Image\n",
        "image_path = 'gdrive/My Drive/'\n",
        "Image(image_path+'2.jpg')"
      ],
      "execution_count": 0,
      "outputs": [
        {
          "output_type": "execute_result",
          "data": {
            "image/png": "gdrive/My Drive/2.jpg",
            "text/plain": [
              "<IPython.core.display.Image object>"
            ]
          },
          "metadata": {
            "tags": []
          },
          "execution_count": 22
        }
      ]
    },
    {
      "cell_type": "code",
      "metadata": {
        "id": "O6_v_8RqA2Se",
        "colab_type": "code",
        "outputId": "3fb96bb1-9bf7-45a7-b1a0-8d3206a516de",
        "colab": {
          "base_uri": "https://localhost:8080/",
          "height": 34
        }
      },
      "source": [
        "import nltk \n",
        "from nltk.corpus import stopwords \n",
        "from nltk.tokenize import word_tokenize, sent_tokenize \n",
        "stop_words = set(stopwords.words('english')) \n",
        "\n",
        "# Dummy text \n",
        "txt = \"Everything is all about money.\"\n",
        "\n",
        "# sent_tokenize is one of instances of \n",
        "# PunktSentenceTokenizer from the nltk.tokenize.punkt module \n",
        "\n",
        "tokenized = sent_tokenize(txt) \n",
        "for i in tokenized: \n",
        "\t\n",
        "\t# Word tokenizers is used to find the words \n",
        "\t# and punctuation in a string \n",
        "\twordsList = nltk.word_tokenize(i) \n",
        "\n",
        "\t# removing stop words from wordList \n",
        "\twordsList = [w for w in wordsList if not w in stop_words] \n",
        "\n",
        "\t# Using a Tagger. Which is part-of-speech \n",
        "\t# tagger or POS-tagger. \n",
        "\ttagged = nltk.pos_tag(wordsList) \n",
        "\n",
        "\tprint(tagged) \n"
      ],
      "execution_count": 0,
      "outputs": [
        {
          "output_type": "stream",
          "text": [
            "[('Everything', 'VBG'), ('money', 'NN'), ('.', '.')]\n"
          ],
          "name": "stdout"
        }
      ]
    },
    {
      "cell_type": "markdown",
      "metadata": {
        "id": "60Rnu4lGIAwg",
        "colab_type": "text"
      },
      "source": [
        "# Getting n grams from Text"
      ]
    },
    {
      "cell_type": "code",
      "metadata": {
        "id": "9qZ_krtUoh-T",
        "colab_type": "code",
        "outputId": "d5bdfa7f-253f-492c-a21c-7bf8283d1c29",
        "colab": {
          "base_uri": "https://localhost:8080/",
          "height": 106
        }
      },
      "source": [
        "from nltk.util import ngrams\n",
        "from collections import Counter\n",
        "text = \"I need to write a program in NLTK that breaks a corpus (a large collection of \\\n",
        "txt files) into unigrams, bigrams, trigrams, fourgrams and fivegrams.\\\n",
        "I need to write a program in NLTK that breaks a corpus\"\n",
        "# token = nltk.word_tokenize(text)\n",
        "token = re.findall('\\w+',text)\n",
        "bigrams = ngrams(token,2)\n",
        "trigrams = ngrams(token,3)\n",
        "fourgrams = ngrams(token,4)\n",
        "fivegrams = ngrams(token,5)\n",
        "print('Count of bigrams are')\n",
        "print (Counter(bigrams))\n",
        "print(Counter(trigrams))\n",
        "print(list(fourgrams))"
      ],
      "execution_count": 0,
      "outputs": [
        {
          "output_type": "stream",
          "text": [
            "Count of bigrams are\n",
            "Counter({('I', 'need'): 2, ('need', 'to'): 2, ('to', 'write'): 2, ('write', 'a'): 2, ('a', 'program'): 2, ('program', 'in'): 2, ('in', 'NLTK'): 2, ('NLTK', 'that'): 2, ('that', 'breaks'): 2, ('breaks', 'a'): 2, ('a', 'corpus'): 2, ('corpus', 'a'): 1, ('a', 'large'): 1, ('large', 'collection'): 1, ('collection', 'of'): 1, ('of', 'txt'): 1, ('txt', 'files'): 1, ('files', 'into'): 1, ('into', 'unigrams'): 1, ('unigrams', 'bigrams'): 1, ('bigrams', 'trigrams'): 1, ('trigrams', 'fourgrams'): 1, ('fourgrams', 'and'): 1, ('and', 'fivegrams'): 1, ('fivegrams', 'I'): 1})\n",
            "Counter({('I', 'need', 'to'): 2, ('need', 'to', 'write'): 2, ('to', 'write', 'a'): 2, ('write', 'a', 'program'): 2, ('a', 'program', 'in'): 2, ('program', 'in', 'NLTK'): 2, ('in', 'NLTK', 'that'): 2, ('NLTK', 'that', 'breaks'): 2, ('that', 'breaks', 'a'): 2, ('breaks', 'a', 'corpus'): 2, ('a', 'corpus', 'a'): 1, ('corpus', 'a', 'large'): 1, ('a', 'large', 'collection'): 1, ('large', 'collection', 'of'): 1, ('collection', 'of', 'txt'): 1, ('of', 'txt', 'files'): 1, ('txt', 'files', 'into'): 1, ('files', 'into', 'unigrams'): 1, ('into', 'unigrams', 'bigrams'): 1, ('unigrams', 'bigrams', 'trigrams'): 1, ('bigrams', 'trigrams', 'fourgrams'): 1, ('trigrams', 'fourgrams', 'and'): 1, ('fourgrams', 'and', 'fivegrams'): 1, ('and', 'fivegrams', 'I'): 1, ('fivegrams', 'I', 'need'): 1})\n",
            "[('I', 'need', 'to', 'write'), ('need', 'to', 'write', 'a'), ('to', 'write', 'a', 'program'), ('write', 'a', 'program', 'in'), ('a', 'program', 'in', 'NLTK'), ('program', 'in', 'NLTK', 'that'), ('in', 'NLTK', 'that', 'breaks'), ('NLTK', 'that', 'breaks', 'a'), ('that', 'breaks', 'a', 'corpus'), ('breaks', 'a', 'corpus', 'a'), ('a', 'corpus', 'a', 'large'), ('corpus', 'a', 'large', 'collection'), ('a', 'large', 'collection', 'of'), ('large', 'collection', 'of', 'txt'), ('collection', 'of', 'txt', 'files'), ('of', 'txt', 'files', 'into'), ('txt', 'files', 'into', 'unigrams'), ('files', 'into', 'unigrams', 'bigrams'), ('into', 'unigrams', 'bigrams', 'trigrams'), ('unigrams', 'bigrams', 'trigrams', 'fourgrams'), ('bigrams', 'trigrams', 'fourgrams', 'and'), ('trigrams', 'fourgrams', 'and', 'fivegrams'), ('fourgrams', 'and', 'fivegrams', 'I'), ('and', 'fivegrams', 'I', 'need'), ('fivegrams', 'I', 'need', 'to'), ('I', 'need', 'to', 'write'), ('need', 'to', 'write', 'a'), ('to', 'write', 'a', 'program'), ('write', 'a', 'program', 'in'), ('a', 'program', 'in', 'NLTK'), ('program', 'in', 'NLTK', 'that'), ('in', 'NLTK', 'that', 'breaks'), ('NLTK', 'that', 'breaks', 'a'), ('that', 'breaks', 'a', 'corpus')]\n"
          ],
          "name": "stdout"
        }
      ]
    },
    {
      "cell_type": "code",
      "metadata": {
        "id": "QS3JefGnmL_R",
        "colab_type": "code",
        "outputId": "461f8d9a-c5f6-4b88-b92d-d7db6583c413",
        "colab": {
          "base_uri": "https://localhost:8080/",
          "height": 52
        }
      },
      "source": [
        "# word_tokens = word_tokenize(example_sent)\n"
      ],
      "execution_count": 0,
      "outputs": [
        {
          "output_type": "stream",
          "text": [
            "['This', 'is', 'a', 'sample', 'sentence', 'showing', 'off', 'the', 'stop', 'words', 'filtration']\n",
            "['This', 'sample', 'sentence', 'showing', 'stop', 'words', 'filtration']\n"
          ],
          "name": "stdout"
        }
      ]
    },
    {
      "cell_type": "code",
      "metadata": {
        "id": "Y5IHUdXkmGaH",
        "colab_type": "code",
        "colab": {}
      },
      "source": [
        ""
      ],
      "execution_count": 0,
      "outputs": []
    }
  ]
}