{
  "nbformat": 4,
  "nbformat_minor": 0,
  "metadata": {
    "colab": {
      "name": "Conditional_stmts_control_structures.ipynb",
      "provenance": [],
      "collapsed_sections": [],
      "include_colab_link": true
    },
    "kernelspec": {
      "name": "python3",
      "display_name": "Python 3"
    }
  },
  "cells": [
    {
      "cell_type": "markdown",
      "metadata": {
        "id": "view-in-github",
        "colab_type": "text"
      },
      "source": [
        "<a href=\"https://colab.research.google.com/github/janakimeena/Python-for-Data-Science/blob/master/Conditional_stmts_control_structures.ipynb\" target=\"_parent\"><img src=\"https://colab.research.google.com/assets/colab-badge.svg\" alt=\"Open In Colab\"/></a>"
      ]
    },
    {
      "cell_type": "markdown",
      "metadata": {
        "id": "hhm4VHcNNhlP",
        "colab_type": "text"
      },
      "source": [
        "# Creating new column based on value of an existing column\n"
      ]
    },
    {
      "cell_type": "code",
      "metadata": {
        "id": "zyyya6MJL6h3",
        "colab_type": "code",
        "outputId": "5cc329ee-a38f-4569-8968-e2123c468c84",
        "colab": {
          "base_uri": "https://localhost:8080/",
          "height": 34
        }
      },
      "source": [
        "from google.colab import drive\n",
        "drive.mount('/content/gdrive',force_remount=True)\n",
        "root_path = 'gdrive/My Drive/DataSets'"
      ],
      "execution_count": 17,
      "outputs": [
        {
          "output_type": "stream",
          "text": [
            "Mounted at /content/gdrive\n"
          ],
          "name": "stdout"
        }
      ]
    },
    {
      "cell_type": "code",
      "metadata": {
        "id": "8TU6cKa9OBxB",
        "colab_type": "code",
        "colab": {}
      },
      "source": [
        "import pandas as pd\n",
        "data = pd.read_csv(root_path+'/Toyota.csv',index_col=0)\n"
      ],
      "execution_count": 0,
      "outputs": []
    },
    {
      "cell_type": "code",
      "metadata": {
        "id": "5_zuhZU1ONXU",
        "colab_type": "code",
        "colab": {}
      },
      "source": [
        "data.insert(10,'Price_Class',\"\")"
      ],
      "execution_count": 0,
      "outputs": []
    },
    {
      "cell_type": "markdown",
      "metadata": {
        "id": "558DCEvuOgwi",
        "colab_type": "text"
      },
      "source": [
        "# We are going to assign price class as low, high or medium based on the price of the car\n",
        "\n",
        "If the price of the car is less than 8450 then the price_class is low, if the price of the car is more than 11950 then the price_class is high and price_class is medium otherwise"
      ]
    },
    {
      "cell_type": "code",
      "metadata": {
        "id": "xCQ7-IYMOY2a",
        "colab_type": "code",
        "colab": {}
      },
      "source": [
        "# setcopywarning was got when the code was data['Price_Class'][i]=\"low\"\n",
        "for i in range(0, len(data['Price']), 1):    \n",
        "  if data['Price'][i]<=8450:\n",
        "    data.loc['Price_Class',i]=\"low\"\n",
        "  elif (data['Price'][i]>11950):\n",
        "    data.loc['Price_Class',i]='high'\n",
        "  else:\n",
        "    data.loc['Price_Class',i]='medium' "
      ],
      "execution_count": 0,
      "outputs": []
    },
    {
      "cell_type": "markdown",
      "metadata": {
        "id": "KWmKeDJXQ1os",
        "colab_type": "text"
      },
      "source": [
        "# Count of Unique Values can be found\n"
      ]
    },
    {
      "cell_type": "code",
      "metadata": {
        "id": "i6aBYQVlOrA6",
        "colab_type": "code",
        "outputId": "ecb94f12-e2da-4e46-b0e2-b276e7f22799",
        "colab": {
          "base_uri": "https://localhost:8080/",
          "height": 86
        }
      },
      "source": [
        "data['Price_Class'].value_counts()"
      ],
      "execution_count": 22,
      "outputs": [
        {
          "output_type": "execute_result",
          "data": {
            "text/plain": [
              "medium    751\n",
              "low       369\n",
              "high      316\n",
              "Name: Price_Class, dtype: int64"
            ]
          },
          "metadata": {
            "tags": []
          },
          "execution_count": 22
        }
      ]
    },
    {
      "cell_type": "markdown",
      "metadata": {
        "id": "5iB8uDIjHZ66",
        "colab_type": "text"
      },
      "source": [
        "# Wrting functions to form a new field\n",
        "Age field of cars is converted to number of years from number of months. A function shall be written to do that"
      ]
    },
    {
      "cell_type": "code",
      "metadata": {
        "id": "cFv4GD_4RbvY",
        "colab_type": "code",
        "colab": {}
      },
      "source": [
        "data.insert(11,'Age_Converted',0)"
      ],
      "execution_count": 0,
      "outputs": []
    },
    {
      "cell_type": "code",
      "metadata": {
        "id": "Qg57--SMIDlf",
        "colab_type": "code",
        "colab": {}
      },
      "source": [
        "def convert(val):\n",
        "  return val/12\n",
        "data['Age_Converted']=convert(data['Age'])\n",
        "data['Age_Converted']=round(data['Age_Converted'],1)"
      ],
      "execution_count": 0,
      "outputs": []
    },
    {
      "cell_type": "code",
      "metadata": {
        "id": "eNLZBqYvKjA8",
        "colab_type": "code",
        "colab": {}
      },
      "source": [
        "print(data['Age_Converted'])"
      ],
      "execution_count": 0,
      "outputs": []
    },
    {
      "cell_type": "code",
      "metadata": {
        "id": "yW-Tl9cMK7br",
        "colab_type": "code",
        "colab": {}
      },
      "source": [
        ""
      ],
      "execution_count": 0,
      "outputs": []
    }
  ]
}