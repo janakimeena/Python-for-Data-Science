{
  "nbformat": 4,
  "nbformat_minor": 0,
  "metadata": {
    "colab": {
      "name": "nptel_DS_CS1.ipynb",
      "provenance": [],
      "collapsed_sections": [],
      "include_colab_link": true
    },
    "kernelspec": {
      "name": "python3",
      "display_name": "Python 3"
    }
  },
  "cells": [
    {
      "cell_type": "markdown",
      "metadata": {
        "id": "view-in-github",
        "colab_type": "text"
      },
      "source": [
        "<a href=\"https://colab.research.google.com/github/janakimeena/Python-for-Data-Science/blob/master/nptel_DS_CS1.ipynb\" target=\"_parent\"><img src=\"https://colab.research.google.com/assets/colab-badge.svg\" alt=\"Open In Colab\"/></a>"
      ]
    },
    {
      "cell_type": "code",
      "metadata": {
        "id": "ZfyC4wmsSUUG",
        "colab_type": "code",
        "outputId": "4d16f0bb-eef7-4d85-9acc-b66a651c12a7",
        "colab": {
          "base_uri": "https://localhost:8080/",
          "height": 420
        }
      },
      "source": [
        "import pandas as pd\n",
        "import numpy as np\n",
        "import seaborn as sns\n",
        "sns.set(rc={'figure.figsize':(11.7,8.27)})\n",
        "cars = pd.read_csv('cars_sampled.csv')\n",
        "cars_d = cars.copy() #deep copy\n",
        "cars_d.info()"
      ],
      "execution_count": 91,
      "outputs": [
        {
          "output_type": "stream",
          "text": [
            "<class 'pandas.core.frame.DataFrame'>\n",
            "RangeIndex: 50001 entries, 0 to 50000\n",
            "Data columns (total 19 columns):\n",
            "dateCrawled            50001 non-null object\n",
            "name                   50001 non-null object\n",
            "seller                 50001 non-null object\n",
            "offerType              50001 non-null object\n",
            "price                  50001 non-null int64\n",
            "abtest                 50001 non-null object\n",
            "vehicleType            44813 non-null object\n",
            "yearOfRegistration     50001 non-null int64\n",
            "gearbox                47177 non-null object\n",
            "powerPS                50001 non-null int64\n",
            "model                  47243 non-null object\n",
            "kilometer              50001 non-null int64\n",
            "monthOfRegistration    50001 non-null int64\n",
            "fuelType               45498 non-null object\n",
            "brand                  50001 non-null object\n",
            "notRepairedDamage      40285 non-null object\n",
            "dateCreated            50001 non-null object\n",
            "postalCode             50001 non-null int64\n",
            "lastSeen               50001 non-null object\n",
            "dtypes: int64(6), object(13)\n",
            "memory usage: 7.2+ MB\n"
          ],
          "name": "stdout"
        }
      ]
    },
    {
      "cell_type": "code",
      "metadata": {
        "id": "hYWX8wYEUII_",
        "colab_type": "code",
        "outputId": "4814d923-f8a8-4fa6-edd8-dada1f5b4401",
        "colab": {
          "base_uri": "https://localhost:8080/",
          "height": 284
        }
      },
      "source": [
        "cars_d.describe()"
      ],
      "execution_count": 92,
      "outputs": [
        {
          "output_type": "execute_result",
          "data": {
            "text/html": [
              "<div>\n",
              "<style scoped>\n",
              "    .dataframe tbody tr th:only-of-type {\n",
              "        vertical-align: middle;\n",
              "    }\n",
              "\n",
              "    .dataframe tbody tr th {\n",
              "        vertical-align: top;\n",
              "    }\n",
              "\n",
              "    .dataframe thead th {\n",
              "        text-align: right;\n",
              "    }\n",
              "</style>\n",
              "<table border=\"1\" class=\"dataframe\">\n",
              "  <thead>\n",
              "    <tr style=\"text-align: right;\">\n",
              "      <th></th>\n",
              "      <th>price</th>\n",
              "      <th>yearOfRegistration</th>\n",
              "      <th>powerPS</th>\n",
              "      <th>kilometer</th>\n",
              "      <th>monthOfRegistration</th>\n",
              "      <th>postalCode</th>\n",
              "    </tr>\n",
              "  </thead>\n",
              "  <tbody>\n",
              "    <tr>\n",
              "      <th>count</th>\n",
              "      <td>50001.000</td>\n",
              "      <td>50001.000</td>\n",
              "      <td>50001.000</td>\n",
              "      <td>50001.000</td>\n",
              "      <td>50001.000</td>\n",
              "      <td>50001.000</td>\n",
              "    </tr>\n",
              "    <tr>\n",
              "      <th>mean</th>\n",
              "      <td>6559.865</td>\n",
              "      <td>2005.544</td>\n",
              "      <td>116.496</td>\n",
              "      <td>125613.688</td>\n",
              "      <td>5.744</td>\n",
              "      <td>50775.217</td>\n",
              "    </tr>\n",
              "    <tr>\n",
              "      <th>std</th>\n",
              "      <td>85818.470</td>\n",
              "      <td>122.992</td>\n",
              "      <td>230.568</td>\n",
              "      <td>40205.234</td>\n",
              "      <td>3.711</td>\n",
              "      <td>25743.702</td>\n",
              "    </tr>\n",
              "    <tr>\n",
              "      <th>min</th>\n",
              "      <td>0.000</td>\n",
              "      <td>1000.000</td>\n",
              "      <td>0.000</td>\n",
              "      <td>5000.000</td>\n",
              "      <td>0.000</td>\n",
              "      <td>1067.000</td>\n",
              "    </tr>\n",
              "    <tr>\n",
              "      <th>25%</th>\n",
              "      <td>1150.000</td>\n",
              "      <td>1999.000</td>\n",
              "      <td>69.000</td>\n",
              "      <td>125000.000</td>\n",
              "      <td>3.000</td>\n",
              "      <td>30559.000</td>\n",
              "    </tr>\n",
              "    <tr>\n",
              "      <th>50%</th>\n",
              "      <td>2950.000</td>\n",
              "      <td>2003.000</td>\n",
              "      <td>105.000</td>\n",
              "      <td>150000.000</td>\n",
              "      <td>6.000</td>\n",
              "      <td>49504.000</td>\n",
              "    </tr>\n",
              "    <tr>\n",
              "      <th>75%</th>\n",
              "      <td>7190.000</td>\n",
              "      <td>2008.000</td>\n",
              "      <td>150.000</td>\n",
              "      <td>150000.000</td>\n",
              "      <td>9.000</td>\n",
              "      <td>71404.000</td>\n",
              "    </tr>\n",
              "    <tr>\n",
              "      <th>max</th>\n",
              "      <td>12345678.000</td>\n",
              "      <td>9999.000</td>\n",
              "      <td>19312.000</td>\n",
              "      <td>150000.000</td>\n",
              "      <td>12.000</td>\n",
              "      <td>99998.000</td>\n",
              "    </tr>\n",
              "  </tbody>\n",
              "</table>\n",
              "</div>"
            ],
            "text/plain": [
              "             price  yearOfRegistration   powerPS  kilometer  \\\n",
              "count    50001.000           50001.000 50001.000  50001.000   \n",
              "mean      6559.865            2005.544   116.496 125613.688   \n",
              "std      85818.470             122.992   230.568  40205.234   \n",
              "min          0.000            1000.000     0.000   5000.000   \n",
              "25%       1150.000            1999.000    69.000 125000.000   \n",
              "50%       2950.000            2003.000   105.000 150000.000   \n",
              "75%       7190.000            2008.000   150.000 150000.000   \n",
              "max   12345678.000            9999.000 19312.000 150000.000   \n",
              "\n",
              "       monthOfRegistration  postalCode  \n",
              "count            50001.000   50001.000  \n",
              "mean                 5.744   50775.217  \n",
              "std                  3.711   25743.702  \n",
              "min                  0.000    1067.000  \n",
              "25%                  3.000   30559.000  \n",
              "50%                  6.000   49504.000  \n",
              "75%                  9.000   71404.000  \n",
              "max                 12.000   99998.000  "
            ]
          },
          "metadata": {
            "tags": []
          },
          "execution_count": 92
        }
      ]
    },
    {
      "cell_type": "code",
      "metadata": {
        "id": "hWkF3lJFU470",
        "colab_type": "code",
        "colab": {}
      },
      "source": [
        "# remove scientific notation for decimal values\n",
        "pd.set_option('display.float_format',lambda x:'%.3f' %x)"
      ],
      "execution_count": 0,
      "outputs": []
    },
    {
      "cell_type": "code",
      "metadata": {
        "id": "fI-3Dt3nVGPL",
        "colab_type": "code",
        "colab": {}
      },
      "source": [
        "# display maximum set of columns\n",
        "pd.set_option('display.max_columns',500)"
      ],
      "execution_count": 0,
      "outputs": []
    },
    {
      "cell_type": "code",
      "metadata": {
        "id": "udrHmidAVgGI",
        "colab_type": "code",
        "colab": {
          "base_uri": "https://localhost:8080/",
          "height": 284
        },
        "outputId": "3597bb38-71f3-4803-d2cb-c32cc1d781f9"
      },
      "source": [
        "\n",
        "cars.describe()\n"
      ],
      "execution_count": 95,
      "outputs": [
        {
          "output_type": "execute_result",
          "data": {
            "text/html": [
              "<div>\n",
              "<style scoped>\n",
              "    .dataframe tbody tr th:only-of-type {\n",
              "        vertical-align: middle;\n",
              "    }\n",
              "\n",
              "    .dataframe tbody tr th {\n",
              "        vertical-align: top;\n",
              "    }\n",
              "\n",
              "    .dataframe thead th {\n",
              "        text-align: right;\n",
              "    }\n",
              "</style>\n",
              "<table border=\"1\" class=\"dataframe\">\n",
              "  <thead>\n",
              "    <tr style=\"text-align: right;\">\n",
              "      <th></th>\n",
              "      <th>price</th>\n",
              "      <th>yearOfRegistration</th>\n",
              "      <th>powerPS</th>\n",
              "      <th>kilometer</th>\n",
              "      <th>monthOfRegistration</th>\n",
              "      <th>postalCode</th>\n",
              "    </tr>\n",
              "  </thead>\n",
              "  <tbody>\n",
              "    <tr>\n",
              "      <th>count</th>\n",
              "      <td>50001.000</td>\n",
              "      <td>50001.000</td>\n",
              "      <td>50001.000</td>\n",
              "      <td>50001.000</td>\n",
              "      <td>50001.000</td>\n",
              "      <td>50001.000</td>\n",
              "    </tr>\n",
              "    <tr>\n",
              "      <th>mean</th>\n",
              "      <td>6559.865</td>\n",
              "      <td>2005.544</td>\n",
              "      <td>116.496</td>\n",
              "      <td>125613.688</td>\n",
              "      <td>5.744</td>\n",
              "      <td>50775.217</td>\n",
              "    </tr>\n",
              "    <tr>\n",
              "      <th>std</th>\n",
              "      <td>85818.470</td>\n",
              "      <td>122.992</td>\n",
              "      <td>230.568</td>\n",
              "      <td>40205.234</td>\n",
              "      <td>3.711</td>\n",
              "      <td>25743.702</td>\n",
              "    </tr>\n",
              "    <tr>\n",
              "      <th>min</th>\n",
              "      <td>0.000</td>\n",
              "      <td>1000.000</td>\n",
              "      <td>0.000</td>\n",
              "      <td>5000.000</td>\n",
              "      <td>0.000</td>\n",
              "      <td>1067.000</td>\n",
              "    </tr>\n",
              "    <tr>\n",
              "      <th>25%</th>\n",
              "      <td>1150.000</td>\n",
              "      <td>1999.000</td>\n",
              "      <td>69.000</td>\n",
              "      <td>125000.000</td>\n",
              "      <td>3.000</td>\n",
              "      <td>30559.000</td>\n",
              "    </tr>\n",
              "    <tr>\n",
              "      <th>50%</th>\n",
              "      <td>2950.000</td>\n",
              "      <td>2003.000</td>\n",
              "      <td>105.000</td>\n",
              "      <td>150000.000</td>\n",
              "      <td>6.000</td>\n",
              "      <td>49504.000</td>\n",
              "    </tr>\n",
              "    <tr>\n",
              "      <th>75%</th>\n",
              "      <td>7190.000</td>\n",
              "      <td>2008.000</td>\n",
              "      <td>150.000</td>\n",
              "      <td>150000.000</td>\n",
              "      <td>9.000</td>\n",
              "      <td>71404.000</td>\n",
              "    </tr>\n",
              "    <tr>\n",
              "      <th>max</th>\n",
              "      <td>12345678.000</td>\n",
              "      <td>9999.000</td>\n",
              "      <td>19312.000</td>\n",
              "      <td>150000.000</td>\n",
              "      <td>12.000</td>\n",
              "      <td>99998.000</td>\n",
              "    </tr>\n",
              "  </tbody>\n",
              "</table>\n",
              "</div>"
            ],
            "text/plain": [
              "             price  yearOfRegistration   powerPS  kilometer  \\\n",
              "count    50001.000           50001.000 50001.000  50001.000   \n",
              "mean      6559.865            2005.544   116.496 125613.688   \n",
              "std      85818.470             122.992   230.568  40205.234   \n",
              "min          0.000            1000.000     0.000   5000.000   \n",
              "25%       1150.000            1999.000    69.000 125000.000   \n",
              "50%       2950.000            2003.000   105.000 150000.000   \n",
              "75%       7190.000            2008.000   150.000 150000.000   \n",
              "max   12345678.000            9999.000 19312.000 150000.000   \n",
              "\n",
              "       monthOfRegistration  postalCode  \n",
              "count            50001.000   50001.000  \n",
              "mean                 5.744   50775.217  \n",
              "std                  3.711   25743.702  \n",
              "min                  0.000    1067.000  \n",
              "25%                  3.000   30559.000  \n",
              "50%                  6.000   49504.000  \n",
              "75%                  9.000   71404.000  \n",
              "max                 12.000   99998.000  "
            ]
          },
          "metadata": {
            "tags": []
          },
          "execution_count": 95
        }
      ]
    },
    {
      "cell_type": "code",
      "metadata": {
        "id": "e4DrvRUJViNc",
        "colab_type": "code",
        "colab": {}
      },
      "source": [
        "# dropping unwanted columns\n",
        "col = ['name', 'dateCrawled','postalCode','lastSeen']\n",
        "cars = cars_d.drop(columns=col,axis=1)"
      ],
      "execution_count": 0,
      "outputs": []
    },
    {
      "cell_type": "code",
      "metadata": {
        "id": "ocBQ9-88WoMR",
        "colab_type": "code",
        "colab": {}
      },
      "source": [
        "# removing duplicate records\n",
        "cars_d.drop_duplicates(keep='first',inplace=True)"
      ],
      "execution_count": 0,
      "outputs": []
    },
    {
      "cell_type": "code",
      "metadata": {
        "id": "mHAQzBdyY4xW",
        "colab_type": "code",
        "colab": {
          "base_uri": "https://localhost:8080/",
          "height": 353
        },
        "outputId": "f833254e-246a-48eb-9af7-1298e8ab77ec"
      },
      "source": [
        "#number of missing values in each column\n",
        "cars_d.isnull().sum()"
      ],
      "execution_count": 98,
      "outputs": [
        {
          "output_type": "execute_result",
          "data": {
            "text/plain": [
              "dateCrawled               0\n",
              "name                      0\n",
              "seller                    0\n",
              "offerType                 0\n",
              "price                     0\n",
              "abtest                    0\n",
              "vehicleType            5188\n",
              "yearOfRegistration        0\n",
              "gearbox                2824\n",
              "powerPS                   0\n",
              "model                  2758\n",
              "kilometer                 0\n",
              "monthOfRegistration       0\n",
              "fuelType               4503\n",
              "brand                     0\n",
              "notRepairedDamage      9715\n",
              "dateCreated               0\n",
              "postalCode                0\n",
              "lastSeen                  0\n",
              "dtype: int64"
            ]
          },
          "metadata": {
            "tags": []
          },
          "execution_count": 98
        }
      ]
    },
    {
      "cell_type": "code",
      "metadata": {
        "id": "BqKmhuM2Y9kN",
        "colab_type": "code",
        "colab": {}
      },
      "source": [
        "yearwise = cars['yearOfRegistration'].value_counts().sort_index()\n",
        "# if sort_index is not given then the values will be sorted based on frequency. We want to print based on year"
      ],
      "execution_count": 0,
      "outputs": []
    },
    {
      "cell_type": "code",
      "metadata": {
        "id": "tqpHVqKsdZps",
        "colab_type": "code",
        "colab": {
          "base_uri": "https://localhost:8080/",
          "height": 218
        },
        "outputId": "79d57b05-3175-41c6-bd7e-a3698f556f67"
      },
      "source": [
        "print(yearwise)"
      ],
      "execution_count": 100,
      "outputs": [
        {
          "output_type": "stream",
          "text": [
            "1000     6\n",
            "1255     1\n",
            "1500     2\n",
            "1910    15\n",
            "1928     1\n",
            "        ..\n",
            "7500     1\n",
            "7800     1\n",
            "8500     1\n",
            "8888     2\n",
            "9999     7\n",
            "Name: yearOfRegistration, Length: 97, dtype: int64\n"
          ],
          "name": "stdout"
        }
      ]
    },
    {
      "cell_type": "code",
      "metadata": {
        "id": "d6ffS8WzdeZQ",
        "colab_type": "code",
        "colab": {
          "base_uri": "https://localhost:8080/",
          "height": 34
        },
        "outputId": "eebb797c-68d8-4bcd-ee4a-b27a6ebb0d9a"
      },
      "source": [
        "# little bit of analysis on the data\n",
        "sum(cars_d['yearOfRegistration']>2018)"
      ],
      "execution_count": 101,
      "outputs": [
        {
          "output_type": "execute_result",
          "data": {
            "text/plain": [
              "26"
            ]
          },
          "metadata": {
            "tags": []
          },
          "execution_count": 101
        }
      ]
    },
    {
      "cell_type": "code",
      "metadata": {
        "id": "5ZyGme9feP1b",
        "colab_type": "code",
        "colab": {
          "base_uri": "https://localhost:8080/",
          "height": 34
        },
        "outputId": "08dbb2a5-0d01-4a42-ed49-5a6a1e646150"
      },
      "source": [
        "sum(cars_d['yearOfRegistration']<1950)"
      ],
      "execution_count": 102,
      "outputs": [
        {
          "output_type": "execute_result",
          "data": {
            "text/plain": [
              "39"
            ]
          },
          "metadata": {
            "tags": []
          },
          "execution_count": 102
        }
      ]
    },
    {
      "cell_type": "code",
      "metadata": {
        "id": "itDtoQsueWcv",
        "colab_type": "code",
        "colab": {
          "base_uri": "https://localhost:8080/",
          "height": 545
        },
        "outputId": "1c994422-8baa-4fcf-99b6-08ee1e3fde66"
      },
      "source": [
        "sns.regplot(x='yearOfRegistration',y='price',scatter=True,fit_reg=False,data=cars_d)"
      ],
      "execution_count": 103,
      "outputs": [
        {
          "output_type": "execute_result",
          "data": {
            "text/plain": [
              "<matplotlib.axes._subplots.AxesSubplot at 0x7efdda9a8a20>"
            ]
          },
          "metadata": {
            "tags": []
          },
          "execution_count": 103
        },
        {
          "output_type": "display_data",
          "data": {
            "image/png": "[encoded data removed]",
            "text/plain": [
              "<Figure size 842.4x595.44 with 1 Axes>"
            ]
          },
          "metadata": {
            "tags": []
          }
        }
      ]
    },
    {
      "cell_type": "code",
      "metadata": {
        "id": "WheA7DN-fEiX",
        "colab_type": "code",
        "colab": {}
      },
      "source": [
        "price_count = cars_d['price'].value_counts().sort_index()\n"
      ],
      "execution_count": 0,
      "outputs": []
    },
    {
      "cell_type": "code",
      "metadata": {
        "id": "b_MdWPINgW0R",
        "colab_type": "code",
        "colab": {}
      },
      "source": [
        "cars_d=cars_d.dropna(axis=0,how='any')"
      ],
      "execution_count": 0,
      "outputs": []
    },
    {
      "cell_type": "code",
      "metadata": {
        "id": "WAOFOJaQfgIa",
        "colab_type": "code",
        "colab": {
          "base_uri": "https://localhost:8080/",
          "height": 534
        },
        "outputId": "68db8c1f-8a59-4ae7-bfd0-82328290d598"
      },
      "source": [
        "sns.distplot(cars_d['price'])"
      ],
      "execution_count": 106,
      "outputs": [
        {
          "output_type": "execute_result",
          "data": {
            "text/plain": [
              "<matplotlib.axes._subplots.AxesSubplot at 0x7efdda374390>"
            ]
          },
          "metadata": {
            "tags": []
          },
          "execution_count": 106
        },
        {
          "output_type": "display_data",
          "data": {
            "image/png": "[encoded data removed]",
            "text/plain": [
              "<Figure size 842.4x595.44 with 1 Axes>"
            ]
          },
          "metadata": {
            "tags": []
          }
        }
      ]
    },
    {
      "cell_type": "code",
      "metadata": {
        "id": "CVbrtCL1fo5_",
        "colab_type": "code",
        "colab": {
          "base_uri": "https://localhost:8080/",
          "height": 420
        },
        "outputId": "8652815e-2d16-48b8-c15c-0d7ff91d3b3a"
      },
      "source": [
        "cars_d.info()"
      ],
      "execution_count": 107,
      "outputs": [
        {
          "output_type": "stream",
          "text": [
            "<class 'pandas.core.frame.DataFrame'>\n",
            "Int64Index: 35106 entries, 1 to 50000\n",
            "Data columns (total 19 columns):\n",
            "dateCrawled            35106 non-null object\n",
            "name                   35106 non-null object\n",
            "seller                 35106 non-null object\n",
            "offerType              35106 non-null object\n",
            "price                  35106 non-null int64\n",
            "abtest                 35106 non-null object\n",
            "vehicleType            35106 non-null object\n",
            "yearOfRegistration     35106 non-null int64\n",
            "gearbox                35106 non-null object\n",
            "powerPS                35106 non-null int64\n",
            "model                  35106 non-null object\n",
            "kilometer              35106 non-null int64\n",
            "monthOfRegistration    35106 non-null int64\n",
            "fuelType               35106 non-null object\n",
            "brand                  35106 non-null object\n",
            "notRepairedDamage      35106 non-null object\n",
            "dateCreated            35106 non-null object\n",
            "postalCode             35106 non-null int64\n",
            "lastSeen               35106 non-null object\n",
            "dtypes: int64(6), object(13)\n",
            "memory usage: 5.4+ MB\n"
          ],
          "name": "stdout"
        }
      ]
    },
    {
      "cell_type": "code",
      "metadata": {
        "id": "4dN-tIgLf0pN",
        "colab_type": "code",
        "colab": {
          "base_uri": "https://localhost:8080/",
          "height": 168
        },
        "outputId": "9500034c-008b-47a3-838f-f93dc38a37a6"
      },
      "source": [
        "cars_d['price'].describe()"
      ],
      "execution_count": 108,
      "outputs": [
        {
          "output_type": "execute_result",
          "data": {
            "text/plain": [
              "count      35106.000\n",
              "mean        7410.262\n",
              "std        85616.706\n",
              "min            0.000\n",
              "25%         1500.000\n",
              "50%         3800.000\n",
              "75%         8500.000\n",
              "max     12345678.000\n",
              "Name: price, dtype: float64"
            ]
          },
          "metadata": {
            "tags": []
          },
          "execution_count": 108
        }
      ]
    },
    {
      "cell_type": "code",
      "metadata": {
        "id": "N1ObvkZigwU7",
        "colab_type": "code",
        "colab": {
          "base_uri": "https://localhost:8080/",
          "height": 508
        },
        "outputId": "ca6d5111-f76f-4393-f957-862ebee69da0"
      },
      "source": [
        "# plotting box plot says about outliers when you cannot see a box then it means there is a lot of outlier\n",
        "sns.boxplot(y=cars_d['price'])"
      ],
      "execution_count": 109,
      "outputs": [
        {
          "output_type": "execute_result",
          "data": {
            "text/plain": [
              "<matplotlib.axes._subplots.AxesSubplot at 0x7efdda34e940>"
            ]
          },
          "metadata": {
            "tags": []
          },
          "execution_count": 109
        },
        {
          "output_type": "display_data",
          "data": {
            "image/png": "[encoded data removed]",
            "text/plain": [
              "<Figure size 842.4x595.44 with 1 Axes>"
            ]
          },
          "metadata": {
            "tags": []
          }
        }
      ]
    },
    {
      "cell_type": "code",
      "metadata": {
        "id": "kbGFQsrbhOTN",
        "colab_type": "code",
        "colab": {
          "base_uri": "https://localhost:8080/",
          "height": 34
        },
        "outputId": "d618576a-d74b-4515-fb0a-42feb7921f5f"
      },
      "source": [
        "sum(cars['price']>150000)"
      ],
      "execution_count": 110,
      "outputs": [
        {
          "output_type": "execute_result",
          "data": {
            "text/plain": [
              "34"
            ]
          },
          "metadata": {
            "tags": []
          },
          "execution_count": 110
        }
      ]
    },
    {
      "cell_type": "code",
      "metadata": {
        "id": "jm041FAxhz9c",
        "colab_type": "code",
        "colab": {
          "base_uri": "https://localhost:8080/",
          "height": 34
        },
        "outputId": "4b1fba00-1048-4ca6-d82d-625c53b94337"
      },
      "source": [
        "sum(cars['price']<100)"
      ],
      "execution_count": 111,
      "outputs": [
        {
          "output_type": "execute_result",
          "data": {
            "text/plain": [
              "1784"
            ]
          },
          "metadata": {
            "tags": []
          },
          "execution_count": 111
        }
      ]
    },
    {
      "cell_type": "code",
      "metadata": {
        "id": "AzbA_YHeh4Qi",
        "colab_type": "code",
        "colab": {
          "base_uri": "https://localhost:8080/",
          "height": 218
        },
        "outputId": "037d643c-a2bf-4594-9ec9-9e4f172365a1"
      },
      "source": [
        "power = cars_d['powerPS'].value_counts().sort_index()\n",
        "print(power)"
      ],
      "execution_count": 112,
      "outputs": [
        {
          "output_type": "stream",
          "text": [
            "0        1328\n",
            "1           1\n",
            "2           1\n",
            "5           3\n",
            "9           1\n",
            "         ... \n",
            "1998        1\n",
            "6226        1\n",
            "11620       1\n",
            "15033       1\n",
            "16312       1\n",
            "Name: powerPS, Length: 392, dtype: int64\n"
          ],
          "name": "stdout"
        }
      ]
    },
    {
      "cell_type": "code",
      "metadata": {
        "id": "hPt1bcbSb1Cg",
        "colab_type": "code",
        "colab": {
          "base_uri": "https://localhost:8080/",
          "height": 168
        },
        "outputId": "237fe73b-6f0e-4bd2-98a3-31475f51acd5"
      },
      "source": [
        "cars_d['powerPS'].describe()"
      ],
      "execution_count": 113,
      "outputs": [
        {
          "output_type": "execute_result",
          "data": {
            "text/plain": [
              "count   35106.000\n",
              "mean      126.858\n",
              "std       154.589\n",
              "min         0.000\n",
              "25%        77.000\n",
              "50%       116.000\n",
              "75%       150.000\n",
              "max     16312.000\n",
              "Name: powerPS, dtype: float64"
            ]
          },
          "metadata": {
            "tags": []
          },
          "execution_count": 113
        }
      ]
    },
    {
      "cell_type": "code",
      "metadata": {
        "id": "3cs-Ku-OcIdA",
        "colab_type": "code",
        "colab": {
          "base_uri": "https://localhost:8080/",
          "height": 497
        },
        "outputId": "ccfa041c-458b-40c7-bf59-2da1555d6aca"
      },
      "source": [
        "sns.boxplot(y=cars_d['powerPS'])"
      ],
      "execution_count": 114,
      "outputs": [
        {
          "output_type": "execute_result",
          "data": {
            "text/plain": [
              "<matplotlib.axes._subplots.AxesSubplot at 0x7efdda271c88>"
            ]
          },
          "metadata": {
            "tags": []
          },
          "execution_count": 114
        },
        {
          "output_type": "display_data",
          "data": {
            "image/png": "[encoded data removed]",
            "text/plain": [
              "<Figure size 842.4x595.44 with 1 Axes>"
            ]
          },
          "metadata": {
            "tags": []
          }
        }
      ]
    },
    {
      "cell_type": "code",
      "metadata": {
        "id": "V0XalnIucq5F",
        "colab_type": "code",
        "colab": {
          "base_uri": "https://localhost:8080/",
          "height": 545
        },
        "outputId": "aa96c597-32f0-492a-b14e-fd382cd6d90e"
      },
      "source": [
        "sns.regplot(x='powerPS',y='price',scatter=True,fit_reg=False,data=cars_d)"
      ],
      "execution_count": 115,
      "outputs": [
        {
          "output_type": "execute_result",
          "data": {
            "text/plain": [
              "<matplotlib.axes._subplots.AxesSubplot at 0x7efdda2b45c0>"
            ]
          },
          "metadata": {
            "tags": []
          },
          "execution_count": 115
        },
        {
          "output_type": "display_data",
          "data": {
            "image/png": "[encoded data removed]",
            "text/plain": [
              "<Figure size 842.4x595.44 with 1 Axes>"
            ]
          },
          "metadata": {
            "tags": []
          }
        }
      ]
    },
    {
      "cell_type": "code",
      "metadata": {
        "id": "Xu-X01uDddgu",
        "colab_type": "code",
        "colab": {
          "base_uri": "https://localhost:8080/",
          "height": 34
        },
        "outputId": "00f392fa-a306-49d0-9cda-f677c4dae5ea"
      },
      "source": [
        "sum(cars_d['powerPS']>500)"
      ],
      "execution_count": 116,
      "outputs": [
        {
          "output_type": "execute_result",
          "data": {
            "text/plain": [
              "72"
            ]
          },
          "metadata": {
            "tags": []
          },
          "execution_count": 116
        }
      ]
    },
    {
      "cell_type": "code",
      "metadata": {
        "id": "-6bNWfuOd1iw",
        "colab_type": "code",
        "colab": {
          "base_uri": "https://localhost:8080/",
          "height": 34
        },
        "outputId": "a10a4361-0cba-4aab-836d-b750e1215882"
      },
      "source": [
        "sum(cars_d['powerPS']<10)"
      ],
      "execution_count": 117,
      "outputs": [
        {
          "output_type": "execute_result",
          "data": {
            "text/plain": [
              "1334"
            ]
          },
          "metadata": {
            "tags": []
          },
          "execution_count": 117
        }
      ]
    },
    {
      "cell_type": "code",
      "metadata": {
        "id": "ebzgEllKd4tw",
        "colab_type": "code",
        "colab": {}
      },
      "source": [
        "cars = cars_d[(cars_d.yearOfRegistration<=2018)\n",
        "& (cars_d.yearOfRegistration >= 1950)\n",
        "& (cars_d.price >= 100)\n",
        "& (cars_d.price <= 150000)\n",
        "& (cars_d.powerPS >= 10)\n",
        "& (cars_d.powerPS <= 500)]"
      ],
      "execution_count": 0,
      "outputs": []
    },
    {
      "cell_type": "code",
      "metadata": {
        "id": "VX-d6f3Re08S",
        "colab_type": "code",
        "outputId": "608d144b-dc90-4236-fb79-76994fb4bc6c",
        "colab": {
          "base_uri": "https://localhost:8080/",
          "height": 1000
        }
      },
      "source": [
        "print(cars)"
      ],
      "execution_count": 119,
      "outputs": [
        {
          "output_type": "stream",
          "text": [
            "            dateCrawled                                               name  \\\n",
            "1         7/3/2016 9:54                             Volvo_XC90_2.4D_Summum   \n",
            "3      19/03/2016 17:50                       Seat_Ibiza_1.4_16V_Reference   \n",
            "4      16/03/2016 14:51  Volvo_XC90_D5_Aut._RDesign_R_Design_AWD_GSHD_S...   \n",
            "5        2/4/2016 12:51           VW_Passat_35i_Facelift_Limousine_TÜV_Neu   \n",
            "7      24/03/2016 15:52                        Mercedes_Benz_CLK_Coupe_200   \n",
            "...                 ...                                                ...   \n",
            "49991   10/3/2016 23:36                                        BMW_X3_3.0i   \n",
            "49992  14/03/2016 13:57                         Opel_Astra_2.0_DI_Elegance   \n",
            "49993  14/03/2016 11:37       Renault_Clio_mit_Servolenkung_und_neuem_TÜV!   \n",
            "49995  23/03/2016 21:45  Opel_Astra_G_Caravan__Tuev_2/2018__Scheckheft_...   \n",
            "50000   22/03/2016 9:54                    Chevrolet_Matiz_1.Hd_TÜV11/2017   \n",
            "\n",
            "           seller offerType  price   abtest    vehicleType  \\\n",
            "1         private     offer  13299  control            suv   \n",
            "3         private     offer   4500  control      small car   \n",
            "4         private     offer  18750     test            suv   \n",
            "5         private     offer    988     test      limousine   \n",
            "7         private     offer   1399     test          coupe   \n",
            "...           ...       ...    ...      ...            ...   \n",
            "49991     private     offer  10900     test      limousine   \n",
            "49992     private     offer    790     test      limousine   \n",
            "49993     private     offer    830     test      small car   \n",
            "49995     private     offer   2290     test  station wagon   \n",
            "50000  commercial     offer   1100     test      small car   \n",
            "\n",
            "       yearOfRegistration    gearbox  powerPS     model  kilometer  \\\n",
            "1                    2005     manual      163  xc_reihe     150000   \n",
            "3                    2006     manual       86     ibiza      60000   \n",
            "4                    2008  automatic      185  xc_reihe     150000   \n",
            "5                    1995     manual       90    passat     150000   \n",
            "7                    1997     manual      136       clk     150000   \n",
            "...                   ...        ...      ...       ...        ...   \n",
            "49991                2004     manual      231   x_reihe     150000   \n",
            "49992                1998     manual       82     astra     150000   \n",
            "49993                1999     manual       60      clio     125000   \n",
            "49995                2001     manual      101     astra     150000   \n",
            "50000                2006     manual       38     matiz     150000   \n",
            "\n",
            "       monthOfRegistration fuelType          brand notRepairedDamage  \\\n",
            "1                        6   diesel          volvo                no   \n",
            "3                       12   petrol           seat                no   \n",
            "4                       11   diesel          volvo                no   \n",
            "5                        2   petrol     volkswagen                no   \n",
            "7                       11   petrol  mercedes_benz                no   \n",
            "...                    ...      ...            ...               ...   \n",
            "49991                    8   petrol            bmw                no   \n",
            "49992                    9   diesel           opel                no   \n",
            "49993                    8   petrol        renault                no   \n",
            "49995                    3   petrol           opel                no   \n",
            "50000                   10   petrol      chevrolet                no   \n",
            "\n",
            "           dateCreated  postalCode          lastSeen  \n",
            "1        7/3/2016 0:00       88045  26/03/2016 13:17  \n",
            "3      19/03/2016 0:00       34537     7/4/2016 4:44  \n",
            "4      16/03/2016 0:00       55270    1/4/2016 23:18  \n",
            "5        2/4/2016 0:00       26826    2/4/2016 12:51  \n",
            "7      24/03/2016 0:00       13353  27/03/2016 12:45  \n",
            "...                ...         ...               ...  \n",
            "49991   10/3/2016 0:00       96152     6/4/2016 2:17  \n",
            "49992  14/03/2016 0:00       99310   31/03/2016 0:45  \n",
            "49993  14/03/2016 0:00       33659   22/03/2016 4:47  \n",
            "49995  23/03/2016 0:00       27305     4/4/2016 1:47  \n",
            "50000  22/03/2016 0:00        7973    5/4/2016 21:15  \n",
            "\n",
            "[33226 rows x 19 columns]\n"
          ],
          "name": "stdout"
        }
      ]
    },
    {
      "cell_type": "code",
      "metadata": {
        "id": "LDi1spfAe2dy",
        "colab_type": "code",
        "outputId": "f275580f-57ff-47ef-de44-325c54952457",
        "colab": {
          "base_uri": "https://localhost:8080/",
          "height": 138
        }
      },
      "source": [
        "cars.loc['monthOfRegistration']=cars.loc['monthOfRegistration']/12"
      ],
      "execution_count": 121,
      "outputs": [
        {
          "output_type": "stream",
          "text": [
            "/usr/local/lib/python3.6/dist-packages/pandas/core/indexing.py:494: SettingWithCopyWarning: \n",
            "A value is trying to be set on a copy of a slice from a DataFrame.\n",
            "Try using .loc[row_indexer,col_indexer] = value instead\n",
            "\n",
            "See the caveats in the documentation: http://pandas.pydata.org/pandas-docs/stable/user_guide/indexing.html#returning-a-view-versus-a-copy\n",
            "  self.obj[item] = s\n"
          ],
          "name": "stderr"
        }
      ]
    },
    {
      "cell_type": "code",
      "metadata": {
        "id": "bko21FYgfODk",
        "colab_type": "code",
        "colab": {}
      },
      "source": [
        "print(cars.monthOfRegistration)"
      ],
      "execution_count": 0,
      "outputs": []
    },
    {
      "cell_type": "code",
      "metadata": {
        "id": "LdY5-5EtfWFs",
        "colab_type": "code",
        "outputId": "7a067a73-1a05-4a44-80c6-1f2573da90f0",
        "colab": {
          "base_uri": "https://localhost:8080/",
          "height": 506
        }
      },
      "source": [
        "cars['Age'] = (2018 -cars['yearOfRegistration'])+cars['monthOfRegistration']\n",
        "cars[\"Age\"] = round(cars['Age'],2)\n",
        "cars.describe()"
      ],
      "execution_count": 0,
      "outputs": [
        {
          "output_type": "stream",
          "text": [
            "/usr/local/lib/python3.6/dist-packages/ipykernel_launcher.py:1: SettingWithCopyWarning: \n",
            "A value is trying to be set on a copy of a slice from a DataFrame.\n",
            "Try using .loc[row_indexer,col_indexer] = value instead\n",
            "\n",
            "See the caveats in the documentation: http://pandas.pydata.org/pandas-docs/stable/user_guide/indexing.html#returning-a-view-versus-a-copy\n",
            "  \"\"\"Entry point for launching an IPython kernel.\n",
            "/usr/local/lib/python3.6/dist-packages/ipykernel_launcher.py:2: SettingWithCopyWarning: \n",
            "A value is trying to be set on a copy of a slice from a DataFrame.\n",
            "Try using .loc[row_indexer,col_indexer] = value instead\n",
            "\n",
            "See the caveats in the documentation: http://pandas.pydata.org/pandas-docs/stable/user_guide/indexing.html#returning-a-view-versus-a-copy\n",
            "  \n"
          ],
          "name": "stderr"
        },
        {
          "output_type": "execute_result",
          "data": {
            "text/html": [
              "<div>\n",
              "<style scoped>\n",
              "    .dataframe tbody tr th:only-of-type {\n",
              "        vertical-align: middle;\n",
              "    }\n",
              "\n",
              "    .dataframe tbody tr th {\n",
              "        vertical-align: top;\n",
              "    }\n",
              "\n",
              "    .dataframe thead th {\n",
              "        text-align: right;\n",
              "    }\n",
              "</style>\n",
              "<table border=\"1\" class=\"dataframe\">\n",
              "  <thead>\n",
              "    <tr style=\"text-align: right;\">\n",
              "      <th></th>\n",
              "      <th>price</th>\n",
              "      <th>yearOfRegistration</th>\n",
              "      <th>powerPS</th>\n",
              "      <th>kilometer</th>\n",
              "      <th>monthOfRegistration</th>\n",
              "      <th>postalCode</th>\n",
              "      <th>Age</th>\n",
              "    </tr>\n",
              "  </thead>\n",
              "  <tbody>\n",
              "    <tr>\n",
              "      <th>count</th>\n",
              "      <td>4114.000</td>\n",
              "      <td>4114.000</td>\n",
              "      <td>4114.000</td>\n",
              "      <td>4114.000</td>\n",
              "      <td>4114.000</td>\n",
              "      <td>4114.000</td>\n",
              "      <td>4114.000</td>\n",
              "    </tr>\n",
              "    <tr>\n",
              "      <th>mean</th>\n",
              "      <td>6811.583</td>\n",
              "      <td>2003.610</td>\n",
              "      <td>129.014</td>\n",
              "      <td>123321.585</td>\n",
              "      <td>0.518</td>\n",
              "      <td>51833.021</td>\n",
              "      <td>14.907</td>\n",
              "    </tr>\n",
              "    <tr>\n",
              "      <th>std</th>\n",
              "      <td>8309.569</td>\n",
              "      <td>6.213</td>\n",
              "      <td>61.688</td>\n",
              "      <td>40361.199</td>\n",
              "      <td>0.282</td>\n",
              "      <td>25660.939</td>\n",
              "      <td>6.221</td>\n",
              "    </tr>\n",
              "    <tr>\n",
              "      <th>min</th>\n",
              "      <td>100.000</td>\n",
              "      <td>1955.000</td>\n",
              "      <td>18.000</td>\n",
              "      <td>5000.000</td>\n",
              "      <td>0.000</td>\n",
              "      <td>1099.000</td>\n",
              "      <td>2.170</td>\n",
              "    </tr>\n",
              "    <tr>\n",
              "      <th>25%</th>\n",
              "      <td>1700.000</td>\n",
              "      <td>2000.000</td>\n",
              "      <td>84.000</td>\n",
              "      <td>100000.000</td>\n",
              "      <td>0.250</td>\n",
              "      <td>31242.250</td>\n",
              "      <td>10.353</td>\n",
              "    </tr>\n",
              "    <tr>\n",
              "      <th>50%</th>\n",
              "      <td>4000.000</td>\n",
              "      <td>2004.000</td>\n",
              "      <td>116.000</td>\n",
              "      <td>150000.000</td>\n",
              "      <td>0.500</td>\n",
              "      <td>51066.000</td>\n",
              "      <td>14.500</td>\n",
              "    </tr>\n",
              "    <tr>\n",
              "      <th>75%</th>\n",
              "      <td>8990.000</td>\n",
              "      <td>2008.000</td>\n",
              "      <td>160.000</td>\n",
              "      <td>150000.000</td>\n",
              "      <td>0.750</td>\n",
              "      <td>72787.250</td>\n",
              "      <td>18.830</td>\n",
              "    </tr>\n",
              "    <tr>\n",
              "      <th>max</th>\n",
              "      <td>139000.000</td>\n",
              "      <td>2016.000</td>\n",
              "      <td>500.000</td>\n",
              "      <td>150000.000</td>\n",
              "      <td>1.000</td>\n",
              "      <td>99974.000</td>\n",
              "      <td>63.500</td>\n",
              "    </tr>\n",
              "  </tbody>\n",
              "</table>\n",
              "</div>"
            ],
            "text/plain": [
              "           price  yearOfRegistration  powerPS  kilometer  monthOfRegistration  \\\n",
              "count   4114.000            4114.000 4114.000   4114.000             4114.000   \n",
              "mean    6811.583            2003.610  129.014 123321.585                0.518   \n",
              "std     8309.569               6.213   61.688  40361.199                0.282   \n",
              "min      100.000            1955.000   18.000   5000.000                0.000   \n",
              "25%     1700.000            2000.000   84.000 100000.000                0.250   \n",
              "50%     4000.000            2004.000  116.000 150000.000                0.500   \n",
              "75%     8990.000            2008.000  160.000 150000.000                0.750   \n",
              "max   139000.000            2016.000  500.000 150000.000                1.000   \n",
              "\n",
              "       postalCode      Age  \n",
              "count    4114.000 4114.000  \n",
              "mean    51833.021   14.907  \n",
              "std     25660.939    6.221  \n",
              "min      1099.000    2.170  \n",
              "25%     31242.250   10.353  \n",
              "50%     51066.000   14.500  \n",
              "75%     72787.250   18.830  \n",
              "max     99974.000   63.500  "
            ]
          },
          "metadata": {
            "tags": []
          },
          "execution_count": 12
        }
      ]
    },
    {
      "cell_type": "code",
      "metadata": {
        "id": "JLKI8E0LgEL4",
        "colab_type": "code",
        "colab": {}
      },
      "source": [
        "print(cars['Age'])"
      ],
      "execution_count": 0,
      "outputs": []
    },
    {
      "cell_type": "code",
      "metadata": {
        "id": "KhCEwJgUgHnZ",
        "colab_type": "code",
        "colab": {}
      },
      "source": [
        "cars = cars.drop(columns=['yearOfRegistration','monthOfRegistration'])"
      ],
      "execution_count": 0,
      "outputs": []
    },
    {
      "cell_type": "code",
      "metadata": {
        "id": "UFXvGpPbgxa4",
        "colab_type": "code",
        "colab": {}
      },
      "source": [
        "cars['Age'] = round(cars['Age'],2)"
      ],
      "execution_count": 0,
      "outputs": []
    },
    {
      "cell_type": "code",
      "metadata": {
        "id": "a2vsh0hHg5x4",
        "colab_type": "code",
        "outputId": "55e0f7c2-6e20-483f-ef14-efdaa56ad074",
        "colab": {
          "base_uri": "https://localhost:8080/",
          "height": 284
        }
      },
      "source": [
        "cars.describe()"
      ],
      "execution_count": 0,
      "outputs": [
        {
          "output_type": "execute_result",
          "data": {
            "text/html": [
              "<div>\n",
              "<style scoped>\n",
              "    .dataframe tbody tr th:only-of-type {\n",
              "        vertical-align: middle;\n",
              "    }\n",
              "\n",
              "    .dataframe tbody tr th {\n",
              "        vertical-align: top;\n",
              "    }\n",
              "\n",
              "    .dataframe thead th {\n",
              "        text-align: right;\n",
              "    }\n",
              "</style>\n",
              "<table border=\"1\" class=\"dataframe\">\n",
              "  <thead>\n",
              "    <tr style=\"text-align: right;\">\n",
              "      <th></th>\n",
              "      <th>price</th>\n",
              "      <th>powerPS</th>\n",
              "      <th>kilometer</th>\n",
              "      <th>postalCode</th>\n",
              "      <th>Age</th>\n",
              "    </tr>\n",
              "  </thead>\n",
              "  <tbody>\n",
              "    <tr>\n",
              "      <th>count</th>\n",
              "      <td>4114.000</td>\n",
              "      <td>4114.000</td>\n",
              "      <td>4114.000</td>\n",
              "      <td>4114.000</td>\n",
              "      <td>4114.000</td>\n",
              "    </tr>\n",
              "    <tr>\n",
              "      <th>mean</th>\n",
              "      <td>6811.583</td>\n",
              "      <td>129.014</td>\n",
              "      <td>123321.585</td>\n",
              "      <td>51833.021</td>\n",
              "      <td>14.907</td>\n",
              "    </tr>\n",
              "    <tr>\n",
              "      <th>std</th>\n",
              "      <td>8309.569</td>\n",
              "      <td>61.688</td>\n",
              "      <td>40361.199</td>\n",
              "      <td>25660.939</td>\n",
              "      <td>6.221</td>\n",
              "    </tr>\n",
              "    <tr>\n",
              "      <th>min</th>\n",
              "      <td>100.000</td>\n",
              "      <td>18.000</td>\n",
              "      <td>5000.000</td>\n",
              "      <td>1099.000</td>\n",
              "      <td>2.170</td>\n",
              "    </tr>\n",
              "    <tr>\n",
              "      <th>25%</th>\n",
              "      <td>1700.000</td>\n",
              "      <td>84.000</td>\n",
              "      <td>100000.000</td>\n",
              "      <td>31242.250</td>\n",
              "      <td>10.353</td>\n",
              "    </tr>\n",
              "    <tr>\n",
              "      <th>50%</th>\n",
              "      <td>4000.000</td>\n",
              "      <td>116.000</td>\n",
              "      <td>150000.000</td>\n",
              "      <td>51066.000</td>\n",
              "      <td>14.500</td>\n",
              "    </tr>\n",
              "    <tr>\n",
              "      <th>75%</th>\n",
              "      <td>8990.000</td>\n",
              "      <td>160.000</td>\n",
              "      <td>150000.000</td>\n",
              "      <td>72787.250</td>\n",
              "      <td>18.830</td>\n",
              "    </tr>\n",
              "    <tr>\n",
              "      <th>max</th>\n",
              "      <td>139000.000</td>\n",
              "      <td>500.000</td>\n",
              "      <td>150000.000</td>\n",
              "      <td>99974.000</td>\n",
              "      <td>63.500</td>\n",
              "    </tr>\n",
              "  </tbody>\n",
              "</table>\n",
              "</div>"
            ],
            "text/plain": [
              "           price  powerPS  kilometer  postalCode      Age\n",
              "count   4114.000 4114.000   4114.000    4114.000 4114.000\n",
              "mean    6811.583  129.014 123321.585   51833.021   14.907\n",
              "std     8309.569   61.688  40361.199   25660.939    6.221\n",
              "min      100.000   18.000   5000.000    1099.000    2.170\n",
              "25%     1700.000   84.000 100000.000   31242.250   10.353\n",
              "50%     4000.000  116.000 150000.000   51066.000   14.500\n",
              "75%     8990.000  160.000 150000.000   72787.250   18.830\n",
              "max   139000.000  500.000 150000.000   99974.000   63.500"
            ]
          },
          "metadata": {
            "tags": []
          },
          "execution_count": 15
        }
      ]
    },
    {
      "cell_type": "code",
      "metadata": {
        "id": "OthlWoZmg9TL",
        "colab_type": "code",
        "colab": {}
      },
      "source": [
        "sns.distplot(cars['Age'])"
      ],
      "execution_count": 0,
      "outputs": []
    },
    {
      "cell_type": "code",
      "metadata": {
        "id": "6HyW809VhDsS",
        "colab_type": "code",
        "colab": {}
      },
      "source": [
        "sns.boxplot(y = cars['Age'])"
      ],
      "execution_count": 0,
      "outputs": []
    },
    {
      "cell_type": "code",
      "metadata": {
        "id": "AXr7MZImhJw_",
        "colab_type": "code",
        "colab": {}
      },
      "source": [
        "sns.distplot(cars['price'])\n",
        "sns.boxplot(y = cars['price'])"
      ],
      "execution_count": 0,
      "outputs": []
    },
    {
      "cell_type": "code",
      "metadata": {
        "id": "v8JiKFO5hg1A",
        "colab_type": "code",
        "colab": {}
      },
      "source": [
        "sns.distplot(cars['powerPS'])\n",
        "sns.boxplot(y = cars['powerPS'])"
      ],
      "execution_count": 0,
      "outputs": []
    },
    {
      "cell_type": "code",
      "metadata": {
        "id": "GNO2JTaPhw7l",
        "colab_type": "code",
        "colab": {}
      },
      "source": [
        "sns.regplot(x='Age',y='price',scatter=True,fit_reg=False,data=cars)"
      ],
      "execution_count": 0,
      "outputs": []
    },
    {
      "cell_type": "code",
      "metadata": {
        "id": "VQeqyw80iJN9",
        "colab_type": "code",
        "outputId": "a04c848f-01ee-490a-a0ca-db77e91f3583",
        "colab": {
          "base_uri": "https://localhost:8080/",
          "height": 50
        }
      },
      "source": [
        "cars['seller'].value_counts()"
      ],
      "execution_count": 0,
      "outputs": [
        {
          "output_type": "execute_result",
          "data": {
            "text/plain": [
              "private    4114\n",
              "Name: seller, dtype: int64"
            ]
          },
          "metadata": {
            "tags": []
          },
          "execution_count": 16
        }
      ]
    },
    {
      "cell_type": "code",
      "metadata": {
        "id": "A5M6SuTzNheb",
        "colab_type": "code",
        "outputId": "d8563577-40d2-4d1d-8a37-ca4da1f26c60",
        "colab": {
          "base_uri": "https://localhost:8080/",
          "height": 106
        }
      },
      "source": [
        "pd.crosstab(cars['seller'],columns='count',normalize=True)\n"
      ],
      "execution_count": 0,
      "outputs": [
        {
          "output_type": "execute_result",
          "data": {
            "text/html": [
              "<div>\n",
              "<style scoped>\n",
              "    .dataframe tbody tr th:only-of-type {\n",
              "        vertical-align: middle;\n",
              "    }\n",
              "\n",
              "    .dataframe tbody tr th {\n",
              "        vertical-align: top;\n",
              "    }\n",
              "\n",
              "    .dataframe thead th {\n",
              "        text-align: right;\n",
              "    }\n",
              "</style>\n",
              "<table border=\"1\" class=\"dataframe\">\n",
              "  <thead>\n",
              "    <tr style=\"text-align: right;\">\n",
              "      <th>col_0</th>\n",
              "      <th>count</th>\n",
              "    </tr>\n",
              "    <tr>\n",
              "      <th>seller</th>\n",
              "      <th></th>\n",
              "    </tr>\n",
              "  </thead>\n",
              "  <tbody>\n",
              "    <tr>\n",
              "      <th>private</th>\n",
              "      <td>1.000</td>\n",
              "    </tr>\n",
              "  </tbody>\n",
              "</table>\n",
              "</div>"
            ],
            "text/plain": [
              "col_0    count\n",
              "seller        \n",
              "private  1.000"
            ]
          },
          "metadata": {
            "tags": []
          },
          "execution_count": 18
        }
      ]
    },
    {
      "cell_type": "code",
      "metadata": {
        "id": "vsk8t7u_N4cp",
        "colab_type": "code",
        "colab": {}
      },
      "source": [
        "sns.countplot(x='seller',data=cars)"
      ],
      "execution_count": 0,
      "outputs": []
    },
    {
      "cell_type": "code",
      "metadata": {
        "id": "uPvT0oCROIfY",
        "colab_type": "code",
        "outputId": "e1748171-912b-4e82-a487-155791f3cf20",
        "colab": {
          "base_uri": "https://localhost:8080/",
          "height": 136
        }
      },
      "source": [
        "pd.crosstab(cars['abtest'],columns='count',normalize=True)"
      ],
      "execution_count": 0,
      "outputs": [
        {
          "output_type": "execute_result",
          "data": {
            "text/html": [
              "<div>\n",
              "<style scoped>\n",
              "    .dataframe tbody tr th:only-of-type {\n",
              "        vertical-align: middle;\n",
              "    }\n",
              "\n",
              "    .dataframe tbody tr th {\n",
              "        vertical-align: top;\n",
              "    }\n",
              "\n",
              "    .dataframe thead th {\n",
              "        text-align: right;\n",
              "    }\n",
              "</style>\n",
              "<table border=\"1\" class=\"dataframe\">\n",
              "  <thead>\n",
              "    <tr style=\"text-align: right;\">\n",
              "      <th>col_0</th>\n",
              "      <th>count</th>\n",
              "    </tr>\n",
              "    <tr>\n",
              "      <th>abtest</th>\n",
              "      <th></th>\n",
              "    </tr>\n",
              "  </thead>\n",
              "  <tbody>\n",
              "    <tr>\n",
              "      <th>control</th>\n",
              "      <td>0.477</td>\n",
              "    </tr>\n",
              "    <tr>\n",
              "      <th>test</th>\n",
              "      <td>0.523</td>\n",
              "    </tr>\n",
              "  </tbody>\n",
              "</table>\n",
              "</div>"
            ],
            "text/plain": [
              "col_0    count\n",
              "abtest        \n",
              "control  0.477\n",
              "test     0.523"
            ]
          },
          "metadata": {
            "tags": []
          },
          "execution_count": 19
        }
      ]
    },
    {
      "cell_type": "code",
      "metadata": {
        "id": "INwDeoeTOVtg",
        "colab_type": "code",
        "colab": {}
      },
      "source": [
        "sns.countplot(x='abtest',data=cars)"
      ],
      "execution_count": 0,
      "outputs": []
    },
    {
      "cell_type": "code",
      "metadata": {
        "id": "aVBw0uJCOgRf",
        "colab_type": "code",
        "colab": {}
      },
      "source": [
        "sns.boxplot(x='abtest',y='price',data=cars)\n",
        "# equally distributed\n",
        "# for every price value there is almost 50-50 distribution\n",
        "# Does not affect price => Insignificant"
      ],
      "execution_count": 0,
      "outputs": []
    },
    {
      "cell_type": "code",
      "metadata": {
        "id": "Rz68up1MRJ9N",
        "colab_type": "code",
        "outputId": "9dcad36f-ac93-4ee9-8619-3d3b7bbb5f34",
        "colab": {
          "base_uri": "https://localhost:8080/",
          "height": 168
        }
      },
      "source": [
        "cars['vehicleType'].value_counts()"
      ],
      "execution_count": 0,
      "outputs": [
        {
          "output_type": "execute_result",
          "data": {
            "text/plain": [
              "limousine        1279\n",
              "small car         952\n",
              "station wagon     805\n",
              "bus               372\n",
              "cabrio            304\n",
              "coupe             204\n",
              "suv               178\n",
              "others             20\n",
              "Name: vehicleType, dtype: int64"
            ]
          },
          "metadata": {
            "tags": []
          },
          "execution_count": 24
        }
      ]
    },
    {
      "cell_type": "code",
      "metadata": {
        "id": "xCwaTkpnOobq",
        "colab_type": "code",
        "outputId": "e65fd238-effb-44a3-aad5-907d2d2fddb2",
        "colab": {
          "base_uri": "https://localhost:8080/",
          "height": 314
        }
      },
      "source": [
        "pd.crosstab(cars['vehicleType'],columns='count',normalize=True)"
      ],
      "execution_count": 0,
      "outputs": [
        {
          "output_type": "execute_result",
          "data": {
            "text/html": [
              "<div>\n",
              "<style scoped>\n",
              "    .dataframe tbody tr th:only-of-type {\n",
              "        vertical-align: middle;\n",
              "    }\n",
              "\n",
              "    .dataframe tbody tr th {\n",
              "        vertical-align: top;\n",
              "    }\n",
              "\n",
              "    .dataframe thead th {\n",
              "        text-align: right;\n",
              "    }\n",
              "</style>\n",
              "<table border=\"1\" class=\"dataframe\">\n",
              "  <thead>\n",
              "    <tr style=\"text-align: right;\">\n",
              "      <th>col_0</th>\n",
              "      <th>count</th>\n",
              "    </tr>\n",
              "    <tr>\n",
              "      <th>vehicleType</th>\n",
              "      <th></th>\n",
              "    </tr>\n",
              "  </thead>\n",
              "  <tbody>\n",
              "    <tr>\n",
              "      <th>bus</th>\n",
              "      <td>0.090</td>\n",
              "    </tr>\n",
              "    <tr>\n",
              "      <th>cabrio</th>\n",
              "      <td>0.074</td>\n",
              "    </tr>\n",
              "    <tr>\n",
              "      <th>coupe</th>\n",
              "      <td>0.050</td>\n",
              "    </tr>\n",
              "    <tr>\n",
              "      <th>limousine</th>\n",
              "      <td>0.311</td>\n",
              "    </tr>\n",
              "    <tr>\n",
              "      <th>others</th>\n",
              "      <td>0.005</td>\n",
              "    </tr>\n",
              "    <tr>\n",
              "      <th>small car</th>\n",
              "      <td>0.231</td>\n",
              "    </tr>\n",
              "    <tr>\n",
              "      <th>station wagon</th>\n",
              "      <td>0.196</td>\n",
              "    </tr>\n",
              "    <tr>\n",
              "      <th>suv</th>\n",
              "      <td>0.043</td>\n",
              "    </tr>\n",
              "  </tbody>\n",
              "</table>\n",
              "</div>"
            ],
            "text/plain": [
              "col_0          count\n",
              "vehicleType         \n",
              "bus            0.090\n",
              "cabrio         0.074\n",
              "coupe          0.050\n",
              "limousine      0.311\n",
              "others         0.005\n",
              "small car      0.231\n",
              "station wagon  0.196\n",
              "suv            0.043"
            ]
          },
          "metadata": {
            "tags": []
          },
          "execution_count": 23
        }
      ]
    },
    {
      "cell_type": "code",
      "metadata": {
        "id": "gQa2AJZlRDiV",
        "colab_type": "code",
        "colab": {}
      },
      "source": [
        "sns.countplot(x='vehicleType',data=cars)"
      ],
      "execution_count": 0,
      "outputs": []
    },
    {
      "cell_type": "code",
      "metadata": {
        "id": "0Y4nFQpYRldp",
        "colab_type": "code",
        "outputId": "4a5a56dc-2991-491b-87e4-04eca3284c6f",
        "colab": {
          "base_uri": "https://localhost:8080/",
          "height": 554
        }
      },
      "source": [
        "sns.boxplot(x='vehicleType',y='price',data=cars)"
      ],
      "execution_count": 0,
      "outputs": [
        {
          "output_type": "execute_result",
          "data": {
            "text/plain": [
              "<matplotlib.axes._subplots.AxesSubplot at 0x7efde4ad06d8>"
            ]
          },
          "metadata": {
            "tags": []
          },
          "execution_count": 28
        },
        {
          "output_type": "display_data",
          "data": {
            "image/png": "[encoded data removed]",
            "text/plain": [
              "<Figure size 842.4x595.44 with 1 Axes>"
            ]
          },
          "metadata": {
            "tags": []
          }
        }
      ]
    },
    {
      "cell_type": "code",
      "metadata": {
        "id": "jhL5w96PSc_I",
        "colab_type": "code",
        "colab": {}
      },
      "source": [
        "col=['seller','offerType','abtest']\n",
        "cars.drop(columns=col,axis=1)"
      ],
      "execution_count": 0,
      "outputs": []
    },
    {
      "cell_type": "code",
      "metadata": {
        "id": "HYjUZ07oUWGK",
        "colab_type": "code",
        "colab": {}
      },
      "source": [
        "cars_s = cars.select_dtypes(exclude=[object])"
      ],
      "execution_count": 0,
      "outputs": []
    },
    {
      "cell_type": "code",
      "metadata": {
        "id": "pakg0OKAdIEd",
        "colab_type": "code",
        "colab": {}
      },
      "source": [
        "correl = cars_s.corr()"
      ],
      "execution_count": 0,
      "outputs": []
    },
    {
      "cell_type": "code",
      "metadata": {
        "id": "OwaOk0OndRen",
        "colab_type": "code",
        "colab": {}
      },
      "source": [
        "round(correl,3)"
      ],
      "execution_count": 0,
      "outputs": []
    },
    {
      "cell_type": "code",
      "metadata": {
        "id": "kRA6fz1odVWP",
        "colab_type": "code",
        "colab": {
          "base_uri": "https://localhost:8080/",
          "height": 101
        },
        "outputId": "3d185c62-3da1-4fed-9530-91f2417c768f"
      },
      "source": [
        "cars_s.corr().loc[:,'price'].abs().sort_values(ascending=False)[1:]"
      ],
      "execution_count": 33,
      "outputs": [
        {
          "output_type": "execute_result",
          "data": {
            "text/plain": [
              "powerPS      0.590\n",
              "Age          0.486\n",
              "kilometer    0.444\n",
              "postalCode   0.074\n",
              "Name: price, dtype: float64"
            ]
          },
          "metadata": {
            "tags": []
          },
          "execution_count": 33
        }
      ]
    },
    {
      "cell_type": "code",
      "metadata": {
        "id": "uwlTzL8whwiX",
        "colab_type": "code",
        "colab": {}
      },
      "source": [
        "# Linear regression and random forest\n",
        "# by omitting missing value\n",
        "# imputing missing value"
      ],
      "execution_count": 0,
      "outputs": []
    },
    {
      "cell_type": "code",
      "metadata": {
        "id": "eNWAeUSBw3N5",
        "colab_type": "code",
        "colab": {}
      },
      "source": [
        "cars = cars_s.dropna(axis=0)"
      ],
      "execution_count": 0,
      "outputs": []
    },
    {
      "cell_type": "code",
      "metadata": {
        "id": "bef2fD-axPTQ",
        "colab_type": "code",
        "colab": {}
      },
      "source": [
        "#converting categorical variables to dummy variables\n",
        "cars=pd.get_dummies(cars,drop_first=True)"
      ],
      "execution_count": 0,
      "outputs": []
    },
    {
      "cell_type": "code",
      "metadata": {
        "id": "JN27BJ1bxYln",
        "colab_type": "code",
        "colab": {}
      },
      "source": [
        "from sklearn.model_selection import train_test_split\n",
        "from sklearn.linear_model import LinearRegression\n",
        "from sklearn.ensemble import RandomForestRegressor\n",
        "from sklearn.metrics import mean_squared_error"
      ],
      "execution_count": 0,
      "outputs": []
    },
    {
      "cell_type": "code",
      "metadata": {
        "id": "zTHoU4bgyCdA",
        "colab_type": "code",
        "colab": {}
      },
      "source": [
        "x1 = cars.drop(['price'],axis='columns',inplace=False)"
      ],
      "execution_count": 0,
      "outputs": []
    },
    {
      "cell_type": "code",
      "metadata": {
        "id": "SFl3uzabyR67",
        "colab_type": "code",
        "colab": {}
      },
      "source": [
        "y1 = cars['price']"
      ],
      "execution_count": 0,
      "outputs": []
    },
    {
      "cell_type": "code",
      "metadata": {
        "id": "WfzJwpi1yT48",
        "colab_type": "code",
        "colab": {}
      },
      "source": [
        "import numpy as np\n",
        "prices = pd.DataFrame({\"1:Before\" :y1,'2:After': np.log(y1)})"
      ],
      "execution_count": 0,
      "outputs": []
    },
    {
      "cell_type": "code",
      "metadata": {
        "id": "A7v_Hy4gynpi",
        "colab_type": "code",
        "colab": {}
      },
      "source": [
        "y1 = np.log(y1)"
      ],
      "execution_count": 0,
      "outputs": []
    },
    {
      "cell_type": "code",
      "metadata": {
        "id": "omENo9aBy_fl",
        "colab_type": "code",
        "colab": {
          "base_uri": "https://localhost:8080/",
          "height": 34
        },
        "outputId": "4467b176-dbc4-44a3-820a-b0a8de67b9ca"
      },
      "source": [
        "x_train,x_test,y_train,y_test = train_test_split(x1,y1,test_size=0.3,random_state=3)\n",
        "print(x_train.shape,x_test.shape,y_train.shape,y_test.shape)"
      ],
      "execution_count": 43,
      "outputs": [
        {
          "output_type": "stream",
          "text": [
            "(2879, 4) (1235, 4) (2879,) (1235,)\n"
          ],
          "name": "stdout"
        }
      ]
    },
    {
      "cell_type": "code",
      "metadata": {
        "id": "mMIlzMHIzQEA",
        "colab_type": "code",
        "colab": {}
      },
      "source": [
        "# baseline model for omitted data\n",
        "base_pred = np.mean(y_test)"
      ],
      "execution_count": 0,
      "outputs": []
    },
    {
      "cell_type": "code",
      "metadata": {
        "id": "9mkn1mNVzr7P",
        "colab_type": "code",
        "colab": {}
      },
      "source": [
        "base_pred=np.repeat(base_pred,len(y_test))"
      ],
      "execution_count": 0,
      "outputs": []
    },
    {
      "cell_type": "code",
      "metadata": {
        "id": "YrWaIb7X0F50",
        "colab_type": "code",
        "colab": {}
      },
      "source": [
        "base_rmse = np.sqrt(mean_squared_error(y_test,base_pred))"
      ],
      "execution_count": 0,
      "outputs": []
    },
    {
      "cell_type": "code",
      "metadata": {
        "id": "KoKK6ztT0SCC",
        "colab_type": "code",
        "colab": {
          "base_uri": "https://localhost:8080/",
          "height": 34
        },
        "outputId": "a6691625-5c99-4d5a-a82e-abd3636b145a"
      },
      "source": [
        "print(base_rmse)"
      ],
      "execution_count": 48,
      "outputs": [
        {
          "output_type": "stream",
          "text": [
            "1.1258882775093897\n"
          ],
          "name": "stdout"
        }
      ]
    },
    {
      "cell_type": "code",
      "metadata": {
        "id": "sbdlE7gd0UlE",
        "colab_type": "code",
        "colab": {}
      },
      "source": [
        "lgr = LinearRegression(fit_intercept=True)"
      ],
      "execution_count": 0,
      "outputs": []
    },
    {
      "cell_type": "code",
      "metadata": {
        "id": "mGjuxUlV0mZW",
        "colab_type": "code",
        "colab": {}
      },
      "source": [
        "model = lgr.fit(x_train,y_train)"
      ],
      "execution_count": 0,
      "outputs": []
    },
    {
      "cell_type": "code",
      "metadata": {
        "id": "uJe53FmB0rwN",
        "colab_type": "code",
        "colab": {}
      },
      "source": [
        "cars_pred = lgr.predict(x_test)"
      ],
      "execution_count": 0,
      "outputs": []
    },
    {
      "cell_type": "code",
      "metadata": {
        "id": "cxANX14C0xV1",
        "colab_type": "code",
        "colab": {}
      },
      "source": [
        "# Mean squared error\n",
        "mse = mean_squared_error(y_test,cars_pred)"
      ],
      "execution_count": 0,
      "outputs": []
    },
    {
      "cell_type": "code",
      "metadata": {
        "id": "_eW_Oqni1Mfn",
        "colab_type": "code",
        "colab": {}
      },
      "source": [
        "rmse = np.sqrt(mse)"
      ],
      "execution_count": 0,
      "outputs": []
    },
    {
      "cell_type": "code",
      "metadata": {
        "id": "n-UgtPaP1QLw",
        "colab_type": "code",
        "colab": {
          "base_uri": "https://localhost:8080/",
          "height": 34
        },
        "outputId": "447e3f2f-fef1-4c99-944b-4ee1c456cb28"
      },
      "source": [
        "print(rmse)"
      ],
      "execution_count": 54,
      "outputs": [
        {
          "output_type": "stream",
          "text": [
            "0.6637667808247734\n"
          ],
          "name": "stdout"
        }
      ]
    },
    {
      "cell_type": "code",
      "metadata": {
        "id": "K091uOel1Y0j",
        "colab_type": "code",
        "colab": {
          "base_uri": "https://localhost:8080/",
          "height": 34
        },
        "outputId": "592dae68-6e1e-478d-edc4-40a8cf5b7420"
      },
      "source": [
        "# R Squared value\n",
        "test1 = model.score(x_test,y_test)\n",
        "train1 = model.score(x_train,y_train)\n",
        "print(test1, train1)\n",
        "# close so model is good"
      ],
      "execution_count": 59,
      "outputs": [
        {
          "output_type": "stream",
          "text": [
            "0.6524314815511804 0.6386118621692858\n"
          ],
          "name": "stdout"
        }
      ]
    },
    {
      "cell_type": "code",
      "metadata": {
        "id": "NZdkXaZL1sbP",
        "colab_type": "code",
        "colab": {}
      },
      "source": [
        "# diagonistics\n",
        "residuals = y_test - cars_pred"
      ],
      "execution_count": 0,
      "outputs": []
    },
    {
      "cell_type": "code",
      "metadata": {
        "id": "PdFhH0jm1yOZ",
        "colab_type": "code",
        "colab": {
          "base_uri": "https://localhost:8080/",
          "height": 517
        },
        "outputId": "810ab5a1-3f9c-4de7-d6ab-5fae2941c1e9"
      },
      "source": [
        "sns.regplot(x=cars_pred,y=residuals,scatter=True,fit_reg=False)\n",
        "# residuals close to zero so good"
      ],
      "execution_count": 63,
      "outputs": [
        {
          "output_type": "execute_result",
          "data": {
            "text/plain": [
              "<matplotlib.axes._subplots.AxesSubplot at 0x7efddf4a7240>"
            ]
          },
          "metadata": {
            "tags": []
          },
          "execution_count": 63
        },
        {
          "output_type": "display_data",
          "data": {
            "image/png": "[encoded data removed]",
            "text/plain": [
              "<Figure size 842.4x595.44 with 1 Axes>"
            ]
          },
          "metadata": {
            "tags": []
          }
        }
      ]
    },
    {
      "cell_type": "code",
      "metadata": {
        "id": "uQBvda4R2rgE",
        "colab_type": "code",
        "colab": {
          "base_uri": "https://localhost:8080/",
          "height": 168
        },
        "outputId": "771e1ceb-c0e8-483c-a4fb-b1b078d82963"
      },
      "source": [
        "residuals.describe()"
      ],
      "execution_count": 62,
      "outputs": [
        {
          "output_type": "execute_result",
          "data": {
            "text/plain": [
              "count   1235.000\n",
              "mean       0.003\n",
              "std        0.664\n",
              "min       -4.154\n",
              "25%       -0.325\n",
              "50%        0.062\n",
              "75%        0.390\n",
              "max        3.002\n",
              "Name: price, dtype: float64"
            ]
          },
          "metadata": {
            "tags": []
          },
          "execution_count": 62
        }
      ]
    },
    {
      "cell_type": "code",
      "metadata": {
        "id": "nV4CgATU2zty",
        "colab_type": "code",
        "colab": {}
      },
      "source": [
        "rf = RandomForestRegressor(n_estimators=100, max_features='auto',max_depth=100,min_samples_leaf=4,\n",
        "                           min_samples_split=4, random_state=1)"
      ],
      "execution_count": 0,
      "outputs": []
    },
    {
      "cell_type": "code",
      "metadata": {
        "id": "Uy5znVDq3oiM",
        "colab_type": "code",
        "colab": {}
      },
      "source": [
        "model_rf = rf.fit(x_train,y_train)"
      ],
      "execution_count": 0,
      "outputs": []
    },
    {
      "cell_type": "code",
      "metadata": {
        "id": "CsQIEW8d30WZ",
        "colab_type": "code",
        "colab": {}
      },
      "source": [
        "predict_rf = rf.predict(x_test)"
      ],
      "execution_count": 0,
      "outputs": []
    },
    {
      "cell_type": "code",
      "metadata": {
        "id": "_tC4oEHO4_8_",
        "colab_type": "code",
        "colab": {}
      },
      "source": [
        "rf_mse = mean_squared_error(y_test,predict_rf)"
      ],
      "execution_count": 0,
      "outputs": []
    },
    {
      "cell_type": "code",
      "metadata": {
        "id": "VOxzRo-B5HWb",
        "colab_type": "code",
        "colab": {}
      },
      "source": [
        "rf_rmse = np.sqrt(rf_mse)"
      ],
      "execution_count": 0,
      "outputs": []
    },
    {
      "cell_type": "code",
      "metadata": {
        "id": "RfIVymBV5VVx",
        "colab_type": "code",
        "colab": {
          "base_uri": "https://localhost:8080/",
          "height": 34
        },
        "outputId": "68004c74-8fef-4d68-d641-084d34080bae"
      },
      "source": [
        "print(rf_rmse)"
      ],
      "execution_count": 71,
      "outputs": [
        {
          "output_type": "stream",
          "text": [
            "0.5691017122427137\n"
          ],
          "name": "stdout"
        }
      ]
    },
    {
      "cell_type": "code",
      "metadata": {
        "id": "hYN4wRhK5XIN",
        "colab_type": "code",
        "colab": {
          "base_uri": "https://localhost:8080/",
          "height": 34
        },
        "outputId": "973b9dea-95d7-4c5f-f846-caf1b6bca9ed"
      },
      "source": [
        "test1 = model.score(x_test,y_test)\n",
        "train1 = model.score(x_train,y_train)\n",
        "print(test1, train1)"
      ],
      "execution_count": 74,
      "outputs": [
        {
          "output_type": "stream",
          "text": [
            "0.7445010087803177 0.8892422151295989\n"
          ],
          "name": "stdout"
        }
      ]
    },
    {
      "cell_type": "code",
      "metadata": {
        "id": "ablY_lRu5j5c",
        "colab_type": "code",
        "colab": {}
      },
      "source": [
        "# model building with imputted data\n",
        "cars_im = cars.apply(lambda x:x.fillna(x.median()) if x.dtype=='float' else x.fillna(x.value_counts().index[0]))"
      ],
      "execution_count": 0,
      "outputs": []
    },
    {
      "cell_type": "code",
      "metadata": {
        "id": "LUxWx9lf6NJ0",
        "colab_type": "code",
        "colab": {
          "base_uri": "https://localhost:8080/",
          "height": 118
        },
        "outputId": "1fb489ea-efa3-4773-dee5-cf9b9b48ec77"
      },
      "source": [
        "cars_im.isnull().sum()"
      ],
      "execution_count": 76,
      "outputs": [
        {
          "output_type": "execute_result",
          "data": {
            "text/plain": [
              "price         0\n",
              "powerPS       0\n",
              "kilometer     0\n",
              "postalCode    0\n",
              "Age           0\n",
              "dtype: int64"
            ]
          },
          "metadata": {
            "tags": []
          },
          "execution_count": 76
        }
      ]
    },
    {
      "cell_type": "code",
      "metadata": {
        "id": "Sged52r56XAF",
        "colab_type": "code",
        "colab": {}
      },
      "source": [
        "# converting categorical to dummies\n",
        "cars_im = pd.get_dummies(cars_im,drop_first=True)"
      ],
      "execution_count": 0,
      "outputs": []
    },
    {
      "cell_type": "code",
      "metadata": {
        "id": "LXDDbT6W6qnk",
        "colab_type": "code",
        "colab": {}
      },
      "source": [
        "# separating input and outpput frames\n",
        "x2 = cars_im.drop(['price'],axis='columns',inplace=False)"
      ],
      "execution_count": 0,
      "outputs": []
    },
    {
      "cell_type": "code",
      "metadata": {
        "id": "YqPaxp0U7Gii",
        "colab_type": "code",
        "colab": {}
      },
      "source": [
        "y2 = cars_im['price']"
      ],
      "execution_count": 0,
      "outputs": []
    },
    {
      "cell_type": "code",
      "metadata": {
        "id": "iM6JYmST7JiH",
        "colab_type": "code",
        "colab": {}
      },
      "source": [
        "x_train1,x_test1,y_train1,y_test1 = train_test_split(x2,y2,test_size=0.3,random_state=3)"
      ],
      "execution_count": 0,
      "outputs": []
    },
    {
      "cell_type": "code",
      "metadata": {
        "id": "6Eu4JVhC7cEY",
        "colab_type": "code",
        "colab": {}
      },
      "source": [
        "base_pred1 = np.mean(y_test1)"
      ],
      "execution_count": 0,
      "outputs": []
    },
    {
      "cell_type": "code",
      "metadata": {
        "id": "v5ZtWR3n7r6N",
        "colab_type": "code",
        "colab": {}
      },
      "source": [
        "base_pred1 = np.repeat(base_pred1,len(y_test1))"
      ],
      "execution_count": 0,
      "outputs": []
    },
    {
      "cell_type": "code",
      "metadata": {
        "id": "_PkurGnt73_c",
        "colab_type": "code",
        "colab": {}
      },
      "source": [
        "base_rmse_im = np.sqrt(mean_squared_error(y_test1,base_pred1))"
      ],
      "execution_count": 0,
      "outputs": []
    },
    {
      "cell_type": "code",
      "metadata": {
        "id": "e9uTm_ZO8Cgk",
        "colab_type": "code",
        "colab": {
          "base_uri": "https://localhost:8080/",
          "height": 34
        },
        "outputId": "acb84f71-acf2-4050-d2e3-190294e2da8d"
      },
      "source": [
        "print(base_rmse_im)"
      ],
      "execution_count": 85,
      "outputs": [
        {
          "output_type": "stream",
          "text": [
            "8612.045941587598\n"
          ],
          "name": "stdout"
        }
      ]
    },
    {
      "cell_type": "code",
      "metadata": {
        "id": "oEXXWnh88Fqo",
        "colab_type": "code",
        "colab": {}
      },
      "source": [
        ""
      ],
      "execution_count": 0,
      "outputs": []
    }
  ]
}