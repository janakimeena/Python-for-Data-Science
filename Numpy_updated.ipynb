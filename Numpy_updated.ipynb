{
  "nbformat": 4,
  "nbformat_minor": 0,
  "metadata": {
    "colab": {
      "name": "Numpy_updated.ipynb",
      "provenance": [],
      "collapsed_sections": [
        "1u6dudVECUQq",
        "sDc4MPb25RRg"
      ],
      "include_colab_link": true
    },
    "kernelspec": {
      "name": "python3",
      "display_name": "Python 3"
    }
  },
  "cells": [
    {
      "cell_type": "markdown",
      "metadata": {
        "id": "view-in-github",
        "colab_type": "text"
      },
      "source": [
        "<a href=\"https://colab.research.google.com/github/janakimeena/Python-for-Data-Science/blob/master/Numpy_updated.ipynb\" target=\"_parent\"><img src=\"https://colab.research.google.com/assets/colab-badge.svg\" alt=\"Open In Colab\"/></a>"
      ]
    },
    {
      "cell_type": "markdown",
      "metadata": {
        "id": "1u6dudVECUQq",
        "colab_type": "text"
      },
      "source": [
        "#NumPy\n",
        "NumPy (Numerical Python) is a linear algebra library in Python. It is a very important library on which almost every data science or machine learning Python packages such as SciPy (Scientific Python), Mat−plotlib(plotting library), Scikit-learn, etc depends on to a reasonable extent.\n",
        "\n",
        "NumPy is very useful for performing mathematical and logical operations on Arrays. It provides an abundance of useful features for operations on n-arrays and matrices in Python."
      ]
    },
    {
      "cell_type": "markdown",
      "metadata": {
        "id": "scwkRsMynknq",
        "colab_type": "text"
      },
      "source": [
        "# Why NumPy when list is there\n"
      ]
    },
    {
      "cell_type": "markdown",
      "metadata": {
        "id": "9gdysuEp7L1m",
        "colab_type": "text"
      },
      "source": [
        "## NumPy arrays consume less memory than lists\n",
        "\n"
      ]
    },
    {
      "cell_type": "code",
      "metadata": {
        "id": "ceA3rfBI7grK",
        "colab_type": "code",
        "outputId": "45c17014-5fe1-4fd0-8710-ae1404a16cc8",
        "colab": {
          "base_uri": "https://localhost:8080/",
          "height": 52
        }
      },
      "source": [
        "import numpy as np\n",
        "import sys\n",
        "S = list(range(100000))\n",
        "print(sys.getsizeof(100000)*len(S))\n",
        "D = np.arange(100000)\n",
        "print(D.size*D.itemsize)"
      ],
      "execution_count": 0,
      "outputs": [
        {
          "output_type": "stream",
          "text": [
            "2800000\n",
            "800000\n"
          ],
          "name": "stdout"
        }
      ]
    },
    {
      "cell_type": "markdown",
      "metadata": {
        "id": "CLeQSDTj8vTy",
        "colab_type": "text"
      },
      "source": [
        "## NumPy arrays are faster than lists"
      ]
    },
    {
      "cell_type": "code",
      "metadata": {
        "id": "y8hYr8-Z7akT",
        "colab_type": "code",
        "outputId": "0dc4efe4-bf31-4b44-b14d-b17265be0e23",
        "colab": {
          "base_uri": "https://localhost:8080/",
          "height": 34
        }
      },
      "source": [
        "import time\n",
        "t1 = time.time()\n",
        "X = range(100000)\n",
        "Y = range(100000)\n",
        "Z = [X[i] + Y[i] for i in range(len(X)) ]\n",
        "print(time.time() - t1)"
      ],
      "execution_count": 0,
      "outputs": [
        {
          "output_type": "stream",
          "text": [
            "0.034543514251708984\n"
          ],
          "name": "stdout"
        }
      ]
    },
    {
      "cell_type": "code",
      "metadata": {
        "id": "fawNe6BZ09vH",
        "colab_type": "code",
        "colab": {}
      },
      "source": [
        "import numpy as np"
      ],
      "execution_count": 0,
      "outputs": []
    },
    {
      "cell_type": "markdown",
      "metadata": {
        "id": "sDc4MPb25RRg",
        "colab_type": "text"
      },
      "source": [
        "# Creating a NumPy array\n",
        "Numpy array is created using array function in the package. The dimension of the array can be from one to many"
      ]
    },
    {
      "cell_type": "code",
      "metadata": {
        "id": "7TCCwlFF5kqS",
        "colab_type": "code",
        "outputId": "3c0939cd-3243-479c-abb6-f2913e1dbab6",
        "colab": {
          "base_uri": "https://localhost:8080/",
          "height": 34
        }
      },
      "source": [
        "one_D = np.array([1,2,3]) #one_D = np.array([(1,2,3)])\n",
        "print(one_D)"
      ],
      "execution_count": 0,
      "outputs": [
        {
          "output_type": "stream",
          "text": [
            "[1 2 3]\n"
          ],
          "name": "stdout"
        }
      ]
    },
    {
      "cell_type": "code",
      "metadata": {
        "id": "19fdYRWb4_bj",
        "colab_type": "code",
        "outputId": "d421fe9a-0ec3-4c41-f726-269836602982",
        "colab": {
          "base_uri": "https://localhost:8080/",
          "height": 52
        }
      },
      "source": [
        "two_D = np.array([[1,2,3],[4,5,6]]) #two_D = np.array([(1,2,3),(4,5,6)])\n",
        "print(two_D)"
      ],
      "execution_count": 0,
      "outputs": [
        {
          "output_type": "stream",
          "text": [
            "[[1 2 3]\n",
            " [4 5 6]]\n"
          ],
          "name": "stdout"
        }
      ]
    },
    {
      "cell_type": "code",
      "metadata": {
        "id": "zrmTdOla6Adk",
        "colab_type": "code",
        "outputId": "861f31e3-43ba-4b47-8fd8-aaa98fc9d588",
        "colab": {
          "base_uri": "https://localhost:8080/",
          "height": 139
        }
      },
      "source": [
        "three_D = np.array([[(1,2,3),(4,5,6),(7,8,9)],[(11,12,13),(14,15,16),(17,18,19)]])\n",
        "print(three_D)"
      ],
      "execution_count": 0,
      "outputs": [
        {
          "output_type": "stream",
          "text": [
            "[[[ 1  2  3]\n",
            "  [ 4  5  6]\n",
            "  [ 7  8  9]]\n",
            "\n",
            " [[11 12 13]\n",
            "  [14 15 16]\n",
            "  [17 18 19]]]\n"
          ],
          "name": "stdout"
        }
      ]
    },
    {
      "cell_type": "markdown",
      "metadata": {
        "id": "rNKkcpNL_40C",
        "colab_type": "text"
      },
      "source": [
        "# Dimension of the array"
      ]
    },
    {
      "cell_type": "code",
      "metadata": {
        "id": "4jvE28iA_-eI",
        "colab_type": "code",
        "outputId": "a67b1ac8-e45c-473b-bbbb-e8c35f678a6c",
        "colab": {
          "base_uri": "https://localhost:8080/",
          "height": 34
        }
      },
      "source": [
        "import  numpy as np\n",
        "a = np.array([(1,2,3),(4,5,6)])\n",
        "print('Dimension\\t',a.ndim)   # Dimension of array\n"
      ],
      "execution_count": 0,
      "outputs": [
        {
          "output_type": "stream",
          "text": [
            "Dimension\t 2\n"
          ],
          "name": "stdout"
        }
      ]
    },
    {
      "cell_type": "code",
      "metadata": {
        "id": "NrwpU9OxdB3y",
        "colab_type": "code",
        "outputId": "32ad6d5b-0d3c-487a-aaed-6de0ebc6dc26",
        "colab": {
          "base_uri": "https://localhost:8080/",
          "height": 34
        }
      },
      "source": [
        "print('Byte Size\\t', a.itemsize) # Byte size of each element\n"
      ],
      "execution_count": 0,
      "outputs": [
        {
          "output_type": "stream",
          "text": [
            "Byte Size\t 8\n"
          ],
          "name": "stdout"
        }
      ]
    },
    {
      "cell_type": "code",
      "metadata": {
        "id": "gA3KoaHpdF4C",
        "colab_type": "code",
        "outputId": "5dfd4cab-3248-48d8-c03d-5a9e6619e74f",
        "colab": {
          "base_uri": "https://localhost:8080/",
          "height": 34
        }
      },
      "source": [
        "print('Data type\\t',a.dtype) # Data type of elements in array\n"
      ],
      "execution_count": 0,
      "outputs": [
        {
          "output_type": "stream",
          "text": [
            "Data type\t int64\n"
          ],
          "name": "stdout"
        }
      ]
    },
    {
      "cell_type": "code",
      "metadata": {
        "id": "LoAv8HR_dHrD",
        "colab_type": "code",
        "outputId": "811eea27-1479-4555-aff9-c338b97c32ef",
        "colab": {
          "base_uri": "https://localhost:8080/",
          "height": 34
        }
      },
      "source": [
        "print('Size\\t',a.size)\n"
      ],
      "execution_count": 0,
      "outputs": [
        {
          "output_type": "stream",
          "text": [
            "Size\t 6\n"
          ],
          "name": "stdout"
        }
      ]
    },
    {
      "cell_type": "code",
      "metadata": {
        "id": "3ZILYzVfdJLN",
        "colab_type": "code",
        "outputId": "430a9592-84c2-4fe7-c187-f98e007d079d",
        "colab": {
          "base_uri": "https://localhost:8080/",
          "height": 34
        }
      },
      "source": [
        "print('Shape\\t',a.shape)"
      ],
      "execution_count": 0,
      "outputs": [
        {
          "output_type": "stream",
          "text": [
            "Shape\t (2, 3)\n"
          ],
          "name": "stdout"
        }
      ]
    },
    {
      "cell_type": "markdown",
      "metadata": {
        "id": "UtfqeNQi6IvN",
        "colab_type": "text"
      },
      "source": [
        "# Accessing elements of an array / Indexing in NumPy\n",
        "One dimensional - one_D[2]\n",
        "\n",
        "Two dimensional - two_D[1][2] or two_D[1,2]\n",
        "\n",
        "Three dimensional - three_D[1][2][2] or three_D[1, 2, 2]"
      ]
    },
    {
      "cell_type": "code",
      "metadata": {
        "id": "cqT7kcBA7qtI",
        "colab_type": "code",
        "outputId": "08719897-b0cc-43da-a1a4-f8bf4096b153",
        "colab": {
          "base_uri": "https://localhost:8080/",
          "height": 34
        }
      },
      "source": [
        "print(one_D[2])"
      ],
      "execution_count": 0,
      "outputs": [
        {
          "output_type": "stream",
          "text": [
            "3\n"
          ],
          "name": "stdout"
        }
      ]
    },
    {
      "cell_type": "code",
      "metadata": {
        "id": "gswT_Mxf70Tz",
        "colab_type": "code",
        "outputId": "f9758375-7717-44c0-c704-454637d49e29",
        "colab": {
          "base_uri": "https://localhost:8080/",
          "height": 34
        }
      },
      "source": [
        "print(two_D[1][2]) # print(two_D[1,2])"
      ],
      "execution_count": 0,
      "outputs": [
        {
          "output_type": "stream",
          "text": [
            "6\n"
          ],
          "name": "stdout"
        }
      ]
    },
    {
      "cell_type": "code",
      "metadata": {
        "id": "sWNmgcdPA2wE",
        "colab_type": "code",
        "outputId": "474f64bc-cb89-421f-e240-102377a74b89",
        "colab": {
          "base_uri": "https://localhost:8080/",
          "height": 34
        }
      },
      "source": [
        "print(three_D[1][2][2])#print(three_D[1, 2, 2])"
      ],
      "execution_count": 0,
      "outputs": [
        {
          "output_type": "stream",
          "text": [
            "19\n"
          ],
          "name": "stdout"
        }
      ]
    },
    {
      "cell_type": "markdown",
      "metadata": {
        "id": "4gL2otx6tVoW",
        "colab_type": "text"
      },
      "source": [
        "# Reshaping an array in NumPy\n",
        "Reshape function is used to reshape arrays in NumPy"
      ]
    },
    {
      "cell_type": "code",
      "metadata": {
        "id": "pFXRi4CwtnGv",
        "colab_type": "code",
        "colab": {}
      },
      "source": [
        "oneD = np.arange(1,25)"
      ],
      "execution_count": 0,
      "outputs": []
    },
    {
      "cell_type": "code",
      "metadata": {
        "id": "Ai5_I2l2t0QO",
        "colab_type": "code",
        "outputId": "bce8c429-8a0c-48c2-ea45-e6c86ac63286",
        "colab": {
          "base_uri": "https://localhost:8080/",
          "height": 119
        }
      },
      "source": [
        "twoD = oneD.reshape(6,4)\n",
        "print(twoD)"
      ],
      "execution_count": 0,
      "outputs": [
        {
          "output_type": "stream",
          "text": [
            "[[ 1  2  3  4]\n",
            " [ 5  6  7  8]\n",
            " [ 9 10 11 12]\n",
            " [13 14 15 16]\n",
            " [17 18 19 20]\n",
            " [21 22 23 24]]\n"
          ],
          "name": "stdout"
        }
      ]
    },
    {
      "cell_type": "markdown",
      "metadata": {
        "id": "9_IV7qlPFdt6",
        "colab_type": "text"
      },
      "source": [
        "# Ravel a 2D array\n",
        "\n",
        "To get 1D array from a 2D array"
      ]
    },
    {
      "cell_type": "code",
      "metadata": {
        "id": "M9QghQvCLdMf",
        "colab_type": "code",
        "outputId": "92589bd1-10f3-4961-ba29-04643bbc019e",
        "colab": {
          "base_uri": "https://localhost:8080/",
          "height": 34
        }
      },
      "source": [
        "new_OneD = np.ravel(twoD)\n",
        "print(new_OneD)"
      ],
      "execution_count": 0,
      "outputs": [
        {
          "output_type": "stream",
          "text": [
            "[ 1  2  3  4  5  6  7  8  9 10 11 12 13 14 15 16 17 18 19 20 21 22 23 24]\n"
          ],
          "name": "stdout"
        }
      ]
    },
    {
      "cell_type": "markdown",
      "metadata": {
        "id": "WWg3xbaVMNeu",
        "colab_type": "text"
      },
      "source": [
        "## Reshape equivalent to Ravel"
      ]
    },
    {
      "cell_type": "code",
      "metadata": {
        "id": "et_UeT6VLtZd",
        "colab_type": "code",
        "outputId": "8e44f5ed-5d4c-4ad4-d529-e9a14b14cd4c",
        "colab": {
          "base_uri": "https://localhost:8080/",
          "height": 34
        }
      },
      "source": [
        "new_OneD1 = twoD.reshape(-1)\n",
        "print(new_OneD1)"
      ],
      "execution_count": 0,
      "outputs": [
        {
          "output_type": "stream",
          "text": [
            "[ 1  2  3  4  5  6  7  8  9 10 11 12 13 14 15 16 17 18 19 20 21 22 23 24]\n"
          ],
          "name": "stdout"
        }
      ]
    },
    {
      "cell_type": "markdown",
      "metadata": {
        "id": "LgN_AdAaBzrm",
        "colab_type": "text"
      },
      "source": [
        "# Slicing in NumPy\n"
      ]
    },
    {
      "cell_type": "code",
      "metadata": {
        "id": "5Rg9szTJBzIB",
        "colab_type": "code",
        "outputId": "4307097a-3ba4-41a8-91bf-08baf315975d",
        "colab": {
          "base_uri": "https://localhost:8080/",
          "height": 104
        }
      },
      "source": [
        "two_D = np.arange(0,36).reshape(6,6)\n",
        "sub = two_D[1:,3:6]\n",
        "print(sub)\n"
      ],
      "execution_count": 0,
      "outputs": [
        {
          "output_type": "stream",
          "text": [
            "[[ 9 10 11]\n",
            " [15 16 17]\n",
            " [21 22 23]\n",
            " [27 28 29]\n",
            " [33 34 35]]\n"
          ],
          "name": "stdout"
        }
      ]
    },
    {
      "cell_type": "markdown",
      "metadata": {
        "id": "zl0F3FNOC7S0",
        "colab_type": "text"
      },
      "source": [
        "# Built-in Methods to Create NumPy Arrays\n",
        "Certain built-in methods are available for creating NumPy arrays\n",
        "\n",
        "\n",
        "\n",
        "1. arange function\n",
        "2. Zeros\n",
        "3. Ones\n",
        "4. Eye\n",
        "5. Linspace\n",
        "6. Random Arrays\n",
        "\n"
      ]
    },
    {
      "cell_type": "markdown",
      "metadata": {
        "id": "XbQ2HTuz3yjp",
        "colab_type": "text"
      },
      "source": [
        "## Arange function\n",
        "\n",
        "Generate a sequence of elements"
      ]
    },
    {
      "cell_type": "code",
      "metadata": {
        "id": "AJ8xZpyFV478",
        "colab_type": "code",
        "outputId": "2c84075f-1bec-4301-e249-6fedf32ae3a0",
        "colab": {
          "base_uri": "https://localhost:8080/",
          "height": 34
        }
      },
      "source": [
        "# ten elements from 0 to 9\n",
        "ten_ele = np.arange(0,10)\n",
        "print(ten_ele)"
      ],
      "execution_count": 0,
      "outputs": [
        {
          "output_type": "stream",
          "text": [
            "[0 1 2 3 4 5 6 7 8 9]\n"
          ],
          "name": "stdout"
        }
      ]
    },
    {
      "cell_type": "code",
      "metadata": {
        "id": "h2Ltb9oHWKkR",
        "colab_type": "code",
        "outputId": "b050d115-8bca-4fbf-aa38-8053bf047d13",
        "colab": {
          "base_uri": "https://localhost:8080/",
          "height": 34
        }
      },
      "source": [
        "# odd numbers from 101 to 130\n",
        "ten_ele = np.arange(101,130,2)\n",
        "print(ten_ele)"
      ],
      "execution_count": 0,
      "outputs": [
        {
          "output_type": "stream",
          "text": [
            "[101 103 105 107 109 111 113 115 117 119 121 123 125 127 129]\n"
          ],
          "name": "stdout"
        }
      ]
    },
    {
      "cell_type": "markdown",
      "metadata": {
        "id": "RY9lLU-_4rG-",
        "colab_type": "text"
      },
      "source": [
        "## Create an array of zeros"
      ]
    },
    {
      "cell_type": "code",
      "metadata": {
        "id": "dqN4PEFiWVub",
        "colab_type": "code",
        "outputId": "a5c21165-5b29-413d-f386-6833bd8a0fbc",
        "colab": {
          "base_uri": "https://localhost:8080/",
          "height": 34
        }
      },
      "source": [
        "# Array of 10 zeros\n",
        "z = np.zeros(10)\n",
        "print(z)"
      ],
      "execution_count": 0,
      "outputs": [
        {
          "output_type": "stream",
          "text": [
            "[0. 0. 0. 0. 0. 0. 0. 0. 0. 0.]\n"
          ],
          "name": "stdout"
        }
      ]
    },
    {
      "cell_type": "code",
      "metadata": {
        "id": "BV6Epc5eWgsS",
        "colab_type": "code",
        "outputId": "b66579b4-4b50-4f65-ced7-18b95f0eecf9",
        "colab": {
          "base_uri": "https://localhost:8080/",
          "height": 86
        }
      },
      "source": [
        "# 2D array of zeros\n",
        "z2 = np.zeros((4,5))\n",
        "print(z2)"
      ],
      "execution_count": 0,
      "outputs": [
        {
          "output_type": "stream",
          "text": [
            "[[0. 0. 0. 0. 0.]\n",
            " [0. 0. 0. 0. 0.]\n",
            " [0. 0. 0. 0. 0.]\n",
            " [0. 0. 0. 0. 0.]]\n"
          ],
          "name": "stdout"
        }
      ]
    },
    {
      "cell_type": "code",
      "metadata": {
        "id": "Fdalc4L9W0V2",
        "colab_type": "code",
        "outputId": "12a899fb-bda3-48f7-9ca8-4b52fc0192df",
        "colab": {
          "base_uri": "https://localhost:8080/",
          "height": 416
        }
      },
      "source": [
        "# 3D array of zeros\n",
        "z3 = np.zeros((4,5,2))\n",
        "print(z3)"
      ],
      "execution_count": 0,
      "outputs": [
        {
          "output_type": "stream",
          "text": [
            "[[[0. 0.]\n",
            "  [0. 0.]\n",
            "  [0. 0.]\n",
            "  [0. 0.]\n",
            "  [0. 0.]]\n",
            "\n",
            " [[0. 0.]\n",
            "  [0. 0.]\n",
            "  [0. 0.]\n",
            "  [0. 0.]\n",
            "  [0. 0.]]\n",
            "\n",
            " [[0. 0.]\n",
            "  [0. 0.]\n",
            "  [0. 0.]\n",
            "  [0. 0.]\n",
            "  [0. 0.]]\n",
            "\n",
            " [[0. 0.]\n",
            "  [0. 0.]\n",
            "  [0. 0.]\n",
            "  [0. 0.]\n",
            "  [0. 0.]]]\n"
          ],
          "name": "stdout"
        }
      ]
    },
    {
      "cell_type": "markdown",
      "metadata": {
        "id": "hym3ixO45BEe",
        "colab_type": "text"
      },
      "source": [
        "## Creating array of ones"
      ]
    },
    {
      "cell_type": "code",
      "metadata": {
        "id": "R_2jklAOXFoA",
        "colab_type": "code",
        "outputId": "a82943aa-4ed6-418d-add9-3d4d7b9eb7e6",
        "colab": {
          "base_uri": "https://localhost:8080/",
          "height": 34
        }
      },
      "source": [
        "# by default elements are float can be changed by passing keyword arguments\n",
        "o1 = np.ones(10,dtype=int)\n",
        "print(o1)"
      ],
      "execution_count": 0,
      "outputs": [
        {
          "output_type": "stream",
          "text": [
            "[1 1 1 1 1 1 1 1 1 1]\n"
          ],
          "name": "stdout"
        }
      ]
    },
    {
      "cell_type": "markdown",
      "metadata": {
        "id": "u-d6LZaGdPla",
        "colab_type": "text"
      },
      "source": [
        "## Identity Matrix\n",
        "Identity matrices are very useful when dealing with linear algebras. Usually, is a two-dimensional square matrix. This means the number of row is equal to the number of column. One unique thing to note about identity matrix is that the diagonals are 1’s and everything else is 0. Identity matrices usually takes a single argument when a square matrix is required. But we can also give the dimension of row and column when a rectangular matrix is needed"
      ]
    },
    {
      "cell_type": "code",
      "metadata": {
        "id": "fHDl1AHuXxQY",
        "colab_type": "code",
        "outputId": "2f108aaa-6106-47a8-ea26-4e8a976c18fd",
        "colab": {
          "base_uri": "https://localhost:8080/",
          "height": 86
        }
      },
      "source": [
        "e1 = np.eye(4,dtype=int)\n",
        "print(e1)"
      ],
      "execution_count": 0,
      "outputs": [
        {
          "output_type": "stream",
          "text": [
            "[[1 0 0 0]\n",
            " [0 1 0 0]\n",
            " [0 0 1 0]\n",
            " [0 0 0 1]]\n"
          ],
          "name": "stdout"
        }
      ]
    },
    {
      "cell_type": "code",
      "metadata": {
        "id": "YdyUzpK4X_OG",
        "colab_type": "code",
        "outputId": "5b26ddcc-2790-4aa4-a909-37fa405d13b0",
        "colab": {
          "base_uri": "https://localhost:8080/",
          "height": 86
        }
      },
      "source": [
        "# Identity matrix with '1' on the main diagonal\n",
        "e1 = np.eye(4,5,dtype=int)\n",
        "print(e1)"
      ],
      "execution_count": 0,
      "outputs": [
        {
          "output_type": "stream",
          "text": [
            "[[1 0 0 0 0]\n",
            " [0 1 0 0 0]\n",
            " [0 0 1 0 0]\n",
            " [0 0 0 1 0]]\n"
          ],
          "name": "stdout"
        }
      ]
    },
    {
      "cell_type": "code",
      "metadata": {
        "id": "8wP_pdndZidx",
        "colab_type": "code",
        "outputId": "93e4e8e6-87cd-4b33-b7f1-e8caea2308a1",
        "colab": {
          "base_uri": "https://localhost:8080/",
          "height": 86
        }
      },
      "source": [
        "# when k value is given then a matrix with '1' on the diagonal below the main diagonal\n",
        "e1 = np.eye(4,5,k=-1,dtype=int)\n",
        "print(e1)"
      ],
      "execution_count": 0,
      "outputs": [
        {
          "output_type": "stream",
          "text": [
            "[[0 0 0 0 0]\n",
            " [1 0 0 0 0]\n",
            " [0 1 0 0 0]\n",
            " [0 0 1 0 0]]\n"
          ],
          "name": "stdout"
        }
      ]
    },
    {
      "cell_type": "markdown",
      "metadata": {
        "id": "Schof_QIcp4f",
        "colab_type": "text"
      },
      "source": [
        "##Linspace\n",
        "linspace() function returns numbers evenly spaced over a specified intervals. Say we want 19 evenly spaced points from 1 to 10, we can easily use:\n",
        "\n",
        "Unlike the arange() function which takes the third argument as the number of steps, linspace() takes the third argument as the number of datapoints to be created."
      ]
    },
    {
      "cell_type": "code",
      "metadata": {
        "id": "fu27ONtzcQ81",
        "colab_type": "code",
        "outputId": "66bb0279-efab-44c0-af48-aed30157a1ac",
        "colab": {
          "base_uri": "https://localhost:8080/",
          "height": 52
        }
      },
      "source": [
        "l1 = np.linspace(1,10,19)\n",
        "print(l1)"
      ],
      "execution_count": 0,
      "outputs": [
        {
          "output_type": "stream",
          "text": [
            "[ 1.   1.5  2.   2.5  3.   3.5  4.   4.5  5.   5.5  6.   6.5  7.   7.5\n",
            "  8.   8.5  9.   9.5 10. ]\n"
          ],
          "name": "stdout"
        }
      ]
    },
    {
      "cell_type": "code",
      "metadata": {
        "id": "qbJfcOh4NZuf",
        "colab_type": "code",
        "colab": {
          "base_uri": "https://localhost:8080/",
          "height": 54
        },
        "outputId": "0bcc1be2-9e20-4d6c-a2b2-fb97f17553fb"
      },
      "source": [
        "import numpy as np\n",
        "l1 = np.linspace(1,10,19, retstep=True)\n",
        "print(l1)"
      ],
      "execution_count": 3,
      "outputs": [
        {
          "output_type": "stream",
          "text": [
            "(array([ 1. ,  1.5,  2. ,  2.5,  3. ,  3.5,  4. ,  4.5,  5. ,  5.5,  6. ,\n",
            "        6.5,  7. ,  7.5,  8. ,  8.5,  9. ,  9.5, 10. ]), 0.5)\n"
          ],
          "name": "stdout"
        }
      ]
    },
    {
      "cell_type": "code",
      "metadata": {
        "id": "0Q3CaqLMN9j6",
        "colab_type": "code",
        "colab": {
          "base_uri": "https://localhost:8080/",
          "height": 54
        },
        "outputId": "da238c47-5fc5-4880-cc12-d7b86109682d"
      },
      "source": [
        "np.logspace(1,10,num=5,endpoint=True,base=10.0)"
      ],
      "execution_count": 4,
      "outputs": [
        {
          "output_type": "execute_result",
          "data": {
            "text/plain": [
              "array([1.00000000e+01, 1.77827941e+03, 3.16227766e+05, 5.62341325e+07,\n",
              "       1.00000000e+10])"
            ]
          },
          "metadata": {
            "tags": []
          },
          "execution_count": 4
        }
      ]
    },
    {
      "cell_type": "markdown",
      "metadata": {
        "id": "1VWStzSceDoL",
        "colab_type": "text"
      },
      "source": [
        "## Generating an array of random numbers\n",
        "An array of random numbers may be generated using rand(), randn() or randint() functions\n",
        "\n",
        "\n",
        "1. random.rand() - generate an array of random numbers of the shape we pass to it from uniform distribution over 0 to 1\n",
        "2. random.randn() - generate random samples from Standard, normal or Gaussian distribution centered around 0.\n",
        "3. random.randint() - generate an array of integers. The randint() function can take up to 3 arguments; the low(inclusive), high(exclusive) and size of the array\n",
        "\n"
      ]
    },
    {
      "cell_type": "code",
      "metadata": {
        "id": "3DlCCHmEfSVZ",
        "colab_type": "code",
        "outputId": "d998dc08-1d45-4473-ea80-ea1d44d712f6",
        "colab": {
          "base_uri": "https://localhost:8080/",
          "height": 121
        }
      },
      "source": [
        "# rand function\n",
        "r1 = np.random.rand(4)\n",
        "r2 = np.random.rand(3,4)\n",
        "print('One Dimensional')\n",
        "print(r1)\n",
        "print('Two Dimensional')\n",
        "print(r2)"
      ],
      "execution_count": 0,
      "outputs": [
        {
          "output_type": "stream",
          "text": [
            "One Dimensional\n",
            "[0.8419345  0.34618812 0.54556492 0.4072628 ]\n",
            "Two Dimensional\n",
            "[[0.92545979 0.47831005 0.83585005 0.42175738]\n",
            " [0.38149602 0.915809   0.03628559 0.87760716]\n",
            " [0.83154596 0.90225047 0.73019777 0.41785007]]\n"
          ],
          "name": "stdout"
        }
      ]
    },
    {
      "cell_type": "code",
      "metadata": {
        "id": "xhT5O3T6fval",
        "colab_type": "code",
        "outputId": "6bf3be6f-f26d-4c7a-f177-88f0c3b350c5",
        "colab": {
          "base_uri": "https://localhost:8080/",
          "height": 121
        }
      },
      "source": [
        "# randn function \n",
        "# When we plot the result will give us a normal distribution curve.\n",
        "r1 = np.random.randn(4)\n",
        "r2 = np.random.randn(3,4)\n",
        "print('One Dimensional')\n",
        "print(r1)\n",
        "print('Two Dimensional')\n",
        "print(r2)"
      ],
      "execution_count": 0,
      "outputs": [
        {
          "output_type": "stream",
          "text": [
            "One Dimensional\n",
            "[ 0.44693472 -0.10836244  0.06554634  1.02587854]\n",
            "Two Dimensional\n",
            "[[-0.06316557  0.20985433 -0.06519823 -0.3117963 ]\n",
            " [ 0.33031695  0.21268525 -0.81763227  1.04246474]\n",
            " [-0.60313155 -0.2624894   0.36918806  1.12858338]]\n"
          ],
          "name": "stdout"
        }
      ]
    },
    {
      "cell_type": "code",
      "metadata": {
        "id": "nb5JUmkQ73o0",
        "colab_type": "code",
        "outputId": "ac2b4af8-c15c-48bf-cfe8-8f1d874f4674",
        "colab": {
          "base_uri": "https://localhost:8080/",
          "height": 34
        }
      },
      "source": [
        "np.random.randint(20) #generates a random integer exclusive of 20"
      ],
      "execution_count": 0,
      "outputs": [
        {
          "output_type": "execute_result",
          "data": {
            "text/plain": [
              "8"
            ]
          },
          "metadata": {
            "tags": []
          },
          "execution_count": 63
        }
      ]
    },
    {
      "cell_type": "code",
      "metadata": {
        "id": "EK51_hRk8EnA",
        "colab_type": "code",
        "outputId": "bacb8279-47b4-4ab4-debc-09cced55f747",
        "colab": {
          "base_uri": "https://localhost:8080/",
          "height": 34
        }
      },
      "source": [
        "np.random.randint(2, 20) #generates a random integer including 2 but excluding 20"
      ],
      "execution_count": 0,
      "outputs": [
        {
          "output_type": "execute_result",
          "data": {
            "text/plain": [
              "2"
            ]
          },
          "metadata": {
            "tags": []
          },
          "execution_count": 64
        }
      ]
    },
    {
      "cell_type": "code",
      "metadata": {
        "id": "Cwd-S2zK8HJ-",
        "colab_type": "code",
        "outputId": "ce3cb36a-e0e1-4557-d409-c196161c95d7",
        "colab": {
          "base_uri": "https://localhost:8080/",
          "height": 34
        }
      },
      "source": [
        "np.random.randint(2, 20, 7) #generates 7 random integers including 2 but excluding 20"
      ],
      "execution_count": 0,
      "outputs": [
        {
          "output_type": "execute_result",
          "data": {
            "text/plain": [
              "array([16,  6, 19, 12,  5, 15, 11])"
            ]
          },
          "metadata": {
            "tags": []
          },
          "execution_count": 65
        }
      ]
    },
    {
      "cell_type": "markdown",
      "metadata": {
        "id": "6c36z675Gh56",
        "colab_type": "text"
      },
      "source": [
        "# Arithmetic Operations\n",
        "Numerical operators are defined in NumPy to do basic arithmetic operation elementwise"
      ]
    },
    {
      "cell_type": "code",
      "metadata": {
        "id": "gTrXcvW05EHU",
        "colab_type": "code",
        "outputId": "ac717f08-27c7-4ecf-d3ae-62700e2eeabc",
        "colab": {
          "base_uri": "https://localhost:8080/",
          "height": 156
        }
      },
      "source": [
        "a = np.array([(1,2,3,4,5,6)])\n",
        "b = np.array([(0.5,1,1.5,2,2.5,3)])\n",
        "print('Addition')\n",
        "print(a+b)\n",
        "print('Subtraction')\n",
        "print(a-b)\n",
        "print('Multiplication')\n",
        "print(a*b)\n",
        "print('Division')\n",
        "print(a/b)"
      ],
      "execution_count": 0,
      "outputs": [
        {
          "output_type": "stream",
          "text": [
            "Addition\n",
            "[[1.5 3.  4.5 6.  7.5 9. ]]\n",
            "Subtraction\n",
            "[[0.5 1.  1.5 2.  2.5 3. ]]\n",
            "Multiplication\n",
            "[[ 0.5  2.   4.5  8.  12.5 18. ]]\n",
            "Division\n",
            "[[2. 2. 2. 2. 2. 2.]]\n"
          ],
          "name": "stdout"
        }
      ]
    },
    {
      "cell_type": "markdown",
      "metadata": {
        "id": "8NEMzV2UtLRV",
        "colab_type": "text"
      },
      "source": [
        "# Add aan integer to a numpy array"
      ]
    },
    {
      "cell_type": "code",
      "metadata": {
        "id": "JHkuc60a8t64",
        "colab_type": "code",
        "outputId": "c600b370-d7f7-40b8-b6dd-9d2f19687bf0",
        "colab": {
          "base_uri": "https://localhost:8080/",
          "height": 34
        }
      },
      "source": [
        "e = a+50 #This adds 50 to every element in that array\n",
        "print(e)"
      ],
      "execution_count": 0,
      "outputs": [
        {
          "output_type": "stream",
          "text": [
            "[[51 52 53 54 55 56]]\n"
          ],
          "name": "stdout"
        }
      ]
    },
    {
      "cell_type": "markdown",
      "metadata": {
        "id": "kHQeRaou9GFo",
        "colab_type": "text"
      },
      "source": [
        "# Mathematical functions\n",
        "Mathematical functions are also applied for each element of the numpy array"
      ]
    },
    {
      "cell_type": "code",
      "metadata": {
        "id": "0Gv-sdDt9RqT",
        "colab_type": "code",
        "outputId": "35eb2898-ac85-47da-900f-92f3b50e74d1",
        "colab": {
          "base_uri": "https://localhost:8080/",
          "height": 34
        }
      },
      "source": [
        "sr = np.sqrt(a)     #Returns the square root of each element\n",
        "print(sr)"
      ],
      "execution_count": 0,
      "outputs": [
        {
          "output_type": "stream",
          "text": [
            "[[1.         1.41421356 1.73205081 2.         2.23606798 2.44948974]]\n"
          ],
          "name": "stdout"
        }
      ]
    },
    {
      "cell_type": "code",
      "metadata": {
        "id": "OUnqsDR79dgu",
        "colab_type": "code",
        "outputId": "a597cf3c-2c76-42b6-e436-8ca741c3b13f",
        "colab": {
          "base_uri": "https://localhost:8080/",
          "height": 52
        }
      },
      "source": [
        "ex = np.exp(a)     #Returns the exponentials of each element\n",
        "print(ex)"
      ],
      "execution_count": 0,
      "outputs": [
        {
          "output_type": "stream",
          "text": [
            "[[  2.71828183   7.3890561   20.08553692  54.59815003 148.4131591\n",
            "  403.42879349]]\n"
          ],
          "name": "stdout"
        }
      ]
    },
    {
      "cell_type": "code",
      "metadata": {
        "id": "SXJFb-Mh-5PR",
        "colab_type": "code",
        "outputId": "e27878ef-1cfb-4740-93d2-64adc87ab89d",
        "colab": {
          "base_uri": "https://localhost:8080/",
          "height": 34
        }
      },
      "source": [
        "arr = np.array([1, 2, 3, 9])\n",
        "s = np.sin(arr)     #Returns the sin of each element\n",
        "print(s)"
      ],
      "execution_count": 0,
      "outputs": [
        {
          "output_type": "stream",
          "text": [
            "[0.84147098 0.90929743 0.14112001 0.41211849]\n"
          ],
          "name": "stdout"
        }
      ]
    },
    {
      "cell_type": "code",
      "metadata": {
        "id": "WV2om123_d4a",
        "colab_type": "code",
        "outputId": "080dc5f7-17f1-4fd8-b089-5b94da37d1dd",
        "colab": {
          "base_uri": "https://localhost:8080/",
          "height": 34
        }
      },
      "source": [
        "arr = np.array([1, 2, 3, 9])\n",
        "s = np.cos(arr)     #Returns the sin of each element\n",
        "print(s)"
      ],
      "execution_count": 0,
      "outputs": [
        {
          "output_type": "stream",
          "text": [
            "[ 0.54030231 -0.41614684 -0.9899925  -0.91113026]\n"
          ],
          "name": "stdout"
        }
      ]
    },
    {
      "cell_type": "code",
      "metadata": {
        "id": "yl9jHgUG_i3a",
        "colab_type": "code",
        "outputId": "bce4f071-4e96-4f08-b091-42a850e810ae",
        "colab": {
          "base_uri": "https://localhost:8080/",
          "height": 34
        }
      },
      "source": [
        "arr = np.array([1, 2, 3, 9])\n",
        "s = np.log(arr)     #Returns the sin of each element\n",
        "print(s)"
      ],
      "execution_count": 0,
      "outputs": [
        {
          "output_type": "stream",
          "text": [
            "[0.         0.69314718 1.09861229 2.19722458]\n"
          ],
          "name": "stdout"
        }
      ]
    },
    {
      "cell_type": "code",
      "metadata": {
        "id": "dbCW_pn0_od0",
        "colab_type": "code",
        "outputId": "c7b54533-ec8c-4aa0-ff6f-ff180e3c9794",
        "colab": {
          "base_uri": "https://localhost:8080/",
          "height": 34
        }
      },
      "source": [
        "arr = np.array([1, 2, 3, 9])\n",
        "s = np.sum(arr)     #Returns the sin of each element\n",
        "print(s)"
      ],
      "execution_count": 0,
      "outputs": [
        {
          "output_type": "stream",
          "text": [
            "15\n"
          ],
          "name": "stdout"
        }
      ]
    },
    {
      "cell_type": "code",
      "metadata": {
        "id": "f13GCGxm_tF2",
        "colab_type": "code",
        "outputId": "9b94cf2d-1094-4104-8d53-e4be534d418b",
        "colab": {
          "base_uri": "https://localhost:8080/",
          "height": 34
        }
      },
      "source": [
        "arr = np.array([1, 2, 3, 9])\n",
        "s = np.std(arr)     #Returns the sin of each element\n",
        "print(s)"
      ],
      "execution_count": 0,
      "outputs": [
        {
          "output_type": "stream",
          "text": [
            "3.112474899497183\n"
          ],
          "name": "stdout"
        }
      ]
    },
    {
      "cell_type": "markdown",
      "metadata": {
        "id": "9Chp68HjuxiD",
        "colab_type": "text"
      },
      "source": [
        "# Sum of elements in 2D Array"
      ]
    },
    {
      "cell_type": "code",
      "metadata": {
        "id": "JplPvjXyuJjP",
        "colab_type": "code",
        "outputId": "bc34ec0c-e69a-4e93-b9e5-499c1b3e8910",
        "colab": {
          "base_uri": "https://localhost:8080/",
          "height": 34
        }
      },
      "source": [
        "twoD.sum()         #Returns the sum of all the values in twoD"
      ],
      "execution_count": 0,
      "outputs": [
        {
          "output_type": "execute_result",
          "data": {
            "text/plain": [
              "300"
            ]
          },
          "metadata": {
            "tags": []
          },
          "execution_count": 9
        }
      ]
    },
    {
      "cell_type": "code",
      "metadata": {
        "id": "PWCrPQWHuRsu",
        "colab_type": "code",
        "outputId": "30880912-60c8-4276-d2fd-cc856785809a",
        "colab": {
          "base_uri": "https://localhost:8080/",
          "height": 34
        }
      },
      "source": [
        "twoD.sum(axis=0) #Returns the sum of all the columns in mat"
      ],
      "execution_count": 0,
      "outputs": [
        {
          "output_type": "execute_result",
          "data": {
            "text/plain": [
              "array([66, 72, 78, 84])"
            ]
          },
          "metadata": {
            "tags": []
          },
          "execution_count": 10
        }
      ]
    },
    {
      "cell_type": "code",
      "metadata": {
        "id": "6HwelKmOuoo8",
        "colab_type": "code",
        "outputId": "31a575ee-710e-4976-a317-423c8c033a8e",
        "colab": {
          "base_uri": "https://localhost:8080/",
          "height": 34
        }
      },
      "source": [
        "twoD.sum(axis=1) #Returns the sum of all the rows in mat"
      ],
      "execution_count": 0,
      "outputs": [
        {
          "output_type": "execute_result",
          "data": {
            "text/plain": [
              "array([10, 26, 42, 58, 74, 90])"
            ]
          },
          "metadata": {
            "tags": []
          },
          "execution_count": 12
        }
      ]
    },
    {
      "cell_type": "markdown",
      "metadata": {
        "id": "2hWZ2iKX7r9f",
        "colab_type": "text"
      },
      "source": [
        "# Maximum and Minimum elements\n",
        "\n",
        "max() and min() functions are used to find maximum and minimum value in the array\n",
        "\n",
        "argmax() and argmin() functions are used to find index of the highest and index of the smallest element in the array"
      ]
    },
    {
      "cell_type": "code",
      "metadata": {
        "id": "EPjw1aua-_fv",
        "colab_type": "code",
        "outputId": "356d6194-ce4b-4602-d104-3a22d68ceec0",
        "colab": {
          "base_uri": "https://localhost:8080/",
          "height": 121
        }
      },
      "source": [
        "print(twoD)"
      ],
      "execution_count": 0,
      "outputs": [
        {
          "output_type": "stream",
          "text": [
            "[[ 1  2  3  4]\n",
            " [ 5  6  7  8]\n",
            " [ 9 10 11 12]\n",
            " [13 14 15 16]\n",
            " [17 18 19 20]\n",
            " [21 22 23 24]]\n"
          ],
          "name": "stdout"
        }
      ]
    },
    {
      "cell_type": "code",
      "metadata": {
        "id": "tXon1ou894d_",
        "colab_type": "code",
        "outputId": "2be90255-ef80-4577-a614-b1c72094d684",
        "colab": {
          "base_uri": "https://localhost:8080/",
          "height": 34
        }
      },
      "source": [
        "twoD.max()"
      ],
      "execution_count": 0,
      "outputs": [
        {
          "output_type": "execute_result",
          "data": {
            "text/plain": [
              "24"
            ]
          },
          "metadata": {
            "tags": []
          },
          "execution_count": 22
        }
      ]
    },
    {
      "cell_type": "code",
      "metadata": {
        "id": "fyEFHED3-wf0",
        "colab_type": "code",
        "outputId": "9f8c246e-dd89-4657-9b7c-ffe837698173",
        "colab": {
          "base_uri": "https://localhost:8080/",
          "height": 34
        }
      },
      "source": [
        "twoD.min()"
      ],
      "execution_count": 0,
      "outputs": [
        {
          "output_type": "execute_result",
          "data": {
            "text/plain": [
              "1"
            ]
          },
          "metadata": {
            "tags": []
          },
          "execution_count": 23
        }
      ]
    },
    {
      "cell_type": "code",
      "metadata": {
        "id": "sDbcOjYQ_mbD",
        "colab_type": "code",
        "outputId": "bc488038-f8d1-43ec-c55d-6c5966328ca8",
        "colab": {
          "base_uri": "https://localhost:8080/",
          "height": 34
        }
      },
      "source": [
        "twoD.argmax()"
      ],
      "execution_count": 0,
      "outputs": [
        {
          "output_type": "execute_result",
          "data": {
            "text/plain": [
              "23"
            ]
          },
          "metadata": {
            "tags": []
          },
          "execution_count": 25
        }
      ]
    },
    {
      "cell_type": "code",
      "metadata": {
        "id": "tR83LU4D_ttP",
        "colab_type": "code",
        "outputId": "4f399424-17d5-4f55-e423-084517358b2f",
        "colab": {
          "base_uri": "https://localhost:8080/",
          "height": 34
        }
      },
      "source": [
        "twoD.argmin()"
      ],
      "execution_count": 0,
      "outputs": [
        {
          "output_type": "execute_result",
          "data": {
            "text/plain": [
              "0"
            ]
          },
          "metadata": {
            "tags": []
          },
          "execution_count": 26
        }
      ]
    },
    {
      "cell_type": "markdown",
      "metadata": {
        "id": "FnHPJ4hLNQes",
        "colab_type": "text"
      },
      "source": [
        "# Stacking of Arrays in NumPy\n",
        "We can either horizontally or vertically stack an array into another array\n",
        "\n",
        "1.   To horizontally stack - hstack () function is used\n",
        "2.   To vertically stack - vstack () function is used\n",
        "\n"
      ]
    },
    {
      "cell_type": "code",
      "metadata": {
        "id": "aYmukKjSNYe-",
        "colab_type": "code",
        "outputId": "dc1fd479-2365-4e80-8d3a-b75b64271361",
        "colab": {
          "base_uri": "https://localhost:8080/",
          "height": 69
        }
      },
      "source": [
        "# add along x axis, number of rows should be same\n",
        "a = np.array([(1,2,3),(4,5,6)])\n",
        "b = np.array([(0.5,1,1.5),(2,2.5,3)])\n",
        "print('After HStacking')\n",
        "print(np.hstack((a,b)))"
      ],
      "execution_count": 0,
      "outputs": [
        {
          "output_type": "stream",
          "text": [
            "After HStacking\n",
            "[[1.  2.  3.  0.5 1.  1.5]\n",
            " [4.  5.  6.  2.  2.5 3. ]]\n"
          ],
          "name": "stdout"
        }
      ]
    },
    {
      "cell_type": "code",
      "metadata": {
        "id": "EjrkOCIYOMxY",
        "colab_type": "code",
        "outputId": "3e8d67c0-e3b1-44bf-f9d3-ac1a9e5ee822",
        "colab": {
          "base_uri": "https://localhost:8080/",
          "height": 197
        }
      },
      "source": [
        "# add along y axis, number of colums should be same\n",
        "print('After VStacking')\n",
        "print(np.vstack((a,b)))\n"
      ],
      "execution_count": 0,
      "outputs": [
        {
          "output_type": "stream",
          "text": [
            "After VStacking\n"
          ],
          "name": "stdout"
        },
        {
          "output_type": "error",
          "ename": "NameError",
          "evalue": "ignored",
          "traceback": [
            "\u001b[0;31m---------------------------------------------------------------------------\u001b[0m",
            "\u001b[0;31mNameError\u001b[0m                                 Traceback (most recent call last)",
            "\u001b[0;32m<ipython-input-10-6921845bcbea>\u001b[0m in \u001b[0;36m<module>\u001b[0;34m()\u001b[0m\n\u001b[1;32m      1\u001b[0m \u001b[0mprint\u001b[0m\u001b[0;34m(\u001b[0m\u001b[0;34m'After VStacking'\u001b[0m\u001b[0;34m)\u001b[0m\u001b[0;34m\u001b[0m\u001b[0;34m\u001b[0m\u001b[0m\n\u001b[0;32m----> 2\u001b[0;31m \u001b[0mprint\u001b[0m\u001b[0;34m(\u001b[0m\u001b[0mnp\u001b[0m\u001b[0;34m.\u001b[0m\u001b[0mvstack\u001b[0m\u001b[0;34m(\u001b[0m\u001b[0;34m(\u001b[0m\u001b[0ma\u001b[0m\u001b[0;34m,\u001b[0m\u001b[0mb\u001b[0m\u001b[0;34m)\u001b[0m\u001b[0;34m)\u001b[0m\u001b[0;34m)\u001b[0m\u001b[0;34m\u001b[0m\u001b[0;34m\u001b[0m\u001b[0m\n\u001b[0m",
            "\u001b[0;31mNameError\u001b[0m: name 'b' is not defined"
          ]
        }
      ]
    },
    {
      "cell_type": "code",
      "metadata": {
        "id": "apCy8jfwPDFr",
        "colab_type": "code",
        "colab": {
          "base_uri": "https://localhost:8080/",
          "height": 90
        },
        "outputId": "aabfdae8-ba98-4579-bf3a-5a90d6aaddd7"
      },
      "source": [
        "a = np.array([[1,2,3],[4,5,6],[7,8,9]])\n",
        "a = np.insert(a,1,[10,11,12],axis=0)\n",
        "print(a)"
      ],
      "execution_count": 8,
      "outputs": [
        {
          "output_type": "stream",
          "text": [
            "[[ 1  2  3]\n",
            " [10 11 12]\n",
            " [ 4  5  6]\n",
            " [ 7  8  9]]\n"
          ],
          "name": "stdout"
        }
      ]
    },
    {
      "cell_type": "code",
      "metadata": {
        "id": "puXU5uHpPmGN",
        "colab_type": "code",
        "colab": {
          "base_uri": "https://localhost:8080/",
          "height": 72
        },
        "outputId": "dcfdc31c-0ed0-4e94-c616-f1e366655030"
      },
      "source": [
        "a_del = np.delete(a,2,axis=0)\n",
        "print(a_del)"
      ],
      "execution_count": 10,
      "outputs": [
        {
          "output_type": "stream",
          "text": [
            "[[ 1  2  3]\n",
            " [10 11 12]\n",
            " [ 7  8  9]]\n"
          ],
          "name": "stdout"
        }
      ]
    },
    {
      "cell_type": "markdown",
      "metadata": {
        "id": "wGz-q2UQE16Q",
        "colab_type": "text"
      },
      "source": [
        "# Create matrices in NumPy\n",
        "A built-in function matrix is in NumPy"
      ]
    },
    {
      "cell_type": "code",
      "metadata": {
        "id": "LNjcl3jo8sL0",
        "colab_type": "code",
        "colab": {}
      },
      "source": [
        ""
      ],
      "execution_count": 0,
      "outputs": []
    },
    {
      "cell_type": "code",
      "metadata": {
        "id": "ga9GCh5AFC9l",
        "colab_type": "code",
        "outputId": "323fe6c0-da3d-49a6-d4e9-1a8b1dd7419e",
        "colab": {
          "base_uri": "https://localhost:8080/",
          "height": 54
        }
      },
      "source": [
        "mat1 = np.matrix('1 2; 3 4')\n",
        "print(mat1)"
      ],
      "execution_count": 12,
      "outputs": [
        {
          "output_type": "stream",
          "text": [
            "[[1 2]\n",
            " [3 4]]\n"
          ],
          "name": "stdout"
        }
      ]
    },
    {
      "cell_type": "code",
      "metadata": {
        "id": "A2i9LTloGGwm",
        "colab_type": "code",
        "outputId": "d718001c-6781-4182-d28c-54e6d4c5a9eb",
        "colab": {
          "base_uri": "https://localhost:8080/",
          "height": 54
        }
      },
      "source": [
        "mat2 = np.matrix('5 6; 7 8')\n",
        "print(mat2)"
      ],
      "execution_count": 21,
      "outputs": [
        {
          "output_type": "stream",
          "text": [
            "[[5 6]\n",
            " [7 8]]\n"
          ],
          "name": "stdout"
        }
      ]
    },
    {
      "cell_type": "code",
      "metadata": {
        "id": "-8pFvJhZGQQ8",
        "colab_type": "code",
        "outputId": "08fffc49-5416-4f17-f9ae-3f5fbd47c27d",
        "colab": {
          "base_uri": "https://localhost:8080/",
          "height": 52
        }
      },
      "source": [
        "print(mat1+mat2)#element-wise multiplication"
      ],
      "execution_count": 0,
      "outputs": [
        {
          "output_type": "stream",
          "text": [
            "[[ 6  8]\n",
            " [10 12]]\n"
          ],
          "name": "stdout"
        }
      ]
    },
    {
      "cell_type": "code",
      "metadata": {
        "id": "T7aoVFpgR63K",
        "colab_type": "code",
        "colab": {
          "base_uri": "https://localhost:8080/",
          "height": 54
        },
        "outputId": "a69954a7-2e1c-42cc-b836-8a8b85bac5f4"
      },
      "source": [
        "np.dot(mat1,mat2) # matrux multiplication"
      ],
      "execution_count": 22,
      "outputs": [
        {
          "output_type": "execute_result",
          "data": {
            "text/plain": [
              "matrix([[19, 22],\n",
              "        [43, 50]])"
            ]
          },
          "metadata": {
            "tags": []
          },
          "execution_count": 22
        }
      ]
    },
    {
      "cell_type": "code",
      "metadata": {
        "id": "jgAk2p5fGUiO",
        "colab_type": "code",
        "outputId": "9722bbb0-43e7-4a99-9e74-7c5aac96862d",
        "colab": {
          "base_uri": "https://localhost:8080/",
          "height": 52
        }
      },
      "source": [
        "print(mat1-mat2)"
      ],
      "execution_count": 0,
      "outputs": [
        {
          "output_type": "stream",
          "text": [
            "[[-4 -4]\n",
            " [-4 -4]]\n"
          ],
          "name": "stdout"
        }
      ]
    },
    {
      "cell_type": "code",
      "metadata": {
        "id": "oFu5djO7GZGs",
        "colab_type": "code",
        "outputId": "0ce87e1d-6a7e-4fcf-8622-e84fa74fa58c",
        "colab": {
          "base_uri": "https://localhost:8080/",
          "height": 52
        }
      },
      "source": [
        "print(mat1*mat2)"
      ],
      "execution_count": 0,
      "outputs": [
        {
          "output_type": "stream",
          "text": [
            "[[19 22]\n",
            " [43 50]]\n"
          ],
          "name": "stdout"
        }
      ]
    },
    {
      "cell_type": "code",
      "metadata": {
        "id": "0mfLWDjiSS_o",
        "colab_type": "code",
        "colab": {
          "base_uri": "https://localhost:8080/",
          "height": 54
        },
        "outputId": "90c737f6-4c51-4a25-a63c-d4e6d4310cd1"
      },
      "source": [
        "mat_tra = np.transpose(mat1)\n",
        "mat_tra"
      ],
      "execution_count": 24,
      "outputs": [
        {
          "output_type": "execute_result",
          "data": {
            "text/plain": [
              "matrix([[1, 3],\n",
              "        [2, 4]])"
            ]
          },
          "metadata": {
            "tags": []
          },
          "execution_count": 24
        }
      ]
    },
    {
      "cell_type": "code",
      "metadata": {
        "id": "0zBvvMepSwoZ",
        "colab_type": "code",
        "colab": {
          "base_uri": "https://localhost:8080/",
          "height": 54
        },
        "outputId": "477cca75-21b1-4e9c-a611-d06f2b95af94"
      },
      "source": [
        "mat_div = np.divide(mat1,mat2)\n",
        "print(mat_div)"
      ],
      "execution_count": 25,
      "outputs": [
        {
          "output_type": "stream",
          "text": [
            "[[0.2        0.33333333]\n",
            " [0.42857143 0.5       ]]\n"
          ],
          "name": "stdout"
        }
      ]
    },
    {
      "cell_type": "code",
      "metadata": {
        "id": "rr8lkG8uP-Ad",
        "colab_type": "code",
        "colab": {
          "base_uri": "https://localhost:8080/",
          "height": 35
        },
        "outputId": "a0ed5c29-200f-43e3-e0f2-394c424db4d1"
      },
      "source": [
        "print(mat1.shape)"
      ],
      "execution_count": 13,
      "outputs": [
        {
          "output_type": "stream",
          "text": [
            "(2, 2)\n"
          ],
          "name": "stdout"
        }
      ]
    },
    {
      "cell_type": "code",
      "metadata": {
        "id": "2xm0G01eQGBM",
        "colab_type": "code",
        "colab": {
          "base_uri": "https://localhost:8080/",
          "height": 35
        },
        "outputId": "1d41ecb5-0277-424d-f859-6a575f5ac21f"
      },
      "source": [
        "print(mat1.size)"
      ],
      "execution_count": 14,
      "outputs": [
        {
          "output_type": "stream",
          "text": [
            "4\n"
          ],
          "name": "stdout"
        }
      ]
    },
    {
      "cell_type": "code",
      "metadata": {
        "id": "w2vDKDygQKQv",
        "colab_type": "code",
        "colab": {
          "base_uri": "https://localhost:8080/",
          "height": 54
        },
        "outputId": "4d4d7134-9072-49c2-d75b-c9d9feee6cfa"
      },
      "source": [
        "col_new=np.matrix(\"10,11\")\n",
        "mat_ins = np.insert(mat1,0,col_new,axis=1)\n",
        "print(mat_ins)"
      ],
      "execution_count": 18,
      "outputs": [
        {
          "output_type": "stream",
          "text": [
            "[[10  1  2]\n",
            " [11  3  4]]\n"
          ],
          "name": "stdout"
        }
      ]
    },
    {
      "cell_type": "code",
      "metadata": {
        "id": "RtiayGKzREzK",
        "colab_type": "code",
        "colab": {
          "base_uri": "https://localhost:8080/",
          "height": 72
        },
        "outputId": "192c34c5-8797-4478-c9b8-7e813d74608f"
      },
      "source": [
        "row_new = np.matrix('22,23,24')\n",
        "mat_ins = np.insert(mat_ins,0,row_new,axis=0)\n",
        "print(mat_ins)"
      ],
      "execution_count": 19,
      "outputs": [
        {
          "output_type": "stream",
          "text": [
            "[[22 23 24]\n",
            " [10  1  2]\n",
            " [11  3  4]]\n"
          ],
          "name": "stdout"
        }
      ]
    },
    {
      "cell_type": "code",
      "metadata": {
        "id": "B5U5AxsQ7-6r",
        "colab_type": "code",
        "outputId": "346bfc21-9f99-4ff8-d713-d7e424d166a7",
        "colab": {
          "base_uri": "https://localhost:8080/",
          "height": 34
        }
      },
      "source": [
        "import time\n",
        "t1 = time.time()\n",
        "X = np.arange(100000)\n",
        "Y = np.arange(100000)\n",
        "Z = X + Y\n",
        "print(time.time() - t1)\n"
      ],
      "execution_count": 0,
      "outputs": [
        {
          "output_type": "stream",
          "text": [
            "0.0042438507080078125\n"
          ],
          "name": "stdout"
        }
      ]
    },
    {
      "cell_type": "markdown",
      "metadata": {
        "id": "MH-ETTEAm6FJ",
        "colab_type": "text"
      },
      "source": [
        "## Linear Algebra\n",
        "\n",
        "numpy.linalg.det() - Returns determinant of a matrix"
      ]
    },
    {
      "cell_type": "code",
      "metadata": {
        "id": "Jffn8Vr_8gH-",
        "colab_type": "code",
        "colab": {}
      },
      "source": [
        "m1 = np.matrix('4, 5, 16, 7; 2, -3, 2, 3; 3, 4, 5, 6; 4, 7, 8, 9')"
      ],
      "execution_count": 0,
      "outputs": []
    },
    {
      "cell_type": "code",
      "metadata": {
        "id": "nta-fGgGnNnf",
        "colab_type": "code",
        "colab": {
          "base_uri": "https://localhost:8080/",
          "height": 35
        },
        "outputId": "8d08799b-0c18-4341-a080-ad8e27fbe362"
      },
      "source": [
        "print(np.linalg.det(m1))"
      ],
      "execution_count": 30,
      "outputs": [
        {
          "output_type": "stream",
          "text": [
            "128.00000000000009\n"
          ],
          "name": "stdout"
        }
      ]
    },
    {
      "cell_type": "code",
      "metadata": {
        "id": "J66eWV1OnY2c",
        "colab_type": "code",
        "colab": {
          "base_uri": "https://localhost:8080/",
          "height": 35
        },
        "outputId": "e65de019-5b56-4f2e-df06-f4b55531a426"
      },
      "source": [
        "np.linalg.matrix_rank(m1)"
      ],
      "execution_count": 31,
      "outputs": [
        {
          "output_type": "execute_result",
          "data": {
            "text/plain": [
              "4"
            ]
          },
          "metadata": {
            "tags": []
          },
          "execution_count": 31
        }
      ]
    },
    {
      "cell_type": "code",
      "metadata": {
        "id": "Y-sF9fm6nv5b",
        "colab_type": "code",
        "colab": {
          "base_uri": "https://localhost:8080/",
          "height": 90
        },
        "outputId": "ccbd647b-8c47-417d-bdd6-7eb99a194f5a"
      },
      "source": [
        "print(np.linalg.inv(m1))"
      ],
      "execution_count": 32,
      "outputs": [
        {
          "output_type": "stream",
          "text": [
            "[[ 9.37500000e-02 -4.68750000e-01  3.68750000e+00 -2.37500000e+00]\n",
            " [ 1.00929366e-16 -2.50000000e-01  5.00000000e-01 -2.50000000e-01]\n",
            " [ 9.37500000e-02  3.12500000e-02 -3.12500000e-01  1.25000000e-01]\n",
            " [-1.25000000e-01  3.75000000e-01 -1.75000000e+00  1.25000000e+00]]\n"
          ],
          "name": "stdout"
        }
      ]
    },
    {
      "cell_type": "code",
      "metadata": {
        "id": "f5XLfX4On7E5",
        "colab_type": "code",
        "colab": {}
      },
      "source": [
        "# Solving System of Linear Equations\n",
        "'''3x+y+2z=2\n",
        "3x+2y+5z=-1\n",
        "6x+7y+8z=3'''\n",
        "A = np.matrix('3, 1, 2; 3, 2, 5; 6, 7, 8' )\n",
        "#X = (x, y, z)\n",
        "B = np.matrix('2;-1;3')\n",
        "X =  np.linalg.solve(A,B)\n"
      ],
      "execution_count": 0,
      "outputs": []
    },
    {
      "cell_type": "code",
      "metadata": {
        "id": "Oar5TD3PpSAo",
        "colab_type": "code",
        "colab": {
          "base_uri": "https://localhost:8080/",
          "height": 72
        },
        "outputId": "40b9f4e3-79d7-4302-ceec-e0f7d34fd2c0"
      },
      "source": [
        "print(X)"
      ],
      "execution_count": 35,
      "outputs": [
        {
          "output_type": "stream",
          "text": [
            "[[ 1.24242424]\n",
            " [ 0.81818182]\n",
            " [-1.27272727]]\n"
          ],
          "name": "stdout"
        }
      ]
    },
    {
      "cell_type": "code",
      "metadata": {
        "id": "VV6bUsiGpZ5c",
        "colab_type": "code",
        "colab": {}
      },
      "source": [
        ""
      ],
      "execution_count": 0,
      "outputs": []
    }
  ]
}